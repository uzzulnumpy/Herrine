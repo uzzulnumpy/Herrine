{
 "cells": [
  {
   "cell_type": "markdown",
   "id": "f45ae91b",
   "metadata": {},
   "source": [
    "## 8-2. 한글 자연어 처리 기초"
   ]
  },
  {
   "cell_type": "code",
   "execution_count": 1,
   "id": "ab7d8830",
   "metadata": {},
   "outputs": [],
   "source": [
    "from konlpy.tag import Kkma\n",
    "kkma = Kkma()"
   ]
  },
  {
   "cell_type": "code",
   "execution_count": 2,
   "id": "f8f1929c",
   "metadata": {},
   "outputs": [
    {
     "data": {
      "text/plain": [
       "['한국어 분석을 시작합니다', '재미있어요~~']"
      ]
     },
     "execution_count": 2,
     "metadata": {},
     "output_type": "execute_result"
    }
   ],
   "source": [
    "kkma.sentences('한국어 분석을 시작합니다 재미있어요~~')"
   ]
  },
  {
   "cell_type": "code",
   "execution_count": 3,
   "id": "832f87f9",
   "metadata": {},
   "outputs": [
    {
     "data": {
      "text/plain": [
       "['한국어', '분석']"
      ]
     },
     "execution_count": 3,
     "metadata": {},
     "output_type": "execute_result"
    }
   ],
   "source": [
    "kkma.nouns('한국어 분석을 시작합니다 재미있어요~~')"
   ]
  },
  {
   "cell_type": "code",
   "execution_count": 4,
   "id": "b761736c",
   "metadata": {},
   "outputs": [
    {
     "data": {
      "text/plain": [
       "[('한국어', 'NNG'),\n",
       " ('분석', 'NNG'),\n",
       " ('을', 'JKO'),\n",
       " ('시작하', 'VV'),\n",
       " ('ㅂ니다', 'EFN'),\n",
       " ('재미있', 'VA'),\n",
       " ('어요', 'EFN'),\n",
       " ('~~', 'SW')]"
      ]
     },
     "execution_count": 4,
     "metadata": {},
     "output_type": "execute_result"
    }
   ],
   "source": [
    "kkma.pos('한국어 분석을 시작합니다 재미있어요~~')"
   ]
  },
  {
   "cell_type": "code",
   "execution_count": 5,
   "id": "8b838854",
   "metadata": {},
   "outputs": [],
   "source": [
    "from konlpy.tag import Hannanum\n",
    "hannanum = Hannanum()"
   ]
  },
  {
   "cell_type": "code",
   "execution_count": 6,
   "id": "a7802c2d",
   "metadata": {},
   "outputs": [
    {
     "data": {
      "text/plain": [
       "['한국어', '분석', '시작']"
      ]
     },
     "execution_count": 6,
     "metadata": {},
     "output_type": "execute_result"
    }
   ],
   "source": [
    "hannanum.nouns('한국어 분석을 시작합니다 재미있어요~~')"
   ]
  },
  {
   "cell_type": "code",
   "execution_count": 7,
   "id": "348a6a5b",
   "metadata": {},
   "outputs": [
    {
     "data": {
      "text/plain": [
       "['한국어', '분석', '을', '시작', '하', 'ㅂ니다', '재미있', '어요', '~~']"
      ]
     },
     "execution_count": 7,
     "metadata": {},
     "output_type": "execute_result"
    }
   ],
   "source": [
    "hannanum.morphs('한국어 분석을 시작합니다 재미있어요~~')"
   ]
  },
  {
   "cell_type": "code",
   "execution_count": 8,
   "id": "11fd03da",
   "metadata": {},
   "outputs": [
    {
     "data": {
      "text/plain": [
       "[('한국어', 'N'),\n",
       " ('분석', 'N'),\n",
       " ('을', 'J'),\n",
       " ('시작', 'N'),\n",
       " ('하', 'X'),\n",
       " ('ㅂ니다', 'E'),\n",
       " ('재미있', 'P'),\n",
       " ('어요', 'E'),\n",
       " ('~~', 'S')]"
      ]
     },
     "execution_count": 8,
     "metadata": {},
     "output_type": "execute_result"
    }
   ],
   "source": [
    "hannanum.pos('한국어 분석을 시작합니다 재미있어요~~')"
   ]
  },
  {
   "cell_type": "code",
   "execution_count": 16,
   "id": "4d620922",
   "metadata": {},
   "outputs": [],
   "source": [
    "from konlpy.tag import Twitter\n",
    "t = Twitter()\n",
    "\n",
    "# C:\\Users\\april\\anaconda3\\envs\\last\\lib\\site-packages\\konlpy\\tag\\_okt.py:17: UserWarning: \"Twitter\" has changed to \"Okt\" since KoNLPy v0.4.5.\n",
    "#   warn('\"Twitter\" has changed to \"Okt\" since KoNLPy v0.4.5.')"
   ]
  },
  {
   "cell_type": "code",
   "execution_count": 17,
   "id": "80429310",
   "metadata": {},
   "outputs": [
    {
     "data": {
      "text/plain": [
       "['한국어', '분석', '시작']"
      ]
     },
     "execution_count": 17,
     "metadata": {},
     "output_type": "execute_result"
    }
   ],
   "source": [
    "t.nouns('한국어 분석을 시작합니다 재미있어요~~')"
   ]
  },
  {
   "cell_type": "code",
   "execution_count": 18,
   "id": "a9936ec7",
   "metadata": {},
   "outputs": [
    {
     "data": {
      "text/plain": [
       "['한국어', '분석', '을', '시작', '합니다', '재미있어요', '~~']"
      ]
     },
     "execution_count": 18,
     "metadata": {},
     "output_type": "execute_result"
    }
   ],
   "source": [
    "t.morphs('한국어 분석을 시작합니다 재미있어요~~')"
   ]
  },
  {
   "cell_type": "code",
   "execution_count": 19,
   "id": "74909073",
   "metadata": {},
   "outputs": [
    {
     "data": {
      "text/plain": [
       "[('한국어', 'Noun'),\n",
       " ('분석', 'Noun'),\n",
       " ('을', 'Josa'),\n",
       " ('시작', 'Noun'),\n",
       " ('합니다', 'Verb'),\n",
       " ('재미있어요', 'Adjective'),\n",
       " ('~~', 'Punctuation')]"
      ]
     },
     "execution_count": 19,
     "metadata": {},
     "output_type": "execute_result"
    }
   ],
   "source": [
    "t.pos('한국어 분석을 시작합니다 재미있어요~~')"
   ]
  },
  {
   "cell_type": "markdown",
   "id": "13ad06e8",
   "metadata": {},
   "source": [
    "## 8-3. 워드 클라우드"
   ]
  },
  {
   "cell_type": "code",
   "execution_count": 20,
   "id": "4cbc3003",
   "metadata": {},
   "outputs": [],
   "source": [
    "from wordcloud import WordCloud, STOPWORDS\n",
    "\n",
    "import numpy as np\n",
    "from PIL import Image"
   ]
  },
  {
   "cell_type": "code",
   "execution_count": 24,
   "id": "50c518e1",
   "metadata": {},
   "outputs": [],
   "source": [
    "text = open('./09. alice.txt').read()\n",
    "alice_mask = np.array(Image.open('./09. alice_mask.png'))\n",
    "\n",
    "stopwords = set(STOPWORDS)\n",
    "stopwords.add(\"said\")"
   ]
  },
  {
   "cell_type": "code",
   "execution_count": 25,
   "id": "568885df",
   "metadata": {},
   "outputs": [],
   "source": [
    "import matplotlib.pyplot as plt\n",
    "import platform\n",
    "\n",
    "path = \"c:/Windows/Fonts/malgun.ttf\"\n",
    "from matplotlib import font_manager, rc\n",
    "if platform.system() == 'Darwin':\n",
    "    rc('font', family='AppleGothic')\n",
    "elif platform.system() == 'Windows':\n",
    "    font_name = font_manager.FontProperties(fname=path).get_name()\n",
    "    rc('font', family=font_name)\n",
    "else:\n",
    "    print('Unknown system... sorry~~~~') \n",
    "    \n",
    "%matplotlib inline"
   ]
  },
  {
   "cell_type": "code",
   "execution_count": 26,
   "id": "d7a171c1",
   "metadata": {},
   "outputs": [
    {
     "data": {
      "image/png": "[encoded data removed]",
      "text/plain": [
       "<Figure size 576x576 with 1 Axes>"
      ]
     },
     "metadata": {
      "needs_background": "light"
     },
     "output_type": "display_data"
    }
   ],
   "source": [
    "plt.figure(figsize=(8,8))\n",
    "plt.imshow(alice_mask, cmap=plt.cm.gray, interpolation='bilinear')\n",
    "plt.axis('off')\n",
    "plt.show()"
   ]
  },
  {
   "cell_type": "code",
   "execution_count": 27,
   "id": "604bffce",
   "metadata": {},
   "outputs": [
    {
     "data": {
      "text/plain": [
       "{'Alice': 1.0,\n",
       " 'little': 0.29508196721311475,\n",
       " 'one': 0.27595628415300544,\n",
       " 'know': 0.2459016393442623,\n",
       " 'went': 0.226775956284153,\n",
       " 'thing': 0.2185792349726776,\n",
       " 'time': 0.2103825136612022,\n",
       " 'Queen': 0.20765027322404372,\n",
       " 'see': 0.1830601092896175,\n",
       " 'King': 0.17486338797814208,\n",
       " 'well': 0.1721311475409836,\n",
       " 'now': 0.16393442622950818,\n",
       " 'head': 0.16393442622950818,\n",
       " 'began': 0.15846994535519127,\n",
       " 'way': 0.1557377049180328,\n",
       " 'Hatter': 0.1557377049180328,\n",
       " 'Mock Turtle': 0.15300546448087432,\n",
       " 'say': 0.15027322404371585,\n",
       " 'Gryphon': 0.15027322404371585,\n",
       " 'think': 0.1448087431693989,\n",
       " 'quite': 0.14207650273224043,\n",
       " 'much': 0.13934426229508196,\n",
       " 'first': 0.13934426229508196,\n",
       " 'thought': 0.1366120218579235,\n",
       " 'go': 0.1366120218579235,\n",
       " 'come': 0.13114754098360656,\n",
       " 'never': 0.1284153005464481,\n",
       " 'voice': 0.12568306010928962,\n",
       " 'looked': 0.12295081967213115,\n",
       " 'got': 0.12295081967213115,\n",
       " 'must': 0.12021857923497267,\n",
       " 'Cat': 0.12021857923497267,\n",
       " 'Duchess': 0.11475409836065574,\n",
       " 'Mouse': 0.11202185792349727,\n",
       " 'round': 0.11202185792349727,\n",
       " 'back': 0.1092896174863388,\n",
       " 'two': 0.1092896174863388,\n",
       " 'Dormouse': 0.1092896174863388,\n",
       " 'make': 0.10382513661202186,\n",
       " 'Oh': 0.10109289617486339,\n",
       " 'tone': 0.10109289617486339,\n",
       " 'eye': 0.09836065573770492,\n",
       " 'came': 0.09562841530054644,\n",
       " 'last': 0.09289617486338798,\n",
       " 'nothing': 0.09289617486338798,\n",
       " 'tell': 0.09289617486338798,\n",
       " 'day': 0.09016393442622951,\n",
       " 'large': 0.09016393442622951,\n",
       " 'great': 0.09016393442622951,\n",
       " 'hand': 0.09016393442622951,\n",
       " 'found': 0.08743169398907104,\n",
       " 'long': 0.08743169398907104,\n",
       " 'door': 0.08743169398907104,\n",
       " 'minute': 0.08743169398907104,\n",
       " 'looking': 0.08743169398907104,\n",
       " 'put': 0.08469945355191257,\n",
       " 'word': 0.08469945355191257,\n",
       " 'March Hare': 0.08469945355191257,\n",
       " 'made': 0.08196721311475409,\n",
       " 'heard': 0.08196721311475409,\n",
       " 'look': 0.07923497267759563,\n",
       " 'will': 0.07923497267759563,\n",
       " 'replied': 0.07923497267759563,\n",
       " 'might': 0.07650273224043716,\n",
       " 'Caterpillar': 0.07650273224043716,\n",
       " 'seemed': 0.07377049180327869,\n",
       " 'going': 0.07377049180327869,\n",
       " 'right': 0.07377049180327869,\n",
       " 'away': 0.07103825136612021,\n",
       " 'without': 0.07103825136612021,\n",
       " 'moment': 0.07103825136612021,\n",
       " 'course': 0.07103825136612021,\n",
       " 'thought Alice': 0.07103825136612021,\n",
       " 'Rabbit': 0.06830601092896176,\n",
       " 'next': 0.06830601092896176,\n",
       " 'rather': 0.06830601092896176,\n",
       " 'soon': 0.06830601092896176,\n",
       " 'yet': 0.06830601092896176,\n",
       " 'dear': 0.06557377049180328,\n",
       " 'took': 0.06557377049180328,\n",
       " 'take': 0.06557377049180328,\n",
       " 'sure': 0.06557377049180328,\n",
       " 'sort': 0.06284153005464481,\n",
       " 'felt': 0.06284153005464481,\n",
       " 'added': 0.06284153005464481,\n",
       " 'getting': 0.060109289617486336,\n",
       " 'Let': 0.060109289617486336,\n",
       " 'three': 0.060109289617486336,\n",
       " 'find': 0.060109289617486336,\n",
       " 'White Rabbit': 0.060109289617486336,\n",
       " 'upon': 0.05737704918032787,\n",
       " 'wish': 0.05737704918032787,\n",
       " 'question': 0.05737704918032787,\n",
       " 'side': 0.05737704918032787,\n",
       " 'till': 0.05737704918032787,\n",
       " 'arm': 0.05737704918032787,\n",
       " 'use': 0.0546448087431694,\n",
       " 'anything': 0.0546448087431694,\n",
       " 'end': 0.0546448087431694,\n",
       " 'good': 0.0546448087431694,\n",
       " 'please': 0.0546448087431694,\n",
       " 'half': 0.0546448087431694,\n",
       " 'face': 0.0546448087431694,\n",
       " 'cried': 0.0546448087431694,\n",
       " 'tried': 0.05191256830601093,\n",
       " 'even': 0.05191256830601093,\n",
       " 'house': 0.05191256830601093,\n",
       " 'tea': 0.05191256830601093,\n",
       " 'eat': 0.05191256830601093,\n",
       " 'curious': 0.05191256830601093,\n",
       " 'wonder': 0.04918032786885246,\n",
       " 'table': 0.04918032786885246,\n",
       " 'enough': 0.04918032786885246,\n",
       " 'something': 0.04918032786885246,\n",
       " 'jury': 0.04918032786885246,\n",
       " 'court': 0.04918032786885246,\n",
       " 'another': 0.04644808743169399,\n",
       " 'spoke': 0.04644808743169399,\n",
       " 'perhaps': 0.04644808743169399,\n",
       " 'talking': 0.04644808743169399,\n",
       " 'begin': 0.04644808743169399,\n",
       " 'sat': 0.04644808743169399,\n",
       " 'asked': 0.04644808743169399,\n",
       " 'Bill': 0.04644808743169399,\n",
       " 'ran': 0.04371584699453552,\n",
       " 'air': 0.04371584699453552,\n",
       " 'bit': 0.04371584699453552,\n",
       " 'turned': 0.04371584699453552,\n",
       " 'garden': 0.04371584699453552,\n",
       " 'indeed': 0.04371584699453552,\n",
       " 'hastily': 0.04371584699453552,\n",
       " 'change': 0.04371584699453552,\n",
       " 'seen': 0.040983606557377046,\n",
       " 'idea': 0.040983606557377046,\n",
       " 'saying': 0.040983606557377046,\n",
       " 'low': 0.040983606557377046,\n",
       " 'leave': 0.040983606557377046,\n",
       " 'gave': 0.040983606557377046,\n",
       " 'speak': 0.040983606557377046,\n",
       " 'done': 0.040983606557377046,\n",
       " 'called': 0.040983606557377046,\n",
       " 'mean': 0.040983606557377046,\n",
       " 'mad': 0.040983606557377046,\n",
       " 'may': 0.03825136612021858,\n",
       " 'beginning': 0.03825136612021858,\n",
       " 'hear': 0.03825136612021858,\n",
       " 'feet': 0.03825136612021858,\n",
       " 'saw': 0.03825136612021858,\n",
       " 'remember': 0.03825136612021858,\n",
       " 'trying': 0.03825136612021858,\n",
       " 'certainly': 0.03825136612021858,\n",
       " 'game': 0.03825136612021858,\n",
       " 'left': 0.03825136612021858,\n",
       " 'anxiously': 0.03825136612021858,\n",
       " 'set': 0.03825136612021858,\n",
       " 'everything': 0.03825136612021858,\n",
       " 'knew': 0.03825136612021858,\n",
       " 'sea': 0.03825136612021858,\n",
       " 'suppose': 0.03825136612021858,\n",
       " 'talk': 0.03825136612021858,\n",
       " 'us': 0.03825136612021858,\n",
       " 'Ye': 0.03825136612021858,\n",
       " 'mouth': 0.03825136612021858,\n",
       " 'turn': 0.03825136612021858,\n",
       " 'Footman': 0.03825136612021858,\n",
       " 'baby': 0.03825136612021858,\n",
       " 'creature': 0.03825136612021858,\n",
       " 'give': 0.03551912568306011,\n",
       " 'book': 0.03551912568306011,\n",
       " 'suddenly': 0.03551912568306011,\n",
       " 'close': 0.03551912568306011,\n",
       " 'happen': 0.03551912568306011,\n",
       " 'still': 0.03551912568306011,\n",
       " 'seem': 0.03551912568306011,\n",
       " 'people': 0.03551912568306011,\n",
       " 'behind': 0.03551912568306011,\n",
       " 'really': 0.03551912568306011,\n",
       " 'grow': 0.03551912568306011,\n",
       " 'far': 0.03551912568306011,\n",
       " 'kept': 0.03551912568306011,\n",
       " 'used': 0.03551912568306011,\n",
       " 'lesson': 0.03551912568306011,\n",
       " 'always': 0.03551912568306011,\n",
       " 'Dodo': 0.03551912568306011,\n",
       " 'whole': 0.03551912568306011,\n",
       " 'better': 0.03551912568306011,\n",
       " 'room': 0.03551912568306011,\n",
       " 'gone': 0.03551912568306011,\n",
       " 'remark': 0.03551912568306011,\n",
       " 'cook': 0.03551912568306011,\n",
       " 'Adventures': 0.03278688524590164,\n",
       " 'CHAPTER': 0.03278688524590164,\n",
       " 'many': 0.03278688524590164,\n",
       " 'near': 0.03278688524590164,\n",
       " 'among': 0.03278688524590164,\n",
       " 'name': 0.03278688524590164,\n",
       " 'Dinah': 0.03278688524590164,\n",
       " 'afraid': 0.03278688524590164,\n",
       " 'every': 0.03278688524590164,\n",
       " 'finished': 0.03278688524590164,\n",
       " 'best': 0.03278688524590164,\n",
       " 'hardly': 0.03278688524590164,\n",
       " 'life': 0.03278688524590164,\n",
       " 'queer': 0.03278688524590164,\n",
       " 'try': 0.03278688524590164,\n",
       " 'tail': 0.03278688524590164,\n",
       " 'live': 0.03278688524590164,\n",
       " 'old': 0.03278688524590164,\n",
       " 'turning': 0.03278688524590164,\n",
       " 'bird': 0.03278688524590164,\n",
       " 'serpent': 0.03278688524590164,\n",
       " 'Pigeon': 0.03278688524590164,\n",
       " 'tree': 0.03278688524590164,\n",
       " 'Majesty': 0.03278688524590164,\n",
       " 'sister': 0.030054644808743168,\n",
       " 'conversation': 0.030054644808743168,\n",
       " 'mind': 0.030054644808743168,\n",
       " 'whether': 0.030054644808743168,\n",
       " 'hurried': 0.030054644808743168,\n",
       " 'though': 0.030054644808743168,\n",
       " 'glad': 0.030054644808743168,\n",
       " 'ask': 0.030054644808743168,\n",
       " 'matter': 0.030054644808743168,\n",
       " 'read': 0.030054644808743168,\n",
       " 'waited': 0.030054644808743168,\n",
       " 'tears': 0.030054644808743168,\n",
       " 'child': 0.030054644808743168,\n",
       " 'growing': 0.030054644808743168,\n",
       " 'pool': 0.030054644808743168,\n",
       " 'want': 0.030054644808743168,\n",
       " 'thinking': 0.030054644808743168,\n",
       " 'nearly': 0.030054644808743168,\n",
       " 'silence': 0.030054644808743168,\n",
       " 'trial': 0.030054644808743168,\n",
       " 'slate': 0.030054644808743168,\n",
       " 'keep': 0.030054644808743168,\n",
       " 'pig': 0.030054644808743168,\n",
       " 'ear': 0.030054644808743168,\n",
       " 'soldier': 0.030054644808743168,\n",
       " 'poor Alice': 0.030054644808743168,\n",
       " 'sitting': 0.0273224043715847,\n",
       " 'either': 0.0273224043715847,\n",
       " 'answer': 0.0273224043715847,\n",
       " 'sight': 0.0273224043715847,\n",
       " 'walked': 0.0273224043715847,\n",
       " 'small': 0.0273224043715847,\n",
       " 'opened': 0.0273224043715847,\n",
       " 'bottle': 0.0273224043715847,\n",
       " 'children': 0.0273224043715847,\n",
       " 'hold': 0.0273224043715847,\n",
       " 'foot': 0.0273224043715847,\n",
       " 'fan': 0.0273224043715847,\n",
       " 'mine': 0.0273224043715847,\n",
       " 'party': 0.0273224043715847,\n",
       " 'explain': 0.0273224043715847,\n",
       " 'rest': 0.0273224043715847,\n",
       " 'reason': 0.0273224043715847,\n",
       " 'place': 0.0273224043715847,\n",
       " 'repeated': 0.0273224043715847,\n",
       " 'remarked': 0.0273224043715847,\n",
       " 'Soup': 0.0273224043715847,\n",
       " 'hedgehog': 0.0273224043715847,\n",
       " 'Heart': 0.0273224043715847,\n",
       " 'lobster': 0.0273224043715847,\n",
       " 'coming': 0.02459016393442623,\n",
       " 'top': 0.02459016393442623,\n",
       " 'hall': 0.02459016393442623,\n",
       " 'rate': 0.02459016393442623,\n",
       " 'waiting': 0.02459016393442623,\n",
       " 'feeling': 0.02459016393442623,\n",
       " 'size': 0.02459016393442623,\n",
       " 'work': 0.02459016393442623,\n",
       " 'help': 0.02459016393442623,\n",
       " 'different': 0.02459016393442623,\n",
       " 'sit': 0.02459016393442623,\n",
       " 'continued': 0.02459016393442623,\n",
       " 'believe': 0.02459016393442623,\n",
       " 'piece': 0.02459016393442623,\n",
       " 'call': 0.02459016393442623,\n",
       " 'angrily': 0.02459016393442623,\n",
       " 'shook': 0.02459016393442623,\n",
       " 'least': 0.02459016393442623,\n",
       " 'together': 0.02459016393442623,\n",
       " 'shouted': 0.02459016393442623,\n",
       " 'timidly': 0.02459016393442623,\n",
       " 'puzzled': 0.02459016393442623,\n",
       " 'butter': 0.02459016393442623,\n",
       " 'interrupted': 0.02459016393442623,\n",
       " 'Knave': 0.02459016393442623,\n",
       " 'moral': 0.02459016393442623,\n",
       " 'dance': 0.02459016393442623,\n",
       " 'join': 0.02459016393442623,\n",
       " 'poor little': 0.02459016393442623,\n",
       " 'Wonderland': 0.02185792349726776,\n",
       " 'feel': 0.02185792349726776,\n",
       " 'making': 0.02185792349726776,\n",
       " 'watch': 0.02185792349726776,\n",
       " 'slowly': 0.02185792349726776,\n",
       " 'noticed': 0.02185792349726776,\n",
       " 'four': 0.02185792349726776,\n",
       " 'opportunity': 0.02185792349726776,\n",
       " 'distance': 0.02185792349726776,\n",
       " \"it'll\": 0.02185792349726776,\n",
       " 'sound': 0.02185792349726776,\n",
       " 'dry': 0.02185792349726776,\n",
       " 'bright': 0.02185792349726776,\n",
       " 'fact': 0.02185792349726776,\n",
       " 'tart': 0.02185792349726776,\n",
       " 'followed': 0.02185792349726776,\n",
       " 'lying': 0.02185792349726776,\n",
       " 'ready': 0.02185792349726776,\n",
       " 'hard': 0.02185792349726776,\n",
       " 'changed': 0.02185792349726776,\n",
       " 'Five': 0.02185792349726776,\n",
       " 'beg': 0.02185792349726776,\n",
       " 'eagerly': 0.02185792349726776,\n",
       " 'meaning': 0.02185792349726776,\n",
       " 'running': 0.02185792349726776,\n",
       " 'everybody': 0.02185792349726776,\n",
       " 'exactly': 0.02185792349726776,\n",
       " 'story': 0.02185792349726776,\n",
       " 'nobody': 0.02185792349726776,\n",
       " 'direction': 0.02185792349726776,\n",
       " 'window': 0.02185792349726776,\n",
       " 'appeared': 0.02185792349726776,\n",
       " 'wood': 0.02185792349726776,\n",
       " 'mushroom': 0.02185792349726776,\n",
       " 'pepper': 0.02185792349726776,\n",
       " 'fish': 0.02185792349726776,\n",
       " 'verse': 0.02185792349726776,\n",
       " 'shoulder': 0.02185792349726776,\n",
       " 'rule': 0.02185792349726776,\n",
       " 'whiting': 0.02185792349726776,\n",
       " 'Oh dear': 0.02185792349726776,\n",
       " 'beautiful Soup': 0.02185792349726776,\n",
       " 'almost': 0.01912568306010929,\n",
       " 'English': 0.01912568306010929,\n",
       " 'tired': 0.01912568306010929,\n",
       " 'hot': 0.01912568306010929,\n",
       " 'world': 0.01912568306010929,\n",
       " 'deep': 0.01912568306010929,\n",
       " 'somebody': 0.01912568306010929,\n",
       " 'fall': 0.01912568306010929,\n",
       " 'listen': 0.01912568306010929,\n",
       " 'fancy': 0.01912568306010929,\n",
       " 'manage': 0.01912568306010929,\n",
       " 'bat': 0.01912568306010929,\n",
       " 'begun': 0.01912568306010929,\n",
       " 'dream': 0.01912568306010929,\n",
       " 'middle': 0.01912568306010929,\n",
       " 'wondering': 0.01912568306010929,\n",
       " 'glass': 0.01912568306010929,\n",
       " 'open': 0.01912568306010929,\n",
       " 'high': 0.01912568306010929,\n",
       " 'larger': 0.01912568306010929,\n",
       " 'poor': 0.01912568306010929,\n",
       " 'happened': 0.01912568306010929,\n",
       " 'neck': 0.01912568306010929,\n",
       " 'drink': 0.01912568306010929,\n",
       " 'generally': 0.01912568306010929,\n",
       " 'surprised': 0.01912568306010929,\n",
       " 'shoes': 0.01912568306010929,\n",
       " 'kind': 0.01912568306010929,\n",
       " 'nonsense': 0.01912568306010929,\n",
       " 'hair': 0.01912568306010929,\n",
       " 'goes': 0.01912568306010929,\n",
       " 'repeat': 0.01912568306010929,\n",
       " 'grin': 0.01912568306010929,\n",
       " 'learn': 0.01912568306010929,\n",
       " 'frightened': 0.01912568306010929,\n",
       " 'chin': 0.01912568306010929,\n",
       " 'history': 0.01912568306010929,\n",
       " 'subject': 0.01912568306010929,\n",
       " 'fetch': 0.01912568306010929,\n",
       " 'Lory': 0.01912568306010929,\n",
       " 'important': 0.01912568306010929,\n",
       " 'others': 0.01912568306010929,\n",
       " 'chimney': 0.01912568306010929,\n",
       " 'grown': 0.01912568306010929,\n",
       " 'business': 0.01912568306010929,\n",
       " 'puppy': 0.01912568306010929,\n",
       " 'paw': 0.01912568306010929,\n",
       " 'nose': 0.01912568306010929,\n",
       " 'draw': 0.01912568306010929,\n",
       " 'silent': 0.01912568306010929,\n",
       " 'pleased': 0.01912568306010929,\n",
       " 'song': 0.01912568306010929,\n",
       " 'bread': 0.01912568306010929,\n",
       " 'treacle': 0.01912568306010929,\n",
       " 'evidence': 0.01912568306010929,\n",
       " 'good deal': 0.01912568306010929,\n",
       " 'Soo oop': 0.01912568306010929,\n",
       " 'stupid': 0.01639344262295082,\n",
       " 'trouble': 0.01639344262295082,\n",
       " 'late': 0.01639344262295082,\n",
       " 'fell': 0.01639344262295082,\n",
       " 'nice': 0.01639344262295082,\n",
       " 'written': 0.01639344262295082,\n",
       " 'jumped': 0.01639344262295082,\n",
       " 'roof': 0.01639344262295082,\n",
       " 'along': 0.01639344262295082,\n",
       " 'forgotten': 0.01639344262295082,\n",
       " 'ten': 0.01639344262295082,\n",
       " 'box': 0.01639344262295082,\n",
       " 'cake': 0.01639344262295082,\n",
       " 'care': 0.01639344262295082,\n",
       " 'pair': 0.01639344262295082,\n",
       " 'stop': 0.01639344262295082,\n",
       " 'gloves': 0.01639344262295082,\n",
       " 'sir': 0.01639344262295082,\n",
       " 'Seven': 0.01639344262295082,\n",
       " 'stay': 0.01639344262295082,\n",
       " 'understand': 0.01639344262295082,\n",
       " 'sentence': 0.01639344262295082,\n",
       " 'pardon': 0.01639344262295082,\n",
       " 'animal': 0.01639344262295082,\n",
       " 'dog': 0.01639344262295082,\n",
       " 'politely': 0.01639344262295082,\n",
       " 'melancholy': 0.01639344262295082,\n",
       " 'liked': 0.01639344262295082,\n",
       " 'hour': 0.01639344262295082,\n",
       " 'chorus': 0.01639344262295082,\n",
       " 'prize': 0.01639344262295082,\n",
       " 'executed': 0.01639344262295082,\n",
       " 'full': 0.01639344262295082,\n",
       " 'write': 0.01639344262295082,\n",
       " 'shriek': 0.01639344262295082,\n",
       " 'loud': 0.01639344262295082,\n",
       " 'sharp': 0.01639344262295082,\n",
       " 'Lizard': 0.01639344262295082,\n",
       " 'stand': 0.01639344262295082,\n",
       " 'youth': 0.01639344262295082,\n",
       " 'sleep': 0.01639344262295082,\n",
       " 'egg': 0.01639344262295082,\n",
       " 'sneezing': 0.01639344262295082,\n",
       " 'told': 0.01639344262295082,\n",
       " 'dreadfully': 0.01639344262295082,\n",
       " 'sing': 0.01639344262295082,\n",
       " 'exclaimed': 0.01639344262295082,\n",
       " 'procession': 0.01639344262295082,\n",
       " 'executioner': 0.01639344262295082,\n",
       " 'school': 0.01639344262295082,\n",
       " 'little girl': 0.01639344262295082,\n",
       " 'golden key': 0.01639344262295082,\n",
       " 'great hurry': 0.01639344262295082,\n",
       " 'Cheshire Cat': 0.01639344262295082,\n",
       " 'three gardeners': 0.01639344262295082,\n",
       " 'guinea pig': 0.01639344262295082,\n",
       " 'eBook': 0.01366120218579235,\n",
       " 'twice': 0.01366120218579235,\n",
       " 'sleepy': 0.01366120218579235,\n",
       " 'pocket': 0.01366120218579235,\n",
       " 'across': 0.01366120218579235,\n",
       " 'curiosity': 0.01366120218579235,\n",
       " 'passed': 0.01366120218579235,\n",
       " 'home': 0.01366120218579235,\n",
       " 'likely': 0.01366120218579235,\n",
       " 'aloud': 0.01366120218579235,\n",
       " 'walk': 0.01366120218579235,\n",
       " 'new': 0.01366120218579235,\n",
       " 'asking': 0.01366120218579235,\n",
       " 'night': 0.01366120218579235,\n",
       " 'sometimes': 0.01366120218579235,\n",
       " 'walking': 0.01366120218579235,\n",
       " 'corner': 0.01366120218579235,\n",
       " 'sadly': 0.01366120218579235,\n",
       " 'shut': 0.01366120218579235,\n",
       " 'hurry': 0.01366120218579235,\n",
       " 'simple': 0.01366120218579235,\n",
       " 'cut': 0.01366120218579235,\n",
       " 'nervous': 0.01366120218579235,\n",
       " 'altogether': 0.01366120218579235,\n",
       " 'remembered': 0.01366120218579235,\n",
       " 'person': 0.01366120218579235,\n",
       " 'deal': 0.01366120218579235,\n",
       " 'nine': 0.01366120218579235,\n",
       " 'dropped': 0.01366120218579235,\n",
       " 'usual': 0.01366120218579235,\n",
       " 'morning': 0.01366120218579235,\n",
       " 'Ah': 0.01366120218579235,\n",
       " 'wrong': 0.01366120218579235,\n",
       " 'sounded': 0.01366120218579235,\n",
       " 'strange': 0.01366120218579235,\n",
       " 'sudden': 0.01366120218579235,\n",
       " 'case': 0.01366120218579235,\n",
       " 'number': 0.01366120218579235,\n",
       " 'swam': 0.01366120218579235,\n",
       " 'nearer': 0.01366120218579235,\n",
       " 'speaking': 0.01366120218579235,\n",
       " 'shrill': 0.01366120218579235,\n",
       " 'angry': 0.01366120218579235,\n",
       " 'offended': 0.01366120218579235,\n",
       " 'crowded': 0.01366120218579235,\n",
       " 'tale': 0.01366120218579235,\n",
       " 'argument': 0.01366120218579235,\n",
       " 'notice': 0.01366120218579235,\n",
       " 'dare': 0.01366120218579235,\n",
       " 'confusion': 0.01366120218579235,\n",
       " 'reply': 0.01366120218579235,\n",
       " 'finish': 0.01366120218579235,\n",
       " 'impatiently': 0.01366120218579235,\n",
       " 'sighed': 0.01366120218579235,\n",
       " 'temper': 0.01366120218579235,\n",
       " 'moved': 0.01366120218579235,\n",
       " 'swim': 0.01366120218579235,\n",
       " 'plate': 0.01366120218579235,\n",
       " 'interesting': 0.01366120218579235,\n",
       " 'become': 0.01366120218579235,\n",
       " 'taking': 0.01366120218579235,\n",
       " 'drew': 0.01366120218579235,\n",
       " 'sky': 0.01366120218579235,\n",
       " 'instantly': 0.01366120218579235,\n",
       " 'surprise': 0.01366120218579235,\n",
       " 'stick': 0.01366120218579235,\n",
       " 'height': 0.01366120218579235,\n",
       " 'quietly': 0.01366120218579235,\n",
       " 'hookah': 0.01366120218579235,\n",
       " 'present': 0.01366120218579235,\n",
       " 'man': 0.01366120218579235,\n",
       " 'often': 0.01366120218579235,\n",
       " 'follow': 0.01366120218579235,\n",
       " 'sob': 0.01366120218579235,\n",
       " 'ground': 0.01366120218579235,\n",
       " 'meant': 0.01366120218579235,\n",
       " 'waving': 0.01366120218579235,\n",
       " 'asleep': 0.01366120218579235,\n",
       " 'pack': 0.01366120218579235,\n",
       " 'knee': 0.01366120218579235,\n",
       " 'whispered': 0.01366120218579235,\n",
       " 'execution': 0.01366120218579235,\n",
       " 'flamingo': 0.01366120218579235,\n",
       " 'friend': 0.01366120218579235,\n",
       " 'Turtle': 0.01366120218579235,\n",
       " 'Tis': 0.01366120218579235,\n",
       " 'picture': 0.01366120218579235,\n",
       " 'juror': 0.01366120218579235,\n",
       " 'witness': 0.01366120218579235,\n",
       " 'teacup': 0.01366120218579235,\n",
       " 'officer': 0.01366120218579235,\n",
       " 'unimportant': 0.01366120218579235,\n",
       " 'mile': 0.01366120218579235,\n",
       " 'another moment': 0.01366120218579235,\n",
       " 'came upon': 0.01366120218579235,\n",
       " 'little golden': 0.01366120218579235,\n",
       " 'right size': 0.01366120218579235,\n",
       " 'feet high': 0.01366120218579235,\n",
       " 'white kid': 0.01366120218579235,\n",
       " 'kid gloves': 0.01366120218579235,\n",
       " 'trembling voice': 0.01366120218579235,\n",
       " 'offended tone': 0.01366120218579235,\n",
       " 'play croquet': 0.01366120218579235,\n",
       " 'Twinkle twinkle': 0.01366120218579235,\n",
       " 'evening Beautiful': 0.01366120218579235,\n",
       " 'next witness': 0.01366120218579235,\n",
       " 'March': 0.01092896174863388,\n",
       " 'bank': 0.01092896174863388,\n",
       " 'worth': 0.01092896174863388,\n",
       " 'natural': 0.01092896174863388,\n",
       " 'fear': 0.01092896174863388,\n",
       " 'managed': 0.01092896174863388,\n",
       " 'true': 0.01092896174863388,\n",
       " 'fallen': 0.01092896174863388,\n",
       " 'earth': 0.01092896174863388,\n",
       " 'several': 0.01092896174863388,\n",
       " 'Miss': 0.01092896174863388,\n",
       " 'catch': 0.01092896174863388,\n",
       " 'passage': 0.01092896174863388,\n",
       " 'except': 0.01092896174863388,\n",
       " 'tiny': 0.01092896174863388,\n",
       " 'alas': 0.01092896174863388,\n",
       " 'second': 0.01092896174863388,\n",
       " 'led': 0.01092896174863388,\n",
       " 'telescope': 0.01092896174863388,\n",
       " 'paper': 0.01092896174863388,\n",
       " 'taught': 0.01092896174863388,\n",
       " 'deeply': 0.01092896174863388,\n",
       " 'ventured': 0.01092896174863388,\n",
       " 'reach': 0.01092896174863388,\n",
       " 'sharply': 0.01092896174863388,\n",
       " 'severely': 0.01092896174863388,\n",
       " 'fond': 0.01092896174863388,\n",
       " 'boots': 0.01092896174863388,\n",
       " 'savage': 0.01092896174863388,\n",
       " 'violently': 0.01092896174863388,\n",
       " 'age': 0.01092896174863388,\n",
       " 'Mabel': 0.01092896174863388,\n",
       " 'besides': 0.01092896174863388,\n",
       " 'puzzling': 0.01092896174863388,\n",
       " 'twelve': 0.01092896174863388,\n",
       " 'capital': 0.01092896174863388,\n",
       " 'alone': 0.01092896174863388,\n",
       " 'escape': 0.01092896174863388,\n",
       " 'water': 0.01092896174863388,\n",
       " 'digging': 0.01092896174863388,\n",
       " 'French': 0.01092896174863388,\n",
       " 'William': 0.01092896174863388,\n",
       " 'fire': 0.01092896174863388,\n",
       " 'pale': 0.01092896174863388,\n",
       " 'shore': 0.01092896174863388,\n",
       " 'Duck': 0.01092896174863388,\n",
       " 'uncomfortable': 0.01092896174863388,\n",
       " 'wanted': 0.01092896174863388,\n",
       " 'frowning': 0.01092896174863388,\n",
       " 'solemnly': 0.01092896174863388,\n",
       " 'pointing': 0.01092896174863388,\n",
       " 'confused': 0.01092896174863388,\n",
       " 'short': 0.01092896174863388,\n",
       " 'bowed': 0.01092896174863388,\n",
       " 'noise': 0.01092896174863388,\n",
       " 'whisper': 0.01092896174863388,\n",
       " 'judge': 0.01092896174863388,\n",
       " 'breath': 0.01092896174863388,\n",
       " 'tongue': 0.01092896174863388,\n",
       " 'particular': 0.01092896174863388,\n",
       " 'vanished': 0.01092896174863388,\n",
       " 'run': 0.01092896174863388,\n",
       " 'stood': 0.01092896174863388,\n",
       " 'elbow': 0.01092896174863388,\n",
       " 'chance': 0.01092896174863388,\n",
       " 'answered': 0.01092896174863388,\n",
       " 'outside': 0.01092896174863388,\n",
       " 'hearing': 0.01092896174863388,\n",
       " 'master': 0.01092896174863388,\n",
       " 'Thank': 0.01092896174863388,\n",
       " 'doubt': 0.01092896174863388,\n",
       " 'lay': 0.01092896174863388,\n",
       " 'crowd': 0.01092896174863388,\n",
       " 'held': 0.01092896174863388,\n",
       " 'plan': 0.01092896174863388,\n",
       " 'difficulty': 0.01092896174863388,\n",
       " 'grass': 0.01092896174863388,\n",
       " 'perfectly': 0.01092896174863388,\n",
       " 'none': 0.01092896174863388,\n",
       " 'stuff': 0.01092896174863388,\n",
       " 'decidedly': 0.01092896174863388,\n",
       " 'thoughtfully': 0.01092896174863388,\n",
       " 'green': 0.01092896174863388,\n",
       " 'screamed': 0.01092896174863388,\n",
       " 'indignantly': 0.01092896174863388,\n",
       " 'taken': 0.01092896174863388,\n",
       " 'letter': 0.01092896174863388,\n",
       " 'dish': 0.01092896174863388,\n",
       " 'kitchen': 0.01092896174863388,\n",
       " 'sneeze': 0.01092896174863388,\n",
       " 'jumping': 0.01092896174863388,\n",
       " 'carried': 0.01092896174863388,\n",
       " 'growl': 0.01092896174863388,\n",
       " 'busily': 0.01092896174863388,\n",
       " 'beat': 0.01092896174863388,\n",
       " 'grunted': 0.01092896174863388,\n",
       " 'less': 0.01092896174863388,\n",
       " 'writing': 0.01092896174863388,\n",
       " 'crumbs': 0.01092896174863388,\n",
       " 'twinkling': 0.01092896174863388,\n",
       " 'sigh': 0.01092896174863388,\n",
       " 'bottom': 0.01092896174863388,\n",
       " 'M': 0.01092896174863388,\n",
       " 'flower': 0.01092896174863388,\n",
       " 'rose': 0.01092896174863388,\n",
       " 'Consider': 0.01092896174863388,\n",
       " 'arches': 0.01092896174863388,\n",
       " 'players': 0.01092896174863388,\n",
       " 'week': 0.01092896174863388,\n",
       " 'figure': 0.01092896174863388,\n",
       " 'porpoise': 0.01092896174863388,\n",
       " 'verdict': 0.01092896174863388,\n",
       " 'suppressed': 0.01092896174863388,\n",
       " 'jurymen': 0.01092896174863388,\n",
       " 'fit': 0.01092896174863388,\n",
       " 'Lewis Carroll': 0.01092896174863388,\n",
       " 'Project Gutenberg': 0.01092896174863388,\n",
       " 'rabbit hole': 0.01092896174863388,\n",
       " 'inches high': 0.01092896174863388,\n",
       " 'one finger': 0.01092896174863388,\n",
       " 'Mary Ann': 0.01092896174863388,\n",
       " 'yer honour': 0.01092896174863388,\n",
       " 'old fellow': 0.01092896174863388,\n",
       " 'FATHER WILLIAM': 0.01092896174863388,\n",
       " 'Wow wow': 0.01092896174863388,\n",
       " 'Lobster Quadrille': 0.01092896174863388,\n",
       " 'dance Will': 0.01092896174863388,\n",
       " 'Beau ootiful': 0.01092896174863388,\n",
       " 'ootiful Soo': 0.01092896174863388,\n",
       " 'jury box': 0.01092896174863388,\n",
       " 'Date': 0.00819672131147541,\n",
       " 'peeped': 0.00819672131147541,\n",
       " 'reading': 0.00819672131147541,\n",
       " 'considering': 0.00819672131147541,\n",
       " 'White': 0.00819672131147541,\n",
       " 'hedge': 0.00819672131147541,\n",
       " 'dark': 0.00819672131147541,\n",
       " 'filled': 0.00819672131147541,\n",
       " 'past': 0.00819672131147541,\n",
       " 'stairs': 0.00819672131147541,\n",
       " 'somewhere': 0.00819672131147541,\n",
       " 'knowledge': 0.00819672131147541,\n",
       " 'grand': 0.00819672131147541,\n",
       " 'funny': 0.00819672131147541,\n",
       " 'listening': 0.00819672131147541,\n",
       " 'hope': 0.00819672131147541,\n",
       " 'hurt': 0.00819672131147541,\n",
       " 'lost': 0.00819672131147541,\n",
       " 'whiskers': 0.00819672131147541,\n",
       " 'longer': 0.00819672131147541,\n",
       " 'hanging': 0.00819672131147541,\n",
       " 'key': 0.00819672131147541,\n",
       " 'belong': 0.00819672131147541,\n",
       " 'lock': 0.00819672131147541,\n",
       " 'delight': 0.00819672131147541,\n",
       " 'impossible': 0.00819672131147541,\n",
       " 'marked': 0.00819672131147541,\n",
       " 'red': 0.00819672131147541,\n",
       " 'knife': 0.00819672131147541,\n",
       " 'certain': 0.00819672131147541,\n",
       " 'taste': 0.00819672131147541,\n",
       " 'finding': 0.00819672131147541,\n",
       " 'apple': 0.00819672131147541,\n",
       " 'candle': 0.00819672131147541,\n",
       " 'decided': 0.00819672131147541,\n",
       " 'possibly': 0.00819672131147541,\n",
       " 'legs': 0.00819672131147541,\n",
       " 'bring': 0.00819672131147541,\n",
       " 'smaller': 0.00819672131147541,\n",
       " 'holding': 0.00819672131147541,\n",
       " 'remained': 0.00819672131147541,\n",
       " 'expecting': 0.00819672131147541,\n",
       " 'dull': 0.00819672131147541,\n",
       " 'opening': 0.00819672131147541,\n",
       " 'love': 0.00819672131147541,\n",
       " 'cry': 0.00819672131147541,\n",
       " 'pattering': 0.00819672131147541,\n",
       " 'muttering': 0.00819672131147541,\n",
       " 'timid': 0.00819672131147541,\n",
       " 'yesterday': 0.00819672131147541,\n",
       " 'twenty': 0.00819672131147541,\n",
       " 'doth': 0.00819672131147541,\n",
       " 'crossed': 0.00819672131147541,\n",
       " 'hoarse': 0.00819672131147541,\n",
       " 'spread': 0.00819672131147541,\n",
       " 'gently': 0.00819672131147541,\n",
       " 'play': 0.00819672131147541,\n",
       " 'putting': 0.00819672131147541,\n",
       " 'guess': 0.00819672131147541,\n",
       " 'cause': 0.00819672131147541,\n",
       " 'worse': 0.00819672131147541,\n",
       " 'slipped': 0.00819672131147541,\n",
       " 'general': 0.00819672131147541,\n",
       " 'notion': 0.00819672131147541,\n",
       " 'show': 0.00819672131147541,\n",
       " 'washing': 0.00819672131147541,\n",
       " 'nurse': 0.00819672131147541,\n",
       " 'throw': 0.00819672131147541,\n",
       " 'passion': 0.00819672131147541,\n",
       " 'Eaglet': 0.00819672131147541,\n",
       " 'race': 0.00819672131147541,\n",
       " 'fur': 0.00819672131147541,\n",
       " 'sulky': 0.00819672131147541,\n",
       " 'allow': 0.00819672131147541,\n",
       " 'frog': 0.00819672131147541,\n",
       " 'crown': 0.00819672131147541,\n",
       " 'move': 0.00819672131147541,\n",
       " 'pressed': 0.00819672131147541,\n",
       " 'handed': 0.00819672131147541,\n",
       " 'gravely': 0.00819672131147541,\n",
       " 'thimble': 0.00819672131147541,\n",
       " 'speech': 0.00819672131147541,\n",
       " 'cheered': 0.00819672131147541,\n",
       " 'grave': 0.00819672131147541,\n",
       " 'simply': 0.00819672131147541,\n",
       " 'solemn': 0.00819672131147541,\n",
       " 'choked': 0.00819672131147541,\n",
       " 'sad': 0.00819672131147541,\n",
       " 'sighing': 0.00819672131147541,\n",
       " 'Fury': 0.00819672131147541,\n",
       " 'met': 0.00819672131147541,\n",
       " 'attending': 0.00819672131147541,\n",
       " 'pleaded': 0.00819672131147541,\n",
       " 'easily': 0.00819672131147541,\n",
       " 'joined': 0.00819672131147541,\n",
       " 'pity': 0.00819672131147541,\n",
       " 'Crab': 0.00819672131147541,\n",
       " 'venture': 0.00819672131147541,\n",
       " 'carefully': 0.00819672131147541,\n",
       " 'suit': 0.00819672131147541,\n",
       " 'bed': 0.00819672131147541,\n",
       " 'mentioned': 0.00819672131147541,\n",
       " 'guessed': 0.00819672131147541,\n",
       " 'hunting': 0.00819672131147541,\n",
       " 'mistake': 0.00819672131147541,\n",
       " 'knocking': 0.00819672131147541,\n",
       " 'real': 0.00819672131147541,\n",
       " 'broken': 0.00819672131147541,\n",
       " 'floor': 0.00819672131147541,\n",
       " 'effect': 0.00819672131147541,\n",
       " 'whatever': 0.00819672131147541,\n",
       " 'ordered': 0.00819672131147541,\n",
       " 'stopped': 0.00819672131147541,\n",
       " 'crash': 0.00819672131147541,\n",
       " 'Pat': 0.00819672131147541,\n",
       " 'em': 0.00819672131147541,\n",
       " 'kick': 0.00819672131147541,\n",
       " 'sense': 0.00819672131147541,\n",
       " 'moving': 0.00819672131147541,\n",
       " 'hungry': 0.00819672131147541,\n",
       " 'picked': 0.00819672131147541,\n",
       " 'edge': 0.00819672131147541,\n",
       " 'immediately': 0.00819672131147541,\n",
       " 'folded': 0.00819672131147541,\n",
       " 'confusing': 0.00819672131147541,\n",
       " 'brought': 0.00819672131147541,\n",
       " 'Pray': 0.00819672131147541,\n",
       " 'jaw': 0.00819672131147541,\n",
       " 'eel': 0.00819672131147541,\n",
       " 'blow': 0.00819672131147541,\n",
       " 'free': 0.00819672131147541,\n",
       " 'shaking': 0.00819672131147541,\n",
       " 'succeeded': 0.00819672131147541,\n",
       " 'tasted': 0.00819672131147541,\n",
       " 'settled': 0.00819672131147541,\n",
       " 'nibbling': 0.00819672131147541,\n",
       " 'bringing': 0.00819672131147541,\n",
       " 'livery': 0.00819672131147541,\n",
       " 'considered': 0.00819672131147541,\n",
       " 'loudly': 0.00819672131147541,\n",
       " 'order': 0.00819672131147541,\n",
       " 'staring': 0.00819672131147541,\n",
       " 'howling': 0.00819672131147541,\n",
       " 'instance': 0.00819672131147541,\n",
       " 'repeating': 0.00819672131147541,\n",
       " 'nursing': 0.00819672131147541,\n",
       " 'courage': 0.00819672131147541,\n",
       " 'grinned': 0.00819672131147541,\n",
       " 'faster': 0.00819672131147541,\n",
       " 'advantage': 0.00819672131147541,\n",
       " 'line': 0.00819672131147541,\n",
       " 'boy': 0.00819672131147541,\n",
       " 'tossing': 0.00819672131147541,\n",
       " 'caught': 0.00819672131147541,\n",
       " 'shaped': 0.00819672131147541,\n",
       " 'proper': 0.00819672131147541,\n",
       " 'sobbing': 0.00819672131147541,\n",
       " 'explanation': 0.00819672131147541,\n",
       " 'instead': 0.00819672131147541,\n",
       " 'civil': 0.00819672131147541,\n",
       " 'fun': 0.00819672131147541,\n",
       " 'breathe': 0.00819672131147541,\n",
       " \"o'clock\": 0.00819672131147541,\n",
       " 'year': 0.00819672131147541,\n",
       " 'riddle': 0.00819672131147541,\n",
       " 'cautiously': 0.00819672131147541,\n",
       " 'music': 0.00819672131147541,\n",
       " 'fly': 0.00819672131147541,\n",
       " 'lived': 0.00819672131147541,\n",
       " 'upset': 0.00819672131147541,\n",
       " 'manner': 0.00819672131147541,\n",
       " 'muchness': 0.00819672131147541,\n",
       " 'beheaded': 0.00819672131147541,\n",
       " 'watching': 0.00819672131147541,\n",
       " 'checked': 0.00819672131147541,\n",
       " 'eager': 0.00819672131147541,\n",
       " 'guests': 0.00819672131147541,\n",
       " 'cards': 0.00819672131147541,\n",
       " \"needn't\": 0.00819672131147541,\n",
       " 'unfortunate': 0.00819672131147541,\n",
       " 'Hush': 0.00819672131147541,\n",
       " 'tucked': 0.00819672131147541,\n",
       " 'alive': 0.00819672131147541,\n",
       " 'anxious': 0.00819672131147541,\n",
       " 'mustard': 0.00819672131147541,\n",
       " 'sorrow': 0.00819672131147541,\n",
       " 'Tortoise': 0.00819672131147541,\n",
       " 'Drawling': 0.00819672131147541,\n",
       " 'advance': 0.00819672131147541,\n",
       " 'toes': 0.00819672131147541,\n",
       " 'mark': 0.00819672131147541,\n",
       " 'snail': 0.00819672131147541,\n",
       " 'obliged': 0.00819672131147541,\n",
       " 'part': 0.00819672131147541,\n",
       " 'around': 0.00819672131147541,\n",
       " 'Owl': 0.00819672131147541,\n",
       " 'Panther': 0.00819672131147541,\n",
       " 'pie': 0.00819672131147541,\n",
       " 'trumpet': 0.00819672131147541,\n",
       " 'spectacles': 0.00819672131147541,\n",
       " 'pencil': 0.00819672131147541,\n",
       " 'wrote': 0.00819672131147541,\n",
       " 'list': 0.00819672131147541,\n",
       " 'prove': 0.00819672131147541,\n",
       " 'half hoping': 0.00819672131147541,\n",
       " 'marked poison': 0.00819672131147541,\n",
       " 'O Mouse': 0.00819672131147541,\n",
       " 'Caucus race': 0.00819672131147541,\n",
       " 'stood near': 0.00819672131147541,\n",
       " 'quite forgetting': 0.00819672131147541,\n",
       " 'broken glass': 0.00819672131147541,\n",
       " 'dead silence': 0.00819672131147541,\n",
       " 'OLD FATHER': 0.00819672131147541,\n",
       " 'fast asleep': 0.00819672131147541,\n",
       " 'young lady': 0.00819672131147541,\n",
       " 'croquet ground': 0.00819672131147541,\n",
       " 'rose tree': 0.00819672131147541,\n",
       " 'e e': 0.00819672131147541,\n",
       " 'e evening': 0.00819672131147541,\n",
       " 'Gutenberg': 0.00546448087431694,\n",
       " 'anywhere': 0.00546448087431694,\n",
       " 'cost': 0.00546448087431694,\n",
       " 'terms': 0.00546448087431694,\n",
       " 'pleasure': 0.00546448087431694,\n",
       " 'chain': 0.00546448087431694,\n",
       " 'picking': 0.00546448087431694,\n",
       " 'remarkable': 0.00546448087431694,\n",
       " 'afterwards': 0.00546448087431694,\n",
       " 'occurred': 0.00546448087431694,\n",
       " 'started': 0.00546448087431694,\n",
       " 'straight': 0.00546448087431694,\n",
       " 'dipped': 0.00546448087431694,\n",
       " 'falling': 0.00546448087431694,\n",
       " 'plenty': 0.00546448087431694,\n",
       " 'cupboards': 0.00546448087431694,\n",
       " 'shelves': 0.00546448087431694,\n",
       " 'jar': 0.00546448087431694,\n",
       " 'tumbling': 0.00546448087431694,\n",
       " 'thousand': 0.00546448087431694,\n",
       " 'learnt': 0.00546448087431694,\n",
       " 'showing': 0.00546448087431694,\n",
       " 'Latitude': 0.00546448087431694,\n",
       " 'Longitude': 0.00546448087431694,\n",
       " 'Presently': 0.00546448087431694,\n",
       " 'downward': 0.00546448087431694,\n",
       " \"Dinah'll\": 0.00546448087431694,\n",
       " 'milk': 0.00546448087431694,\n",
       " 'mice': 0.00546448087431694,\n",
       " 'earnestly': 0.00546448087431694,\n",
       " 'thump': 0.00546448087431694,\n",
       " 'wind': 0.00546448087431694,\n",
       " 'row': 0.00546448087431694,\n",
       " 'legged': 0.00546448087431694,\n",
       " 'inches': 0.00546448087431694,\n",
       " 'rat': 0.00546448087431694,\n",
       " 'longed': 0.00546448087431694,\n",
       " 'shutting': 0.00546448087431694,\n",
       " 'label': 0.00546448087431694,\n",
       " \"ME'\": 0.00546448087431694,\n",
       " 'beautifully': 0.00546448087431694,\n",
       " 'wise': 0.00546448087431694,\n",
       " 'unpleasant': 0.00546448087431694,\n",
       " 'burn': 0.00546448087431694,\n",
       " 'usually': 0.00546448087431694,\n",
       " 'sooner': 0.00546448087431694,\n",
       " 'mixed': 0.00546448087431694,\n",
       " 'brightened': 0.00546448087431694,\n",
       " 'lovely': 0.00546448087431694,\n",
       " 'crying': 0.00546448087431694,\n",
       " 'advice': 0.00546448087431694,\n",
       " 'playing': 0.00546448087431694,\n",
       " 'Curiouser': 0.00546448087431694,\n",
       " 'forgot': 0.00546448087431694,\n",
       " 'bye': 0.00546448087431694,\n",
       " '_I_': 0.00546448087431694,\n",
       " 'sending': 0.00546448087431694,\n",
       " 'struck': 0.00546448087431694,\n",
       " 'ashamed': 0.00546448087431694,\n",
       " 'trotting': 0.00546448087431694,\n",
       " 'ringlets': 0.00546448087431694,\n",
       " 'six': 0.00546448087431694,\n",
       " 'Paris': 0.00546448087431694,\n",
       " 'Rome': 0.00546448087431694,\n",
       " 'lap': 0.00546448087431694,\n",
       " 'neatly': 0.00546448087431694,\n",
       " 'claws': 0.00546448087431694,\n",
       " 'smiling': 0.00546448087431694,\n",
       " 'shrinking': 0.00546448087431694,\n",
       " 'narrow': 0.00546448087431694,\n",
       " 'declare': 0.00546448087431694,\n",
       " 'bad': 0.00546448087431694,\n",
       " 'railway': 0.00546448087431694,\n",
       " 'conclusion': 0.00546448087431694,\n",
       " 'wherever': 0.00546448087431694,\n",
       " 'sand': 0.00546448087431694,\n",
       " 'splashing': 0.00546448087431694,\n",
       " 'swimming': 0.00546448087431694,\n",
       " 'wink': 0.00546448087431694,\n",
       " 'Conqueror': 0.00546448087431694,\n",
       " 'clear': 0.00546448087431694,\n",
       " 'ago': 0.00546448087431694,\n",
       " 'ma': 0.00546448087431694,\n",
       " 'fright': 0.00546448087431694,\n",
       " 'quiet': 0.00546448087431694,\n",
       " 'purring': 0.00546448087431694,\n",
       " 'nicely': 0.00546448087431694,\n",
       " 'brown': 0.00546448087431694,\n",
       " 'dinner': 0.00546448087431694,\n",
       " 'useful': 0.00546448087431694,\n",
       " 'sorrowful': 0.00546448087431694,\n",
       " 'hate': 0.00546448087431694,\n",
       " 'assembled': 0.00546448087431694,\n",
       " 'wet': 0.00546448087431694,\n",
       " 'older': 0.00546448087431694,\n",
       " 'knowing': 0.00546448087431694,\n",
       " 'authority': 0.00546448087431694,\n",
       " ...}"
      ]
     },
     "execution_count": 27,
     "metadata": {},
     "output_type": "execute_result"
    }
   ],
   "source": [
    "wc = WordCloud(background_color='white', max_words=2000, mask=alice_mask,\n",
    "              stopwords = stopwords)\n",
    "wc = wc.generate(text)\n",
    "wc.words_"
   ]
  },
  {
   "cell_type": "code",
   "execution_count": 28,
   "id": "e1f97b88",
   "metadata": {},
   "outputs": [
    {
     "data": {
      "image/png": "[encoded data removed]",
      "text/plain": [
       "<Figure size 864x864 with 1 Axes>"
      ]
     },
     "metadata": {
      "needs_background": "light"
     },
     "output_type": "display_data"
    }
   ],
   "source": [
    "plt.figure(figsize=(12,12))\n",
    "plt.imshow(wc, interpolation='bilinear')\n",
    "plt.axis('off')\n",
    "plt.show()"
   ]
  },
  {
   "cell_type": "code",
   "execution_count": 29,
   "id": "5fdd84eb",
   "metadata": {},
   "outputs": [],
   "source": [
    "text = open('./09. a_new_hope.txt').read()\n",
    "\n",
    "text = text.replace('HAN', 'Han')\n",
    "text = text.replace(\"LUKE'S\", 'Luke')\n",
    "\n",
    "mask = np.array(Image.open('./09. stormtrooper_mask.png'))"
   ]
  },
  {
   "cell_type": "code",
   "execution_count": 30,
   "id": "6b511015",
   "metadata": {},
   "outputs": [],
   "source": [
    "stopwords = set(STOPWORDS)\n",
    "stopwords.add(\"int\")\n",
    "stopwords.add(\"ext\")"
   ]
  },
  {
   "cell_type": "code",
   "execution_count": 31,
   "id": "7a631bc5",
   "metadata": {},
   "outputs": [],
   "source": [
    "wc = WordCloud(max_words=1000, mask=mask, stopwords=stopwords, \n",
    "               margin=10, random_state=1).generate(text)\n",
    "\n",
    "default_colors = wc.to_array()"
   ]
  },
  {
   "cell_type": "code",
   "execution_count": 32,
   "id": "413a83d1",
   "metadata": {},
   "outputs": [],
   "source": [
    "import random\n",
    "def grey_color_func(word, font_size, position, orientation, \n",
    "                    random_state=None, **kwargs):\n",
    "    return 'hsl(0, 0%%, %d%%)' % random.randint(60,100)"
   ]
  },
  {
   "cell_type": "code",
   "execution_count": 33,
   "id": "a1b57e55",
   "metadata": {},
   "outputs": [
    {
     "data": {
      "image/png": "[encoded data removed]",
      "text/plain": [
       "<Figure size 864x864 with 1 Axes>"
      ]
     },
     "metadata": {
      "needs_background": "light"
     },
     "output_type": "display_data"
    }
   ],
   "source": [
    "plt.figure(figsize=(12,12))\n",
    "plt.imshow(wc.recolor(color_func=grey_color_func, random_state=3),\n",
    "          interpolation='bilinear')\n",
    "plt.axis('off')\n",
    "plt.show()"
   ]
  },
  {
   "cell_type": "markdown",
   "id": "b3ebf408",
   "metadata": {},
   "source": [
    "## 8-4. 육아휴직관련 법안 대한민국 국회 제 1809890호 의안"
   ]
  },
  {
   "cell_type": "code",
   "execution_count": 35,
   "id": "4c9dc40a",
   "metadata": {},
   "outputs": [
    {
     "name": "stdout",
     "output_type": "stream",
     "text": [
      "Collecting nltk\n",
      "  Using cached nltk-3.7-py3-none-any.whl (1.5 MB)\n",
      "Collecting tqdm\n",
      "  Downloading tqdm-4.64.0-py2.py3-none-any.whl (78 kB)\n",
      "Collecting joblib\n",
      "  Using cached joblib-1.1.0-py2.py3-none-any.whl (306 kB)\n",
      "Collecting regex>=2021.8.3\n",
      "  Downloading regex-2022.3.15-cp38-cp38-win_amd64.whl (274 kB)\n",
      "Collecting click\n",
      "  Downloading click-8.1.2-py3-none-any.whl (96 kB)\n",
      "Requirement already satisfied: colorama in c:\\users\\april\\anaconda3\\envs\\last\\lib\\site-packages (from click->nltk) (0.4.4)\n",
      "Installing collected packages: tqdm, regex, joblib, click, nltk\n",
      "Successfully installed click-8.1.2 joblib-1.1.0 nltk-3.7 regex-2022.3.15 tqdm-4.64.0\n",
      "Note: you may need to restart the kernel to use updated packages.\n"
     ]
    }
   ],
   "source": [
    "pip install nltk"
   ]
  },
  {
   "cell_type": "code",
   "execution_count": 36,
   "id": "31940adf",
   "metadata": {},
   "outputs": [],
   "source": [
    "import nltk"
   ]
  },
  {
   "cell_type": "code",
   "execution_count": 37,
   "id": "2b93a4a0",
   "metadata": {},
   "outputs": [],
   "source": [
    "from konlpy.corpus import kobill\n",
    "files_ko = kobill.fileids()\n",
    "doc_ko = kobill.open('1809890.txt').read()"
   ]
  },
  {
   "cell_type": "code",
   "execution_count": 38,
   "id": "308499b9",
   "metadata": {},
   "outputs": [
    {
     "data": {
      "text/plain": [
       "'지방공무원법 일부개정법률안\\n\\n(정의화의원 대표발의 )\\n\\n 의 안\\n 번 호\\n\\n9890\\n\\n발의연월일 : 2010.  11.  12.  \\n\\n발  의  자 : 정의화․이명수․김을동 \\n\\n이사철․여상규․안규백\\n\\n황영철․박영아․김정훈\\n\\n김학송 의원(10인)\\n\\n제안이유 및 주요내용\\n\\n  초등학교 저학년의 경우에도 부모의 따뜻한 사랑과 보살핌이 필요\\n\\n한 나이이나, 현재 공무원이 자녀를 양육하기 위하여 육아휴직을 할 \\n\\n수 있는 자녀의 나이는 만 6세 이하로 되어 있어 초등학교 저학년인 \\n\\n자녀를 돌보기 위해서는 해당 부모님은 일자리를 그만 두어야 하고 \\n\\n이는 곧 출산의욕을 저하시키는 문제로 이어질 수 있을 것임.\\n\\n  따라서 육아휴직이 가능한 자녀의 연령을 만 8세 이하로 개정하려\\n\\n는 것임(안 제63조제2항제4호).\\n\\n- 1 -\\n\\n\\x0c법률  제        호\\n\\n지방공무원법 일부개정법률안\\n\\n지방공무원법 일부를 다음과 같이 개정한다.\\n\\n제63조제2항제4호 중 “만 6세 이하의 초등학교 취학 전 자녀를”을 “만 \\n\\n8세 이하(취학 중인 경우에는 초등학교 2학년 이하를 말한다)의 자녀를”\\n\\n로 한다.\\n\\n부      칙\\n\\n이 법은 공포한 날부터 시행한다.\\n\\n- 3 -\\n\\n\\x0c신 ·구조문대비표\\n\\n현      행\\n\\n개   정   안\\n\\n제63조(휴직) ① (생  략)\\n\\n제63조(휴직) ① (현행과 같음)\\n\\n  ② 공무원이 다음 각 호의 어\\n\\n  ② -------------------------\\n\\n느 하나에 해당하는 사유로 휴\\n\\n----------------------------\\n\\n직을 원하면 임용권자는 휴직\\n\\n----------------------------\\n\\n을 명할 수 있다. 다만, 제4호\\n\\n-------------.---------------\\n\\n의 경우에는 대통령령으로 정\\n\\n----------------------------\\n\\n하는 특별한 사정이 없으면 휴\\n\\n----------------------------\\n\\n직을 명하여야 한다.\\n\\n--------------.\\n\\n  1. ∼ 3. (생  략)\\n\\n  1. ∼ 3. (현행과 같음)\\n\\n  4. 만 6세 이하의 초등학교 취\\n\\n  4. 만 8세 이하(취학 중인 경우\\n\\n학 전 자녀를 양육하기 위하\\n\\n에는 초등학교 2학년 이하를 \\n\\n여 필요하거나 여자공무원이 \\n\\n말한다)의 자녀를 ----------\\n\\n임신 또는 출산하게 되었을 \\n\\n---------------------------\\n\\n때\\n\\n---------------------------\\n\\n  5.⋅6. (생  략)\\n\\n  ③⋅④ (생  략)\\n\\n--------\\n\\n  5.⋅6. (현행과 같음)\\n\\n  ③⋅④ (현행과 같음)\\n\\n- 5 -\\n\\n\\x0c지방공무원법 일부개정법률안 등 비용추계서 미첨부사유서\\n1.  재정수반요인\\n\\n개정안에서 ｢국가공무원법｣  제71조제2항제4호 중 국가공무원의 육아\\n\\n휴직 가능 자녀의 연령을 만6세 이하에서 만8세 이하로 하고, ｢지방공\\n\\n무원법｣ 제63조제2항제4호 중 지방공무원의 육아휴직 가능 자녀의 연\\n\\n령을 만6세 이하에서 만8세 이하로 하고, ｢교육공무원법｣ 제44조제1항\\n\\n제7조 중 교육공무원의 육아휴직 가능 자녀의 연령을 만6세 이하에서 \\n\\n만8세 이하로 하고, ｢남녀고용평등과 일․가정 양립지원에 관한 법률｣ \\n\\n제19조제1항 중 근로자 육아휴직 가능 자녀연령을 만6세 이하에서 만\\n\\n8세 이하로 조정함에 따라 추가 재정소요가 예상됨.\\n\\n2.  미첨부  근거  규정\\n｢의안의 비용추계에 관한 규칙｣ 제3조제1항 단서 중 제1호(예상되는 비용이 연평균  10억원 미만\\n이거나  한시적인  경비로서  총  30억원  미만인  경우)에  해당함.\\n\\n3.  미첨부  사유\\n\\n개정안에서 국가․지방․교육공무원 및 근로자가 육아휴직을 신청할 \\n\\n수 있는 자녀의 연령을 만6세 이하에서 만8세 이하로 상향조정함에 \\n\\n따라 추가 재정소요가 예상된다. 동 법률 개정안이 2011년에 시행된다\\n\\n고 가정한 경우, 2010년 현재 자녀의 연령이 7세이고 육아휴직을 신청\\n\\n- 7 -\\n\\n\\x0c- 8 -\\n\\n하지 않은 국가․지방․교육공무원 및 근로자가 대상이 된다.\\n\\n대상연령의 확대됨에 따라 육아휴직신청자의 수가 어느 정도 늘어날 \\n\\n것으로 예상된다. 이 경우 발생하는 비용은 현행법에 따르면 월50만원\\n\\n이나 현재 관련법령 개정이 추진되고 있으며, 이에 따라 2011년에는 \\n\\n육아휴직자가 지급받는 월급여액에 비례하여 육아휴직급여가 지급되\\n\\n기 때문에 법령개정을 가정하고 추계한다. 이러한 경우 육아휴직급여\\n\\n액은 육아휴직자가 지급받는 월급여의 40%에 해당한다. 육아휴직자가 \\n\\n발생한 경우 발생하는 비용은 대체인력 고용인건비와 육아휴직자가 \\n\\n받는 월급여액의 40%이다. 이와 대비하여 육아휴직자에게 지급하던 \\n\\n임금은 더 이상 발생하지 않는다. 따라서 실제 발생하는 순비용은 육\\n\\n아휴직자에게 지급하던 월 급여액과 연령 확대에 따라 발생하는 비용\\n\\n인 육아휴직자가 받던 월급여액의 40%와 대체인력 고용인건비의 차\\n\\n액인데 이 값이 0보다 크면 추가 재정소요는 발생하지 않는다고 볼 \\n\\n수 있다.\\n\\n추가비용 발생여부를 정확하게 알아보기 위하여 비용에 대한 수리모\\n\\n델을 만들고 이에 따라 비용발생 여부를 알아보기로 하자. 모델에 사\\n\\n용되는 변수를 다음과 같이 정의한다.\\n\\n발생비용 : N×p×X + N×육아휴직급여액 - N×P\\n\\nN\\n\\nP\\n\\n: 육아휴직대상자의 수\\n\\n: 육아휴직대상자의 월급여액\\n\\n\\x0cp\\n\\nX\\n\\n: 육아휴직자가 발생한 경우 대체 고용할 확률\\n\\n: 대체 고용한 인력에게 지급하는 월급여액\\n\\n위의 수식에서 육아휴직급여액은 육아휴직자 월급여액의 40%까지 지\\n\\n급할 예정이므로 육아휴직급여액은 P×40%이다. 육아휴직자가 발생한 \\n\\n경우 대체 고용할 확률 p는 고용노동부의 육아휴직 관련 자료를 이용\\n\\n한다. 고용노동부에 따르면 2011년의 경우 육아휴직급여 대상자는 \\n\\n40,923명이며, 육아휴직에 따른 대체인력 고용 예상인원은 2,836명이\\n\\n다. 2007년부터 2011년까지의 현황을 정리하면 다음의 [표]와 같다.\\n\\n[표]  육아휴직급여  수급자의  수  및  대체인력  고용  현황:  2007~2011년\\n\\n(단위:  명,  % )\\n\\n2007\\n\\n2008\\n\\n2009\\n\\n2010\\n\\n2011\\n\\n평균\\n\\n육아휴직급여  수급자(A)\\n\\n21,185\\n\\n29,145\\n\\n35,400\\n\\n41,291\\n\\n43,899\\n\\n34,184\\n\\n대체인력  채용(B)\\n\\n796\\n\\n1,658\\n\\n1,957\\n\\n2,396\\n\\n2,836\\n\\n1,929\\n\\n비  율(B/A)\\n\\n3.8\\n\\n5.7\\n\\n5.5\\n\\n5.8\\n\\n6.5\\n\\n5.6\\n\\n자료: 고용노동부  자료를  바탕으로  국회예산정책처  작성\\n\\n위의 [표]의 자료에 따라 육아휴직자가 발생한 경우 대체 고용할 확률 \\n\\np의 값은 5.6%라고 가정한다. 그리고 비용이 발생한다고 가정하여 위\\n\\n의 수식을 다시 작성하면 다음의 수식과 같다.\\n\\nN×p×X + N×육아휴직급여액 - N×P > 0\\n\\n(1)\\n\\n- 9 -\\n\\n\\x0c- 10 -\\n\\nN×5.6%×X + N×P×40% - N×P > 0\\n\\n0.056×X > 0.6P\\n\\nX > 10.7×P\\n\\n(2)\\n\\n(3)\\n\\n(5)\\n\\n위의 수식에 육아휴직자가 받는 월 급여액을 대입하여 대체고용인력\\n\\n자에게 지급하는 월 급여액을 추정하여 보자. 육아휴직자가 월 200만\\n\\n원을 받는다고 가정하면, 대체고용인력자에게 육아휴직자가 받는 월 \\n\\n급여액의 10.7배에 달하는 월 21,428,571원 이상을 지급해야 추가 비용\\n\\n이 발생한다. 대체고용인력자에게 육아휴직자보다 더 많은 월급여액을 \\n\\n주지는 않을 것이고 그리고 10여배 이상 월급을 주지도 않을 것이기 \\n\\n때문에 추가 비용이 발생한다고 보기 힘들다. 위의 수식에서 대체인력 \\n\\n고용확률 p를 20%로 가정하더라도(이 경우 X > 3×P) 200만원 받는 \\n\\n육아휴직자 대체인력에게 월 600만원 이상을 지급해야 추가 비용이 \\n\\n발생한다.\\n\\n행정안전부의 통계자료(행정안전부 통계연감)에서는 지방공무원의 육\\n\\n아휴직 현황자료를 보여주고 있다. 여기서 육아휴직자가 발생한 경우 \\n\\n대체인력을 주로 임용대기자 또는 일용직을 활용하는 것으로 보인다. \\n\\n따라서 공무원의 경우에도 [표]에서 보여주는 일반기업체의 대체인력 \\n\\n고용확률과 차이는 크지 않을 것으로 보인다.\\n\\n이상의 논의를 바탕으로 육아휴직기간을 만6에서 만8세로 연장하더라\\n\\n도 법률 개정에 따른 추가 비용은 발생하지 않을 것으로 예상된다.\\n\\n\\x0c4.  작성자\\n\\n국회예산정책처 법안비용추계1팀\\n\\n팀      장   정 문 종\\n\\n예산분석관   김 태 완\\n\\n(02-788-4649, tanzania@assembly.go.kr)\\n\\n- 11 -\\n\\n\\x0c'"
      ]
     },
     "execution_count": 38,
     "metadata": {},
     "output_type": "execute_result"
    }
   ],
   "source": [
    "doc_ko"
   ]
  },
  {
   "cell_type": "code",
   "execution_count": 39,
   "id": "041a973e",
   "metadata": {},
   "outputs": [
    {
     "name": "stderr",
     "output_type": "stream",
     "text": [
      "C:\\Users\\april\\anaconda3\\envs\\last\\lib\\site-packages\\konlpy\\tag\\_okt.py:17: UserWarning: \"Twitter\" has changed to \"Okt\" since KoNLPy v0.4.5.\n",
      "  warn('\"Twitter\" has changed to \"Okt\" since KoNLPy v0.4.5.')\n"
     ]
    },
    {
     "data": {
      "text/plain": [
       "['지방공무원법',\n",
       " '일부',\n",
       " '개정',\n",
       " '법률',\n",
       " '안',\n",
       " '정의화',\n",
       " '의원',\n",
       " '대표',\n",
       " '발의',\n",
       " '의',\n",
       " '안',\n",
       " '번',\n",
       " '호',\n",
       " '발의',\n",
       " '연월일',\n",
       " '발',\n",
       " '의',\n",
       " '자',\n",
       " '정의화',\n",
       " '이명수',\n",
       " '김을동',\n",
       " '이사철',\n",
       " '여상규',\n",
       " '안규백',\n",
       " '황영철',\n",
       " '박영아',\n",
       " '김정훈',\n",
       " '김학송',\n",
       " '의원',\n",
       " '인',\n",
       " '제안',\n",
       " '이유',\n",
       " '및',\n",
       " '내용',\n",
       " '초등학교',\n",
       " '저학년',\n",
       " '경우',\n",
       " '부모',\n",
       " '사랑',\n",
       " '필요',\n",
       " '나이',\n",
       " '현재',\n",
       " '공무원',\n",
       " '자녀',\n",
       " '양육',\n",
       " '위',\n",
       " '육아휴직',\n",
       " '수',\n",
       " '자녀',\n",
       " '나이',\n",
       " '만',\n",
       " '세',\n",
       " '이하',\n",
       " '초등학교',\n",
       " '저학년',\n",
       " '자녀',\n",
       " '위',\n",
       " '해당',\n",
       " '부모님',\n",
       " '일자리',\n",
       " '곧',\n",
       " '출산',\n",
       " '의욕',\n",
       " '저하',\n",
       " '문제',\n",
       " '수',\n",
       " '것임',\n",
       " '따라서',\n",
       " '육아휴직',\n",
       " '자녀',\n",
       " '연령',\n",
       " '만',\n",
       " '세',\n",
       " '이하',\n",
       " '개정',\n",
       " '것임',\n",
       " '안',\n",
       " '제',\n",
       " '항제',\n",
       " '호',\n",
       " '법률',\n",
       " '제',\n",
       " '호',\n",
       " '지방공무원법',\n",
       " '일부',\n",
       " '개정',\n",
       " '법률',\n",
       " '안',\n",
       " '지방공무원법',\n",
       " '일부',\n",
       " '다음',\n",
       " '개정',\n",
       " '제',\n",
       " '항제',\n",
       " '호',\n",
       " '중',\n",
       " '만',\n",
       " '세',\n",
       " '이하',\n",
       " '초등학교',\n",
       " '취학',\n",
       " '전',\n",
       " '자녀',\n",
       " '만',\n",
       " '세',\n",
       " '이하',\n",
       " '취학',\n",
       " '중인',\n",
       " '경우',\n",
       " '초등학교',\n",
       " '학년',\n",
       " '이하',\n",
       " '말',\n",
       " '의',\n",
       " '자녀',\n",
       " '로',\n",
       " '부',\n",
       " '칙',\n",
       " '이',\n",
       " '법',\n",
       " '공포',\n",
       " '날',\n",
       " '시행',\n",
       " '신',\n",
       " '구조',\n",
       " '문대비',\n",
       " '표',\n",
       " '현',\n",
       " '행',\n",
       " '개',\n",
       " '정',\n",
       " '안',\n",
       " '제',\n",
       " '휴직',\n",
       " '생',\n",
       " '략',\n",
       " '제',\n",
       " '휴직',\n",
       " '현행',\n",
       " '공무원',\n",
       " '다음',\n",
       " '각',\n",
       " '호의',\n",
       " '느',\n",
       " '하나',\n",
       " '해당',\n",
       " '사유',\n",
       " '직',\n",
       " '임용',\n",
       " '휴직',\n",
       " '명',\n",
       " '수',\n",
       " '다만',\n",
       " '제',\n",
       " '호',\n",
       " '의',\n",
       " '경우',\n",
       " '대통령령',\n",
       " '정',\n",
       " '사정',\n",
       " '직',\n",
       " '명',\n",
       " '생',\n",
       " '략',\n",
       " '현행',\n",
       " '만',\n",
       " '세',\n",
       " '이하',\n",
       " '초등학교',\n",
       " '취',\n",
       " '만',\n",
       " '세',\n",
       " '이하',\n",
       " '취학',\n",
       " '중인',\n",
       " '경우',\n",
       " '학',\n",
       " '전',\n",
       " '자녀',\n",
       " '양육',\n",
       " '위',\n",
       " '초등학교',\n",
       " '학년',\n",
       " '이하',\n",
       " '여',\n",
       " '여자',\n",
       " '공무원',\n",
       " '말',\n",
       " '의',\n",
       " '자녀',\n",
       " '임신',\n",
       " '출산',\n",
       " '때',\n",
       " '생',\n",
       " '략',\n",
       " '생',\n",
       " '략',\n",
       " '현행',\n",
       " '현행',\n",
       " '지방공무원법',\n",
       " '일부',\n",
       " '개정',\n",
       " '법률',\n",
       " '안',\n",
       " '등',\n",
       " '비용',\n",
       " '추계',\n",
       " '첨부',\n",
       " '사유',\n",
       " '재정',\n",
       " '요인',\n",
       " '개정안',\n",
       " '국가공무원',\n",
       " '법',\n",
       " '제',\n",
       " '항제',\n",
       " '호',\n",
       " '중',\n",
       " '국가공무원',\n",
       " '육아',\n",
       " '휴직',\n",
       " '가능',\n",
       " '자녀',\n",
       " '연령',\n",
       " '만',\n",
       " '세',\n",
       " '이하',\n",
       " '만',\n",
       " '세',\n",
       " '이하',\n",
       " '방공',\n",
       " '무',\n",
       " '법',\n",
       " '제',\n",
       " '항제',\n",
       " '호',\n",
       " '중',\n",
       " '지방',\n",
       " '공무원',\n",
       " '육아휴직',\n",
       " '가능',\n",
       " '자녀',\n",
       " '연',\n",
       " '령',\n",
       " '만',\n",
       " '세',\n",
       " '이하',\n",
       " '만',\n",
       " '세',\n",
       " '이하',\n",
       " '교육',\n",
       " '공무원',\n",
       " '법',\n",
       " '제',\n",
       " '항',\n",
       " '제',\n",
       " '중',\n",
       " '교육',\n",
       " '공무원',\n",
       " '육아휴직',\n",
       " '가능',\n",
       " '자녀',\n",
       " '연령',\n",
       " '만',\n",
       " '세',\n",
       " '이하',\n",
       " '만',\n",
       " '세',\n",
       " '이하',\n",
       " '남녀',\n",
       " '고용',\n",
       " '평등',\n",
       " '일',\n",
       " '가정',\n",
       " '양립',\n",
       " '지원',\n",
       " '관',\n",
       " '법률',\n",
       " '제',\n",
       " '항',\n",
       " '중',\n",
       " '근로자',\n",
       " '육아휴직',\n",
       " '가능',\n",
       " '자녀',\n",
       " '연령',\n",
       " '만',\n",
       " '세',\n",
       " '이하',\n",
       " '만',\n",
       " '세',\n",
       " '이하',\n",
       " '조정',\n",
       " '함',\n",
       " '추가',\n",
       " '재정',\n",
       " '요가',\n",
       " '예상',\n",
       " '첨부',\n",
       " '근거',\n",
       " '규정',\n",
       " '의안',\n",
       " '비용',\n",
       " '추계',\n",
       " '관',\n",
       " '규칙',\n",
       " '제',\n",
       " '항',\n",
       " '단서',\n",
       " '중',\n",
       " '제',\n",
       " '호',\n",
       " '예상',\n",
       " '비용',\n",
       " '평균',\n",
       " '미만',\n",
       " '거나',\n",
       " '한시',\n",
       " '경비',\n",
       " '로서',\n",
       " '총',\n",
       " '미만',\n",
       " '경우',\n",
       " '해당',\n",
       " '함',\n",
       " '첨부',\n",
       " '사유',\n",
       " '개정안',\n",
       " '국가',\n",
       " '지방',\n",
       " '교육',\n",
       " '공무원',\n",
       " '및',\n",
       " '근로자',\n",
       " '육아휴직',\n",
       " '신청',\n",
       " '수',\n",
       " '자녀',\n",
       " '연령',\n",
       " '만',\n",
       " '세',\n",
       " '이하',\n",
       " '만',\n",
       " '세',\n",
       " '이하',\n",
       " '상향',\n",
       " '조정',\n",
       " '함',\n",
       " '추가',\n",
       " '재정',\n",
       " '요가',\n",
       " '예상',\n",
       " '법률',\n",
       " '개정안',\n",
       " '시행',\n",
       " '고',\n",
       " '가정',\n",
       " '경우',\n",
       " '현재',\n",
       " '자녀',\n",
       " '연령',\n",
       " '세이',\n",
       " '육아휴직',\n",
       " '신청',\n",
       " '국가',\n",
       " '지방',\n",
       " '교육',\n",
       " '공무원',\n",
       " '및',\n",
       " '근로자',\n",
       " '대상',\n",
       " '대상',\n",
       " '연령',\n",
       " '확대',\n",
       " '육아휴직',\n",
       " '신청',\n",
       " '수가',\n",
       " '정도',\n",
       " '것',\n",
       " '예상',\n",
       " '이',\n",
       " '경우',\n",
       " '발생',\n",
       " '비용',\n",
       " '현행법',\n",
       " '월',\n",
       " '이나',\n",
       " '현재',\n",
       " '관련',\n",
       " '법령',\n",
       " '개정',\n",
       " '추진',\n",
       " '이',\n",
       " '육아휴직',\n",
       " '지급',\n",
       " '월급',\n",
       " '액',\n",
       " '비례',\n",
       " '육아휴직',\n",
       " '여가',\n",
       " '지급',\n",
       " '기',\n",
       " '때문',\n",
       " '법령',\n",
       " '개정',\n",
       " '가정',\n",
       " '추계',\n",
       " '경우',\n",
       " '육아휴직',\n",
       " '급여',\n",
       " '액',\n",
       " '육아휴직',\n",
       " '지급',\n",
       " '월급',\n",
       " '여의',\n",
       " '해당',\n",
       " '육아휴직',\n",
       " '발생',\n",
       " '경우',\n",
       " '발생',\n",
       " '비용',\n",
       " '체인',\n",
       " '고용',\n",
       " '인건비',\n",
       " '육아휴직',\n",
       " '월급',\n",
       " '액',\n",
       " '이',\n",
       " '대비',\n",
       " '육아휴직',\n",
       " '지급',\n",
       " '임금',\n",
       " '더',\n",
       " '이상',\n",
       " '발생',\n",
       " '따라서',\n",
       " '실제',\n",
       " '발생',\n",
       " '비용',\n",
       " '육',\n",
       " '휴직',\n",
       " '지급',\n",
       " '월',\n",
       " '급여',\n",
       " '액',\n",
       " '연령',\n",
       " '확대',\n",
       " '발생',\n",
       " '비용',\n",
       " '인',\n",
       " '육아휴직',\n",
       " '월급',\n",
       " '액',\n",
       " '체인',\n",
       " '고용',\n",
       " '인건비',\n",
       " '차',\n",
       " '액',\n",
       " '이',\n",
       " '값',\n",
       " '추가',\n",
       " '재정',\n",
       " '소요',\n",
       " '발생',\n",
       " '볼',\n",
       " '수',\n",
       " '추가',\n",
       " '비용',\n",
       " '발생',\n",
       " '여부',\n",
       " '위',\n",
       " '비용',\n",
       " '대한',\n",
       " '리모',\n",
       " '델',\n",
       " '이',\n",
       " '비용',\n",
       " '발생',\n",
       " '여부',\n",
       " '하자',\n",
       " '모델',\n",
       " '사',\n",
       " '용',\n",
       " '변수',\n",
       " '다음',\n",
       " '정의',\n",
       " '발생',\n",
       " '비용',\n",
       " '육아휴직',\n",
       " '액',\n",
       " '육아휴직',\n",
       " '대상자',\n",
       " '수',\n",
       " '육아휴직',\n",
       " '대상자',\n",
       " '월급',\n",
       " '액',\n",
       " '육아휴직',\n",
       " '발생',\n",
       " '경우',\n",
       " '대체',\n",
       " '고용',\n",
       " '확률',\n",
       " '대체',\n",
       " '고용',\n",
       " '인력',\n",
       " '지급',\n",
       " '월급',\n",
       " '액',\n",
       " '위',\n",
       " '수식',\n",
       " '육아휴직',\n",
       " '액',\n",
       " '육아휴직',\n",
       " '월급',\n",
       " '액',\n",
       " '예정',\n",
       " '므',\n",
       " '육아휴직',\n",
       " '액',\n",
       " '육아휴직',\n",
       " '발생',\n",
       " '경우',\n",
       " '대체',\n",
       " '고용',\n",
       " '확률',\n",
       " '고용노동부',\n",
       " '육아휴직',\n",
       " '관련',\n",
       " '자료',\n",
       " '이용',\n",
       " '고용노동부',\n",
       " '경우',\n",
       " '육아휴직',\n",
       " '급여',\n",
       " '대상자',\n",
       " '명',\n",
       " '육아휴직',\n",
       " '체인',\n",
       " '고용',\n",
       " '상인',\n",
       " '명',\n",
       " '현황',\n",
       " '정리',\n",
       " '다음',\n",
       " '표',\n",
       " '표',\n",
       " '육아휴직',\n",
       " '급여',\n",
       " '수급',\n",
       " '수',\n",
       " '및',\n",
       " '체인',\n",
       " '고용',\n",
       " '현황',\n",
       " '단위',\n",
       " '명',\n",
       " '평균',\n",
       " '육아휴직',\n",
       " '급여',\n",
       " '수급',\n",
       " '체인',\n",
       " '채용',\n",
       " '비',\n",
       " '율',\n",
       " '자료',\n",
       " '고용노동부',\n",
       " '자료',\n",
       " '바탕',\n",
       " '국회예산정책처',\n",
       " '작성',\n",
       " '위',\n",
       " '표',\n",
       " '의',\n",
       " '자료',\n",
       " '육아휴직',\n",
       " '발생',\n",
       " '경우',\n",
       " '대체',\n",
       " '고용',\n",
       " '확률',\n",
       " '의',\n",
       " '값',\n",
       " '가정',\n",
       " '비용',\n",
       " '발생',\n",
       " '가정',\n",
       " '위',\n",
       " '의',\n",
       " '수식',\n",
       " '다시',\n",
       " '작성',\n",
       " '다음',\n",
       " '수식',\n",
       " '육아휴직',\n",
       " '액',\n",
       " '위',\n",
       " '수식',\n",
       " '육아휴직',\n",
       " '월',\n",
       " '급여',\n",
       " '액',\n",
       " '대입',\n",
       " '대체',\n",
       " '고용',\n",
       " '인력',\n",
       " '자',\n",
       " '지급',\n",
       " '월',\n",
       " '급여',\n",
       " '액',\n",
       " '추정',\n",
       " '육아휴직',\n",
       " '월',\n",
       " '원',\n",
       " '가정',\n",
       " '대체',\n",
       " '고용',\n",
       " '인력',\n",
       " '육아휴직',\n",
       " '월',\n",
       " '급여',\n",
       " '액',\n",
       " '배',\n",
       " '달',\n",
       " '월',\n",
       " '이상',\n",
       " '지급',\n",
       " '추가',\n",
       " '비용',\n",
       " '이',\n",
       " '발생',\n",
       " '대체',\n",
       " '고용',\n",
       " '인력',\n",
       " '육아휴직',\n",
       " '더',\n",
       " '월급',\n",
       " '액',\n",
       " '주지',\n",
       " '것',\n",
       " '배',\n",
       " '이상',\n",
       " '월급',\n",
       " '주지',\n",
       " '것',\n",
       " '이기',\n",
       " '때문',\n",
       " '추가',\n",
       " '비용',\n",
       " '발생',\n",
       " '보기',\n",
       " '위',\n",
       " '수식',\n",
       " '체인',\n",
       " '고용',\n",
       " '확률',\n",
       " '를',\n",
       " '로',\n",
       " '가정',\n",
       " '이',\n",
       " '경우',\n",
       " '육아휴직',\n",
       " '체인',\n",
       " '월',\n",
       " '이상',\n",
       " '지급',\n",
       " '추가',\n",
       " '비용',\n",
       " '발생',\n",
       " '행정안전부',\n",
       " '통계',\n",
       " '자료',\n",
       " '행정안전부',\n",
       " '통계',\n",
       " '연감',\n",
       " '지방',\n",
       " '공무원',\n",
       " '육',\n",
       " '휴직',\n",
       " '현황',\n",
       " '자료',\n",
       " '여기',\n",
       " '육아휴직',\n",
       " '발생',\n",
       " '경우',\n",
       " '체인',\n",
       " '주로',\n",
       " '임용',\n",
       " '기자',\n",
       " '일용직',\n",
       " '활용',\n",
       " '것',\n",
       " '따라서',\n",
       " '공무원',\n",
       " '경우',\n",
       " '표',\n",
       " '기업체',\n",
       " '체인',\n",
       " '고용',\n",
       " '확률',\n",
       " '것',\n",
       " '이상',\n",
       " '논의',\n",
       " '바탕',\n",
       " '육아휴직',\n",
       " '기간',\n",
       " '만',\n",
       " '만',\n",
       " '세로',\n",
       " '연장',\n",
       " '도',\n",
       " '법률',\n",
       " '개정',\n",
       " '추가',\n",
       " '비용',\n",
       " '발생',\n",
       " '것',\n",
       " '예상',\n",
       " '작성자',\n",
       " '국회예산정책처',\n",
       " '법안',\n",
       " '비용',\n",
       " '추계',\n",
       " '팀',\n",
       " '팀',\n",
       " '장',\n",
       " '정',\n",
       " '문',\n",
       " '종',\n",
       " '예산',\n",
       " '분석관',\n",
       " '김',\n",
       " '태',\n",
       " '완']"
      ]
     },
     "execution_count": 39,
     "metadata": {},
     "output_type": "execute_result"
    }
   ],
   "source": [
    "from konlpy.tag import Twitter; t = Twitter()\n",
    "tokens_ko = t.nouns(doc_ko)\n",
    "tokens_ko"
   ]
  },
  {
   "cell_type": "code",
   "execution_count": 42,
   "id": "6f3bc3a1",
   "metadata": {},
   "outputs": [
    {
     "name": "stdout",
     "output_type": "stream",
     "text": [
      "735\n",
      "250\n"
     ]
    },
    {
     "data": {
      "text/plain": [
       "FreqDist({'육아휴직': 38, '발생': 19, '만': 18, '이하': 18, '비용': 17, '액': 17, '경우': 16, '세': 16, '자녀': 14, '고용': 14, ...})"
      ]
     },
     "execution_count": 42,
     "metadata": {},
     "output_type": "execute_result"
    }
   ],
   "source": [
    "print(len(ko.tokens))           # returns number of tokens (document length)\n",
    "print(len(set(ko.tokens)))   # returns number of unique tokens\n",
    "ko.vocab()                        # returns frequency distribution"
   ]
  },
  {
   "cell_type": "code",
   "execution_count": 43,
   "id": "e86e4e33",
   "metadata": {},
   "outputs": [
    {
     "data": {
      "image/png": "[encoded data removed]",
      "text/plain": [
       "<Figure size 864x432 with 1 Axes>"
      ]
     },
     "metadata": {
      "needs_background": "light"
     },
     "output_type": "display_data"
    }
   ],
   "source": [
    "plt.figure(figsize=(12,6))\n",
    "ko.plot(50)\n",
    "plt.show()"
   ]
  },
  {
   "cell_type": "code",
   "execution_count": 44,
   "id": "d28a8ab6",
   "metadata": {},
   "outputs": [
    {
     "data": {
      "text/plain": [
       "['지방공무원법',\n",
       " '일부',\n",
       " '개정',\n",
       " '법률',\n",
       " '정의화',\n",
       " '의원',\n",
       " '대표',\n",
       " '발의',\n",
       " '발의',\n",
       " '연월일',\n",
       " '발',\n",
       " '정의화',\n",
       " '이명수',\n",
       " '김을동',\n",
       " '이사철',\n",
       " '여상규',\n",
       " '안규백',\n",
       " '황영철',\n",
       " '박영아',\n",
       " '김정훈',\n",
       " '김학송',\n",
       " '의원',\n",
       " '인',\n",
       " '제안',\n",
       " '이유',\n",
       " '및',\n",
       " '내용',\n",
       " '초등학교',\n",
       " '저학년',\n",
       " '경우',\n",
       " '부모',\n",
       " '사랑',\n",
       " '필요',\n",
       " '나이',\n",
       " '현재',\n",
       " '공무원',\n",
       " '자녀',\n",
       " '양육',\n",
       " '위',\n",
       " '육아휴직',\n",
       " '수',\n",
       " '자녀',\n",
       " '나이',\n",
       " '세',\n",
       " '이하',\n",
       " '초등학교',\n",
       " '저학년',\n",
       " '자녀',\n",
       " '위',\n",
       " '해당',\n",
       " '부모님',\n",
       " '일자리',\n",
       " '곧',\n",
       " '출산',\n",
       " '의욕',\n",
       " '저하',\n",
       " '문제',\n",
       " '수',\n",
       " '것임',\n",
       " '따라서',\n",
       " '육아휴직',\n",
       " '자녀',\n",
       " '연령',\n",
       " '세',\n",
       " '이하',\n",
       " '개정',\n",
       " '것임',\n",
       " '제',\n",
       " '항제',\n",
       " '법률',\n",
       " '제',\n",
       " '지방공무원법',\n",
       " '일부',\n",
       " '개정',\n",
       " '법률',\n",
       " '지방공무원법',\n",
       " '일부',\n",
       " '다음',\n",
       " '개정',\n",
       " '제',\n",
       " '항제',\n",
       " '중',\n",
       " '세',\n",
       " '이하',\n",
       " '초등학교',\n",
       " '취학',\n",
       " '전',\n",
       " '자녀',\n",
       " '세',\n",
       " '이하',\n",
       " '취학',\n",
       " '중인',\n",
       " '경우',\n",
       " '초등학교',\n",
       " '학년',\n",
       " '이하',\n",
       " '말',\n",
       " '자녀',\n",
       " '부',\n",
       " '칙',\n",
       " '법',\n",
       " '공포',\n",
       " '날',\n",
       " '시행',\n",
       " '신',\n",
       " '구조',\n",
       " '문대비',\n",
       " '표',\n",
       " '현',\n",
       " '행',\n",
       " '개',\n",
       " '정',\n",
       " '제',\n",
       " '휴직',\n",
       " '생',\n",
       " '략',\n",
       " '제',\n",
       " '휴직',\n",
       " '현행',\n",
       " '공무원',\n",
       " '다음',\n",
       " '각',\n",
       " '호의',\n",
       " '느',\n",
       " '하나',\n",
       " '해당',\n",
       " '사유',\n",
       " '직',\n",
       " '임용',\n",
       " '휴직',\n",
       " '명',\n",
       " '수',\n",
       " '다만',\n",
       " '제',\n",
       " '경우',\n",
       " '대통령령',\n",
       " '정',\n",
       " '사정',\n",
       " '직',\n",
       " '명',\n",
       " '생',\n",
       " '략',\n",
       " '현행',\n",
       " '세',\n",
       " '이하',\n",
       " '초등학교',\n",
       " '취',\n",
       " '세',\n",
       " '이하',\n",
       " '취학',\n",
       " '중인',\n",
       " '경우',\n",
       " '학',\n",
       " '전',\n",
       " '자녀',\n",
       " '양육',\n",
       " '위',\n",
       " '초등학교',\n",
       " '학년',\n",
       " '이하',\n",
       " '여',\n",
       " '여자',\n",
       " '공무원',\n",
       " '말',\n",
       " '자녀',\n",
       " '임신',\n",
       " '출산',\n",
       " '때',\n",
       " '생',\n",
       " '략',\n",
       " '생',\n",
       " '략',\n",
       " '현행',\n",
       " '현행',\n",
       " '지방공무원법',\n",
       " '일부',\n",
       " '개정',\n",
       " '법률',\n",
       " '등',\n",
       " '비용',\n",
       " '추계',\n",
       " '첨부',\n",
       " '사유',\n",
       " '재정',\n",
       " '요인',\n",
       " '개정안',\n",
       " '국가공무원',\n",
       " '법',\n",
       " '제',\n",
       " '항제',\n",
       " '중',\n",
       " '국가공무원',\n",
       " '육아',\n",
       " '휴직',\n",
       " '가능',\n",
       " '자녀',\n",
       " '연령',\n",
       " '세',\n",
       " '이하',\n",
       " '세',\n",
       " '이하',\n",
       " '방공',\n",
       " '무',\n",
       " '법',\n",
       " '제',\n",
       " '항제',\n",
       " '중',\n",
       " '지방',\n",
       " '공무원',\n",
       " '육아휴직',\n",
       " '가능',\n",
       " '자녀',\n",
       " '연',\n",
       " '령',\n",
       " '세',\n",
       " '이하',\n",
       " '세',\n",
       " '이하',\n",
       " '교육',\n",
       " '공무원',\n",
       " '법',\n",
       " '제',\n",
       " '항',\n",
       " '제',\n",
       " '중',\n",
       " '교육',\n",
       " '공무원',\n",
       " '육아휴직',\n",
       " '가능',\n",
       " '자녀',\n",
       " '연령',\n",
       " '세',\n",
       " '이하',\n",
       " '세',\n",
       " '이하',\n",
       " '남녀',\n",
       " '고용',\n",
       " '평등',\n",
       " '일',\n",
       " '가정',\n",
       " '양립',\n",
       " '지원',\n",
       " '관',\n",
       " '법률',\n",
       " '제',\n",
       " '항',\n",
       " '중',\n",
       " '근로자',\n",
       " '육아휴직',\n",
       " '가능',\n",
       " '자녀',\n",
       " '연령',\n",
       " '세',\n",
       " '이하',\n",
       " '세',\n",
       " '이하',\n",
       " '조정',\n",
       " '함',\n",
       " '추가',\n",
       " '재정',\n",
       " '요가',\n",
       " '예상',\n",
       " '첨부',\n",
       " '근거',\n",
       " '규정',\n",
       " '의안',\n",
       " '비용',\n",
       " '추계',\n",
       " '관',\n",
       " '규칙',\n",
       " '제',\n",
       " '항',\n",
       " '단서',\n",
       " '중',\n",
       " '제',\n",
       " '예상',\n",
       " '비용',\n",
       " '평균',\n",
       " '미만',\n",
       " '거나',\n",
       " '한시',\n",
       " '경비',\n",
       " '로서',\n",
       " '총',\n",
       " '미만',\n",
       " '경우',\n",
       " '해당',\n",
       " '함',\n",
       " '첨부',\n",
       " '사유',\n",
       " '개정안',\n",
       " '국가',\n",
       " '지방',\n",
       " '교육',\n",
       " '공무원',\n",
       " '및',\n",
       " '근로자',\n",
       " '육아휴직',\n",
       " '신청',\n",
       " '수',\n",
       " '자녀',\n",
       " '연령',\n",
       " '세',\n",
       " '이하',\n",
       " '세',\n",
       " '이하',\n",
       " '상향',\n",
       " '조정',\n",
       " '함',\n",
       " '추가',\n",
       " '재정',\n",
       " '요가',\n",
       " '예상',\n",
       " '법률',\n",
       " '개정안',\n",
       " '시행',\n",
       " '고',\n",
       " '가정',\n",
       " '경우',\n",
       " '현재',\n",
       " '자녀',\n",
       " '연령',\n",
       " '세이',\n",
       " '육아휴직',\n",
       " '신청',\n",
       " '국가',\n",
       " '지방',\n",
       " '교육',\n",
       " '공무원',\n",
       " '및',\n",
       " '근로자',\n",
       " '대상',\n",
       " '대상',\n",
       " '연령',\n",
       " '확대',\n",
       " '육아휴직',\n",
       " '신청',\n",
       " '수가',\n",
       " '정도',\n",
       " '것',\n",
       " '예상',\n",
       " '경우',\n",
       " '발생',\n",
       " '비용',\n",
       " '현행법',\n",
       " '월',\n",
       " '이나',\n",
       " '현재',\n",
       " '관련',\n",
       " '법령',\n",
       " '개정',\n",
       " '추진',\n",
       " '육아휴직',\n",
       " '지급',\n",
       " '월급',\n",
       " '액',\n",
       " '비례',\n",
       " '육아휴직',\n",
       " '여가',\n",
       " '지급',\n",
       " '기',\n",
       " '때문',\n",
       " '법령',\n",
       " '개정',\n",
       " '가정',\n",
       " '추계',\n",
       " '경우',\n",
       " '육아휴직',\n",
       " '급여',\n",
       " '액',\n",
       " '육아휴직',\n",
       " '지급',\n",
       " '월급',\n",
       " '여의',\n",
       " '해당',\n",
       " '육아휴직',\n",
       " '발생',\n",
       " '경우',\n",
       " '발생',\n",
       " '비용',\n",
       " '체인',\n",
       " '고용',\n",
       " '인건비',\n",
       " '육아휴직',\n",
       " '월급',\n",
       " '액',\n",
       " '대비',\n",
       " '육아휴직',\n",
       " '지급',\n",
       " '임금',\n",
       " '더',\n",
       " '이상',\n",
       " '발생',\n",
       " '따라서',\n",
       " '실제',\n",
       " '발생',\n",
       " '비용',\n",
       " '육',\n",
       " '휴직',\n",
       " '지급',\n",
       " '월',\n",
       " '급여',\n",
       " '액',\n",
       " '연령',\n",
       " '확대',\n",
       " '발생',\n",
       " '비용',\n",
       " '인',\n",
       " '육아휴직',\n",
       " '월급',\n",
       " '액',\n",
       " '체인',\n",
       " '고용',\n",
       " '인건비',\n",
       " '차',\n",
       " '액',\n",
       " '값',\n",
       " '추가',\n",
       " '재정',\n",
       " '소요',\n",
       " '발생',\n",
       " '볼',\n",
       " '수',\n",
       " '추가',\n",
       " '비용',\n",
       " '발생',\n",
       " '여부',\n",
       " '위',\n",
       " '비용',\n",
       " '대한',\n",
       " '리모',\n",
       " '델',\n",
       " '비용',\n",
       " '발생',\n",
       " '여부',\n",
       " '하자',\n",
       " '모델',\n",
       " '사',\n",
       " '용',\n",
       " '변수',\n",
       " '다음',\n",
       " '정의',\n",
       " '발생',\n",
       " '비용',\n",
       " '육아휴직',\n",
       " '액',\n",
       " '육아휴직',\n",
       " '대상자',\n",
       " '수',\n",
       " '육아휴직',\n",
       " '대상자',\n",
       " '월급',\n",
       " '액',\n",
       " '육아휴직',\n",
       " '발생',\n",
       " '경우',\n",
       " '대체',\n",
       " '고용',\n",
       " '확률',\n",
       " '대체',\n",
       " '고용',\n",
       " '인력',\n",
       " '지급',\n",
       " '월급',\n",
       " '액',\n",
       " '위',\n",
       " '수식',\n",
       " '육아휴직',\n",
       " '액',\n",
       " '육아휴직',\n",
       " '월급',\n",
       " '액',\n",
       " '예정',\n",
       " '므',\n",
       " '육아휴직',\n",
       " '액',\n",
       " '육아휴직',\n",
       " '발생',\n",
       " '경우',\n",
       " '대체',\n",
       " '고용',\n",
       " '확률',\n",
       " '고용노동부',\n",
       " '육아휴직',\n",
       " '관련',\n",
       " '자료',\n",
       " '이용',\n",
       " '고용노동부',\n",
       " '경우',\n",
       " '육아휴직',\n",
       " '급여',\n",
       " '대상자',\n",
       " '명',\n",
       " '육아휴직',\n",
       " '체인',\n",
       " '고용',\n",
       " '상인',\n",
       " '명',\n",
       " '현황',\n",
       " '정리',\n",
       " '다음',\n",
       " '표',\n",
       " '표',\n",
       " '육아휴직',\n",
       " '급여',\n",
       " '수급',\n",
       " '수',\n",
       " '및',\n",
       " '체인',\n",
       " '고용',\n",
       " '현황',\n",
       " '단위',\n",
       " '명',\n",
       " '평균',\n",
       " '육아휴직',\n",
       " '급여',\n",
       " '수급',\n",
       " '체인',\n",
       " '채용',\n",
       " '비',\n",
       " '율',\n",
       " '자료',\n",
       " '고용노동부',\n",
       " '자료',\n",
       " '바탕',\n",
       " '국회예산정책처',\n",
       " '작성',\n",
       " '위',\n",
       " '표',\n",
       " '자료',\n",
       " '육아휴직',\n",
       " '발생',\n",
       " '경우',\n",
       " '대체',\n",
       " '고용',\n",
       " '확률',\n",
       " '값',\n",
       " '가정',\n",
       " '비용',\n",
       " '발생',\n",
       " '가정',\n",
       " '위',\n",
       " '수식',\n",
       " '다시',\n",
       " '작성',\n",
       " '다음',\n",
       " '수식',\n",
       " '육아휴직',\n",
       " '액',\n",
       " '위',\n",
       " '수식',\n",
       " '육아휴직',\n",
       " '월',\n",
       " '급여',\n",
       " '액',\n",
       " '대입',\n",
       " '대체',\n",
       " '고용',\n",
       " '인력',\n",
       " '지급',\n",
       " '월',\n",
       " '급여',\n",
       " '액',\n",
       " '추정',\n",
       " '육아휴직',\n",
       " '월',\n",
       " '원',\n",
       " '가정',\n",
       " '대체',\n",
       " '고용',\n",
       " '인력',\n",
       " '육아휴직',\n",
       " '월',\n",
       " '급여',\n",
       " '액',\n",
       " '배',\n",
       " '달',\n",
       " '월',\n",
       " '이상',\n",
       " '지급',\n",
       " '추가',\n",
       " '비용',\n",
       " '발생',\n",
       " '대체',\n",
       " '고용',\n",
       " '인력',\n",
       " '육아휴직',\n",
       " '더',\n",
       " '월급',\n",
       " '액',\n",
       " '주지',\n",
       " '것',\n",
       " '배',\n",
       " '이상',\n",
       " '월급',\n",
       " '주지',\n",
       " '것',\n",
       " '이기',\n",
       " '때문',\n",
       " '추가',\n",
       " '비용',\n",
       " '발생',\n",
       " '보기',\n",
       " '위',\n",
       " '수식',\n",
       " '체인',\n",
       " '고용',\n",
       " '확률',\n",
       " '가정',\n",
       " '경우',\n",
       " '육아휴직',\n",
       " '체인',\n",
       " '월',\n",
       " '이상',\n",
       " '지급',\n",
       " '추가',\n",
       " '비용',\n",
       " '발생',\n",
       " '행정안전부',\n",
       " '통계',\n",
       " '자료',\n",
       " '행정안전부',\n",
       " '통계',\n",
       " '연감',\n",
       " '지방',\n",
       " '공무원',\n",
       " '육',\n",
       " '휴직',\n",
       " '현황',\n",
       " '자료',\n",
       " '여기',\n",
       " '육아휴직',\n",
       " '발생',\n",
       " '경우',\n",
       " '체인',\n",
       " '주로',\n",
       " '임용',\n",
       " '기자',\n",
       " '일용직',\n",
       " '활용',\n",
       " '것',\n",
       " '따라서',\n",
       " '공무원',\n",
       " '경우',\n",
       " '표',\n",
       " '기업체',\n",
       " '체인',\n",
       " '고용',\n",
       " '확률',\n",
       " '것',\n",
       " '이상',\n",
       " '논의',\n",
       " '바탕',\n",
       " '육아휴직',\n",
       " '기간',\n",
       " '세로',\n",
       " '연장',\n",
       " '도',\n",
       " '법률',\n",
       " '개정',\n",
       " '추가',\n",
       " '비용',\n",
       " '발생',\n",
       " '것',\n",
       " '예상',\n",
       " '작성자',\n",
       " '국회예산정책처',\n",
       " '법안',\n",
       " '비용',\n",
       " '추계',\n",
       " '팀',\n",
       " '팀',\n",
       " '장',\n",
       " '정',\n",
       " '문',\n",
       " '종',\n",
       " '예산',\n",
       " '분석관',\n",
       " '김',\n",
       " '태',\n",
       " '완']"
      ]
     },
     "execution_count": 44,
     "metadata": {},
     "output_type": "execute_result"
    }
   ],
   "source": [
    "stop_words = ['.', '(', ')', ',', \"'\", '%', '-', 'X', ').', '×','의','자','에','안','번',\n",
    "                      '호','을','이','다','만','로','가','를']\n",
    "\n",
    "ko = [each_word for each_word in ko if each_word not in stop_words]\n",
    "ko"
   ]
  },
  {
   "cell_type": "code",
   "execution_count": 45,
   "id": "3726a7fc",
   "metadata": {},
   "outputs": [
    {
     "data": {
      "image/png": "[encoded data removed]",
      "text/plain": [
       "<Figure size 864x432 with 1 Axes>"
      ]
     },
     "metadata": {
      "needs_background": "light"
     },
     "output_type": "display_data"
    }
   ],
   "source": [
    "ko = nltk.Text(ko, name='대한민국 국회 의안 제 1809890호')\n",
    "\n",
    "plt.figure(figsize=(12,6))\n",
    "ko.plot(50)     # Plot sorted frequency of top 50 tokens\n",
    "plt.show()"
   ]
  },
  {
   "cell_type": "code",
   "execution_count": 46,
   "id": "7c643256",
   "metadata": {},
   "outputs": [
    {
     "data": {
      "text/plain": [
       "6"
      ]
     },
     "execution_count": 46,
     "metadata": {},
     "output_type": "execute_result"
    }
   ],
   "source": [
    "ko.count('초등학교')"
   ]
  },
  {
   "cell_type": "code",
   "execution_count": 47,
   "id": "1ad74eb6",
   "metadata": {},
   "outputs": [
    {
     "data": {
      "image/png": "[encoded data removed]",
      "text/plain": [
       "<Figure size 864x432 with 1 Axes>"
      ]
     },
     "metadata": {
      "needs_background": "light"
     },
     "output_type": "display_data"
    }
   ],
   "source": [
    "plt.figure(figsize=(12,6))\n",
    "ko.dispersion_plot(['육아휴직', '초등학교', '공무원'])"
   ]
  },
  {
   "cell_type": "code",
   "execution_count": 48,
   "id": "130323bc",
   "metadata": {},
   "outputs": [
    {
     "name": "stdout",
     "output_type": "stream",
     "text": [
      "Displaying 6 of 6 matches:\n",
      " 안규백 황영철 박영아 김정훈 김학송 의원 인 제안 이유 및 내용 초등학교 저학년 경우 부모 사랑 필요 나이 현재 공무원 자녀 양육 위 육아\n",
      " 나이 현재 공무원 자녀 양육 위 육아휴직 수 자녀 나이 세 이하 초등학교 저학년 자녀 위 해당 부모님 일자리 곧 출산 의욕 저하 문제 수 \n",
      "일부 개정 법률 지방공무원법 일부 다음 개정 제 항제 중 세 이하 초등학교 취학 전 자녀 세 이하 취학 중인 경우 초등학교 학년 이하 말 자\n",
      "항제 중 세 이하 초등학교 취학 전 자녀 세 이하 취학 중인 경우 초등학교 학년 이하 말 자녀 부 칙 법 공포 날 시행 신 구조 문대비 표 \n",
      " 수 다만 제 경우 대통령령 정 사정 직 명 생 략 현행 세 이하 초등학교 취 세 이하 취학 중인 경우 학 전 자녀 양육 위 초등학교 학년 \n",
      " 이하 초등학교 취 세 이하 취학 중인 경우 학 전 자녀 양육 위 초등학교 학년 이하 여 여자 공무원 말 자녀 임신 출산 때 생 략 생 략 \n"
     ]
    }
   ],
   "source": [
    "ko.concordance('초등학교')"
   ]
  },
  {
   "cell_type": "code",
   "execution_count": 49,
   "id": "25c70676",
   "metadata": {},
   "outputs": [
    {
     "name": "stdout",
     "output_type": "stream",
     "text": [
      "초등학교 저학년; 근로자 육아휴직; 육아휴직 대상자; 공무원 육아휴직\n"
     ]
    }
   ],
   "source": [
    "ko.collocations()"
   ]
  },
  {
   "cell_type": "code",
   "execution_count": 54,
   "id": "4f20477c",
   "metadata": {},
   "outputs": [
    {
     "data": {
      "image/png": "[encoded data removed]",
      "text/plain": [
       "<Figure size 864x576 with 1 Axes>"
      ]
     },
     "metadata": {
      "needs_background": "light"
     },
     "output_type": "display_data"
    }
   ],
   "source": [
    "data = ko.vocab().most_common(150)\n",
    "\n",
    "# for win : font_path=''\n",
    "wordcloud = WordCloud(font_path='c:/Windows/Fonts/malgun.ttf',\n",
    "                      relative_scaling = 0.2,\n",
    "                      background_color='white',\n",
    "                      ).generate_from_frequencies(dict(data))\n",
    "plt.figure(figsize=(12,8))\n",
    "plt.imshow(wordcloud)\n",
    "plt.axis(\"off\")\n",
    "plt.show()"
   ]
  },
  {
   "cell_type": "markdown",
   "id": "2ed4f533",
   "metadata": {},
   "source": [
    "## 8-5. Naive Bayes Classifier의 이해 - 영문"
   ]
  },
  {
   "cell_type": "code",
   "execution_count": 56,
   "id": "9013df1d",
   "metadata": {},
   "outputs": [],
   "source": [
    "from nltk.tokenize import word_tokenize\n",
    "import nltk"
   ]
  },
  {
   "cell_type": "code",
   "execution_count": 57,
   "id": "83164e00",
   "metadata": {},
   "outputs": [],
   "source": [
    "train = [('i like you', 'pos'), \n",
    "         ('i hate you', 'neg'), \n",
    "         ('you like me', 'neg'),\n",
    "         ('i like her', 'pos')]"
   ]
  },
  {
   "cell_type": "code",
   "execution_count": 58,
   "id": "c99a6544",
   "metadata": {},
   "outputs": [
    {
     "data": {
      "text/plain": [
       "{'hate', 'her', 'i', 'like', 'me', 'you'}"
      ]
     },
     "execution_count": 58,
     "metadata": {},
     "output_type": "execute_result"
    }
   ],
   "source": [
    "all_words = set(word.lower() for sentence in train \n",
    "                                                            for word in word_tokenize(sentence[0]))\n",
    "all_words"
   ]
  },
  {
   "cell_type": "code",
   "execution_count": 59,
   "id": "30c7c254",
   "metadata": {},
   "outputs": [
    {
     "data": {
      "text/plain": [
       "[({'hate': False,\n",
       "   'you': True,\n",
       "   'me': False,\n",
       "   'like': True,\n",
       "   'her': False,\n",
       "   'i': True},\n",
       "  'pos'),\n",
       " ({'hate': True,\n",
       "   'you': True,\n",
       "   'me': False,\n",
       "   'like': False,\n",
       "   'her': False,\n",
       "   'i': True},\n",
       "  'neg'),\n",
       " ({'hate': False,\n",
       "   'you': True,\n",
       "   'me': True,\n",
       "   'like': True,\n",
       "   'her': False,\n",
       "   'i': False},\n",
       "  'neg'),\n",
       " ({'hate': False,\n",
       "   'you': False,\n",
       "   'me': False,\n",
       "   'like': True,\n",
       "   'her': True,\n",
       "   'i': True},\n",
       "  'pos')]"
      ]
     },
     "execution_count": 59,
     "metadata": {},
     "output_type": "execute_result"
    }
   ],
   "source": [
    "t = [({word: (word in word_tokenize(x[0])) for word in all_words}, x[1])\n",
    "                                                        for x in train]\n",
    "t"
   ]
  },
  {
   "cell_type": "code",
   "execution_count": 60,
   "id": "9f3ccb7b",
   "metadata": {},
   "outputs": [
    {
     "name": "stdout",
     "output_type": "stream",
     "text": [
      "Most Informative Features\n",
      "                    hate = False             pos : neg    =      1.7 : 1.0\n",
      "                     her = False             neg : pos    =      1.7 : 1.0\n",
      "                       i = True              pos : neg    =      1.7 : 1.0\n",
      "                    like = True              pos : neg    =      1.7 : 1.0\n",
      "                      me = False             pos : neg    =      1.7 : 1.0\n",
      "                     you = True              neg : pos    =      1.7 : 1.0\n"
     ]
    }
   ],
   "source": [
    "classifier = nltk.NaiveBayesClassifier.train(t)\n",
    "classifier.show_most_informative_features()"
   ]
  },
  {
   "cell_type": "code",
   "execution_count": 61,
   "id": "26fe78c4",
   "metadata": {},
   "outputs": [
    {
     "data": {
      "text/plain": [
       "{'hate': False,\n",
       " 'you': False,\n",
       " 'me': False,\n",
       " 'like': True,\n",
       " 'her': False,\n",
       " 'i': True}"
      ]
     },
     "execution_count": 61,
     "metadata": {},
     "output_type": "execute_result"
    }
   ],
   "source": [
    "test_sentence = 'i like MeRui'\n",
    "test_sent_features = {word.lower(): \n",
    "                                          (word in word_tokenize(test_sentence.lower()))\n",
    "                                           for word in all_words}\n",
    "test_sent_features"
   ]
  },
  {
   "cell_type": "code",
   "execution_count": 62,
   "id": "56f0e5a1",
   "metadata": {},
   "outputs": [
    {
     "data": {
      "text/plain": [
       "'pos'"
      ]
     },
     "execution_count": 62,
     "metadata": {},
     "output_type": "execute_result"
    }
   ],
   "source": [
    "classifier.classify(test_sent_features)"
   ]
  },
  {
   "cell_type": "markdown",
   "id": "974b074b",
   "metadata": {},
   "source": [
    "## 8-6. Naive Bayes Classifier의 이해 - 한글"
   ]
  },
  {
   "cell_type": "code",
   "execution_count": 63,
   "id": "b2c49442",
   "metadata": {},
   "outputs": [],
   "source": [
    "from konlpy.tag import Twitter"
   ]
  },
  {
   "cell_type": "code",
   "execution_count": 64,
   "id": "5b93cd30",
   "metadata": {},
   "outputs": [],
   "source": [
    "pos_tagger = Twitter()"
   ]
  },
  {
   "cell_type": "code",
   "execution_count": 65,
   "id": "f33e0f37",
   "metadata": {},
   "outputs": [],
   "source": [
    "train = [('메리가 좋아', 'pos'), \n",
    "         ('고양이도 좋아', 'pos'),\n",
    "         ('난 수업이 지루해', 'neg'),\n",
    "         ('메리는 이쁜 고양이야', 'pos'),\n",
    "         ('난 마치고 메리랑 놀거야', 'pos')]"
   ]
  },
  {
   "cell_type": "code",
   "execution_count": 66,
   "id": "a585dee8",
   "metadata": {},
   "outputs": [
    {
     "data": {
      "text/plain": [
       "{'고양이도',\n",
       " '고양이야',\n",
       " '난',\n",
       " '놀거야',\n",
       " '마치고',\n",
       " '메리가',\n",
       " '메리는',\n",
       " '메리랑',\n",
       " '수업이',\n",
       " '이쁜',\n",
       " '좋아',\n",
       " '지루해'}"
      ]
     },
     "execution_count": 66,
     "metadata": {},
     "output_type": "execute_result"
    }
   ],
   "source": [
    "all_words = set(word.lower() for sentence in train\n",
    "                        for word in word_tokenize(sentence[0]))\n",
    "all_words"
   ]
  },
  {
   "cell_type": "code",
   "execution_count": 67,
   "id": "4a54b0a8",
   "metadata": {},
   "outputs": [
    {
     "data": {
      "text/plain": [
       "[({'수업이': False,\n",
       "   '고양이야': False,\n",
       "   '좋아': True,\n",
       "   '이쁜': False,\n",
       "   '놀거야': False,\n",
       "   '메리랑': False,\n",
       "   '마치고': False,\n",
       "   '난': False,\n",
       "   '고양이도': False,\n",
       "   '지루해': False,\n",
       "   '메리는': False,\n",
       "   '메리가': True},\n",
       "  'pos'),\n",
       " ({'수업이': False,\n",
       "   '고양이야': False,\n",
       "   '좋아': True,\n",
       "   '이쁜': False,\n",
       "   '놀거야': False,\n",
       "   '메리랑': False,\n",
       "   '마치고': False,\n",
       "   '난': False,\n",
       "   '고양이도': True,\n",
       "   '지루해': False,\n",
       "   '메리는': False,\n",
       "   '메리가': False},\n",
       "  'pos'),\n",
       " ({'수업이': True,\n",
       "   '고양이야': False,\n",
       "   '좋아': False,\n",
       "   '이쁜': False,\n",
       "   '놀거야': False,\n",
       "   '메리랑': False,\n",
       "   '마치고': False,\n",
       "   '난': True,\n",
       "   '고양이도': False,\n",
       "   '지루해': True,\n",
       "   '메리는': False,\n",
       "   '메리가': False},\n",
       "  'neg'),\n",
       " ({'수업이': False,\n",
       "   '고양이야': True,\n",
       "   '좋아': False,\n",
       "   '이쁜': True,\n",
       "   '놀거야': False,\n",
       "   '메리랑': False,\n",
       "   '마치고': False,\n",
       "   '난': False,\n",
       "   '고양이도': False,\n",
       "   '지루해': False,\n",
       "   '메리는': True,\n",
       "   '메리가': False},\n",
       "  'pos'),\n",
       " ({'수업이': False,\n",
       "   '고양이야': False,\n",
       "   '좋아': False,\n",
       "   '이쁜': False,\n",
       "   '놀거야': True,\n",
       "   '메리랑': True,\n",
       "   '마치고': True,\n",
       "   '난': True,\n",
       "   '고양이도': False,\n",
       "   '지루해': False,\n",
       "   '메리는': False,\n",
       "   '메리가': False},\n",
       "  'pos')]"
      ]
     },
     "execution_count": 67,
     "metadata": {},
     "output_type": "execute_result"
    }
   ],
   "source": [
    "t = [({word: (word in word_tokenize(x[0])) for word in all_words}, x[1])\n",
    "                                                        for x in train]\n",
    "t"
   ]
  },
  {
   "cell_type": "code",
   "execution_count": 68,
   "id": "28912e41",
   "metadata": {},
   "outputs": [
    {
     "name": "stdout",
     "output_type": "stream",
     "text": [
      "Most Informative Features\n",
      "                       난 = True              neg : pos    =      2.5 : 1.0\n",
      "                      좋아 = False             neg : pos    =      1.5 : 1.0\n",
      "                    고양이도 = False             neg : pos    =      1.1 : 1.0\n",
      "                    고양이야 = False             neg : pos    =      1.1 : 1.0\n",
      "                     놀거야 = False             neg : pos    =      1.1 : 1.0\n",
      "                     마치고 = False             neg : pos    =      1.1 : 1.0\n",
      "                     메리가 = False             neg : pos    =      1.1 : 1.0\n",
      "                     메리는 = False             neg : pos    =      1.1 : 1.0\n",
      "                     메리랑 = False             neg : pos    =      1.1 : 1.0\n",
      "                      이쁜 = False             neg : pos    =      1.1 : 1.0\n"
     ]
    }
   ],
   "source": [
    "classifier = nltk.NaiveBayesClassifier.train(t)\n",
    "classifier.show_most_informative_features()"
   ]
  },
  {
   "cell_type": "code",
   "execution_count": 70,
   "id": "e4d542b3",
   "metadata": {},
   "outputs": [],
   "source": [
    "test_sentence = '난 수업이 마치면 메리랑 놀거야'"
   ]
  },
  {
   "cell_type": "code",
   "execution_count": 71,
   "id": "8cec0648",
   "metadata": {},
   "outputs": [
    {
     "data": {
      "text/plain": [
       "{'수업이': True,\n",
       " '고양이야': False,\n",
       " '좋아': False,\n",
       " '이쁜': False,\n",
       " '놀거야': True,\n",
       " '메리랑': True,\n",
       " '마치고': False,\n",
       " '난': True,\n",
       " '고양이도': False,\n",
       " '지루해': False,\n",
       " '메리는': False,\n",
       " '메리가': False}"
      ]
     },
     "execution_count": 71,
     "metadata": {},
     "output_type": "execute_result"
    }
   ],
   "source": [
    "test_sent_features = {word.lower(): \n",
    "                                          (word in word_tokenize(test_sentence.lower()))\n",
    "                                           for word in all_words}\n",
    "test_sent_features"
   ]
  },
  {
   "cell_type": "code",
   "execution_count": 72,
   "id": "d542fa76",
   "metadata": {},
   "outputs": [
    {
     "data": {
      "text/plain": [
       "'neg'"
      ]
     },
     "execution_count": 72,
     "metadata": {},
     "output_type": "execute_result"
    }
   ],
   "source": [
    "classifier.classify(test_sent_features)"
   ]
  },
  {
   "cell_type": "code",
   "execution_count": 73,
   "id": "4695ff2c",
   "metadata": {},
   "outputs": [],
   "source": [
    "def tokenize(doc):\n",
    "    return ['/'.join(t) for t in pos_tagger.pos(doc, norm=True, stem=True)]"
   ]
  },
  {
   "cell_type": "code",
   "execution_count": 74,
   "id": "8398df35",
   "metadata": {},
   "outputs": [
    {
     "data": {
      "text/plain": [
       "[(['메리/Noun', '가/Josa', '좋다/Adjective'], 'pos'),\n",
       " (['고양이/Noun', '도/Josa', '좋다/Adjective'], 'pos'),\n",
       " (['난/Noun', '수업/Noun', '이/Josa', '지루하다/Adjective'], 'neg'),\n",
       " (['메리/Noun', '는/Josa', '이쁘다/Adjective', '고양이/Noun', '야/Josa'], 'pos'),\n",
       " (['난/Noun', '마치/Noun', '고/Josa', '메리/Noun', '랑/Josa', '놀다/Verb'], 'pos')]"
      ]
     },
     "execution_count": 74,
     "metadata": {},
     "output_type": "execute_result"
    }
   ],
   "source": [
    "train_docs = [(tokenize(row[0]), row[1]) for row in train]\n",
    "train_docs"
   ]
  },
  {
   "cell_type": "code",
   "execution_count": 75,
   "id": "74e35599",
   "metadata": {},
   "outputs": [
    {
     "data": {
      "text/plain": [
       "['메리/Noun',\n",
       " '가/Josa',\n",
       " '좋다/Adjective',\n",
       " '고양이/Noun',\n",
       " '도/Josa',\n",
       " '좋다/Adjective',\n",
       " '난/Noun',\n",
       " '수업/Noun',\n",
       " '이/Josa',\n",
       " '지루하다/Adjective',\n",
       " '메리/Noun',\n",
       " '는/Josa',\n",
       " '이쁘다/Adjective',\n",
       " '고양이/Noun',\n",
       " '야/Josa',\n",
       " '난/Noun',\n",
       " '마치/Noun',\n",
       " '고/Josa',\n",
       " '메리/Noun',\n",
       " '랑/Josa',\n",
       " '놀다/Verb']"
      ]
     },
     "execution_count": 75,
     "metadata": {},
     "output_type": "execute_result"
    }
   ],
   "source": [
    "tokens = [t for d in train_docs for t in d[0]]\n",
    "tokens"
   ]
  },
  {
   "cell_type": "code",
   "execution_count": 76,
   "id": "7bb2f487",
   "metadata": {},
   "outputs": [],
   "source": [
    "def term_exists(doc):\n",
    "    return {word: (word in set(doc)) for word in tokens}"
   ]
  },
  {
   "cell_type": "code",
   "execution_count": 77,
   "id": "14e7bd32",
   "metadata": {},
   "outputs": [
    {
     "data": {
      "text/plain": [
       "[({'메리/Noun': True,\n",
       "   '가/Josa': True,\n",
       "   '좋다/Adjective': True,\n",
       "   '고양이/Noun': False,\n",
       "   '도/Josa': False,\n",
       "   '난/Noun': False,\n",
       "   '수업/Noun': False,\n",
       "   '이/Josa': False,\n",
       "   '지루하다/Adjective': False,\n",
       "   '는/Josa': False,\n",
       "   '이쁘다/Adjective': False,\n",
       "   '야/Josa': False,\n",
       "   '마치/Noun': False,\n",
       "   '고/Josa': False,\n",
       "   '랑/Josa': False,\n",
       "   '놀다/Verb': False},\n",
       "  'pos'),\n",
       " ({'메리/Noun': False,\n",
       "   '가/Josa': False,\n",
       "   '좋다/Adjective': True,\n",
       "   '고양이/Noun': True,\n",
       "   '도/Josa': True,\n",
       "   '난/Noun': False,\n",
       "   '수업/Noun': False,\n",
       "   '이/Josa': False,\n",
       "   '지루하다/Adjective': False,\n",
       "   '는/Josa': False,\n",
       "   '이쁘다/Adjective': False,\n",
       "   '야/Josa': False,\n",
       "   '마치/Noun': False,\n",
       "   '고/Josa': False,\n",
       "   '랑/Josa': False,\n",
       "   '놀다/Verb': False},\n",
       "  'pos'),\n",
       " ({'메리/Noun': False,\n",
       "   '가/Josa': False,\n",
       "   '좋다/Adjective': False,\n",
       "   '고양이/Noun': False,\n",
       "   '도/Josa': False,\n",
       "   '난/Noun': True,\n",
       "   '수업/Noun': True,\n",
       "   '이/Josa': True,\n",
       "   '지루하다/Adjective': True,\n",
       "   '는/Josa': False,\n",
       "   '이쁘다/Adjective': False,\n",
       "   '야/Josa': False,\n",
       "   '마치/Noun': False,\n",
       "   '고/Josa': False,\n",
       "   '랑/Josa': False,\n",
       "   '놀다/Verb': False},\n",
       "  'neg'),\n",
       " ({'메리/Noun': True,\n",
       "   '가/Josa': False,\n",
       "   '좋다/Adjective': False,\n",
       "   '고양이/Noun': True,\n",
       "   '도/Josa': False,\n",
       "   '난/Noun': False,\n",
       "   '수업/Noun': False,\n",
       "   '이/Josa': False,\n",
       "   '지루하다/Adjective': False,\n",
       "   '는/Josa': True,\n",
       "   '이쁘다/Adjective': True,\n",
       "   '야/Josa': True,\n",
       "   '마치/Noun': False,\n",
       "   '고/Josa': False,\n",
       "   '랑/Josa': False,\n",
       "   '놀다/Verb': False},\n",
       "  'pos'),\n",
       " ({'메리/Noun': True,\n",
       "   '가/Josa': False,\n",
       "   '좋다/Adjective': False,\n",
       "   '고양이/Noun': False,\n",
       "   '도/Josa': False,\n",
       "   '난/Noun': True,\n",
       "   '수업/Noun': False,\n",
       "   '이/Josa': False,\n",
       "   '지루하다/Adjective': False,\n",
       "   '는/Josa': False,\n",
       "   '이쁘다/Adjective': False,\n",
       "   '야/Josa': False,\n",
       "   '마치/Noun': True,\n",
       "   '고/Josa': True,\n",
       "   '랑/Josa': True,\n",
       "   '놀다/Verb': True},\n",
       "  'pos')]"
      ]
     },
     "execution_count": 77,
     "metadata": {},
     "output_type": "execute_result"
    }
   ],
   "source": [
    "train_xy = [(term_exists(d), c) for d,c in train_docs]\n",
    "train_xy"
   ]
  },
  {
   "cell_type": "code",
   "execution_count": 78,
   "id": "cc389e9f",
   "metadata": {},
   "outputs": [],
   "source": [
    "classifier = nltk.NaiveBayesClassifier.train(train_xy)"
   ]
  },
  {
   "cell_type": "code",
   "execution_count": 79,
   "id": "baa8d9e4",
   "metadata": {},
   "outputs": [],
   "source": [
    "test_sentence = [(\"난 수업이 마치면 메리랑 놀거야\")]"
   ]
  },
  {
   "cell_type": "code",
   "execution_count": 80,
   "id": "e2da4b52",
   "metadata": {},
   "outputs": [
    {
     "data": {
      "text/plain": [
       "[('난', 'Noun'),\n",
       " ('수업', 'Noun'),\n",
       " ('이', 'Josa'),\n",
       " ('마치', 'Noun'),\n",
       " ('면', 'Josa'),\n",
       " ('메리', 'Noun'),\n",
       " ('랑', 'Josa'),\n",
       " ('놀거야', 'Verb')]"
      ]
     },
     "execution_count": 80,
     "metadata": {},
     "output_type": "execute_result"
    }
   ],
   "source": [
    "test_docs = pos_tagger.pos(test_sentence[0])\n",
    "test_docs"
   ]
  },
  {
   "cell_type": "code",
   "execution_count": 81,
   "id": "bad25f05",
   "metadata": {},
   "outputs": [
    {
     "name": "stdout",
     "output_type": "stream",
     "text": [
      "Most Informative Features\n",
      "                  난/Noun = True              neg : pos    =      2.5 : 1.0\n",
      "                 메리/Noun = False             neg : pos    =      2.5 : 1.0\n",
      "                고양이/Noun = False             neg : pos    =      1.5 : 1.0\n",
      "            좋다/Adjective = False             neg : pos    =      1.5 : 1.0\n",
      "                  가/Josa = False             neg : pos    =      1.1 : 1.0\n",
      "                  고/Josa = False             neg : pos    =      1.1 : 1.0\n",
      "                 놀다/Verb = False             neg : pos    =      1.1 : 1.0\n",
      "                  는/Josa = False             neg : pos    =      1.1 : 1.0\n",
      "                  도/Josa = False             neg : pos    =      1.1 : 1.0\n",
      "                  랑/Josa = False             neg : pos    =      1.1 : 1.0\n"
     ]
    }
   ],
   "source": [
    "classifier.show_most_informative_features()"
   ]
  },
  {
   "cell_type": "code",
   "execution_count": 82,
   "id": "9bf97f1e",
   "metadata": {},
   "outputs": [
    {
     "data": {
      "text/plain": [
       "{('난', 'Noun'): False,\n",
       " ('수업', 'Noun'): False,\n",
       " ('이', 'Josa'): False,\n",
       " ('마치', 'Noun'): False,\n",
       " ('면', 'Josa'): False,\n",
       " ('메리', 'Noun'): False,\n",
       " ('랑', 'Josa'): False,\n",
       " ('놀거야', 'Verb'): False}"
      ]
     },
     "execution_count": 82,
     "metadata": {},
     "output_type": "execute_result"
    }
   ],
   "source": [
    "test_sent_features = {word: (word in tokens) for word in test_docs}\n",
    "test_sent_features"
   ]
  },
  {
   "cell_type": "code",
   "execution_count": 83,
   "id": "bddc4633",
   "metadata": {},
   "outputs": [
    {
     "data": {
      "text/plain": [
       "'pos'"
      ]
     },
     "execution_count": 83,
     "metadata": {},
     "output_type": "execute_result"
    }
   ],
   "source": [
    "classifier.classify(test_sent_features)"
   ]
  },
  {
   "cell_type": "markdown",
   "id": "a1baae49",
   "metadata": {},
   "source": [
    "## 8-7. 문장의 유사도 측정"
   ]
  },
  {
   "cell_type": "code",
   "execution_count": 86,
   "id": "eca76d43",
   "metadata": {},
   "outputs": [
    {
     "name": "stdout",
     "output_type": "stream",
     "text": [
      "Collecting scikit_learn\n",
      "  Downloading scikit_learn-1.0.2-cp38-cp38-win_amd64.whl (7.2 MB)\n",
      "Collecting threadpoolctl>=2.0.0\n",
      "  Using cached threadpoolctl-3.1.0-py3-none-any.whl (14 kB)\n",
      "Requirement already satisfied: joblib>=0.11 in c:\\users\\april\\anaconda3\\envs\\last\\lib\\site-packages (from scikit_learn) (1.1.0)\n",
      "Requirement already satisfied: numpy>=1.14.6 in c:\\users\\april\\anaconda3\\envs\\last\\lib\\site-packages (from scikit_learn) (1.22.3)\n",
      "Requirement already satisfied: scipy>=1.1.0 in c:\\users\\april\\anaconda3\\envs\\last\\lib\\site-packages (from scikit_learn) (1.8.0)\n",
      "Installing collected packages: threadpoolctl, scikit-learn\n",
      "Successfully installed scikit-learn-1.0.2 threadpoolctl-3.1.0\n",
      "Note: you may need to restart the kernel to use updated packages.\n"
     ]
    }
   ],
   "source": [
    "pip install scikit_learn"
   ]
  },
  {
   "cell_type": "code",
   "execution_count": 87,
   "id": "adb8b14e",
   "metadata": {},
   "outputs": [],
   "source": [
    "from sklearn.feature_extraction.text import CountVectorizer"
   ]
  },
  {
   "cell_type": "code",
   "execution_count": 88,
   "id": "4343fd03",
   "metadata": {},
   "outputs": [],
   "source": [
    "vectorizer = CountVectorizer(min_df = 1)"
   ]
  },
  {
   "cell_type": "code",
   "execution_count": 89,
   "id": "3303afcb",
   "metadata": {},
   "outputs": [],
   "source": [
    "contents = ['메리랑 놀러가고 싶지만 바쁜데 어떻하죠?',\n",
    "                   '메리는 공원에서 산책하고 노는 것을 싫어해요',\n",
    "                   '메리는 공원에서 노는 것도 싫어해요. 이상해요.',\n",
    "                   '먼 곳으로 여행을 떠나고 싶은데 너무 바빠서 그러질 못하고 있어요']"
   ]
  },
  {
   "cell_type": "code",
   "execution_count": 91,
   "id": "da4cfdf5",
   "metadata": {},
   "outputs": [
    {
     "data": {
      "text/plain": [
       "array(['것도', '것을', '곳으로', '공원에서', '그러질', '너무', '노는', '놀러가고', '떠나고', '메리는',\n",
       "       '메리랑', '못하고', '바빠서', '바쁜데', '산책하고', '싫어해요', '싶은데', '싶지만', '어떻하죠',\n",
       "       '여행을', '이상해요', '있어요'], dtype=object)"
      ]
     },
     "execution_count": 91,
     "metadata": {},
     "output_type": "execute_result"
    }
   ],
   "source": [
    "X = vectorizer.fit_transform(contents)\n",
    "vectorizer.get_feature_names_out()"
   ]
  },
  {
   "cell_type": "code",
   "execution_count": 92,
   "id": "88ff186e",
   "metadata": {},
   "outputs": [
    {
     "data": {
      "text/plain": [
       "array([[0, 0, 1, 0],\n",
       "       [0, 1, 0, 0],\n",
       "       [0, 0, 0, 1],\n",
       "       [0, 1, 1, 0],\n",
       "       [0, 0, 0, 1],\n",
       "       [0, 0, 0, 1],\n",
       "       [0, 1, 1, 0],\n",
       "       [1, 0, 0, 0],\n",
       "       [0, 0, 0, 1],\n",
       "       [0, 1, 1, 0],\n",
       "       [1, 0, 0, 0],\n",
       "       [0, 0, 0, 1],\n",
       "       [0, 0, 0, 1],\n",
       "       [1, 0, 0, 0],\n",
       "       [0, 1, 0, 0],\n",
       "       [0, 1, 1, 0],\n",
       "       [0, 0, 0, 1],\n",
       "       [1, 0, 0, 0],\n",
       "       [1, 0, 0, 0],\n",
       "       [0, 0, 0, 1],\n",
       "       [0, 0, 1, 0],\n",
       "       [0, 0, 0, 1]], dtype=int64)"
      ]
     },
     "execution_count": 92,
     "metadata": {},
     "output_type": "execute_result"
    }
   ],
   "source": [
    "X.toarray().transpose()"
   ]
  },
  {
   "cell_type": "code",
   "execution_count": 93,
   "id": "08d0914d",
   "metadata": {},
   "outputs": [
    {
     "data": {
      "text/plain": [
       "(4, 22)"
      ]
     },
     "execution_count": 93,
     "metadata": {},
     "output_type": "execute_result"
    }
   ],
   "source": [
    "X = vectorizer.fit_transform(contents)\n",
    "num_samples, num_features = X.shape\n",
    "num_samples, num_features"
   ]
  },
  {
   "cell_type": "code",
   "execution_count": 94,
   "id": "38da4c0e",
   "metadata": {},
   "outputs": [
    {
     "data": {
      "text/plain": [
       "array([[0, 0, 0, 1, 0, 0, 0, 0, 0, 0, 1, 0, 0, 0, 1, 0, 0, 0, 0, 0, 0, 0]],\n",
       "      dtype=int64)"
      ]
     },
     "execution_count": 94,
     "metadata": {},
     "output_type": "execute_result"
    }
   ],
   "source": [
    "new_post = ['메리랑 공원에서 산책하고 놀고 싶어요']\n",
    "new_post_vec = vectorizer.transform(new_post)\n",
    "new_post_vec.toarray()"
   ]
  },
  {
   "cell_type": "code",
   "execution_count": 95,
   "id": "47a0085b",
   "metadata": {},
   "outputs": [],
   "source": [
    "import scipy as sp\n",
    "\n",
    "def dist_raw(v1, v2):\n",
    "    delta = v1 - v2\n",
    "    return sp.linalg.norm(delta.toarray())"
   ]
  },
  {
   "cell_type": "code",
   "execution_count": 96,
   "id": "8b0ca3f0",
   "metadata": {},
   "outputs": [
    {
     "name": "stdout",
     "output_type": "stream",
     "text": [
      "== Post 0 with dist=2.45   : 메리랑 놀러가고 싶지만 바쁜데 어떻하죠?\n",
      "== Post 1 with dist=2.24   : 메리는 공원에서 산책하고 노는 것을 싫어해요\n",
      "== Post 2 with dist=2.65   : 메리는 공원에서 노는 것도 싫어해요. 이상해요.\n",
      "== Post 3 with dist=3.46   : 먼 곳으로 여행을 떠나고 싶은데 너무 바빠서 그러질 못하고 있어요\n"
     ]
    }
   ],
   "source": [
    "best_doc = None\n",
    "best_dist = 65535\n",
    "best_i = None\n",
    "\n",
    "for i in range(0, num_samples):\n",
    "    post_vec = X.getrow(i)\n",
    "    d = dist_raw(post_vec, new_post_vec)\n",
    "    \n",
    "    print(\"== Post %i with dist=%.2f   : %s\" %(i,d,contents[i]))\n",
    "    \n",
    "    if d<best_dist:\n",
    "        best_dist = d\n",
    "        best_i = i"
   ]
  },
  {
   "cell_type": "code",
   "execution_count": 97,
   "id": "b65444a6",
   "metadata": {},
   "outputs": [
    {
     "name": "stderr",
     "output_type": "stream",
     "text": [
      "C:\\Users\\april\\anaconda3\\envs\\last\\lib\\site-packages\\konlpy\\tag\\_okt.py:17: UserWarning: \"Twitter\" has changed to \"Okt\" since KoNLPy v0.4.5.\n",
      "  warn('\"Twitter\" has changed to \"Okt\" since KoNLPy v0.4.5.')\n"
     ]
    }
   ],
   "source": [
    "from konlpy.tag import Twitter\n",
    "t = Twitter()"
   ]
  },
  {
   "cell_type": "code",
   "execution_count": 98,
   "id": "277c521f",
   "metadata": {},
   "outputs": [
    {
     "data": {
      "text/plain": [
       "[['메리', '랑', '놀러', '가고', '싶지만', '바쁜데', '어떻하죠', '?'],\n",
       " ['메리', '는', '공원', '에서', '산책', '하고', '노', '는', '것', '을', '싫어해요'],\n",
       " ['메리', '는', '공원', '에서', '노', '는', '것', '도', '싫어해요', '.', '이상해요', '.'],\n",
       " ['먼',\n",
       "  '곳',\n",
       "  '으로',\n",
       "  '여행',\n",
       "  '을',\n",
       "  '떠나고',\n",
       "  '싶은데',\n",
       "  '너무',\n",
       "  '바빠서',\n",
       "  '그러질',\n",
       "  '못',\n",
       "  '하고',\n",
       "  '있어요']]"
      ]
     },
     "execution_count": 98,
     "metadata": {},
     "output_type": "execute_result"
    }
   ],
   "source": [
    "contents_tokens = [t.morphs(row) for row in contents]\n",
    "contents_tokens"
   ]
  },
  {
   "cell_type": "code",
   "execution_count": 99,
   "id": "2edb1509",
   "metadata": {},
   "outputs": [
    {
     "data": {
      "text/plain": [
       "[' 메리 랑 놀러 가고 싶지만 바쁜데 어떻하죠 ?',\n",
       " ' 메리 는 공원 에서 산책 하고 노 는 것 을 싫어해요',\n",
       " ' 메리 는 공원 에서 노 는 것 도 싫어해요 . 이상해요 .',\n",
       " ' 먼 곳 으로 여행 을 떠나고 싶은데 너무 바빠서 그러질 못 하고 있어요']"
      ]
     },
     "execution_count": 99,
     "metadata": {},
     "output_type": "execute_result"
    }
   ],
   "source": [
    "contents_for_vectorize = []\n",
    "\n",
    "for content in contents_tokens:\n",
    "    sentence = ''\n",
    "    for word in content:\n",
    "        sentence = sentence + ' ' + word\n",
    "        \n",
    "    contents_for_vectorize.append(sentence)\n",
    "    \n",
    "contents_for_vectorize"
   ]
  },
  {
   "cell_type": "code",
   "execution_count": 100,
   "id": "23e84974",
   "metadata": {},
   "outputs": [
    {
     "data": {
      "text/plain": [
       "(4, 20)"
      ]
     },
     "execution_count": 100,
     "metadata": {},
     "output_type": "execute_result"
    }
   ],
   "source": [
    "X = vectorizer.fit_transform(contents_for_vectorize)\n",
    "num_samples, num_features = X.shape\n",
    "num_samples, num_features"
   ]
  },
  {
   "cell_type": "code",
   "execution_count": 101,
   "id": "9fa5a564",
   "metadata": {},
   "outputs": [
    {
     "data": {
      "text/plain": [
       "['가고',\n",
       " '공원',\n",
       " '그러질',\n",
       " '너무',\n",
       " '놀러',\n",
       " '떠나고',\n",
       " '메리',\n",
       " '바빠서',\n",
       " '바쁜데',\n",
       " '산책',\n",
       " '싫어해요',\n",
       " '싶은데',\n",
       " '싶지만',\n",
       " '어떻하죠',\n",
       " '에서',\n",
       " '여행',\n",
       " '으로',\n",
       " '이상해요',\n",
       " '있어요',\n",
       " '하고']"
      ]
     },
     "execution_count": 101,
     "metadata": {},
     "output_type": "execute_result"
    }
   ],
   "source": [
    "vectorizer.get_feature_names()"
   ]
  },
  {
   "cell_type": "code",
   "execution_count": 102,
   "id": "6b86f46d",
   "metadata": {},
   "outputs": [
    {
     "data": {
      "text/plain": [
       "array([[1, 0, 0, 0],\n",
       "       [0, 1, 1, 0],\n",
       "       [0, 0, 0, 1],\n",
       "       [0, 0, 0, 1],\n",
       "       [1, 0, 0, 0],\n",
       "       [0, 0, 0, 1],\n",
       "       [1, 1, 1, 0],\n",
       "       [0, 0, 0, 1],\n",
       "       [1, 0, 0, 0],\n",
       "       [0, 1, 0, 0],\n",
       "       [0, 1, 1, 0],\n",
       "       [0, 0, 0, 1],\n",
       "       [1, 0, 0, 0],\n",
       "       [1, 0, 0, 0],\n",
       "       [0, 1, 1, 0],\n",
       "       [0, 0, 0, 1],\n",
       "       [0, 0, 0, 1],\n",
       "       [0, 0, 1, 0],\n",
       "       [0, 0, 0, 1],\n",
       "       [0, 1, 0, 1]], dtype=int64)"
      ]
     },
     "execution_count": 102,
     "metadata": {},
     "output_type": "execute_result"
    }
   ],
   "source": [
    "X.toarray().transpose()"
   ]
  },
  {
   "cell_type": "code",
   "execution_count": 103,
   "id": "fbcccac5",
   "metadata": {},
   "outputs": [
    {
     "data": {
      "text/plain": [
       "[' 메리 랑 공원 에서 산책 하고 놀고 싶어요']"
      ]
     },
     "execution_count": 103,
     "metadata": {},
     "output_type": "execute_result"
    }
   ],
   "source": [
    "new_post = ['메리랑 공원에서 산책하고 놀고 싶어요']\n",
    "new_post_tokens = [t.morphs(row) for row in new_post]\n",
    "\n",
    "new_post_for_vectorize = []\n",
    "\n",
    "for content in new_post_tokens:\n",
    "    sentence = ''\n",
    "    for word in content:\n",
    "        sentence = sentence + ' ' + word\n",
    "        \n",
    "    new_post_for_vectorize.append(sentence)\n",
    "    \n",
    "new_post_for_vectorize"
   ]
  },
  {
   "cell_type": "code",
   "execution_count": 104,
   "id": "479a4f49",
   "metadata": {},
   "outputs": [],
   "source": [
    "new_post_vec = vectorizer.transform(new_post_for_vectorize)"
   ]
  },
  {
   "cell_type": "code",
   "execution_count": 105,
   "id": "314703bd",
   "metadata": {},
   "outputs": [
    {
     "data": {
      "text/plain": [
       "array([[0, 1, 0, 0, 0, 0, 1, 0, 0, 1, 0, 0, 0, 0, 1, 0, 0, 0, 0, 1]],\n",
       "      dtype=int64)"
      ]
     },
     "execution_count": 105,
     "metadata": {},
     "output_type": "execute_result"
    }
   ],
   "source": [
    "new_post_vec.toarray()"
   ]
  },
  {
   "cell_type": "code",
   "execution_count": 106,
   "id": "4be6a48b",
   "metadata": {},
   "outputs": [],
   "source": [
    "import scipy as sp\n",
    "\n",
    "def dist_raw(v1, v2):\n",
    "    delta = v1 - v2\n",
    "    return sp.linalg.norm(delta.toarray())"
   ]
  },
  {
   "cell_type": "code",
   "execution_count": 107,
   "id": "7f4102d4",
   "metadata": {},
   "outputs": [
    {
     "name": "stdout",
     "output_type": "stream",
     "text": [
      "== Post 0 with dist=3.00   : 메리랑 놀러가고 싶지만 바쁜데 어떻하죠?\n",
      "== Post 1 with dist=1.00   : 메리는 공원에서 산책하고 노는 것을 싫어해요\n",
      "== Post 2 with dist=2.00   : 메리는 공원에서 노는 것도 싫어해요. 이상해요.\n",
      "== Post 3 with dist=3.46   : 먼 곳으로 여행을 떠나고 싶은데 너무 바빠서 그러질 못하고 있어요\n"
     ]
    }
   ],
   "source": [
    "best_doc = None\n",
    "best_dist = 65535\n",
    "best_i = None\n",
    "\n",
    "for i in range(0, num_samples):\n",
    "    post_vec = X.getrow(i)\n",
    "    d = dist_raw(post_vec, new_post_vec)\n",
    "    \n",
    "    print(\"== Post %i with dist=%.2f   : %s\" %(i,d,contents[i]))\n",
    "    \n",
    "    if d<best_dist:\n",
    "        best_dist = d\n",
    "        best_i = i"
   ]
  },
  {
   "cell_type": "code",
   "execution_count": 108,
   "id": "e5ea4fb5",
   "metadata": {},
   "outputs": [
    {
     "name": "stdout",
     "output_type": "stream",
     "text": [
      "Best post is 1, dist = 1.00\n",
      "--> ['메리랑 공원에서 산책하고 놀고 싶어요']\n",
      "----> 메리는 공원에서 산책하고 노는 것을 싫어해요\n"
     ]
    }
   ],
   "source": [
    "print(\"Best post is %i, dist = %.2f\" % (best_i, best_dist))\n",
    "print('-->', new_post)\n",
    "print('---->', contents[best_i])"
   ]
  },
  {
   "cell_type": "code",
   "execution_count": 109,
   "id": "1dd61352",
   "metadata": {},
   "outputs": [
    {
     "name": "stdout",
     "output_type": "stream",
     "text": [
      "[[1 0 0 0 1 0 1 0 1 0 0 0 1 1 0 0 0 0 0 0]]\n",
      "[[0 1 0 0 0 0 1 0 0 1 1 0 0 0 1 0 0 0 0 1]]\n",
      "[[0 1 0 0 0 0 1 0 0 0 1 0 0 0 1 0 0 1 0 0]]\n",
      "[[0 0 1 1 0 1 0 1 0 0 0 1 0 0 0 1 1 0 1 1]]\n",
      "---------------------\n",
      "[[0 1 0 0 0 0 1 0 0 1 0 0 0 0 1 0 0 0 0 1]]\n"
     ]
    }
   ],
   "source": [
    "for i in range(0,len(contents)):\n",
    "    print(X.getrow(i).toarray())\n",
    "    \n",
    "print('---------------------')\n",
    "print(new_post_vec.toarray())"
   ]
  },
  {
   "cell_type": "code",
   "execution_count": 110,
   "id": "c937ece5",
   "metadata": {},
   "outputs": [],
   "source": [
    "def dist_norm(v1, v2):\n",
    "    v1_normalized = v1 / sp.linalg.norm(v1.toarray())\n",
    "    v2_normalized = v2 / sp.linalg.norm(v2.toarray())\n",
    "    \n",
    "    delta = v1_normalized - v2_normalized\n",
    "    \n",
    "    return sp.linalg.norm(delta.toarray())"
   ]
  },
  {
   "cell_type": "code",
   "execution_count": 111,
   "id": "b2caaa40",
   "metadata": {},
   "outputs": [
    {
     "name": "stdout",
     "output_type": "stream",
     "text": [
      "== Post 0 with dist=1.28   : 메리랑 놀러가고 싶지만 바쁜데 어떻하죠?\n",
      "== Post 1 with dist=0.42   : 메리는 공원에서 산책하고 노는 것을 싫어해요\n",
      "== Post 2 with dist=0.89   : 메리는 공원에서 노는 것도 싫어해요. 이상해요.\n",
      "== Post 3 with dist=1.30   : 먼 곳으로 여행을 떠나고 싶은데 너무 바빠서 그러질 못하고 있어요\n"
     ]
    }
   ],
   "source": [
    "best_doc = None\n",
    "best_dist = 65535\n",
    "best_i = None\n",
    "\n",
    "for i in range(0, num_samples):\n",
    "    post_vec = X.getrow(i)\n",
    "    d = dist_norm(post_vec, new_post_vec)\n",
    "    \n",
    "    print(\"== Post %i with dist=%.2f   : %s\" %(i,d,contents[i]))\n",
    "    \n",
    "    if d<best_dist:\n",
    "        best_dist = d\n",
    "        best_i = i"
   ]
  },
  {
   "cell_type": "code",
   "execution_count": 112,
   "id": "0a67aced",
   "metadata": {},
   "outputs": [
    {
     "name": "stdout",
     "output_type": "stream",
     "text": [
      "Best post is 1, dist = 0.42\n",
      "--> ['메리랑 공원에서 산책하고 놀고 싶어요']\n",
      "----> 메리는 공원에서 산책하고 노는 것을 싫어해요\n"
     ]
    }
   ],
   "source": [
    "print(\"Best post is %i, dist = %.2f\" % (best_i, best_dist))\n",
    "print('-->', new_post)\n",
    "print('---->', contents[best_i])"
   ]
  },
  {
   "cell_type": "code",
   "execution_count": 113,
   "id": "97de39b2",
   "metadata": {},
   "outputs": [],
   "source": [
    "def tfidf(t, d, D):\n",
    "    tf = float(d.count(t)) / sum(d.count(w) for w in set(d))\n",
    "    idf = sp.log( float(len(D))/(len([doc for doc in D if t in doc])) )\n",
    "    return tf, idf"
   ]
  },
  {
   "cell_type": "code",
   "execution_count": 114,
   "id": "6f76b62c",
   "metadata": {},
   "outputs": [
    {
     "name": "stdout",
     "output_type": "stream",
     "text": [
      "(1.0, 0.0)\n",
      "(0.6666666666666666, 0.4054651081081644)\n",
      "(0.3333333333333333, 0.0)\n",
      "(0.3333333333333333, 0.4054651081081644)\n",
      "(0.3333333333333333, 1.0986122886681098)\n"
     ]
    },
    {
     "name": "stderr",
     "output_type": "stream",
     "text": [
      "C:\\Users\\april\\AppData\\Local\\Temp\\ipykernel_60604\\3654874086.py:3: DeprecationWarning: scipy.log is deprecated and will be removed in SciPy 2.0.0, use numpy.lib.scimath.log instead\n",
      "  idf = sp.log( float(len(D))/(len([doc for doc in D if t in doc])) )\n"
     ]
    }
   ],
   "source": [
    "a, abb, abc = ['a'], ['a','b','b'], ['a','b','c']\n",
    "D = [a,abb,abc]\n",
    "\n",
    "print(tfidf('a', a, D))\n",
    "print(tfidf('b', abb, D))\n",
    "print(tfidf('a', abc, D))\n",
    "print(tfidf('b', abc, D))\n",
    "print(tfidf('c', abc, D))"
   ]
  },
  {
   "cell_type": "code",
   "execution_count": 115,
   "id": "4fdcafe3",
   "metadata": {},
   "outputs": [],
   "source": [
    "def tfidf(t, d, D):\n",
    "    tf = float(d.count(t)) / sum(d.count(w) for w in set(d))\n",
    "    idf = sp.log( float(len(D))/(len([doc for doc in D if t in doc])) )\n",
    "    return tf * idf"
   ]
  },
  {
   "cell_type": "code",
   "execution_count": 116,
   "id": "7a97723e",
   "metadata": {},
   "outputs": [],
   "source": [
    "from sklearn.feature_extraction.text import TfidfVectorizer\n",
    "vectorizer = TfidfVectorizer(min_df=1, decode_error='ignore')"
   ]
  },
  {
   "cell_type": "code",
   "execution_count": 117,
   "id": "5fc5a205",
   "metadata": {},
   "outputs": [
    {
     "data": {
      "text/plain": [
       "(4, 20)"
      ]
     },
     "execution_count": 117,
     "metadata": {},
     "output_type": "execute_result"
    }
   ],
   "source": [
    "contents_tokens = [t.morphs(row) for row in contents]\n",
    "\n",
    "contents_for_vectorize = []\n",
    "\n",
    "for content in contents_tokens:\n",
    "    sentence = ''\n",
    "    for word in content:\n",
    "        sentence = sentence + ' ' + word\n",
    "        \n",
    "    contents_for_vectorize.append(sentence)\n",
    "    \n",
    "X = vectorizer.fit_transform(contents_for_vectorize)\n",
    "num_samples, num_features = X.shape\n",
    "num_samples, num_features"
   ]
  },
  {
   "cell_type": "code",
   "execution_count": 119,
   "id": "2c3ca143",
   "metadata": {},
   "outputs": [
    {
     "data": {
      "text/plain": [
       "['가고',\n",
       " '공원',\n",
       " '그러질',\n",
       " '너무',\n",
       " '놀러',\n",
       " '떠나고',\n",
       " '메리',\n",
       " '바빠서',\n",
       " '바쁜데',\n",
       " '산책',\n",
       " '싫어해요',\n",
       " '싶은데',\n",
       " '싶지만',\n",
       " '어떻하죠',\n",
       " '에서',\n",
       " '여행',\n",
       " '으로',\n",
       " '이상해요',\n",
       " '있어요',\n",
       " '하고']"
      ]
     },
     "execution_count": 119,
     "metadata": {},
     "output_type": "execute_result"
    }
   ],
   "source": [
    "vectorizer.get_feature_names()"
   ]
  },
  {
   "cell_type": "code",
   "execution_count": 120,
   "id": "75cd4987",
   "metadata": {},
   "outputs": [
    {
     "data": {
      "text/plain": [
       "[' 근처 공원 에 메리 랑 놀러 가고 싶네요 .']"
      ]
     },
     "execution_count": 120,
     "metadata": {},
     "output_type": "execute_result"
    }
   ],
   "source": [
    "new_post = ['근처 공원에 메리랑 놀러가고 싶네요.']\n",
    "new_post_tokens = [t.morphs(row) for row in new_post]\n",
    "\n",
    "new_post_for_vectorize = []\n",
    "\n",
    "for content in new_post_tokens:\n",
    "    sentence = ''\n",
    "    for word in content:\n",
    "        sentence = sentence + ' ' + word\n",
    "        \n",
    "    new_post_for_vectorize.append(sentence)\n",
    "    \n",
    "new_post_for_vectorize"
   ]
  },
  {
   "cell_type": "code",
   "execution_count": 122,
   "id": "32c6c554",
   "metadata": {},
   "outputs": [],
   "source": [
    "new_post_vec = vectorizer.transform(new_post_for_vectorize)"
   ]
  },
  {
   "cell_type": "code",
   "execution_count": 123,
   "id": "7fee6752",
   "metadata": {},
   "outputs": [
    {
     "name": "stdout",
     "output_type": "stream",
     "text": [
      "== Post 0 with dist=0.90   : 메리랑 놀러가고 싶지만 바쁜데 어떻하죠?\n",
      "== Post 1 with dist=1.18   : 메리는 공원에서 산책하고 노는 것을 싫어해요\n",
      "== Post 2 with dist=1.16   : 메리는 공원에서 노는 것도 싫어해요. 이상해요.\n",
      "== Post 3 with dist=1.41   : 먼 곳으로 여행을 떠나고 싶은데 너무 바빠서 그러질 못하고 있어요\n",
      "Best post is 0, dist = 0.90\n",
      "--> ['근처 공원에 메리랑 놀러가고 싶네요.']\n",
      "----> 메리랑 놀러가고 싶지만 바쁜데 어떻하죠?\n"
     ]
    }
   ],
   "source": [
    "best_doc = None\n",
    "best_dist = 65535\n",
    "best_i = None\n",
    "\n",
    "for i in range(0, num_samples):\n",
    "    post_vec = X.getrow(i)\n",
    "    d = dist_norm(post_vec, new_post_vec)\n",
    "    \n",
    "    print(\"== Post %i with dist=%.2f   : %s\" %(i,d,contents[i]))\n",
    "    \n",
    "    if d<best_dist:\n",
    "        best_dist = d\n",
    "        best_i = i\n",
    "        \n",
    "print(\"Best post is %i, dist = %.2f\" % (best_i, best_dist))\n",
    "print('-->', new_post)\n",
    "print('---->', contents[best_i])"
   ]
  },
  {
   "cell_type": "markdown",
   "id": "c1b0224c",
   "metadata": {},
   "source": [
    "## 8-8. 여자 친구 선물 고르기"
   ]
  },
  {
   "cell_type": "code",
   "execution_count": 125,
   "id": "751572e5",
   "metadata": {},
   "outputs": [
    {
     "name": "stdout",
     "output_type": "stream",
     "text": [
      "Collecting pandas\n",
      "  Downloading pandas-1.4.2-cp38-cp38-win_amd64.whl (10.6 MB)\n",
      "Requirement already satisfied: numpy>=1.18.5 in c:\\users\\april\\anaconda3\\envs\\last\\lib\\site-packages (from pandas) (1.22.3)\n",
      "Requirement already satisfied: python-dateutil>=2.8.1 in c:\\users\\april\\anaconda3\\envs\\last\\lib\\site-packages (from pandas) (2.8.2)\n",
      "Collecting pytz>=2020.1\n",
      "  Downloading pytz-2022.1-py2.py3-none-any.whl (503 kB)\n",
      "Requirement already satisfied: six>=1.5 in c:\\users\\april\\anaconda3\\envs\\last\\lib\\site-packages (from python-dateutil>=2.8.1->pandas) (1.16.0)\n",
      "Installing collected packages: pytz, pandas\n",
      "Successfully installed pandas-1.4.2 pytz-2022.1\n",
      "Note: you may need to restart the kernel to use updated packages.\n"
     ]
    }
   ],
   "source": [
    "pip install pandas"
   ]
  },
  {
   "cell_type": "code",
   "execution_count": 127,
   "id": "e612f70b",
   "metadata": {},
   "outputs": [
    {
     "name": "stdout",
     "output_type": "stream",
     "text": [
      "Collecting beautifulsoup4\n",
      "  Downloading beautifulsoup4-4.11.1-py3-none-any.whl (128 kB)\n",
      "Collecting soupsieve>1.2\n",
      "  Downloading soupsieve-2.3.2-py3-none-any.whl (37 kB)\n",
      "Installing collected packages: soupsieve, beautifulsoup4\n",
      "Successfully installed beautifulsoup4-4.11.1 soupsieve-2.3.2\n",
      "Note: you may need to restart the kernel to use updated packages.\n"
     ]
    }
   ],
   "source": [
    "pip install beautifulsoup4"
   ]
  },
  {
   "cell_type": "code",
   "execution_count": 128,
   "id": "7f9711f1",
   "metadata": {},
   "outputs": [],
   "source": [
    "import pandas as pd\n",
    "import numpy as np\n",
    "\n",
    "import platform\n",
    "import matplotlib.pyplot as plt\n",
    "\n",
    "%matplotlib inline\n",
    "\n",
    "path = \"c:/Windows/Fonts/malgun.ttf\"\n",
    "from matplotlib import font_manager, rc\n",
    "if platform.system() == 'Darwin':\n",
    "    rc('font', family='AppleGothic')\n",
    "elif platform.system() == 'Windows':\n",
    "    font_name = font_manager.FontProperties(fname=path).get_name()\n",
    "    rc('font', family=font_name)\n",
    "else:\n",
    "    print('Unknown system... sorry~~~~')    \n",
    "\n",
    "plt.rcParams['axes.unicode_minus'] = False\n",
    "\n",
    "from bs4 import BeautifulSoup \n",
    "from urllib.request import urlopen\n",
    "import urllib\n",
    "import time"
   ]
  },
  {
   "cell_type": "markdown",
   "id": "def0e81c",
   "metadata": {},
   "source": [
    "# 여기서부터 안 됨"
   ]
  },
  {
   "cell_type": "code",
   "execution_count": 135,
   "id": "c8196814",
   "metadata": {},
   "outputs": [],
   "source": [
    "tmp1 = 'https://kin.naver.com/qna/detail.naver'\n",
    "html = tmp1 + '?d1id=8&dirId=80101&docId=395035694&qb=7Jes7LmcIOyEoOusvA==&enc=utf8&section=kin.ext&rank=1&search_sort=0&spq=0'\n",
    "\n",
    "response = urlopen(html.format(num=1, key_word=urllib.parse.quote('여친 선물')))\n",
    "\n",
    "soup = BeautifulSoup(response, \"html.parser\")\n",
    "\n",
    "tmp = soup.find_all('dl')"
   ]
  },
  {
   "cell_type": "code",
   "execution_count": 136,
   "id": "bb58aea2",
   "metadata": {},
   "outputs": [
    {
     "data": {
      "text/plain": [
       "[]"
      ]
     },
     "execution_count": 136,
     "metadata": {},
     "output_type": "execute_result"
    }
   ],
   "source": [
    "tmp_list = []\n",
    "for line in tmp:\n",
    "    tmp_list.append(line.text)\n",
    "    \n",
    "tmp_list"
   ]
  },
  {
   "cell_type": "code",
   "execution_count": 131,
   "id": "20afcf8a",
   "metadata": {},
   "outputs": [
    {
     "name": "stderr",
     "output_type": "stream",
     "text": [
      "C:\\Users\\april\\AppData\\Local\\Temp\\ipykernel_60604\\585814460.py:5: TqdmDeprecationWarning: This function will be removed in tqdm==5.0.0\n",
      "Please use `tqdm.notebook.tqdm` instead of `tqdm.tqdm_notebook`\n",
      "  for n in tqdm_notebook(range(1, 1000, 10)):\n"
     ]
    },
    {
     "data": {
      "application/vnd.jupyter.widget-view+json": {
       "model_id": "e8187a93ee7b4f6aad87b480fe2ee746",
       "version_major": 2,
       "version_minor": 0
      },
      "text/plain": [
       "  0%|          | 0/100 [00:00<?, ?it/s]"
      ]
     },
     "metadata": {},
     "output_type": "display_data"
    }
   ],
   "source": [
    "from tqdm import tqdm_notebook\n",
    "\n",
    "present_candi_text = []\n",
    "\n",
    "for n in tqdm_notebook(range(1, 1000, 10)):\n",
    "    response = urlopen(html.format(num=n, key_word=urllib.parse.quote('여자 친구 선물')))\n",
    "\n",
    "    soup = BeautifulSoup(response, \"html.parser\")\n",
    "\n",
    "    tmp = soup.find_all('dl')\n",
    "\n",
    "    for line in tmp:\n",
    "        present_candi_text.append(line.text)\n",
    "        \n",
    "    time.sleep(0.5)"
   ]
  },
  {
   "cell_type": "code",
   "execution_count": 132,
   "id": "7542b28b",
   "metadata": {},
   "outputs": [
    {
     "data": {
      "text/plain": [
       "[]"
      ]
     },
     "execution_count": 132,
     "metadata": {},
     "output_type": "execute_result"
    }
   ],
   "source": [
    "present_candi_text"
   ]
  },
  {
   "cell_type": "code",
   "execution_count": null,
   "id": "f9a54b34",
   "metadata": {},
   "outputs": [],
   "source": []
  }
 ],
 "metadata": {
  "kernelspec": {
   "display_name": "last",
   "language": "python",
   "name": "last"
  },
  "language_info": {
   "codemirror_mode": {
    "name": "ipython",
    "version": 3
   },
   "file_extension": ".py",
   "mimetype": "text/x-python",
   "name": "python",
   "nbconvert_exporter": "python",
   "pygments_lexer": "ipython3",
   "version": "3.8.0"
  }
 },
 "nbformat": 4,
 "nbformat_minor": 5
}
