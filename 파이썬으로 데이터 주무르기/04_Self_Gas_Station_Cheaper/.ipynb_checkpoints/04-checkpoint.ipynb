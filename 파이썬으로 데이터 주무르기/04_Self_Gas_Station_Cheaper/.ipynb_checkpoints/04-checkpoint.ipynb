{
 "cells": [
  {
   "cell_type": "code",
   "execution_count": 13,
   "id": "7a244568",
   "metadata": {},
   "outputs": [],
   "source": [
    "from selenium import webdriver"
   ]
  },
  {
   "cell_type": "code",
   "execution_count": 14,
   "id": "74fb735c",
   "metadata": {},
   "outputs": [],
   "source": [
    "driver = webdriver.Chrome('./chromedriver')\n",
    "driver.get(\"https://nid.naver.com/nidlogin.login?mode=form&url=https%3A%2F%2Fwww.naver.com\")"
   ]
  },
  {
   "cell_type": "code",
   "execution_count": 15,
   "id": "8f2710ae",
   "metadata": {},
   "outputs": [
    {
     "data": {
      "text/plain": [
       "True"
      ]
     },
     "execution_count": 15,
     "metadata": {},
     "output_type": "execute_result"
    }
   ],
   "source": [
    "driver.save_screenshot('../images/001_1.png')"
   ]
  },
  {
   "cell_type": "code",
   "execution_count": 16,
   "id": "3e6cedc3",
   "metadata": {},
   "outputs": [],
   "source": [
    "elem_login = driver.find_element_by_id(\"id\")\n",
    "elem_login.clear()\n",
<<<<<<< HEAD
    "elem_login.send_keys(\"????\")\n",
    "\n",
    "elem_login = driver.find_element_by_id(\"pw\")\n",
    "elem_login.clear()\n",
    "elem_login.send_keys(\"????\")"
=======
    "elem_login.send_keys(\"aprilkim98\")\n",
    "\n",
    "elem_login = driver.find_element_by_id(\"pw\")\n",
    "elem_login.clear()\n",
    "elem_login.send_keys(\"rlagPfls!!\")"
>>>>>>> c937b9b355e73cec85650f583ac4c9651fb2dee4
   ]
  },
  {
   "cell_type": "code",
   "execution_count": 17,
   "id": "eff415f6",
   "metadata": {},
   "outputs": [],
   "source": [
    "xpath = \"\"\"//*[@id=\"log.login\"]\"\"\"\n",
    "driver.find_element_by_xpath(xpath).click()"
   ]
  },
  {
   "cell_type": "code",
   "execution_count": 18,
   "id": "53a5ea47",
   "metadata": {},
   "outputs": [],
   "source": [
    "driver.get(\"http://mail.naver.com\")"
   ]
  },
  {
   "cell_type": "code",
   "execution_count": 19,
   "id": "b3f2d1e9",
   "metadata": {},
   "outputs": [],
   "source": [
    "from bs4 import BeautifulSoup\n",
    "\n",
    "html = driver.page_source\n",
    "soup = BeautifulSoup(html, 'html.parser')"
   ]
  },
  {
   "cell_type": "code",
   "execution_count": 20,
   "id": "2235e4c8",
   "metadata": {},
   "outputs": [
    {
     "data": {
      "text/plain": [
       "[]"
      ]
     },
     "execution_count": 20,
     "metadata": {},
     "output_type": "execute_result"
    }
   ],
   "source": [
<<<<<<< HEAD
    "raw_list = soup.find_all('div', 'name _ccr(lst.from)')\n",
=======
    "raw_list = soup.find_all('div', 'name _ccr(lst.from) ')\n",
>>>>>>> c937b9b355e73cec85650f583ac4c9651fb2dee4
    "raw_list"
   ]
  },
  {
   "cell_type": "code",
   "execution_count": 22,
   "id": "0d2d43bd",
   "metadata": {},
   "outputs": [],
   "source": [
    "driver = webdriver.Chrome('./chromedriver')\n",
    "driver.get(\"http://www.opinet.co.kr/searRgSelect.do\")"
   ]
  },
  {
   "cell_type": "code",
   "execution_count": 24,
   "id": "5c4ee304",
   "metadata": {},
   "outputs": [],
   "source": [
    "gu_list_raw = driver.find_element_by_xpath(\"\"\"//*[@id=\"SIGUNGU_NM0\"]\"\"\")\n",
    "gu_list = gu_list_raw.find_elements_by_tag_name(\"option\")"
   ]
  },
  {
   "cell_type": "code",
   "execution_count": 25,
   "id": "410fd112",
   "metadata": {},
   "outputs": [
    {
     "data": {
      "text/plain": [
       "['강남구',\n",
       " '강동구',\n",
       " '강북구',\n",
       " '강서구',\n",
       " '관악구',\n",
       " '광진구',\n",
       " '구로구',\n",
       " '금천구',\n",
       " '노원구',\n",
       " '도봉구',\n",
       " '동대문구',\n",
       " '동작구',\n",
       " '마포구',\n",
       " '서대문구',\n",
       " '서초구',\n",
       " '성동구',\n",
       " '성북구',\n",
       " '송파구',\n",
       " '양천구',\n",
       " '영등포구',\n",
       " '용산구',\n",
       " '은평구',\n",
       " '종로구',\n",
       " '중구',\n",
       " '중랑구']"
      ]
     },
     "execution_count": 25,
     "metadata": {},
     "output_type": "execute_result"
    }
   ],
   "source": [
    "gu_names = [option.get_attribute(\"value\") for option in gu_list]\n",
    "gu_names.remove('')\n",
    "gu_names"
   ]
  },
  {
   "cell_type": "code",
   "execution_count": 26,
   "id": "44aa8ee4",
   "metadata": {},
   "outputs": [],
   "source": [
    "element = driver.find_element_by_id(\"SIGUNGU_NM0\")\n",
    "element.send_keys(gu_names[0])"
   ]
  },
  {
   "cell_type": "code",
   "execution_count": 27,
   "id": "6440ff7e",
   "metadata": {},
   "outputs": [],
   "source": [
    "xpath = \"\"\"//*[@id=\"searRgSelect\"]/span\"\"\"\n",
    "element_sel_gu = driver.find_element_by_xpath(xpath).click()"
   ]
  },
  {
   "cell_type": "code",
   "execution_count": 28,
   "id": "203954e7",
   "metadata": {},
   "outputs": [],
   "source": [
    "xpath = \"\"\"//*[@id=\"glopopd_excel\"]\"\"\"\n",
    "element_get_excel = driver.find_element_by_xpath(xpath).click()"
   ]
  },
  {
   "cell_type": "code",
   "execution_count": 29,
   "id": "f805b958",
   "metadata": {},
   "outputs": [
    {
     "name": "stderr",
     "output_type": "stream",
     "text": [
      "C:\\Users\\김혜린\\AppData\\Local\\Temp\\ipykernel_23112\\3213897217.py:4: TqdmDeprecationWarning: This function will be removed in tqdm==5.0.0\n",
      "Please use `tqdm.notebook.tqdm` instead of `tqdm.tqdm_notebook`\n",
      "  for gu in tqdm_notebook(gu_names):\n"
     ]
    },
    {
     "data": {
      "application/vnd.jupyter.widget-view+json": {
       "model_id": "53946beee69343d08718be77d37b3d6c",
       "version_major": 2,
       "version_minor": 0
      },
      "text/plain": [
       "  0%|          | 0/25 [00:00<?, ?it/s]"
      ]
     },
     "metadata": {},
     "output_type": "display_data"
    }
   ],
   "source": [
    "import time\n",
    "from tqdm import tqdm_notebook\n",
    "\n",
    "for gu in tqdm_notebook(gu_names):\n",
    "    element = driver.find_element_by_id(\"SIGUNGU_NM0\")\n",
    "    element.send_keys(gu)\n",
    "    \n",
    "    time.sleep(2)\n",
    "    \n",
    "    xpath = \"\"\"//*[@id=\"searRgSelect\"]\"\"\"\n",
    "    element_sel_gu = driver.find_element_by_xpath(xpath).click()\n",
    "    \n",
    "    time.sleep(1)\n",
    "    \n",
    "    xpath = \"\"\"//*[@id=\"glopopd_excel\"]\"\"\"\n",
    "    element_get_excel = driver.find_element_by_xpath(xpath).click()\n",
    "    \n",
    "    time.sleep(1)"
   ]
  },
  {
   "cell_type": "code",
   "execution_count": 30,
   "id": "c81a2f88",
   "metadata": {},
   "outputs": [],
   "source": [
    "driver.close()"
   ]
  },
  {
   "cell_type": "code",
<<<<<<< HEAD
   "execution_count": 3,
=======
   "execution_count": 35,
>>>>>>> c937b9b355e73cec85650f583ac4c9651fb2dee4
   "id": "fb6a56f5",
   "metadata": {},
   "outputs": [],
   "source": [
    "import pandas as pd\n",
    "from glob import glob"
   ]
  },
  {
   "cell_type": "code",
<<<<<<< HEAD
   "execution_count": 4,
=======
   "execution_count": 43,
>>>>>>> c937b9b355e73cec85650f583ac4c9651fb2dee4
   "id": "a6bc2194",
   "metadata": {},
   "outputs": [
    {
     "data": {
      "text/plain": [
       "['../data\\\\지역_위치별(주유소) (1).xls',\n",
       " '../data\\\\지역_위치별(주유소) (10).xls',\n",
       " '../data\\\\지역_위치별(주유소) (11).xls',\n",
       " '../data\\\\지역_위치별(주유소) (12).xls',\n",
       " '../data\\\\지역_위치별(주유소) (13).xls',\n",
       " '../data\\\\지역_위치별(주유소) (14).xls',\n",
       " '../data\\\\지역_위치별(주유소) (15).xls',\n",
       " '../data\\\\지역_위치별(주유소) (16).xls',\n",
       " '../data\\\\지역_위치별(주유소) (17).xls',\n",
       " '../data\\\\지역_위치별(주유소) (18).xls',\n",
       " '../data\\\\지역_위치별(주유소) (19).xls',\n",
       " '../data\\\\지역_위치별(주유소) (2).xls',\n",
       " '../data\\\\지역_위치별(주유소) (20).xls',\n",
       " '../data\\\\지역_위치별(주유소) (21).xls',\n",
       " '../data\\\\지역_위치별(주유소) (22).xls',\n",
       " '../data\\\\지역_위치별(주유소) (23).xls',\n",
       " '../data\\\\지역_위치별(주유소) (24).xls',\n",
       " '../data\\\\지역_위치별(주유소) (3).xls',\n",
       " '../data\\\\지역_위치별(주유소) (4).xls',\n",
       " '../data\\\\지역_위치별(주유소) (5).xls',\n",
       " '../data\\\\지역_위치별(주유소) (6).xls',\n",
       " '../data\\\\지역_위치별(주유소) (7).xls',\n",
       " '../data\\\\지역_위치별(주유소) (8).xls',\n",
       " '../data\\\\지역_위치별(주유소) (9).xls',\n",
       " '../data\\\\지역_위치별(주유소).xls']"
      ]
     },
<<<<<<< HEAD
     "execution_count": 4,
=======
     "execution_count": 43,
>>>>>>> c937b9b355e73cec85650f583ac4c9651fb2dee4
     "metadata": {},
     "output_type": "execute_result"
    }
   ],
   "source": [
    "glob('../data/*xls')"
   ]
  },
  {
   "cell_type": "code",
<<<<<<< HEAD
   "execution_count": 5,
=======
   "execution_count": 45,
>>>>>>> c937b9b355e73cec85650f583ac4c9651fb2dee4
   "id": "dbbdbb70",
   "metadata": {},
   "outputs": [
    {
     "data": {
      "text/plain": [
       "['../data\\\\지역_위치별(주유소) (1).xls',\n",
       " '../data\\\\지역_위치별(주유소) (10).xls',\n",
       " '../data\\\\지역_위치별(주유소) (11).xls',\n",
       " '../data\\\\지역_위치별(주유소) (12).xls',\n",
       " '../data\\\\지역_위치별(주유소) (13).xls',\n",
       " '../data\\\\지역_위치별(주유소) (14).xls',\n",
       " '../data\\\\지역_위치별(주유소) (15).xls',\n",
       " '../data\\\\지역_위치별(주유소) (16).xls',\n",
       " '../data\\\\지역_위치별(주유소) (17).xls',\n",
       " '../data\\\\지역_위치별(주유소) (18).xls',\n",
       " '../data\\\\지역_위치별(주유소) (19).xls',\n",
       " '../data\\\\지역_위치별(주유소) (2).xls',\n",
       " '../data\\\\지역_위치별(주유소) (20).xls',\n",
       " '../data\\\\지역_위치별(주유소) (21).xls',\n",
       " '../data\\\\지역_위치별(주유소) (22).xls',\n",
       " '../data\\\\지역_위치별(주유소) (23).xls',\n",
       " '../data\\\\지역_위치별(주유소) (24).xls',\n",
       " '../data\\\\지역_위치별(주유소) (3).xls',\n",
       " '../data\\\\지역_위치별(주유소) (4).xls',\n",
       " '../data\\\\지역_위치별(주유소) (5).xls',\n",
       " '../data\\\\지역_위치별(주유소) (6).xls',\n",
       " '../data\\\\지역_위치별(주유소) (7).xls',\n",
       " '../data\\\\지역_위치별(주유소) (8).xls',\n",
       " '../data\\\\지역_위치별(주유소) (9).xls',\n",
       " '../data\\\\지역_위치별(주유소).xls']"
      ]
     },
<<<<<<< HEAD
     "execution_count": 5,
=======
     "execution_count": 45,
>>>>>>> c937b9b355e73cec85650f583ac4c9651fb2dee4
     "metadata": {},
     "output_type": "execute_result"
    }
   ],
   "source": [
    "stations_files = glob('../data/*xls')\n",
    "stations_files"
   ]
  },
  {
   "cell_type": "code",
<<<<<<< HEAD
   "execution_count": 6,
=======
   "execution_count": 46,
>>>>>>> c937b9b355e73cec85650f583ac4c9651fb2dee4
   "id": "b3577ceb",
   "metadata": {},
   "outputs": [],
   "source": [
    "tmp_raw = []\n",
    "\n",
    "for file_name in stations_files:\n",
    "    tmp = pd.read_excel(file_name, header=2)\n",
    "    tmp_raw.append(tmp)\n",
    "    \n",
    "station_raw = pd.concat(tmp_raw)"
   ]
  },
  {
   "cell_type": "code",
<<<<<<< HEAD
   "execution_count": 7,
=======
   "execution_count": 47,
>>>>>>> c937b9b355e73cec85650f583ac4c9651fb2dee4
   "id": "77f858cb",
   "metadata": {},
   "outputs": [
    {
     "name": "stdout",
     "output_type": "stream",
     "text": [
      "<class 'pandas.core.frame.DataFrame'>\n",
      "Int64Index: 469 entries, 0 to 36\n",
      "Data columns (total 10 columns):\n",
      " #   Column  Non-Null Count  Dtype \n",
      "---  ------  --------------  ----- \n",
      " 0   지역      469 non-null    object\n",
      " 1   상호      469 non-null    object\n",
      " 2   주소      469 non-null    object\n",
      " 3   상표      469 non-null    object\n",
      " 4   전화번호    469 non-null    object\n",
      " 5   셀프여부    469 non-null    object\n",
      " 6   고급휘발유   469 non-null    object\n",
      " 7   휘발유     469 non-null    object\n",
      " 8   경유      469 non-null    object\n",
      " 9   실내등유    469 non-null    object\n",
      "dtypes: object(10)\n",
      "memory usage: 40.3+ KB\n"
     ]
    }
   ],
   "source": [
    "station_raw.info()"
   ]
  },
  {
   "cell_type": "code",
<<<<<<< HEAD
   "execution_count": 8,
=======
   "execution_count": 48,
>>>>>>> c937b9b355e73cec85650f583ac4c9651fb2dee4
   "id": "25bd5f67",
   "metadata": {},
   "outputs": [
    {
     "data": {
      "text/html": [
       "<div>\n",
       "<style scoped>\n",
       "    .dataframe tbody tr th:only-of-type {\n",
       "        vertical-align: middle;\n",
       "    }\n",
       "\n",
       "    .dataframe tbody tr th {\n",
       "        vertical-align: top;\n",
       "    }\n",
       "\n",
       "    .dataframe thead th {\n",
       "        text-align: right;\n",
       "    }\n",
       "</style>\n",
       "<table border=\"1\" class=\"dataframe\">\n",
       "  <thead>\n",
       "    <tr style=\"text-align: right;\">\n",
       "      <th></th>\n",
       "      <th>지역</th>\n",
       "      <th>상호</th>\n",
       "      <th>주소</th>\n",
       "      <th>상표</th>\n",
       "      <th>전화번호</th>\n",
       "      <th>셀프여부</th>\n",
       "      <th>고급휘발유</th>\n",
       "      <th>휘발유</th>\n",
       "      <th>경유</th>\n",
       "      <th>실내등유</th>\n",
       "    </tr>\n",
       "  </thead>\n",
       "  <tbody>\n",
       "    <tr>\n",
       "      <th>0</th>\n",
       "      <td>서울특별시</td>\n",
       "      <td>재건에너지 재정제2주유소 고속셀프지점</td>\n",
       "      <td>서울특별시 강동구  천호대로 1246 (둔촌제2동)</td>\n",
       "      <td>현대오일뱅크</td>\n",
       "      <td>02-487-2030</td>\n",
       "      <td>Y</td>\n",
       "      <td>-</td>\n",
       "      <td>1875</td>\n",
       "      <td>1695</td>\n",
       "      <td>-</td>\n",
       "    </tr>\n",
       "    <tr>\n",
       "      <th>1</th>\n",
       "      <td>서울특별시</td>\n",
       "      <td>구천면주유소</td>\n",
       "      <td>서울 강동구 구천면로 357 (암사동)</td>\n",
       "      <td>현대오일뱅크</td>\n",
       "      <td>02-441-0536</td>\n",
       "      <td>N</td>\n",
       "      <td>-</td>\n",
       "      <td>1893</td>\n",
       "      <td>1787</td>\n",
       "      <td>-</td>\n",
       "    </tr>\n",
       "    <tr>\n",
       "      <th>2</th>\n",
       "      <td>서울특별시</td>\n",
       "      <td>sk해뜨는주유소</td>\n",
       "      <td>서울 강동구  상일로 132 (강일동)</td>\n",
       "      <td>SK에너지</td>\n",
       "      <td>02-442-7801</td>\n",
       "      <td>Y</td>\n",
       "      <td>-</td>\n",
       "      <td>1895</td>\n",
       "      <td>1735</td>\n",
       "      <td>1400</td>\n",
       "    </tr>\n",
       "    <tr>\n",
       "      <th>3</th>\n",
       "      <td>서울특별시</td>\n",
       "      <td>(주)퍼스트오일 코알라주유소</td>\n",
       "      <td>서울특별시 강동구  올림픽로 556 (성내동)</td>\n",
       "      <td>S-OIL</td>\n",
       "      <td>02-484-1162</td>\n",
       "      <td>Y</td>\n",
       "      <td>-</td>\n",
       "      <td>1898</td>\n",
       "      <td>1738</td>\n",
       "      <td>-</td>\n",
       "    </tr>\n",
       "    <tr>\n",
       "      <th>4</th>\n",
       "      <td>서울특별시</td>\n",
       "      <td>주)지유에너지직영 오렌지주유소</td>\n",
       "      <td>서울 강동구 성안로 102 (성내동)</td>\n",
       "      <td>SK에너지</td>\n",
       "      <td>02-484-6165</td>\n",
       "      <td>N</td>\n",
       "      <td>-</td>\n",
       "      <td>1922</td>\n",
       "      <td>1752</td>\n",
       "      <td>1320</td>\n",
       "    </tr>\n",
       "  </tbody>\n",
       "</table>\n",
       "</div>"
      ],
      "text/plain": [
       "      지역                    상호                            주소      상표  \\\n",
       "0  서울특별시  재건에너지 재정제2주유소 고속셀프지점  서울특별시 강동구  천호대로 1246 (둔촌제2동)  현대오일뱅크   \n",
       "1  서울특별시                구천면주유소         서울 강동구 구천면로 357 (암사동)  현대오일뱅크   \n",
       "2  서울특별시              sk해뜨는주유소         서울 강동구  상일로 132 (강일동)   SK에너지   \n",
       "3  서울특별시       (주)퍼스트오일 코알라주유소     서울특별시 강동구  올림픽로 556 (성내동)   S-OIL   \n",
       "4  서울특별시      주)지유에너지직영 오렌지주유소          서울 강동구 성안로 102 (성내동)   SK에너지   \n",
       "\n",
       "          전화번호 셀프여부 고급휘발유   휘발유    경유  실내등유  \n",
       "0  02-487-2030    Y     -  1875  1695     -  \n",
       "1  02-441-0536    N     -  1893  1787     -  \n",
       "2  02-442-7801    Y     -  1895  1735  1400  \n",
       "3  02-484-1162    Y     -  1898  1738     -  \n",
       "4  02-484-6165    N     -  1922  1752  1320  "
      ]
     },
<<<<<<< HEAD
     "execution_count": 8,
=======
     "execution_count": 48,
>>>>>>> c937b9b355e73cec85650f583ac4c9651fb2dee4
     "metadata": {},
     "output_type": "execute_result"
    }
   ],
   "source": [
    "station_raw.head()"
   ]
  },
  {
   "cell_type": "code",
<<<<<<< HEAD
   "execution_count": 9,
=======
   "execution_count": 49,
>>>>>>> c937b9b355e73cec85650f583ac4c9651fb2dee4
   "id": "4a4c0d81",
   "metadata": {},
   "outputs": [
    {
     "data": {
      "text/html": [
       "<div>\n",
       "<style scoped>\n",
       "    .dataframe tbody tr th:only-of-type {\n",
       "        vertical-align: middle;\n",
       "    }\n",
       "\n",
       "    .dataframe tbody tr th {\n",
       "        vertical-align: top;\n",
       "    }\n",
       "\n",
       "    .dataframe thead th {\n",
       "        text-align: right;\n",
       "    }\n",
       "</style>\n",
       "<table border=\"1\" class=\"dataframe\">\n",
       "  <thead>\n",
       "    <tr style=\"text-align: right;\">\n",
       "      <th></th>\n",
       "      <th>Oil_store</th>\n",
       "      <th>주소</th>\n",
       "      <th>가격</th>\n",
       "      <th>셀프</th>\n",
       "      <th>상표</th>\n",
       "    </tr>\n",
       "  </thead>\n",
       "  <tbody>\n",
       "    <tr>\n",
       "      <th>0</th>\n",
       "      <td>재건에너지 재정제2주유소 고속셀프지점</td>\n",
       "      <td>서울특별시 강동구  천호대로 1246 (둔촌제2동)</td>\n",
       "      <td>1875</td>\n",
       "      <td>Y</td>\n",
       "      <td>현대오일뱅크</td>\n",
       "    </tr>\n",
       "    <tr>\n",
       "      <th>1</th>\n",
       "      <td>구천면주유소</td>\n",
       "      <td>서울 강동구 구천면로 357 (암사동)</td>\n",
       "      <td>1893</td>\n",
       "      <td>N</td>\n",
       "      <td>현대오일뱅크</td>\n",
       "    </tr>\n",
       "    <tr>\n",
       "      <th>2</th>\n",
       "      <td>sk해뜨는주유소</td>\n",
       "      <td>서울 강동구  상일로 132 (강일동)</td>\n",
       "      <td>1895</td>\n",
       "      <td>Y</td>\n",
       "      <td>SK에너지</td>\n",
       "    </tr>\n",
       "    <tr>\n",
       "      <th>3</th>\n",
       "      <td>(주)퍼스트오일 코알라주유소</td>\n",
       "      <td>서울특별시 강동구  올림픽로 556 (성내동)</td>\n",
       "      <td>1898</td>\n",
       "      <td>Y</td>\n",
       "      <td>S-OIL</td>\n",
       "    </tr>\n",
       "    <tr>\n",
       "      <th>4</th>\n",
       "      <td>주)지유에너지직영 오렌지주유소</td>\n",
       "      <td>서울 강동구 성안로 102 (성내동)</td>\n",
       "      <td>1922</td>\n",
       "      <td>N</td>\n",
       "      <td>SK에너지</td>\n",
       "    </tr>\n",
       "  </tbody>\n",
       "</table>\n",
       "</div>"
      ],
      "text/plain": [
       "              Oil_store                            주소    가격 셀프      상표\n",
       "0  재건에너지 재정제2주유소 고속셀프지점  서울특별시 강동구  천호대로 1246 (둔촌제2동)  1875  Y  현대오일뱅크\n",
       "1                구천면주유소         서울 강동구 구천면로 357 (암사동)  1893  N  현대오일뱅크\n",
       "2              sk해뜨는주유소         서울 강동구  상일로 132 (강일동)  1895  Y   SK에너지\n",
       "3       (주)퍼스트오일 코알라주유소     서울특별시 강동구  올림픽로 556 (성내동)  1898  Y   S-OIL\n",
       "4      주)지유에너지직영 오렌지주유소          서울 강동구 성안로 102 (성내동)  1922  N   SK에너지"
      ]
     },
<<<<<<< HEAD
     "execution_count": 9,
=======
     "execution_count": 49,
>>>>>>> c937b9b355e73cec85650f583ac4c9651fb2dee4
     "metadata": {},
     "output_type": "execute_result"
    }
   ],
   "source": [
    "stations = pd.DataFrame({'Oil_store':station_raw['상호'], \n",
    "                                       '주소':station_raw['주소'],\n",
    "                                       '가격':station_raw['휘발유'],\n",
    "                                       '셀프':station_raw['셀프여부'],\n",
    "                                       '상표':station_raw['상표']  })\n",
    "stations.head()"
   ]
  },
  {
   "cell_type": "code",
<<<<<<< HEAD
   "execution_count": 10,
=======
   "execution_count": 50,
>>>>>>> c937b9b355e73cec85650f583ac4c9651fb2dee4
   "id": "a5970c0d",
   "metadata": {},
   "outputs": [
    {
     "data": {
      "text/html": [
       "<div>\n",
       "<style scoped>\n",
       "    .dataframe tbody tr th:only-of-type {\n",
       "        vertical-align: middle;\n",
       "    }\n",
       "\n",
       "    .dataframe tbody tr th {\n",
       "        vertical-align: top;\n",
       "    }\n",
       "\n",
       "    .dataframe thead th {\n",
       "        text-align: right;\n",
       "    }\n",
       "</style>\n",
       "<table border=\"1\" class=\"dataframe\">\n",
       "  <thead>\n",
       "    <tr style=\"text-align: right;\">\n",
       "      <th></th>\n",
       "      <th>Oil_store</th>\n",
       "      <th>주소</th>\n",
       "      <th>가격</th>\n",
       "      <th>셀프</th>\n",
       "      <th>상표</th>\n",
       "      <th>구</th>\n",
       "    </tr>\n",
       "  </thead>\n",
       "  <tbody>\n",
       "    <tr>\n",
       "      <th>0</th>\n",
       "      <td>재건에너지 재정제2주유소 고속셀프지점</td>\n",
       "      <td>서울특별시 강동구  천호대로 1246 (둔촌제2동)</td>\n",
       "      <td>1875</td>\n",
       "      <td>Y</td>\n",
       "      <td>현대오일뱅크</td>\n",
       "      <td>강동구</td>\n",
       "    </tr>\n",
       "    <tr>\n",
       "      <th>1</th>\n",
       "      <td>구천면주유소</td>\n",
       "      <td>서울 강동구 구천면로 357 (암사동)</td>\n",
       "      <td>1893</td>\n",
       "      <td>N</td>\n",
       "      <td>현대오일뱅크</td>\n",
       "      <td>강동구</td>\n",
       "    </tr>\n",
       "    <tr>\n",
       "      <th>2</th>\n",
       "      <td>sk해뜨는주유소</td>\n",
       "      <td>서울 강동구  상일로 132 (강일동)</td>\n",
       "      <td>1895</td>\n",
       "      <td>Y</td>\n",
       "      <td>SK에너지</td>\n",
       "      <td>강동구</td>\n",
       "    </tr>\n",
       "    <tr>\n",
       "      <th>3</th>\n",
       "      <td>(주)퍼스트오일 코알라주유소</td>\n",
       "      <td>서울특별시 강동구  올림픽로 556 (성내동)</td>\n",
       "      <td>1898</td>\n",
       "      <td>Y</td>\n",
       "      <td>S-OIL</td>\n",
       "      <td>강동구</td>\n",
       "    </tr>\n",
       "    <tr>\n",
       "      <th>4</th>\n",
       "      <td>주)지유에너지직영 오렌지주유소</td>\n",
       "      <td>서울 강동구 성안로 102 (성내동)</td>\n",
       "      <td>1922</td>\n",
       "      <td>N</td>\n",
       "      <td>SK에너지</td>\n",
       "      <td>강동구</td>\n",
       "    </tr>\n",
       "  </tbody>\n",
       "</table>\n",
       "</div>"
      ],
      "text/plain": [
       "              Oil_store                            주소    가격 셀프      상표    구\n",
       "0  재건에너지 재정제2주유소 고속셀프지점  서울특별시 강동구  천호대로 1246 (둔촌제2동)  1875  Y  현대오일뱅크  강동구\n",
       "1                구천면주유소         서울 강동구 구천면로 357 (암사동)  1893  N  현대오일뱅크  강동구\n",
       "2              sk해뜨는주유소         서울 강동구  상일로 132 (강일동)  1895  Y   SK에너지  강동구\n",
       "3       (주)퍼스트오일 코알라주유소     서울특별시 강동구  올림픽로 556 (성내동)  1898  Y   S-OIL  강동구\n",
       "4      주)지유에너지직영 오렌지주유소          서울 강동구 성안로 102 (성내동)  1922  N   SK에너지  강동구"
      ]
     },
<<<<<<< HEAD
     "execution_count": 10,
=======
     "execution_count": 50,
>>>>>>> c937b9b355e73cec85650f583ac4c9651fb2dee4
     "metadata": {},
     "output_type": "execute_result"
    }
   ],
   "source": [
    "stations['구'] = [eachAddress.split()[1] for eachAddress in stations['주소']]\n",
    "stations.head()"
   ]
  },
  {
   "cell_type": "code",
<<<<<<< HEAD
   "execution_count": 11,
=======
   "execution_count": 51,
>>>>>>> c937b9b355e73cec85650f583ac4c9651fb2dee4
   "id": "9a8daab2",
   "metadata": {},
   "outputs": [
    {
     "data": {
      "text/plain": [
       "array(['강동구', '동대문구', '동작구', '마포구', '서대문구', '서초구', '성동구', '성북구', '송파구',\n",
       "       '양천구', '영등포구', '강북구', '용산구', '은평구', '종로구', '중구', '중랑구', '강서구',\n",
       "       '관악구', '광진구', '구로구', '금천구', '노원구', '도봉구', '강남구'], dtype=object)"
      ]
     },
<<<<<<< HEAD
     "execution_count": 11,
=======
     "execution_count": 51,
>>>>>>> c937b9b355e73cec85650f583ac4c9651fb2dee4
     "metadata": {},
     "output_type": "execute_result"
    }
   ],
   "source": [
    "stations['구'].unique()"
   ]
  },
  {
   "cell_type": "code",
<<<<<<< HEAD
   "execution_count": 12,
=======
   "execution_count": 52,
>>>>>>> c937b9b355e73cec85650f583ac4c9651fb2dee4
   "id": "afa08069",
   "metadata": {},
   "outputs": [
    {
     "data": {
      "text/html": [
       "<div>\n",
       "<style scoped>\n",
       "    .dataframe tbody tr th:only-of-type {\n",
       "        vertical-align: middle;\n",
       "    }\n",
       "\n",
       "    .dataframe tbody tr th {\n",
       "        vertical-align: top;\n",
       "    }\n",
       "\n",
       "    .dataframe thead th {\n",
       "        text-align: right;\n",
       "    }\n",
       "</style>\n",
       "<table border=\"1\" class=\"dataframe\">\n",
       "  <thead>\n",
       "    <tr style=\"text-align: right;\">\n",
       "      <th></th>\n",
       "      <th>Oil_store</th>\n",
       "      <th>주소</th>\n",
       "      <th>가격</th>\n",
       "      <th>셀프</th>\n",
       "      <th>상표</th>\n",
       "      <th>구</th>\n",
       "    </tr>\n",
       "  </thead>\n",
       "  <tbody>\n",
       "  </tbody>\n",
       "</table>\n",
       "</div>"
      ],
      "text/plain": [
       "Empty DataFrame\n",
       "Columns: [Oil_store, 주소, 가격, 셀프, 상표, 구]\n",
       "Index: []"
      ]
     },
<<<<<<< HEAD
     "execution_count": 12,
=======
     "execution_count": 52,
>>>>>>> c937b9b355e73cec85650f583ac4c9651fb2dee4
     "metadata": {},
     "output_type": "execute_result"
    }
   ],
   "source": [
    "stations[stations['구']=='서울특별시']"
   ]
  },
  {
   "cell_type": "code",
<<<<<<< HEAD
   "execution_count": 13,
=======
   "execution_count": 53,
>>>>>>> c937b9b355e73cec85650f583ac4c9651fb2dee4
   "id": "873ec7a6",
   "metadata": {},
   "outputs": [
    {
     "data": {
      "text/plain": [
       "array(['강동구', '동대문구', '동작구', '마포구', '서대문구', '서초구', '성동구', '성북구', '송파구',\n",
       "       '양천구', '영등포구', '강북구', '용산구', '은평구', '종로구', '중구', '중랑구', '강서구',\n",
       "       '관악구', '광진구', '구로구', '금천구', '노원구', '도봉구', '강남구'], dtype=object)"
      ]
     },
<<<<<<< HEAD
     "execution_count": 13,
=======
     "execution_count": 53,
>>>>>>> c937b9b355e73cec85650f583ac4c9651fb2dee4
     "metadata": {},
     "output_type": "execute_result"
    }
   ],
   "source": [
    "stations.loc[stations['구']=='서울특별시', '구'] = '성동구'\n",
    "stations['구'].unique()"
   ]
  },
  {
   "cell_type": "code",
<<<<<<< HEAD
   "execution_count": 14,
=======
   "execution_count": 54,
>>>>>>> c937b9b355e73cec85650f583ac4c9651fb2dee4
   "id": "614c0c4a",
   "metadata": {},
   "outputs": [
    {
     "data": {
      "text/html": [
       "<div>\n",
       "<style scoped>\n",
       "    .dataframe tbody tr th:only-of-type {\n",
       "        vertical-align: middle;\n",
       "    }\n",
       "\n",
       "    .dataframe tbody tr th {\n",
       "        vertical-align: top;\n",
       "    }\n",
       "\n",
       "    .dataframe thead th {\n",
       "        text-align: right;\n",
       "    }\n",
       "</style>\n",
       "<table border=\"1\" class=\"dataframe\">\n",
       "  <thead>\n",
       "    <tr style=\"text-align: right;\">\n",
       "      <th></th>\n",
       "      <th>Oil_store</th>\n",
       "      <th>주소</th>\n",
       "      <th>가격</th>\n",
       "      <th>셀프</th>\n",
       "      <th>상표</th>\n",
       "      <th>구</th>\n",
       "    </tr>\n",
       "  </thead>\n",
       "  <tbody>\n",
       "  </tbody>\n",
       "</table>\n",
       "</div>"
      ],
      "text/plain": [
       "Empty DataFrame\n",
       "Columns: [Oil_store, 주소, 가격, 셀프, 상표, 구]\n",
       "Index: []"
      ]
     },
<<<<<<< HEAD
     "execution_count": 14,
=======
     "execution_count": 54,
>>>>>>> c937b9b355e73cec85650f583ac4c9651fb2dee4
     "metadata": {},
     "output_type": "execute_result"
    }
   ],
   "source": [
    "stations[stations['구']=='특별시']"
   ]
  },
  {
   "cell_type": "code",
<<<<<<< HEAD
   "execution_count": 15,
=======
   "execution_count": 55,
>>>>>>> c937b9b355e73cec85650f583ac4c9651fb2dee4
   "id": "7a6d68b1",
   "metadata": {},
   "outputs": [
    {
     "data": {
      "text/plain": [
       "array(['강동구', '동대문구', '동작구', '마포구', '서대문구', '서초구', '성동구', '성북구', '송파구',\n",
       "       '양천구', '영등포구', '강북구', '용산구', '은평구', '종로구', '중구', '중랑구', '강서구',\n",
       "       '관악구', '광진구', '구로구', '금천구', '노원구', '도봉구', '강남구'], dtype=object)"
      ]
     },
<<<<<<< HEAD
     "execution_count": 15,
=======
     "execution_count": 55,
>>>>>>> c937b9b355e73cec85650f583ac4c9651fb2dee4
     "metadata": {},
     "output_type": "execute_result"
    }
   ],
   "source": [
    "stations.loc[stations['구']=='특별시', '구'] = '도봉구'\n",
    "stations['구'].unique()"
   ]
  },
  {
   "cell_type": "code",
<<<<<<< HEAD
   "execution_count": 16,
=======
   "execution_count": 56,
>>>>>>> c937b9b355e73cec85650f583ac4c9651fb2dee4
   "id": "0debc445",
   "metadata": {},
   "outputs": [
    {
     "data": {
      "text/html": [
       "<div>\n",
       "<style scoped>\n",
       "    .dataframe tbody tr th:only-of-type {\n",
       "        vertical-align: middle;\n",
       "    }\n",
       "\n",
       "    .dataframe tbody tr th {\n",
       "        vertical-align: top;\n",
       "    }\n",
       "\n",
       "    .dataframe thead th {\n",
       "        text-align: right;\n",
       "    }\n",
       "</style>\n",
       "<table border=\"1\" class=\"dataframe\">\n",
       "  <thead>\n",
       "    <tr style=\"text-align: right;\">\n",
       "      <th></th>\n",
       "      <th>Oil_store</th>\n",
       "      <th>주소</th>\n",
       "      <th>가격</th>\n",
       "      <th>셀프</th>\n",
       "      <th>상표</th>\n",
       "      <th>구</th>\n",
       "    </tr>\n",
       "  </thead>\n",
       "  <tbody>\n",
       "    <tr>\n",
       "      <th>32</th>\n",
       "      <td>현대오일뱅크㈜직영 사평로주유소</td>\n",
       "      <td>서울 서초구 사평대로 350 (서초동)</td>\n",
       "      <td>-</td>\n",
       "      <td>N</td>\n",
       "      <td>현대오일뱅크</td>\n",
       "      <td>서초구</td>\n",
       "    </tr>\n",
       "    <tr>\n",
       "      <th>27</th>\n",
       "      <td>지에스칼텍스㈜ 화일주유소</td>\n",
       "      <td>서울 영등포구 도림로 415</td>\n",
       "      <td>-</td>\n",
       "      <td>Y</td>\n",
       "      <td>GS칼텍스</td>\n",
       "      <td>영등포구</td>\n",
       "    </tr>\n",
       "    <tr>\n",
       "      <th>16</th>\n",
       "      <td>삼융주유소</td>\n",
       "      <td>서울 은평구 수색로 299 (수색동)</td>\n",
       "      <td>-</td>\n",
       "      <td>N</td>\n",
       "      <td>SK에너지</td>\n",
       "      <td>은평구</td>\n",
       "    </tr>\n",
       "    <tr>\n",
       "      <th>9</th>\n",
       "      <td>지에스칼텍스(주)직영 역전점</td>\n",
       "      <td>서울 중구 퇴계로 15</td>\n",
       "      <td>-</td>\n",
       "      <td>N</td>\n",
       "      <td>GS칼텍스</td>\n",
       "      <td>중구</td>\n",
       "    </tr>\n",
       "    <tr>\n",
       "      <th>10</th>\n",
       "      <td>필동주유소</td>\n",
       "      <td>서울 중구  퇴계로 196 (필동2가)</td>\n",
       "      <td>-</td>\n",
       "      <td>N</td>\n",
       "      <td>GS칼텍스</td>\n",
       "      <td>중구</td>\n",
       "    </tr>\n",
       "    <tr>\n",
       "      <th>15</th>\n",
       "      <td>구의스타주유소</td>\n",
       "      <td>서울 광진구 자양로 103</td>\n",
       "      <td>-</td>\n",
       "      <td>N</td>\n",
       "      <td>GS칼텍스</td>\n",
       "      <td>광진구</td>\n",
       "    </tr>\n",
       "    <tr>\n",
       "      <th>17</th>\n",
       "      <td>정다운셀프주유소</td>\n",
       "      <td>서울 도봉구 도봉로 635</td>\n",
       "      <td>-</td>\n",
       "      <td>Y</td>\n",
       "      <td>SK에너지</td>\n",
       "      <td>도봉구</td>\n",
       "    </tr>\n",
       "    <tr>\n",
       "      <th>34</th>\n",
       "      <td>삼성주유소</td>\n",
       "      <td>서울 강남구 삼성로 521 (삼성동)</td>\n",
       "      <td>-</td>\n",
       "      <td>N</td>\n",
       "      <td>SK에너지</td>\n",
       "      <td>강남구</td>\n",
       "    </tr>\n",
       "    <tr>\n",
       "      <th>35</th>\n",
       "      <td>동우주유소</td>\n",
       "      <td>서울특별시 강남구  봉은사로 311 (논현동)</td>\n",
       "      <td>-</td>\n",
       "      <td>N</td>\n",
       "      <td>SK에너지</td>\n",
       "      <td>강남구</td>\n",
       "    </tr>\n",
       "    <tr>\n",
       "      <th>36</th>\n",
       "      <td>경원주유소</td>\n",
       "      <td>서울 강남구 도산대로 428 (청담동)</td>\n",
       "      <td>-</td>\n",
       "      <td>N</td>\n",
       "      <td>S-OIL</td>\n",
       "      <td>강남구</td>\n",
       "    </tr>\n",
       "  </tbody>\n",
       "</table>\n",
       "</div>"
      ],
      "text/plain": [
       "           Oil_store                         주소 가격 셀프      상표     구\n",
       "32  현대오일뱅크㈜직영 사평로주유소      서울 서초구 사평대로 350 (서초동)  -  N  현대오일뱅크   서초구\n",
       "27     지에스칼텍스㈜ 화일주유소            서울 영등포구 도림로 415  -  Y   GS칼텍스  영등포구\n",
       "16             삼융주유소       서울 은평구 수색로 299 (수색동)  -  N   SK에너지   은평구\n",
       "9    지에스칼텍스(주)직영 역전점               서울 중구 퇴계로 15  -  N   GS칼텍스    중구\n",
       "10             필동주유소      서울 중구  퇴계로 196 (필동2가)  -  N   GS칼텍스    중구\n",
       "15           구의스타주유소             서울 광진구 자양로 103  -  N   GS칼텍스   광진구\n",
       "17          정다운셀프주유소             서울 도봉구 도봉로 635  -  Y   SK에너지   도봉구\n",
       "34             삼성주유소       서울 강남구 삼성로 521 (삼성동)  -  N   SK에너지   강남구\n",
       "35             동우주유소  서울특별시 강남구  봉은사로 311 (논현동)  -  N   SK에너지   강남구\n",
       "36             경원주유소      서울 강남구 도산대로 428 (청담동)  -  N   S-OIL   강남구"
      ]
     },
<<<<<<< HEAD
     "execution_count": 16,
=======
     "execution_count": 56,
>>>>>>> c937b9b355e73cec85650f583ac4c9651fb2dee4
     "metadata": {},
     "output_type": "execute_result"
    }
   ],
   "source": [
    "stations[stations['가격']=='-']"
   ]
  },
  {
   "cell_type": "code",
<<<<<<< HEAD
   "execution_count": 17,
=======
   "execution_count": 57,
>>>>>>> c937b9b355e73cec85650f583ac4c9651fb2dee4
   "id": "fbca20b6",
   "metadata": {},
   "outputs": [
    {
     "data": {
      "text/html": [
       "<div>\n",
       "<style scoped>\n",
       "    .dataframe tbody tr th:only-of-type {\n",
       "        vertical-align: middle;\n",
       "    }\n",
       "\n",
       "    .dataframe tbody tr th {\n",
       "        vertical-align: top;\n",
       "    }\n",
       "\n",
       "    .dataframe thead th {\n",
       "        text-align: right;\n",
       "    }\n",
       "</style>\n",
       "<table border=\"1\" class=\"dataframe\">\n",
       "  <thead>\n",
       "    <tr style=\"text-align: right;\">\n",
       "      <th></th>\n",
       "      <th>Oil_store</th>\n",
       "      <th>주소</th>\n",
       "      <th>가격</th>\n",
       "      <th>셀프</th>\n",
       "      <th>상표</th>\n",
       "      <th>구</th>\n",
       "    </tr>\n",
       "  </thead>\n",
       "  <tbody>\n",
       "    <tr>\n",
       "      <th>0</th>\n",
       "      <td>재건에너지 재정제2주유소 고속셀프지점</td>\n",
       "      <td>서울특별시 강동구  천호대로 1246 (둔촌제2동)</td>\n",
       "      <td>1875</td>\n",
       "      <td>Y</td>\n",
       "      <td>현대오일뱅크</td>\n",
       "      <td>강동구</td>\n",
       "    </tr>\n",
       "    <tr>\n",
       "      <th>1</th>\n",
       "      <td>구천면주유소</td>\n",
       "      <td>서울 강동구 구천면로 357 (암사동)</td>\n",
       "      <td>1893</td>\n",
       "      <td>N</td>\n",
       "      <td>현대오일뱅크</td>\n",
       "      <td>강동구</td>\n",
       "    </tr>\n",
       "    <tr>\n",
       "      <th>2</th>\n",
       "      <td>sk해뜨는주유소</td>\n",
       "      <td>서울 강동구  상일로 132 (강일동)</td>\n",
       "      <td>1895</td>\n",
       "      <td>Y</td>\n",
       "      <td>SK에너지</td>\n",
       "      <td>강동구</td>\n",
       "    </tr>\n",
       "    <tr>\n",
       "      <th>3</th>\n",
       "      <td>(주)퍼스트오일 코알라주유소</td>\n",
       "      <td>서울특별시 강동구  올림픽로 556 (성내동)</td>\n",
       "      <td>1898</td>\n",
       "      <td>Y</td>\n",
       "      <td>S-OIL</td>\n",
       "      <td>강동구</td>\n",
       "    </tr>\n",
       "    <tr>\n",
       "      <th>4</th>\n",
       "      <td>주)지유에너지직영 오렌지주유소</td>\n",
       "      <td>서울 강동구 성안로 102 (성내동)</td>\n",
       "      <td>1922</td>\n",
       "      <td>N</td>\n",
       "      <td>SK에너지</td>\n",
       "      <td>강동구</td>\n",
       "    </tr>\n",
       "  </tbody>\n",
       "</table>\n",
       "</div>"
      ],
      "text/plain": [
       "              Oil_store                            주소    가격 셀프      상표    구\n",
       "0  재건에너지 재정제2주유소 고속셀프지점  서울특별시 강동구  천호대로 1246 (둔촌제2동)  1875  Y  현대오일뱅크  강동구\n",
       "1                구천면주유소         서울 강동구 구천면로 357 (암사동)  1893  N  현대오일뱅크  강동구\n",
       "2              sk해뜨는주유소         서울 강동구  상일로 132 (강일동)  1895  Y   SK에너지  강동구\n",
       "3       (주)퍼스트오일 코알라주유소     서울특별시 강동구  올림픽로 556 (성내동)  1898  Y   S-OIL  강동구\n",
       "4      주)지유에너지직영 오렌지주유소          서울 강동구 성안로 102 (성내동)  1922  N   SK에너지  강동구"
      ]
     },
<<<<<<< HEAD
     "execution_count": 17,
=======
     "execution_count": 57,
>>>>>>> c937b9b355e73cec85650f583ac4c9651fb2dee4
     "metadata": {},
     "output_type": "execute_result"
    }
   ],
   "source": [
    "stations = stations[stations['가격'] != '-']\n",
    "stations.head()"
   ]
  },
  {
   "cell_type": "code",
<<<<<<< HEAD
   "execution_count": 18,
=======
   "execution_count": 58,
>>>>>>> c937b9b355e73cec85650f583ac4c9651fb2dee4
   "id": "32ea3f9f",
   "metadata": {},
   "outputs": [],
   "source": [
    "stations['가격'] = [float(value) for value in stations['가격']]"
   ]
  },
  {
   "cell_type": "code",
<<<<<<< HEAD
   "execution_count": 19,
=======
   "execution_count": 59,
>>>>>>> c937b9b355e73cec85650f583ac4c9651fb2dee4
   "id": "01af6885",
   "metadata": {},
   "outputs": [],
   "source": [
    "stations.reset_index(inplace=True)\n",
    "del stations['index']"
   ]
  },
  {
   "cell_type": "code",
<<<<<<< HEAD
   "execution_count": 20,
=======
   "execution_count": 60,
>>>>>>> c937b9b355e73cec85650f583ac4c9651fb2dee4
   "id": "d7f04255",
   "metadata": {},
   "outputs": [
    {
     "name": "stdout",
     "output_type": "stream",
     "text": [
      "<class 'pandas.core.frame.DataFrame'>\n",
      "RangeIndex: 459 entries, 0 to 458\n",
      "Data columns (total 6 columns):\n",
      " #   Column     Non-Null Count  Dtype  \n",
      "---  ------     --------------  -----  \n",
      " 0   Oil_store  459 non-null    object \n",
      " 1   주소         459 non-null    object \n",
      " 2   가격         459 non-null    float64\n",
      " 3   셀프         459 non-null    object \n",
      " 4   상표         459 non-null    object \n",
      " 5   구          459 non-null    object \n",
      "dtypes: float64(1), object(5)\n",
      "memory usage: 21.6+ KB\n"
     ]
    }
   ],
   "source": [
    "stations.info()"
   ]
  },
  {
   "cell_type": "code",
<<<<<<< HEAD
   "execution_count": 21,
=======
   "execution_count": 61,
>>>>>>> c937b9b355e73cec85650f583ac4c9651fb2dee4
   "id": "f44fc872",
   "metadata": {},
   "outputs": [
    {
     "data": {
      "text/html": [
       "<div>\n",
       "<style scoped>\n",
       "    .dataframe tbody tr th:only-of-type {\n",
       "        vertical-align: middle;\n",
       "    }\n",
       "\n",
       "    .dataframe tbody tr th {\n",
       "        vertical-align: top;\n",
       "    }\n",
       "\n",
       "    .dataframe thead th {\n",
       "        text-align: right;\n",
       "    }\n",
       "</style>\n",
       "<table border=\"1\" class=\"dataframe\">\n",
       "  <thead>\n",
       "    <tr style=\"text-align: right;\">\n",
       "      <th></th>\n",
       "      <th>Oil_store</th>\n",
       "      <th>주소</th>\n",
       "      <th>가격</th>\n",
       "      <th>셀프</th>\n",
       "      <th>상표</th>\n",
       "      <th>구</th>\n",
       "    </tr>\n",
       "  </thead>\n",
       "  <tbody>\n",
       "    <tr>\n",
       "      <th>0</th>\n",
       "      <td>재건에너지 재정제2주유소 고속셀프지점</td>\n",
       "      <td>서울특별시 강동구  천호대로 1246 (둔촌제2동)</td>\n",
       "      <td>1875.0</td>\n",
       "      <td>Y</td>\n",
       "      <td>현대오일뱅크</td>\n",
       "      <td>강동구</td>\n",
       "    </tr>\n",
       "    <tr>\n",
       "      <th>1</th>\n",
       "      <td>구천면주유소</td>\n",
       "      <td>서울 강동구 구천면로 357 (암사동)</td>\n",
       "      <td>1893.0</td>\n",
       "      <td>N</td>\n",
       "      <td>현대오일뱅크</td>\n",
       "      <td>강동구</td>\n",
       "    </tr>\n",
       "    <tr>\n",
       "      <th>2</th>\n",
       "      <td>sk해뜨는주유소</td>\n",
       "      <td>서울 강동구  상일로 132 (강일동)</td>\n",
       "      <td>1895.0</td>\n",
       "      <td>Y</td>\n",
       "      <td>SK에너지</td>\n",
       "      <td>강동구</td>\n",
       "    </tr>\n",
       "    <tr>\n",
       "      <th>3</th>\n",
       "      <td>(주)퍼스트오일 코알라주유소</td>\n",
       "      <td>서울특별시 강동구  올림픽로 556 (성내동)</td>\n",
       "      <td>1898.0</td>\n",
       "      <td>Y</td>\n",
       "      <td>S-OIL</td>\n",
       "      <td>강동구</td>\n",
       "    </tr>\n",
       "    <tr>\n",
       "      <th>4</th>\n",
       "      <td>주)지유에너지직영 오렌지주유소</td>\n",
       "      <td>서울 강동구 성안로 102 (성내동)</td>\n",
       "      <td>1922.0</td>\n",
       "      <td>N</td>\n",
       "      <td>SK에너지</td>\n",
       "      <td>강동구</td>\n",
       "    </tr>\n",
       "  </tbody>\n",
       "</table>\n",
       "</div>"
      ],
      "text/plain": [
       "              Oil_store                            주소      가격 셀프      상표    구\n",
       "0  재건에너지 재정제2주유소 고속셀프지점  서울특별시 강동구  천호대로 1246 (둔촌제2동)  1875.0  Y  현대오일뱅크  강동구\n",
       "1                구천면주유소         서울 강동구 구천면로 357 (암사동)  1893.0  N  현대오일뱅크  강동구\n",
       "2              sk해뜨는주유소         서울 강동구  상일로 132 (강일동)  1895.0  Y   SK에너지  강동구\n",
       "3       (주)퍼스트오일 코알라주유소     서울특별시 강동구  올림픽로 556 (성내동)  1898.0  Y   S-OIL  강동구\n",
       "4      주)지유에너지직영 오렌지주유소          서울 강동구 성안로 102 (성내동)  1922.0  N   SK에너지  강동구"
      ]
     },
<<<<<<< HEAD
     "execution_count": 21,
=======
     "execution_count": 61,
>>>>>>> c937b9b355e73cec85650f583ac4c9651fb2dee4
     "metadata": {},
     "output_type": "execute_result"
    }
   ],
   "source": [
    "stations.head()"
   ]
  },
  {
   "cell_type": "code",
<<<<<<< HEAD
   "execution_count": 22,
   "id": "5cfad519",
   "metadata": {},
   "outputs": [],
=======
   "execution_count": 62,
   "id": "5cfad519",
   "metadata": {},
   "outputs": [
    {
     "ename": "OSError",
     "evalue": "Failed to open file b'C:\\\\Users\\\\\\xea\\xb9\\x80\\xed\\x98\\x9c\\xeb\\xa6\\xb0\\\\AppData\\\\Local\\\\Temp\\\\scipy-h3912mpt'",
     "output_type": "error",
     "traceback": [
      "\u001b[1;31m---------------------------------------------------------------------------\u001b[0m",
      "\u001b[1;31mOSError\u001b[0m                                   Traceback (most recent call last)",
      "Input \u001b[1;32mIn [62]\u001b[0m, in \u001b[0;36m<module>\u001b[1;34m\u001b[0m\n\u001b[0;32m      1\u001b[0m \u001b[38;5;28;01mimport\u001b[39;00m \u001b[38;5;21;01mmatplotlib\u001b[39;00m\u001b[38;5;21;01m.\u001b[39;00m\u001b[38;5;21;01mpyplot\u001b[39;00m \u001b[38;5;28;01mas\u001b[39;00m \u001b[38;5;21;01mplt\u001b[39;00m\n\u001b[1;32m----> 2\u001b[0m \u001b[38;5;28;01mimport\u001b[39;00m \u001b[38;5;21;01mseaborn\u001b[39;00m \u001b[38;5;28;01mas\u001b[39;00m \u001b[38;5;21;01msns\u001b[39;00m\n\u001b[0;32m      3\u001b[0m get_ipython()\u001b[38;5;241m.\u001b[39mrun_line_magic(\u001b[38;5;124m'\u001b[39m\u001b[38;5;124mmatplotlib\u001b[39m\u001b[38;5;124m'\u001b[39m, \u001b[38;5;124m'\u001b[39m\u001b[38;5;124minline\u001b[39m\u001b[38;5;124m'\u001b[39m)\n\u001b[0;32m      5\u001b[0m \u001b[38;5;28;01mimport\u001b[39;00m \u001b[38;5;21;01mplatform\u001b[39;00m\n",
      "File \u001b[1;32m~\\AppData\\Local\\Programs\\Python\\Python39\\lib\\site-packages\\seaborn\\__init__.py:2\u001b[0m, in \u001b[0;36m<module>\u001b[1;34m\u001b[0m\n\u001b[0;32m      1\u001b[0m \u001b[38;5;66;03m# Import seaborn objects\u001b[39;00m\n\u001b[1;32m----> 2\u001b[0m \u001b[38;5;28;01mfrom\u001b[39;00m \u001b[38;5;21;01m.\u001b[39;00m\u001b[38;5;21;01mrcmod\u001b[39;00m \u001b[38;5;28;01mimport\u001b[39;00m \u001b[38;5;241m*\u001b[39m  \u001b[38;5;66;03m# noqa: F401,F403\u001b[39;00m\n\u001b[0;32m      3\u001b[0m \u001b[38;5;28;01mfrom\u001b[39;00m \u001b[38;5;21;01m.\u001b[39;00m\u001b[38;5;21;01mutils\u001b[39;00m \u001b[38;5;28;01mimport\u001b[39;00m \u001b[38;5;241m*\u001b[39m  \u001b[38;5;66;03m# noqa: F401,F403\u001b[39;00m\n\u001b[0;32m      4\u001b[0m \u001b[38;5;28;01mfrom\u001b[39;00m \u001b[38;5;21;01m.\u001b[39;00m\u001b[38;5;21;01mpalettes\u001b[39;00m \u001b[38;5;28;01mimport\u001b[39;00m \u001b[38;5;241m*\u001b[39m  \u001b[38;5;66;03m# noqa: F401,F403\u001b[39;00m\n",
      "File \u001b[1;32m~\\AppData\\Local\\Programs\\Python\\Python39\\lib\\site-packages\\seaborn\\rcmod.py:7\u001b[0m, in \u001b[0;36m<module>\u001b[1;34m\u001b[0m\n\u001b[0;32m      5\u001b[0m \u001b[38;5;28;01mimport\u001b[39;00m \u001b[38;5;21;01mmatplotlib\u001b[39;00m \u001b[38;5;28;01mas\u001b[39;00m \u001b[38;5;21;01mmpl\u001b[39;00m\n\u001b[0;32m      6\u001b[0m \u001b[38;5;28;01mfrom\u001b[39;00m \u001b[38;5;21;01mcycler\u001b[39;00m \u001b[38;5;28;01mimport\u001b[39;00m cycler\n\u001b[1;32m----> 7\u001b[0m \u001b[38;5;28;01mfrom\u001b[39;00m \u001b[38;5;21;01m.\u001b[39;00m \u001b[38;5;28;01mimport\u001b[39;00m palettes\n\u001b[0;32m     10\u001b[0m __all__ \u001b[38;5;241m=\u001b[39m [\u001b[38;5;124m\"\u001b[39m\u001b[38;5;124mset_theme\u001b[39m\u001b[38;5;124m\"\u001b[39m, \u001b[38;5;124m\"\u001b[39m\u001b[38;5;124mset\u001b[39m\u001b[38;5;124m\"\u001b[39m, \u001b[38;5;124m\"\u001b[39m\u001b[38;5;124mreset_defaults\u001b[39m\u001b[38;5;124m\"\u001b[39m, \u001b[38;5;124m\"\u001b[39m\u001b[38;5;124mreset_orig\u001b[39m\u001b[38;5;124m\"\u001b[39m,\n\u001b[0;32m     11\u001b[0m            \u001b[38;5;124m\"\u001b[39m\u001b[38;5;124maxes_style\u001b[39m\u001b[38;5;124m\"\u001b[39m, \u001b[38;5;124m\"\u001b[39m\u001b[38;5;124mset_style\u001b[39m\u001b[38;5;124m\"\u001b[39m, \u001b[38;5;124m\"\u001b[39m\u001b[38;5;124mplotting_context\u001b[39m\u001b[38;5;124m\"\u001b[39m, \u001b[38;5;124m\"\u001b[39m\u001b[38;5;124mset_context\u001b[39m\u001b[38;5;124m\"\u001b[39m,\n\u001b[0;32m     12\u001b[0m            \u001b[38;5;124m\"\u001b[39m\u001b[38;5;124mset_palette\u001b[39m\u001b[38;5;124m\"\u001b[39m]\n\u001b[0;32m     15\u001b[0m _style_keys \u001b[38;5;241m=\u001b[39m [\n\u001b[0;32m     16\u001b[0m \n\u001b[0;32m     17\u001b[0m     \u001b[38;5;124m\"\u001b[39m\u001b[38;5;124maxes.facecolor\u001b[39m\u001b[38;5;124m\"\u001b[39m,\n\u001b[1;32m   (...)\u001b[0m\n\u001b[0;32m     52\u001b[0m \n\u001b[0;32m     53\u001b[0m ]\n",
      "File \u001b[1;32m~\\AppData\\Local\\Programs\\Python\\Python39\\lib\\site-packages\\seaborn\\palettes.py:9\u001b[0m, in \u001b[0;36m<module>\u001b[1;34m\u001b[0m\n\u001b[0;32m      5\u001b[0m \u001b[38;5;28;01mimport\u001b[39;00m \u001b[38;5;21;01mmatplotlib\u001b[39;00m \u001b[38;5;28;01mas\u001b[39;00m \u001b[38;5;21;01mmpl\u001b[39;00m\n\u001b[0;32m      7\u001b[0m \u001b[38;5;28;01mfrom\u001b[39;00m \u001b[38;5;21;01m.\u001b[39;00m\u001b[38;5;21;01mexternal\u001b[39;00m \u001b[38;5;28;01mimport\u001b[39;00m husl\n\u001b[1;32m----> 9\u001b[0m \u001b[38;5;28;01mfrom\u001b[39;00m \u001b[38;5;21;01m.\u001b[39;00m\u001b[38;5;21;01mutils\u001b[39;00m \u001b[38;5;28;01mimport\u001b[39;00m desaturate, get_color_cycle\n\u001b[0;32m     10\u001b[0m \u001b[38;5;28;01mfrom\u001b[39;00m \u001b[38;5;21;01m.\u001b[39;00m\u001b[38;5;21;01mcolors\u001b[39;00m \u001b[38;5;28;01mimport\u001b[39;00m xkcd_rgb, crayons\n\u001b[0;32m     13\u001b[0m __all__ \u001b[38;5;241m=\u001b[39m [\u001b[38;5;124m\"\u001b[39m\u001b[38;5;124mcolor_palette\u001b[39m\u001b[38;5;124m\"\u001b[39m, \u001b[38;5;124m\"\u001b[39m\u001b[38;5;124mhls_palette\u001b[39m\u001b[38;5;124m\"\u001b[39m, \u001b[38;5;124m\"\u001b[39m\u001b[38;5;124mhusl_palette\u001b[39m\u001b[38;5;124m\"\u001b[39m, \u001b[38;5;124m\"\u001b[39m\u001b[38;5;124mmpl_palette\u001b[39m\u001b[38;5;124m\"\u001b[39m,\n\u001b[0;32m     14\u001b[0m            \u001b[38;5;124m\"\u001b[39m\u001b[38;5;124mdark_palette\u001b[39m\u001b[38;5;124m\"\u001b[39m, \u001b[38;5;124m\"\u001b[39m\u001b[38;5;124mlight_palette\u001b[39m\u001b[38;5;124m\"\u001b[39m, \u001b[38;5;124m\"\u001b[39m\u001b[38;5;124mdiverging_palette\u001b[39m\u001b[38;5;124m\"\u001b[39m,\n\u001b[0;32m     15\u001b[0m            \u001b[38;5;124m\"\u001b[39m\u001b[38;5;124mblend_palette\u001b[39m\u001b[38;5;124m\"\u001b[39m, \u001b[38;5;124m\"\u001b[39m\u001b[38;5;124mxkcd_palette\u001b[39m\u001b[38;5;124m\"\u001b[39m, \u001b[38;5;124m\"\u001b[39m\u001b[38;5;124mcrayon_palette\u001b[39m\u001b[38;5;124m\"\u001b[39m,\n\u001b[0;32m     16\u001b[0m            \u001b[38;5;124m\"\u001b[39m\u001b[38;5;124mcubehelix_palette\u001b[39m\u001b[38;5;124m\"\u001b[39m, \u001b[38;5;124m\"\u001b[39m\u001b[38;5;124mset_color_codes\u001b[39m\u001b[38;5;124m\"\u001b[39m]\n",
      "File \u001b[1;32m~\\AppData\\Local\\Programs\\Python\\Python39\\lib\\site-packages\\seaborn\\utils.py:10\u001b[0m, in \u001b[0;36m<module>\u001b[1;34m\u001b[0m\n\u001b[0;32m      7\u001b[0m \u001b[38;5;28;01mfrom\u001b[39;00m \u001b[38;5;21;01murllib\u001b[39;00m\u001b[38;5;21;01m.\u001b[39;00m\u001b[38;5;21;01mrequest\u001b[39;00m \u001b[38;5;28;01mimport\u001b[39;00m urlopen, urlretrieve\n\u001b[0;32m      9\u001b[0m \u001b[38;5;28;01mimport\u001b[39;00m \u001b[38;5;21;01mnumpy\u001b[39;00m \u001b[38;5;28;01mas\u001b[39;00m \u001b[38;5;21;01mnp\u001b[39;00m\n\u001b[1;32m---> 10\u001b[0m \u001b[38;5;28;01mfrom\u001b[39;00m \u001b[38;5;21;01mscipy\u001b[39;00m \u001b[38;5;28;01mimport\u001b[39;00m stats\n\u001b[0;32m     11\u001b[0m \u001b[38;5;28;01mimport\u001b[39;00m \u001b[38;5;21;01mpandas\u001b[39;00m \u001b[38;5;28;01mas\u001b[39;00m \u001b[38;5;21;01mpd\u001b[39;00m\n\u001b[0;32m     12\u001b[0m \u001b[38;5;28;01mimport\u001b[39;00m \u001b[38;5;21;01mmatplotlib\u001b[39;00m \u001b[38;5;28;01mas\u001b[39;00m \u001b[38;5;21;01mmpl\u001b[39;00m\n",
      "File \u001b[1;32m~\\AppData\\Local\\Programs\\Python\\Python39\\lib\\site-packages\\scipy\\stats\\__init__.py:468\u001b[0m, in \u001b[0;36m<module>\u001b[1;34m\u001b[0m\n\u001b[0;32m    466\u001b[0m \u001b[38;5;28;01mfrom\u001b[39;00m \u001b[38;5;21;01m.\u001b[39;00m\u001b[38;5;21;01m_entropy\u001b[39;00m \u001b[38;5;28;01mimport\u001b[39;00m \u001b[38;5;241m*\u001b[39m\n\u001b[0;32m    467\u001b[0m \u001b[38;5;28;01mfrom\u001b[39;00m \u001b[38;5;21;01m.\u001b[39;00m\u001b[38;5;21;01m_hypotests\u001b[39;00m \u001b[38;5;28;01mimport\u001b[39;00m \u001b[38;5;241m*\u001b[39m\n\u001b[1;32m--> 468\u001b[0m \u001b[38;5;28;01mfrom\u001b[39;00m \u001b[38;5;21;01m.\u001b[39;00m\u001b[38;5;21;01m_rvs_sampling\u001b[39;00m \u001b[38;5;28;01mimport\u001b[39;00m rvs_ratio_uniforms, NumericalInverseHermite  \u001b[38;5;66;03m# noqa\u001b[39;00m\n\u001b[0;32m    469\u001b[0m \u001b[38;5;28;01mfrom\u001b[39;00m \u001b[38;5;21;01m.\u001b[39;00m\u001b[38;5;21;01m_page_trend_test\u001b[39;00m \u001b[38;5;28;01mimport\u001b[39;00m page_trend_test\n\u001b[0;32m    470\u001b[0m \u001b[38;5;28;01mfrom\u001b[39;00m \u001b[38;5;21;01m.\u001b[39;00m\u001b[38;5;21;01m_mannwhitneyu\u001b[39;00m \u001b[38;5;28;01mimport\u001b[39;00m mannwhitneyu\n",
      "File \u001b[1;32m~\\AppData\\Local\\Programs\\Python\\Python39\\lib\\site-packages\\scipy\\stats\\_rvs_sampling.py:3\u001b[0m, in \u001b[0;36m<module>\u001b[1;34m\u001b[0m\n\u001b[0;32m      1\u001b[0m \u001b[38;5;66;03m# -*- coding: utf-8 -*-\u001b[39;00m\n\u001b[0;32m      2\u001b[0m \u001b[38;5;28;01mimport\u001b[39;00m \u001b[38;5;21;01mnumpy\u001b[39;00m \u001b[38;5;28;01mas\u001b[39;00m \u001b[38;5;21;01mnp\u001b[39;00m\n\u001b[1;32m----> 3\u001b[0m \u001b[38;5;28;01mfrom\u001b[39;00m \u001b[38;5;21;01m.\u001b[39;00m\u001b[38;5;21;01m_unuran\u001b[39;00m \u001b[38;5;28;01mimport\u001b[39;00m unuran_wrapper\n\u001b[0;32m      4\u001b[0m \u001b[38;5;28;01mfrom\u001b[39;00m \u001b[38;5;21;01mscipy\u001b[39;00m\u001b[38;5;21;01m.\u001b[39;00m\u001b[38;5;21;01m_lib\u001b[39;00m\u001b[38;5;21;01m.\u001b[39;00m\u001b[38;5;21;01mdeprecation\u001b[39;00m \u001b[38;5;28;01mimport\u001b[39;00m _deprecated\n\u001b[0;32m      5\u001b[0m \u001b[38;5;28;01mfrom\u001b[39;00m \u001b[38;5;21;01mscipy\u001b[39;00m\u001b[38;5;21;01m.\u001b[39;00m\u001b[38;5;21;01m_lib\u001b[39;00m\u001b[38;5;21;01m.\u001b[39;00m\u001b[38;5;21;01m_util\u001b[39;00m \u001b[38;5;28;01mimport\u001b[39;00m check_random_state\n",
      "File \u001b[1;32munuran_wrapper.pyx:221\u001b[0m, in \u001b[0;36minit scipy.stats._unuran.unuran_wrapper\u001b[1;34m()\u001b[0m\n",
      "File \u001b[1;32munuran_wrapper.pyx:200\u001b[0m, in \u001b[0;36mscipy.stats._unuran.unuran_wrapper._setup_unuran\u001b[1;34m()\u001b[0m\n",
      "File \u001b[1;32mmessagestream.pyx:36\u001b[0m, in \u001b[0;36mscipy._lib.messagestream.MessageStream.__cinit__\u001b[1;34m()\u001b[0m\n",
      "\u001b[1;31mOSError\u001b[0m: Failed to open file b'C:\\\\Users\\\\\\xea\\xb9\\x80\\xed\\x98\\x9c\\xeb\\xa6\\xb0\\\\AppData\\\\Local\\\\Temp\\\\scipy-h3912mpt'"
     ]
    }
   ],
>>>>>>> c937b9b355e73cec85650f583ac4c9651fb2dee4
   "source": [
    "# seaborn만 한글 username을 못읽는 이유가 무엇인가.. 다른 계정에서 진행할 것 ㅠㅠ\n",
    "\n",
    "import matplotlib.pyplot as plt\n",
    "import seaborn as sns\n",
    "%matplotlib inline\n",
    "\n",
    "import platform\n",
    "\n",
    "path = \"c:/Windows/Fonts/malgun.ttf\"\n",
    "from matplotlib import font_manager, rc\n",
    "if platform.system() == 'Darwin':\n",
    "    rc('font', family='AppleGothic')\n",
    "elif platform.system() == 'Windows':\n",
    "    font_name = font_manager.FontProperties(fname=path).get_name()\n",
    "    rc('font', family=font_name)\n",
    "else:\n",
    "    print('Unknown system... sorry~~~~') "
   ]
  },
  {
   "cell_type": "code",
<<<<<<< HEAD
   "execution_count": 23,
   "id": "a272cdc7",
   "metadata": {},
   "outputs": [
    {
     "data": {
      "image/png": "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\n",
      "text/plain": [
       "<Figure size 864x576 with 1 Axes>"
      ]
     },
     "metadata": {
      "needs_background": "light"
     },
     "output_type": "display_data"
    }
   ],
   "source": [
    "stations.boxplot(column='가격', by='셀프', figsize=(12,8));"
   ]
  },
  {
   "cell_type": "code",
   "execution_count": 24,
   "id": "b62cabb7",
   "metadata": {},
   "outputs": [
    {
     "data": {
      "image/png": "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\n",
      "text/plain": [
       "<Figure size 864x576 with 1 Axes>"
      ]
     },
     "metadata": {
      "needs_background": "light"
     },
     "output_type": "display_data"
    }
   ],
   "source": [
    "plt.figure(figsize=(12,8))\n",
    "sns.boxplot(x=\"상표\", y=\"가격\", hue=\"셀프\", data=stations, palette=\"Set3\")\n",
    "plt.show()"
   ]
  },
  {
   "cell_type": "code",
   "execution_count": 28,
   "id": "f6201216",
   "metadata": {},
   "outputs": [
    {
     "name": "stderr",
     "output_type": "stream",
     "text": [
      "C:\\Users\\april\\AppData\\Local\\Programs\\Python\\Python310\\lib\\site-packages\\seaborn\\categorical.py:1296: UserWarning: 9.2% of the points cannot be placed; you may want to decrease the size of the markers or use stripplot.\n",
      "  warnings.warn(msg, UserWarning)\n",
      "C:\\Users\\april\\AppData\\Local\\Programs\\Python\\Python310\\lib\\site-packages\\seaborn\\categorical.py:1296: UserWarning: 6.7% of the points cannot be placed; you may want to decrease the size of the markers or use stripplot.\n",
      "  warnings.warn(msg, UserWarning)\n",
      "C:\\Users\\april\\AppData\\Local\\Programs\\Python\\Python310\\lib\\site-packages\\seaborn\\categorical.py:1296: UserWarning: 6.1% of the points cannot be placed; you may want to decrease the size of the markers or use stripplot.\n",
      "  warnings.warn(msg, UserWarning)\n"
     ]
    },
    {
     "data": {
      "image/png": "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\n",
      "text/plain": [
       "<Figure size 864x576 with 1 Axes>"
      ]
     },
     "metadata": {
      "needs_background": "light"
     },
     "output_type": "display_data"
    }
   ],
   "source": [
    "plt.figure(figsize=(12,8))\n",
    "sns.boxplot(x=\"상표\", y=\"가격\", data=stations, palette=\"Set3\")\n",
    "sns.swarmplot(x=\"상표\", y=\"가격\", data=stations, color=\".6\" #, size=1)\n",
    "plt.show()\n",
    "\n",
    "# https://www.inflearn.com/questions/106903\n",
    "# size=1 option"
   ]
  },
  {
   "cell_type": "code",
   "execution_count": 29,
   "id": "26454dd1",
   "metadata": {},
   "outputs": [],
   "source": [
    "import json\n",
    "import folium\n",
    "import googlemaps\n",
    "import warnings\n",
    "warnings.simplefilter(action = \"ignore\", category = FutureWarning)"
   ]
  },
  {
   "cell_type": "code",
   "execution_count": 30,
   "id": "458bbff0",
   "metadata": {},
   "outputs": [
    {
     "data": {
      "text/html": [
       "<div>\n",
       "<style scoped>\n",
       "    .dataframe tbody tr th:only-of-type {\n",
       "        vertical-align: middle;\n",
       "    }\n",
       "\n",
       "    .dataframe tbody tr th {\n",
       "        vertical-align: top;\n",
       "    }\n",
       "\n",
       "    .dataframe thead th {\n",
       "        text-align: right;\n",
       "    }\n",
       "</style>\n",
       "<table border=\"1\" class=\"dataframe\">\n",
       "  <thead>\n",
       "    <tr style=\"text-align: right;\">\n",
       "      <th></th>\n",
       "      <th>Oil_store</th>\n",
       "      <th>주소</th>\n",
       "      <th>가격</th>\n",
       "      <th>셀프</th>\n",
       "      <th>상표</th>\n",
       "      <th>구</th>\n",
       "    </tr>\n",
       "  </thead>\n",
       "  <tbody>\n",
       "    <tr>\n",
       "      <th>285</th>\n",
       "      <td>서남주유소</td>\n",
       "      <td>서울 중구 통일로 30</td>\n",
       "      <td>2829.0</td>\n",
       "      <td>N</td>\n",
       "      <td>SK에너지</td>\n",
       "      <td>중구</td>\n",
       "    </tr>\n",
       "    <tr>\n",
       "      <th>252</th>\n",
       "      <td>서계주유소</td>\n",
       "      <td>서울특별시 용산구  청파로 367 (청파동)</td>\n",
       "      <td>2820.0</td>\n",
       "      <td>N</td>\n",
       "      <td>GS칼텍스</td>\n",
       "      <td>용산구</td>\n",
       "    </tr>\n",
       "    <tr>\n",
       "      <th>284</th>\n",
       "      <td>SK에너지(주) 퇴계로주유소</td>\n",
       "      <td>서울 중구 퇴계로 228 (필동2가)</td>\n",
       "      <td>2504.0</td>\n",
       "      <td>N</td>\n",
       "      <td>SK에너지</td>\n",
       "      <td>중구</td>\n",
       "    </tr>\n",
       "    <tr>\n",
       "      <th>458</th>\n",
       "      <td>제이제이주유소</td>\n",
       "      <td>서울 강남구 언주로 716</td>\n",
       "      <td>2445.0</td>\n",
       "      <td>N</td>\n",
       "      <td>현대오일뱅크</td>\n",
       "      <td>강남구</td>\n",
       "    </tr>\n",
       "    <tr>\n",
       "      <th>283</th>\n",
       "      <td>약수주유소</td>\n",
       "      <td>서울 중구 다산로 173</td>\n",
       "      <td>2398.0</td>\n",
       "      <td>N</td>\n",
       "      <td>GS칼텍스</td>\n",
       "      <td>중구</td>\n",
       "    </tr>\n",
       "    <tr>\n",
       "      <th>457</th>\n",
       "      <td>(주)만정에너지</td>\n",
       "      <td>서울 강남구 봉은사로 433 (삼성동)</td>\n",
       "      <td>2398.0</td>\n",
       "      <td>N</td>\n",
       "      <td>GS칼텍스</td>\n",
       "      <td>강남구</td>\n",
       "    </tr>\n",
       "    <tr>\n",
       "      <th>101</th>\n",
       "      <td>선우상사Q엔느</td>\n",
       "      <td>서울 서초구 방배로 66 (방배동)</td>\n",
       "      <td>2397.0</td>\n",
       "      <td>N</td>\n",
       "      <td>SK에너지</td>\n",
       "      <td>서초구</td>\n",
       "    </tr>\n",
       "    <tr>\n",
       "      <th>251</th>\n",
       "      <td>동자동주유소</td>\n",
       "      <td>서울 용산구 한강대로104길 6 (동자동)</td>\n",
       "      <td>2390.0</td>\n",
       "      <td>N</td>\n",
       "      <td>SK에너지</td>\n",
       "      <td>용산구</td>\n",
       "    </tr>\n",
       "    <tr>\n",
       "      <th>381</th>\n",
       "      <td>구로주유소</td>\n",
       "      <td>서울 구로구 구로동로 137 (구로동)</td>\n",
       "      <td>2378.0</td>\n",
       "      <td>N</td>\n",
       "      <td>GS칼텍스</td>\n",
       "      <td>구로구</td>\n",
       "    </tr>\n",
       "    <tr>\n",
       "      <th>276</th>\n",
       "      <td>경복궁주유소</td>\n",
       "      <td>서울 종로구 율곡로 6 (중학동)</td>\n",
       "      <td>2345.0</td>\n",
       "      <td>N</td>\n",
       "      <td>GS칼텍스</td>\n",
       "      <td>종로구</td>\n",
       "    </tr>\n",
       "  </tbody>\n",
       "</table>\n",
       "</div>"
      ],
      "text/plain": [
       "           Oil_store                        주소      가격 셀프      상표    구\n",
       "285            서남주유소              서울 중구 통일로 30  2829.0  N   SK에너지   중구\n",
       "252            서계주유소  서울특별시 용산구  청파로 367 (청파동)  2820.0  N   GS칼텍스  용산구\n",
       "284  SK에너지(주) 퇴계로주유소      서울 중구 퇴계로 228 (필동2가)  2504.0  N   SK에너지   중구\n",
       "458          제이제이주유소            서울 강남구 언주로 716  2445.0  N  현대오일뱅크  강남구\n",
       "283            약수주유소             서울 중구 다산로 173  2398.0  N   GS칼텍스   중구\n",
       "457         (주)만정에너지     서울 강남구 봉은사로 433 (삼성동)  2398.0  N   GS칼텍스  강남구\n",
       "101          선우상사Q엔느       서울 서초구 방배로 66 (방배동)  2397.0  N   SK에너지  서초구\n",
       "251           동자동주유소   서울 용산구 한강대로104길 6 (동자동)  2390.0  N   SK에너지  용산구\n",
       "381            구로주유소     서울 구로구 구로동로 137 (구로동)  2378.0  N   GS칼텍스  구로구\n",
       "276           경복궁주유소        서울 종로구 율곡로 6 (중학동)  2345.0  N   GS칼텍스  종로구"
      ]
     },
     "execution_count": 30,
     "metadata": {},
     "output_type": "execute_result"
    }
   ],
   "source": [
    "stations.sort_values(by='가격', ascending=False).head(10)"
   ]
  },
  {
   "cell_type": "code",
   "execution_count": 31,
   "id": "294637fa",
   "metadata": {},
   "outputs": [
    {
     "data": {
      "text/html": [
       "<div>\n",
       "<style scoped>\n",
       "    .dataframe tbody tr th:only-of-type {\n",
       "        vertical-align: middle;\n",
       "    }\n",
       "\n",
       "    .dataframe tbody tr th {\n",
       "        vertical-align: top;\n",
       "    }\n",
       "\n",
       "    .dataframe thead th {\n",
       "        text-align: right;\n",
       "    }\n",
       "</style>\n",
       "<table border=\"1\" class=\"dataframe\">\n",
       "  <thead>\n",
       "    <tr style=\"text-align: right;\">\n",
       "      <th></th>\n",
       "      <th>Oil_store</th>\n",
       "      <th>주소</th>\n",
       "      <th>가격</th>\n",
       "      <th>셀프</th>\n",
       "      <th>상표</th>\n",
       "      <th>구</th>\n",
       "    </tr>\n",
       "  </thead>\n",
       "  <tbody>\n",
       "    <tr>\n",
       "      <th>175</th>\n",
       "      <td>현대오일뱅크(주)직영 양천셀프주유소</td>\n",
       "      <td>서울 양천구 목동로 17</td>\n",
       "      <td>1834.0</td>\n",
       "      <td>Y</td>\n",
       "      <td>현대오일뱅크</td>\n",
       "      <td>양천구</td>\n",
       "    </tr>\n",
       "    <tr>\n",
       "      <th>300</th>\n",
       "      <td>개화주유소</td>\n",
       "      <td>서울 강서구 양천로 57</td>\n",
       "      <td>1837.0</td>\n",
       "      <td>Y</td>\n",
       "      <td>SK에너지</td>\n",
       "      <td>강서구</td>\n",
       "    </tr>\n",
       "    <tr>\n",
       "      <th>425</th>\n",
       "      <td>현대오일뱅크(주)직영 산성셀프주유소</td>\n",
       "      <td>서울 강남구 헌릉로 730</td>\n",
       "      <td>1839.0</td>\n",
       "      <td>Y</td>\n",
       "      <td>현대오일뱅크</td>\n",
       "      <td>강남구</td>\n",
       "    </tr>\n",
       "    <tr>\n",
       "      <th>346</th>\n",
       "      <td>(주)창원CW</td>\n",
       "      <td>서울 광진구 광나루로 460 (화양동)</td>\n",
       "      <td>1839.0</td>\n",
       "      <td>Y</td>\n",
       "      <td>현대오일뱅크</td>\n",
       "      <td>광진구</td>\n",
       "    </tr>\n",
       "    <tr>\n",
       "      <th>347</th>\n",
       "      <td>대원주유소</td>\n",
       "      <td>서울 광진구 용마산로 122 (중곡동)</td>\n",
       "      <td>1839.0</td>\n",
       "      <td>N</td>\n",
       "      <td>S-OIL</td>\n",
       "      <td>광진구</td>\n",
       "    </tr>\n",
       "    <tr>\n",
       "      <th>301</th>\n",
       "      <td>지에스칼텍스㈜ 경인고속주유소</td>\n",
       "      <td>서울 강서구 국회대로 225 (화곡동)</td>\n",
       "      <td>1845.0</td>\n",
       "      <td>Y</td>\n",
       "      <td>GS칼텍스</td>\n",
       "      <td>강서구</td>\n",
       "    </tr>\n",
       "    <tr>\n",
       "      <th>176</th>\n",
       "      <td>지에스칼텍스㈜ 서호주유소</td>\n",
       "      <td>서울 양천구 남부순환로 317</td>\n",
       "      <td>1845.0</td>\n",
       "      <td>Y</td>\n",
       "      <td>GS칼텍스</td>\n",
       "      <td>양천구</td>\n",
       "    </tr>\n",
       "    <tr>\n",
       "      <th>227</th>\n",
       "      <td>세원주유소</td>\n",
       "      <td>서울 강북구 한천로 918 (번동)</td>\n",
       "      <td>1848.0</td>\n",
       "      <td>Y</td>\n",
       "      <td>SK에너지</td>\n",
       "      <td>강북구</td>\n",
       "    </tr>\n",
       "    <tr>\n",
       "      <th>143</th>\n",
       "      <td>(주)삼표에너지 훼미리주유소</td>\n",
       "      <td>서울 송파구 중대로 58 (문정동)</td>\n",
       "      <td>1848.0</td>\n",
       "      <td>N</td>\n",
       "      <td>GS칼텍스</td>\n",
       "      <td>송파구</td>\n",
       "    </tr>\n",
       "    <tr>\n",
       "      <th>177</th>\n",
       "      <td>(주)타이거오일 신정주유소</td>\n",
       "      <td>서울 양천구 중앙로 226 (신정동)</td>\n",
       "      <td>1849.0</td>\n",
       "      <td>Y</td>\n",
       "      <td>SK에너지</td>\n",
       "      <td>양천구</td>\n",
       "    </tr>\n",
       "  </tbody>\n",
       "</table>\n",
       "</div>"
      ],
      "text/plain": [
       "               Oil_store                     주소      가격 셀프      상표    구\n",
       "175  현대오일뱅크(주)직영 양천셀프주유소          서울 양천구 목동로 17  1834.0  Y  현대오일뱅크  양천구\n",
       "300                개화주유소          서울 강서구 양천로 57  1837.0  Y   SK에너지  강서구\n",
       "425  현대오일뱅크(주)직영 산성셀프주유소         서울 강남구 헌릉로 730  1839.0  Y  현대오일뱅크  강남구\n",
       "346              (주)창원CW  서울 광진구 광나루로 460 (화양동)  1839.0  Y  현대오일뱅크  광진구\n",
       "347                대원주유소  서울 광진구 용마산로 122 (중곡동)  1839.0  N   S-OIL  광진구\n",
       "301      지에스칼텍스㈜ 경인고속주유소  서울 강서구 국회대로 225 (화곡동)  1845.0  Y   GS칼텍스  강서구\n",
       "176        지에스칼텍스㈜ 서호주유소       서울 양천구 남부순환로 317  1845.0  Y   GS칼텍스  양천구\n",
       "227                세원주유소    서울 강북구 한천로 918 (번동)  1848.0  Y   SK에너지  강북구\n",
       "143      (주)삼표에너지 훼미리주유소    서울 송파구 중대로 58 (문정동)  1848.0  N   GS칼텍스  송파구\n",
       "177       (주)타이거오일 신정주유소   서울 양천구 중앙로 226 (신정동)  1849.0  Y   SK에너지  양천구"
      ]
     },
     "execution_count": 31,
     "metadata": {},
     "output_type": "execute_result"
    }
   ],
   "source": [
    "stations.sort_values(by='가격', ascending=True).head(10)"
   ]
  },
  {
   "cell_type": "code",
   "execution_count": 32,
   "id": "e6f15baa",
   "metadata": {},
   "outputs": [
    {
     "data": {
      "text/html": [
       "<div>\n",
       "<style scoped>\n",
       "    .dataframe tbody tr th:only-of-type {\n",
       "        vertical-align: middle;\n",
       "    }\n",
       "\n",
       "    .dataframe tbody tr th {\n",
       "        vertical-align: top;\n",
       "    }\n",
       "\n",
       "    .dataframe thead th {\n",
       "        text-align: right;\n",
       "    }\n",
       "</style>\n",
       "<table border=\"1\" class=\"dataframe\">\n",
       "  <thead>\n",
       "    <tr style=\"text-align: right;\">\n",
       "      <th></th>\n",
       "      <th>가격</th>\n",
       "    </tr>\n",
       "    <tr>\n",
       "      <th>구</th>\n",
       "      <th></th>\n",
       "    </tr>\n",
       "  </thead>\n",
       "  <tbody>\n",
       "    <tr>\n",
       "      <th>강남구</th>\n",
       "      <td>2067.882353</td>\n",
       "    </tr>\n",
       "    <tr>\n",
       "      <th>강동구</th>\n",
       "      <td>1951.571429</td>\n",
       "    </tr>\n",
       "    <tr>\n",
       "      <th>강북구</th>\n",
       "      <td>1930.384615</td>\n",
       "    </tr>\n",
       "    <tr>\n",
       "      <th>강서구</th>\n",
       "      <td>1910.343750</td>\n",
       "    </tr>\n",
       "    <tr>\n",
       "      <th>관악구</th>\n",
       "      <td>1925.857143</td>\n",
       "    </tr>\n",
       "  </tbody>\n",
       "</table>\n",
       "</div>"
      ],
      "text/plain": [
       "              가격\n",
       "구               \n",
       "강남구  2067.882353\n",
       "강동구  1951.571429\n",
       "강북구  1930.384615\n",
       "강서구  1910.343750\n",
       "관악구  1925.857143"
      ]
     },
     "execution_count": 32,
     "metadata": {},
     "output_type": "execute_result"
    }
   ],
   "source": [
    "import numpy as np\n",
    "\n",
    "gu_data = pd.pivot_table(stations, index=[\"구\"], values=[\"가격\"], \n",
    "                         aggfunc=np.mean)\n",
    "gu_data.head()"
   ]
  },
  {
   "cell_type": "code",
   "execution_count": 33,
   "id": "6dbc8d54",
   "metadata": {},
   "outputs": [
    {
     "data": {
      "text/html": [
       "<div style=\"width:100%;\"><div style=\"position:relative;width:100%;height:0;padding-bottom:60%;\"><span style=\"color:#565656\">Make this Notebook Trusted to load map: File -> Trust Notebook</span><iframe src=\"about:blank\" style=\"position:absolute;width:100%;height:100%;left:0;top:0;border:none !important;\" data-html=%3C%21DOCTYPE%20html%3E%0A%3Chead%3E%20%20%20%20%0A%20%20%20%20%3Cmeta%20http-equiv%3D%22content-type%22%20content%3D%22text/html%3B%20charset%3DUTF-8%22%20/%3E%0A%20%20%20%20%0A%20%20%20%20%20%20%20%20%3Cscript%3E%0A%20%20%20%20%20%20%20%20%20%20%20%20L_NO_TOUCH%20%3D%20false%3B%0A%20%20%20%20%20%20%20%20%20%20%20%20L_DISABLE_3D%20%3D%20false%3B%0A%20%20%20%20%20%20%20%20%3C/script%3E%0A%20%20%20%20%0A%20%20%20%20%3Cstyle%3Ehtml%2C%20body%20%7Bwidth%3A%20100%25%3Bheight%3A%20100%25%3Bmargin%3A%200%3Bpadding%3A%200%3B%7D%3C/style%3E%0A%20%20%20%20%3Cstyle%3E%23map%20%7Bposition%3Aabsolute%3Btop%3A0%3Bbottom%3A0%3Bright%3A0%3Bleft%3A0%3B%7D%3C/style%3E%0A%20%20%20%20%3Cscript%20src%3D%22https%3A//cdn.jsdelivr.net/npm/leaflet%401.6.0/dist/leaflet.js%22%3E%3C/script%3E%0A%20%20%20%20%3Cscript%20src%3D%22https%3A//code.jquery.com/jquery-1.12.4.min.js%22%3E%3C/script%3E%0A%20%20%20%20%3Cscript%20src%3D%22https%3A//maxcdn.bootstrapcdn.com/bootstrap/3.2.0/js/bootstrap.min.js%22%3E%3C/script%3E%0A%20%20%20%20%3Cscript%20src%3D%22https%3A//cdnjs.cloudflare.com/ajax/libs/Leaflet.awesome-markers/2.0.2/leaflet.awesome-markers.js%22%3E%3C/script%3E%0A%20%20%20%20%3Clink%20rel%3D%22stylesheet%22%20href%3D%22https%3A//cdn.jsdelivr.net/npm/leaflet%401.6.0/dist/leaflet.css%22/%3E%0A%20%20%20%20%3Clink%20rel%3D%22stylesheet%22%20href%3D%22https%3A//maxcdn.bootstrapcdn.com/bootstrap/3.2.0/css/bootstrap.min.css%22/%3E%0A%20%20%20%20%3Clink%20rel%3D%22stylesheet%22%20href%3D%22https%3A//maxcdn.bootstrapcdn.com/bootstrap/3.2.0/css/bootstrap-theme.min.css%22/%3E%0A%20%20%20%20%3Clink%20rel%3D%22stylesheet%22%20href%3D%22https%3A//maxcdn.bootstrapcdn.com/font-awesome/4.6.3/css/font-awesome.min.css%22/%3E%0A%20%20%20%20%3Clink%20rel%3D%22stylesheet%22%20href%3D%22https%3A//cdnjs.cloudflare.com/ajax/libs/Leaflet.awesome-markers/2.0.2/leaflet.awesome-markers.css%22/%3E%0A%20%20%20%20%3Clink%20rel%3D%22stylesheet%22%20href%3D%22https%3A//cdn.jsdelivr.net/gh/python-visualization/folium/folium/templates/leaflet.awesome.rotate.min.css%22/%3E%0A%20%20%20%20%0A%20%20%20%20%20%20%20%20%20%20%20%20%3Cmeta%20name%3D%22viewport%22%20content%3D%22width%3Ddevice-width%2C%0A%20%20%20%20%20%20%20%20%20%20%20%20%20%20%20%20initial-scale%3D1.0%2C%20maximum-scale%3D1.0%2C%20user-scalable%3Dno%22%20/%3E%0A%20%20%20%20%20%20%20%20%20%20%20%20%3Cstyle%3E%0A%20%20%20%20%20%20%20%20%20%20%20%20%20%20%20%20%23map_fdf0a1a9d66a449d92e5b7f9994ec1f7%20%7B%0A%20%20%20%20%20%20%20%20%20%20%20%20%20%20%20%20%20%20%20%20position%3A%20relative%3B%0A%20%20%20%20%20%20%20%20%20%20%20%20%20%20%20%20%20%20%20%20width%3A%20100.0%25%3B%0A%20%20%20%20%20%20%20%20%20%20%20%20%20%20%20%20%20%20%20%20height%3A%20100.0%25%3B%0A%20%20%20%20%20%20%20%20%20%20%20%20%20%20%20%20%20%20%20%20left%3A%200.0%25%3B%0A%20%20%20%20%20%20%20%20%20%20%20%20%20%20%20%20%20%20%20%20top%3A%200.0%25%3B%0A%20%20%20%20%20%20%20%20%20%20%20%20%20%20%20%20%7D%0A%20%20%20%20%20%20%20%20%20%20%20%20%3C/style%3E%0A%20%20%20%20%20%20%20%20%0A%20%20%20%20%3Cscript%20src%3D%22https%3A//cdnjs.cloudflare.com/ajax/libs/d3/3.5.5/d3.min.js%22%3E%3C/script%3E%0A%3C/head%3E%0A%3Cbody%3E%20%20%20%20%0A%20%20%20%20%0A%20%20%20%20%20%20%20%20%20%20%20%20%3Cdiv%20class%3D%22folium-map%22%20id%3D%22map_fdf0a1a9d66a449d92e5b7f9994ec1f7%22%20%3E%3C/div%3E%0A%20%20%20%20%20%20%20%20%0A%3C/body%3E%0A%3Cscript%3E%20%20%20%20%0A%20%20%20%20%0A%20%20%20%20%20%20%20%20%20%20%20%20var%20map_fdf0a1a9d66a449d92e5b7f9994ec1f7%20%3D%20L.map%28%0A%20%20%20%20%20%20%20%20%20%20%20%20%20%20%20%20%22map_fdf0a1a9d66a449d92e5b7f9994ec1f7%22%2C%0A%20%20%20%20%20%20%20%20%20%20%20%20%20%20%20%20%7B%0A%20%20%20%20%20%20%20%20%20%20%20%20%20%20%20%20%20%20%20%20center%3A%20%5B37.5502%2C%20126.982%5D%2C%0A%20%20%20%20%20%20%20%20%20%20%20%20%20%20%20%20%20%20%20%20crs%3A%20L.CRS.EPSG3857%2C%0A%20%20%20%20%20%20%20%20%20%20%20%20%20%20%20%20%20%20%20%20zoom%3A%2010.5%2C%0A%20%20%20%20%20%20%20%20%20%20%20%20%20%20%20%20%20%20%20%20zoomControl%3A%20true%2C%0A%20%20%20%20%20%20%20%20%20%20%20%20%20%20%20%20%20%20%20%20preferCanvas%3A%20false%2C%0A%20%20%20%20%20%20%20%20%20%20%20%20%20%20%20%20%7D%0A%20%20%20%20%20%20%20%20%20%20%20%20%29%3B%0A%0A%20%20%20%20%20%20%20%20%20%20%20%20%0A%0A%20%20%20%20%20%20%20%20%0A%20%20%20%20%0A%20%20%20%20%20%20%20%20%20%20%20%20var%20tile_layer_453cbc9610d74a1b9d6b9d718fc72ab8%20%3D%20L.tileLayer%28%0A%20%20%20%20%20%20%20%20%20%20%20%20%20%20%20%20%22https%3A//stamen-tiles-%7Bs%7D.a.ssl.fastly.net/toner/%7Bz%7D/%7Bx%7D/%7By%7D.png%22%2C%0A%20%20%20%20%20%20%20%20%20%20%20%20%20%20%20%20%7B%22attribution%22%3A%20%22Map%20tiles%20by%20%5Cu003ca%20href%3D%5C%22http%3A//stamen.com%5C%22%5Cu003eStamen%20Design%5Cu003c/a%5Cu003e%2C%20under%20%5Cu003ca%20href%3D%5C%22http%3A//creativecommons.org/licenses/by/3.0%5C%22%5Cu003eCC%20BY%203.0%5Cu003c/a%5Cu003e.%20Data%20by%20%5Cu0026copy%3B%20%5Cu003ca%20href%3D%5C%22http%3A//openstreetmap.org%5C%22%5Cu003eOpenStreetMap%5Cu003c/a%5Cu003e%2C%20under%20%5Cu003ca%20href%3D%5C%22http%3A//www.openstreetmap.org/copyright%5C%22%5Cu003eODbL%5Cu003c/a%5Cu003e.%22%2C%20%22detectRetina%22%3A%20false%2C%20%22maxNativeZoom%22%3A%2018%2C%20%22maxZoom%22%3A%2018%2C%20%22minZoom%22%3A%200%2C%20%22noWrap%22%3A%20false%2C%20%22opacity%22%3A%201%2C%20%22subdomains%22%3A%20%22abc%22%2C%20%22tms%22%3A%20false%7D%0A%20%20%20%20%20%20%20%20%20%20%20%20%29.addTo%28map_fdf0a1a9d66a449d92e5b7f9994ec1f7%29%3B%0A%20%20%20%20%20%20%20%20%0A%20%20%20%20%0A%20%20%20%20%20%20%20%20%20%20%20%20var%20choropleth_13869a71af82447ab515039a1b758d77%20%3D%20L.featureGroup%28%0A%20%20%20%20%20%20%20%20%20%20%20%20%20%20%20%20%7B%7D%0A%20%20%20%20%20%20%20%20%20%20%20%20%29.addTo%28map_fdf0a1a9d66a449d92e5b7f9994ec1f7%29%3B%0A%20%20%20%20%20%20%20%20%0A%20%20%20%20%0A%20%20%20%20%20%20%20%20function%20geo_json_4ee53d7d41034ae78bcb2eb737a79d1c_styler%28feature%29%20%7B%0A%20%20%20%20%20%20%20%20%20%20%20%20switch%28feature.id%29%20%7B%0A%20%20%20%20%20%20%20%20%20%20%20%20%20%20%20%20case%20%22%5Cuac15%5Cub0a8%5Cuad6c%22%3A%20%0A%20%20%20%20%20%20%20%20%20%20%20%20%20%20%20%20%20%20%20%20return%20%7B%22color%22%3A%20%22black%22%2C%20%22fillColor%22%3A%20%22%23c994c7%22%2C%20%22fillOpacity%22%3A%200.6%2C%20%22opacity%22%3A%201%2C%20%22weight%22%3A%201%7D%3B%0A%20%20%20%20%20%20%20%20%20%20%20%20%20%20%20%20case%20%22%5Cuc11c%5Cucd08%5Cuad6c%22%3A%20case%20%22%5Cuc601%5Cub4f1%5Cud3ec%5Cuad6c%22%3A%20case%20%22%5Cuad6c%5Cub85c%5Cuad6c%22%3A%20case%20%22%5Cub9c8%5Cud3ec%5Cuad6c%22%3A%20case%20%22%5Cub3d9%5Cub300%5Cubb38%5Cuad6c%22%3A%20case%20%22%5Cuc131%5Cub3d9%5Cuad6c%22%3A%20%0A%20%20%20%20%20%20%20%20%20%20%20%20%20%20%20%20%20%20%20%20return%20%7B%22color%22%3A%20%22black%22%2C%20%22fillColor%22%3A%20%22%23d4b9da%22%2C%20%22fillOpacity%22%3A%200.6%2C%20%22opacity%22%3A%201%2C%20%22weight%22%3A%201%7D%3B%0A%20%20%20%20%20%20%20%20%20%20%20%20%20%20%20%20case%20%22%5Cuc6a9%5Cuc0b0%5Cuad6c%22%3A%20case%20%22%5Cuc911%5Cuad6c%22%3A%20%0A%20%20%20%20%20%20%20%20%20%20%20%20%20%20%20%20%20%20%20%20return%20%7B%22color%22%3A%20%22black%22%2C%20%22fillColor%22%3A%20%22%23980043%22%2C%20%22fillOpacity%22%3A%200.6%2C%20%22opacity%22%3A%201%2C%20%22weight%22%3A%201%7D%3B%0A%20%20%20%20%20%20%20%20%20%20%20%20%20%20%20%20case%20%22%5Cuc885%5Cub85c%5Cuad6c%22%3A%20%0A%20%20%20%20%20%20%20%20%20%20%20%20%20%20%20%20%20%20%20%20return%20%7B%22color%22%3A%20%22black%22%2C%20%22fillColor%22%3A%20%22%23df65b0%22%2C%20%22fillOpacity%22%3A%200.6%2C%20%22opacity%22%3A%201%2C%20%22weight%22%3A%201%7D%3B%0A%20%20%20%20%20%20%20%20%20%20%20%20%20%20%20%20default%3A%0A%20%20%20%20%20%20%20%20%20%20%20%20%20%20%20%20%20%20%20%20return%20%7B%22color%22%3A%20%22black%22%2C%20%22fillColor%22%3A%20%22%23f1eef6%22%2C%20%22fillOpacity%22%3A%200.6%2C%20%22opacity%22%3A%201%2C%20%22weight%22%3A%201%7D%3B%0A%20%20%20%20%20%20%20%20%20%20%20%20%7D%0A%20%20%20%20%20%20%20%20%7D%0A%0A%20%20%20%20%20%20%20%20function%20geo_json_4ee53d7d41034ae78bcb2eb737a79d1c_onEachFeature%28feature%2C%20layer%29%20%7B%0A%20%20%20%20%20%20%20%20%20%20%20%20layer.on%28%7B%0A%20%20%20%20%20%20%20%20%20%20%20%20%7D%29%3B%0A%20%20%20%20%20%20%20%20%7D%3B%0A%20%20%20%20%20%20%20%20var%20geo_json_4ee53d7d41034ae78bcb2eb737a79d1c%20%3D%20L.geoJson%28null%2C%20%7B%0A%20%20%20%20%20%20%20%20%20%20%20%20%20%20%20%20onEachFeature%3A%20geo_json_4ee53d7d41034ae78bcb2eb737a79d1c_onEachFeature%2C%0A%20%20%20%20%20%20%20%20%20%20%20%20%0A%20%20%20%20%20%20%20%20%20%20%20%20%20%20%20%20style%3A%20geo_json_4ee53d7d41034ae78bcb2eb737a79d1c_styler%2C%0A%20%20%20%20%20%20%20%20%7D%29%3B%0A%0A%20%20%20%20%20%20%20%20function%20geo_json_4ee53d7d41034ae78bcb2eb737a79d1c_add%20%28data%29%20%7B%0A%20%20%20%20%20%20%20%20%20%20%20%20geo_json_4ee53d7d41034ae78bcb2eb737a79d1c%0A%20%20%20%20%20%20%20%20%20%20%20%20%20%20%20%20.addData%28data%29%0A%20%20%20%20%20%20%20%20%20%20%20%20%20%20%20%20.addTo%28choropleth_13869a71af82447ab515039a1b758d77%29%3B%0A%20%20%20%20%20%20%20%20%7D%0A%20%20%20%20%20%20%20%20%20%20%20%20geo_json_4ee53d7d41034ae78bcb2eb737a79d1c_add%28%7B%22features%22%3A%20%5B%7B%22geometry%22%3A%20%7B%22coordinates%22%3A%20%5B%5B%5B127.11519584981606%2C%2037.557533180704915%5D%2C%20%5B127.16683184366129%2C%2037.57672487388627%5D%2C%20%5B127.18408792330152%2C%2037.55814280369575%5D%2C%20%5B127.16530984307447%2C%2037.54221851258693%5D%2C%20%5B127.14672806823502%2C%2037.51415680680291%5D%2C%20%5B127.12123165719615%2C%2037.52528270089%5D%2C%20%5B127.1116764203608%2C%2037.540669955324965%5D%2C%20%5B127.11519584981606%2C%2037.557533180704915%5D%5D%5D%2C%20%22type%22%3A%20%22Polygon%22%7D%2C%20%22id%22%3A%20%22%5Cuac15%5Cub3d9%5Cuad6c%22%2C%20%22properties%22%3A%20%7B%22base_year%22%3A%20%222013%22%2C%20%22code%22%3A%20%2211250%22%2C%20%22name%22%3A%20%22%5Cuac15%5Cub3d9%5Cuad6c%22%2C%20%22name_eng%22%3A%20%22Gangdong-gu%22%7D%2C%20%22type%22%3A%20%22Feature%22%7D%2C%20%7B%22geometry%22%3A%20%7B%22coordinates%22%3A%20%5B%5B%5B127.0690698130372%2C%2037.522279423505026%5D%2C%20%5B127.10087519791962%2C%2037.524841220167055%5D%2C%20%5B127.1116764203608%2C%2037.540669955324965%5D%2C%20%5B127.12123165719615%2C%2037.52528270089%5D%2C%20%5B127.14672806823502%2C%2037.51415680680291%5D%2C%20%5B127.1634944215765%2C%2037.497445406097484%5D%2C%20%5B127.14206058413274%2C%2037.47089819098501%5D%2C%20%5B127.12440571080893%2C%2037.46240445587048%5D%2C%20%5B127.11117085201238%2C%2037.485708381512445%5D%2C%20%5B127.0719146000724%2C%2037.50224013587669%5D%2C%20%5B127.0690698130372%2C%2037.522279423505026%5D%5D%5D%2C%20%22type%22%3A%20%22Polygon%22%7D%2C%20%22id%22%3A%20%22%5Cuc1a1%5Cud30c%5Cuad6c%22%2C%20%22properties%22%3A%20%7B%22base_year%22%3A%20%222013%22%2C%20%22code%22%3A%20%2211240%22%2C%20%22name%22%3A%20%22%5Cuc1a1%5Cud30c%5Cuad6c%22%2C%20%22name_eng%22%3A%20%22Songpa-gu%22%7D%2C%20%22type%22%3A%20%22Feature%22%7D%2C%20%7B%22geometry%22%3A%20%7B%22coordinates%22%3A%20%5B%5B%5B127.05867359288398%2C%2037.52629974922568%5D%2C%20%5B127.0690698130372%2C%2037.522279423505026%5D%2C%20%5B127.0719146000724%2C%2037.50224013587669%5D%2C%20%5B127.11117085201238%2C%2037.485708381512445%5D%2C%20%5B127.12440571080893%2C%2037.46240445587048%5D%2C%20%5B127.09842759318751%2C%2037.45862253857461%5D%2C%20%5B127.08640440578156%2C%2037.472697935184655%5D%2C%20%5B127.0559170481904%2C%2037.4659228914077%5D%2C%20%5B127.03621915098798%2C%2037.48175802427603%5D%2C%20%5B127.01397119667513%2C%2037.52503988289669%5D%2C%20%5B127.02302831890559%2C%2037.53231899582663%5D%2C%20%5B127.05867359288398%2C%2037.52629974922568%5D%5D%5D%2C%20%22type%22%3A%20%22Polygon%22%7D%2C%20%22id%22%3A%20%22%5Cuac15%5Cub0a8%5Cuad6c%22%2C%20%22properties%22%3A%20%7B%22base_year%22%3A%20%222013%22%2C%20%22code%22%3A%20%2211230%22%2C%20%22name%22%3A%20%22%5Cuac15%5Cub0a8%5Cuad6c%22%2C%20%22name_eng%22%3A%20%22Gangnam-gu%22%7D%2C%20%22type%22%3A%20%22Feature%22%7D%2C%20%7B%22geometry%22%3A%20%7B%22coordinates%22%3A%20%5B%5B%5B127.01397119667513%2C%2037.52503988289669%5D%2C%20%5B127.03621915098798%2C%2037.48175802427603%5D%2C%20%5B127.0559170481904%2C%2037.4659228914077%5D%2C%20%5B127.08640440578156%2C%2037.472697935184655%5D%2C%20%5B127.09842759318751%2C%2037.45862253857461%5D%2C%20%5B127.09046928565951%2C%2037.44296826114185%5D%2C%20%5B127.06778107605433%2C%2037.426197424057314%5D%2C%20%5B127.04957232987142%2C%2037.42805836845694%5D%2C%20%5B127.03881782597922%2C%2037.45382039851715%5D%2C%20%5B126.99072073195462%2C%2037.455326143310025%5D%2C%20%5B126.98367668291802%2C%2037.473856492692086%5D%2C%20%5B126.98223807916081%2C%2037.509314966770326%5D%2C%20%5B127.01397119667513%2C%2037.52503988289669%5D%5D%5D%2C%20%22type%22%3A%20%22Polygon%22%7D%2C%20%22id%22%3A%20%22%5Cuc11c%5Cucd08%5Cuad6c%22%2C%20%22properties%22%3A%20%7B%22base_year%22%3A%20%222013%22%2C%20%22code%22%3A%20%2211220%22%2C%20%22name%22%3A%20%22%5Cuc11c%5Cucd08%5Cuad6c%22%2C%20%22name_eng%22%3A%20%22Seocho-gu%22%7D%2C%20%22type%22%3A%20%22Feature%22%7D%2C%20%7B%22geometry%22%3A%20%7B%22coordinates%22%3A%20%5B%5B%5B126.98367668291802%2C%2037.473856492692086%5D%2C%20%5B126.99072073195462%2C%2037.455326143310025%5D%2C%20%5B126.96520439085143%2C%2037.438249784006246%5D%2C%20%5B126.95000001010182%2C%2037.43613451165719%5D%2C%20%5B126.93084408056525%2C%2037.447382928333994%5D%2C%20%5B126.9167728146601%2C%2037.45490566423789%5D%2C%20%5B126.90156094129895%2C%2037.47753842789901%5D%2C%20%5B126.90531975801812%2C%2037.48218087575429%5D%2C%20%5B126.94922661389508%2C%2037.49125437495649%5D%2C%20%5B126.9725891850662%2C%2037.472561363278125%5D%2C%20%5B126.98367668291802%2C%2037.473856492692086%5D%5D%5D%2C%20%22type%22%3A%20%22Polygon%22%7D%2C%20%22id%22%3A%20%22%5Cuad00%5Cuc545%5Cuad6c%22%2C%20%22properties%22%3A%20%7B%22base_year%22%3A%20%222013%22%2C%20%22code%22%3A%20%2211210%22%2C%20%22name%22%3A%20%22%5Cuad00%5Cuc545%5Cuad6c%22%2C%20%22name_eng%22%3A%20%22Gwanak-gu%22%7D%2C%20%22type%22%3A%20%22Feature%22%7D%2C%20%7B%22geometry%22%3A%20%7B%22coordinates%22%3A%20%5B%5B%5B126.98223807916081%2C%2037.509314966770326%5D%2C%20%5B126.98367668291802%2C%2037.473856492692086%5D%2C%20%5B126.9725891850662%2C%2037.472561363278125%5D%2C%20%5B126.94922661389508%2C%2037.49125437495649%5D%2C%20%5B126.90531975801812%2C%2037.48218087575429%5D%2C%20%5B126.92177893174825%2C%2037.494889877415176%5D%2C%20%5B126.92810628828279%2C%2037.51329595732015%5D%2C%20%5B126.95249990298159%2C%2037.51722500741813%5D%2C%20%5B126.98223807916081%2C%2037.509314966770326%5D%5D%5D%2C%20%22type%22%3A%20%22Polygon%22%7D%2C%20%22id%22%3A%20%22%5Cub3d9%5Cuc791%5Cuad6c%22%2C%20%22properties%22%3A%20%7B%22base_year%22%3A%20%222013%22%2C%20%22code%22%3A%20%2211200%22%2C%20%22name%22%3A%20%22%5Cub3d9%5Cuc791%5Cuad6c%22%2C%20%22name_eng%22%3A%20%22Dongjak-gu%22%7D%2C%20%22type%22%3A%20%22Feature%22%7D%2C%20%7B%22geometry%22%3A%20%7B%22coordinates%22%3A%20%5B%5B%5B126.89184663862764%2C%2037.547373974997114%5D%2C%20%5B126.94566733083212%2C%2037.526617542453366%5D%2C%20%5B126.95249990298159%2C%2037.51722500741813%5D%2C%20%5B126.92810628828279%2C%2037.51329595732015%5D%2C%20%5B126.92177893174825%2C%2037.494889877415176%5D%2C%20%5B126.90531975801812%2C%2037.48218087575429%5D%2C%20%5B126.89594776782485%2C%2037.504675281309176%5D%2C%20%5B126.88156402353862%2C%2037.513970034765684%5D%2C%20%5B126.88825757860099%2C%2037.54079733630232%5D%2C%20%5B126.89184663862764%2C%2037.547373974997114%5D%5D%5D%2C%20%22type%22%3A%20%22Polygon%22%7D%2C%20%22id%22%3A%20%22%5Cuc601%5Cub4f1%5Cud3ec%5Cuad6c%22%2C%20%22properties%22%3A%20%7B%22base_year%22%3A%20%222013%22%2C%20%22code%22%3A%20%2211190%22%2C%20%22name%22%3A%20%22%5Cuc601%5Cub4f1%5Cud3ec%5Cuad6c%22%2C%20%22name_eng%22%3A%20%22Yeongdeungpo-gu%22%7D%2C%20%22type%22%3A%20%22Feature%22%7D%2C%20%7B%22geometry%22%3A%20%7B%22coordinates%22%3A%20%5B%5B%5B126.90156094129895%2C%2037.47753842789901%5D%2C%20%5B126.9167728146601%2C%2037.45490566423789%5D%2C%20%5B126.93084408056525%2C%2037.447382928333994%5D%2C%20%5B126.9025831711697%2C%2037.434549366349124%5D%2C%20%5B126.87683271502428%2C%2037.482576591607305%5D%2C%20%5B126.90156094129895%2C%2037.47753842789901%5D%5D%5D%2C%20%22type%22%3A%20%22Polygon%22%7D%2C%20%22id%22%3A%20%22%5Cuae08%5Cucc9c%5Cuad6c%22%2C%20%22properties%22%3A%20%7B%22base_year%22%3A%20%222013%22%2C%20%22code%22%3A%20%2211180%22%2C%20%22name%22%3A%20%22%5Cuae08%5Cucc9c%5Cuad6c%22%2C%20%22name_eng%22%3A%20%22Geumcheon-gu%22%7D%2C%20%22type%22%3A%20%22Feature%22%7D%2C%20%7B%22geometry%22%3A%20%7B%22coordinates%22%3A%20%5B%5B%5B126.82688081517314%2C%2037.50548972232896%5D%2C%20%5B126.88156402353862%2C%2037.513970034765684%5D%2C%20%5B126.89594776782485%2C%2037.504675281309176%5D%2C%20%5B126.90531975801812%2C%2037.48218087575429%5D%2C%20%5B126.90156094129895%2C%2037.47753842789901%5D%2C%20%5B126.87683271502428%2C%2037.482576591607305%5D%2C%20%5B126.84762676054953%2C%2037.47146723936323%5D%2C%20%5B126.83549485076196%2C%2037.474098236975095%5D%2C%20%5B126.82264796791348%2C%2037.4878476492147%5D%2C%20%5B126.82504736331406%2C%2037.50302612640443%5D%2C%20%5B126.82688081517314%2C%2037.50548972232896%5D%5D%5D%2C%20%22type%22%3A%20%22Polygon%22%7D%2C%20%22id%22%3A%20%22%5Cuad6c%5Cub85c%5Cuad6c%22%2C%20%22properties%22%3A%20%7B%22base_year%22%3A%20%222013%22%2C%20%22code%22%3A%20%2211170%22%2C%20%22name%22%3A%20%22%5Cuad6c%5Cub85c%5Cuad6c%22%2C%20%22name_eng%22%3A%20%22Guro-gu%22%7D%2C%20%22type%22%3A%20%22Feature%22%7D%2C%20%7B%22geometry%22%3A%20%7B%22coordinates%22%3A%20%5B%5B%5B126.79575768552907%2C%2037.57881087633202%5D%2C%20%5B126.80702115023597%2C%2037.60123001013228%5D%2C%20%5B126.82251438477105%2C%2037.5880430810082%5D%2C%20%5B126.85984199399667%2C%2037.571847855292745%5D%2C%20%5B126.89184663862764%2C%2037.547373974997114%5D%2C%20%5B126.88825757860099%2C%2037.54079733630232%5D%2C%20%5B126.86637464321238%2C%2037.54859191094823%5D%2C%20%5B126.86610073476395%2C%2037.52699964144669%5D%2C%20%5B126.84257291943153%2C%2037.52373707805596%5D%2C%20%5B126.8242331426722%2C%2037.53788078753248%5D%2C%20%5B126.77324417717703%2C%2037.5459123450554%5D%2C%20%5B126.76979180579352%2C%2037.55139183008809%5D%2C%20%5B126.79575768552907%2C%2037.57881087633202%5D%5D%5D%2C%20%22type%22%3A%20%22Polygon%22%7D%2C%20%22id%22%3A%20%22%5Cuac15%5Cuc11c%5Cuad6c%22%2C%20%22properties%22%3A%20%7B%22base_year%22%3A%20%222013%22%2C%20%22code%22%3A%20%2211160%22%2C%20%22name%22%3A%20%22%5Cuac15%5Cuc11c%5Cuad6c%22%2C%20%22name_eng%22%3A%20%22Gangseo-gu%22%7D%2C%20%22type%22%3A%20%22Feature%22%7D%2C%20%7B%22geometry%22%3A%20%7B%22coordinates%22%3A%20%5B%5B%5B126.8242331426722%2C%2037.53788078753248%5D%2C%20%5B126.84257291943153%2C%2037.52373707805596%5D%2C%20%5B126.86610073476395%2C%2037.52699964144669%5D%2C%20%5B126.86637464321238%2C%2037.54859191094823%5D%2C%20%5B126.88825757860099%2C%2037.54079733630232%5D%2C%20%5B126.88156402353862%2C%2037.513970034765684%5D%2C%20%5B126.82688081517314%2C%2037.50548972232896%5D%2C%20%5B126.8242331426722%2C%2037.53788078753248%5D%5D%5D%2C%20%22type%22%3A%20%22Polygon%22%7D%2C%20%22id%22%3A%20%22%5Cuc591%5Cucc9c%5Cuad6c%22%2C%20%22properties%22%3A%20%7B%22base_year%22%3A%20%222013%22%2C%20%22code%22%3A%20%2211150%22%2C%20%22name%22%3A%20%22%5Cuc591%5Cucc9c%5Cuad6c%22%2C%20%22name_eng%22%3A%20%22Yangcheon-gu%22%7D%2C%20%22type%22%3A%20%22Feature%22%7D%2C%20%7B%22geometry%22%3A%20%7B%22coordinates%22%3A%20%5B%5B%5B126.90522065831053%2C%2037.57409700522574%5D%2C%20%5B126.93898161798973%2C%2037.552310003728124%5D%2C%20%5B126.96358226710812%2C%2037.55605635475154%5D%2C%20%5B126.96448570553055%2C%2037.548705692021635%5D%2C%20%5B126.94566733083212%2C%2037.526617542453366%5D%2C%20%5B126.89184663862764%2C%2037.547373974997114%5D%2C%20%5B126.85984199399667%2C%2037.571847855292745%5D%2C%20%5B126.88433284773288%2C%2037.588143322880526%5D%2C%20%5B126.90522065831053%2C%2037.57409700522574%5D%5D%5D%2C%20%22type%22%3A%20%22Polygon%22%7D%2C%20%22id%22%3A%20%22%5Cub9c8%5Cud3ec%5Cuad6c%22%2C%20%22properties%22%3A%20%7B%22base_year%22%3A%20%222013%22%2C%20%22code%22%3A%20%2211140%22%2C%20%22name%22%3A%20%22%5Cub9c8%5Cud3ec%5Cuad6c%22%2C%20%22name_eng%22%3A%20%22Mapo-gu%22%7D%2C%20%22type%22%3A%20%22Feature%22%7D%2C%20%7B%22geometry%22%3A%20%7B%22coordinates%22%3A%20%5B%5B%5B126.9524752030572%2C%2037.60508692737045%5D%2C%20%5B126.95565425846463%2C%2037.576080790881456%5D%2C%20%5B126.96873633279075%2C%2037.56313604690827%5D%2C%20%5B126.96358226710812%2C%2037.55605635475154%5D%2C%20%5B126.93898161798973%2C%2037.552310003728124%5D%2C%20%5B126.90522065831053%2C%2037.57409700522574%5D%2C%20%5B126.9524752030572%2C%2037.60508692737045%5D%5D%5D%2C%20%22type%22%3A%20%22Polygon%22%7D%2C%20%22id%22%3A%20%22%5Cuc11c%5Cub300%5Cubb38%5Cuad6c%22%2C%20%22properties%22%3A%20%7B%22base_year%22%3A%20%222013%22%2C%20%22code%22%3A%20%2211130%22%2C%20%22name%22%3A%20%22%5Cuc11c%5Cub300%5Cubb38%5Cuad6c%22%2C%20%22name_eng%22%3A%20%22Seodaemun-gu%22%7D%2C%20%22type%22%3A%20%22Feature%22%7D%2C%20%7B%22geometry%22%3A%20%7B%22coordinates%22%3A%20%5B%5B%5B126.9738864128702%2C%2037.62949634786888%5D%2C%20%5B126.95427017006129%2C%2037.622033431339425%5D%2C%20%5B126.9524752030572%2C%2037.60508692737045%5D%2C%20%5B126.90522065831053%2C%2037.57409700522574%5D%2C%20%5B126.88433284773288%2C%2037.588143322880526%5D%2C%20%5B126.90396681003595%2C%2037.59227403419942%5D%2C%20%5B126.90303066177668%2C%2037.609977911401344%5D%2C%20%5B126.91455481429648%2C%2037.64150050996935%5D%2C%20%5B126.956473797387%2C%2037.652480737339445%5D%2C%20%5B126.9738864128702%2C%2037.62949634786888%5D%5D%5D%2C%20%22type%22%3A%20%22Polygon%22%7D%2C%20%22id%22%3A%20%22%5Cuc740%5Cud3c9%5Cuad6c%22%2C%20%22properties%22%3A%20%7B%22base_year%22%3A%20%222013%22%2C%20%22code%22%3A%20%2211120%22%2C%20%22name%22%3A%20%22%5Cuc740%5Cud3c9%5Cuad6c%22%2C%20%22name_eng%22%3A%20%22Eunpyeong-gu%22%7D%2C%20%22type%22%3A%20%22Feature%22%7D%2C%20%7B%22geometry%22%3A%20%7B%22coordinates%22%3A%20%5B%5B%5B127.0838752703195%2C%2037.69359534202034%5D%2C%20%5B127.09706391309695%2C%2037.686383719372294%5D%2C%20%5B127.09440766298717%2C%2037.64713490473045%5D%2C%20%5B127.11326795855199%2C%2037.639622905315925%5D%2C%20%5B127.10782277688129%2C%2037.61804244241069%5D%2C%20%5B127.07351243825278%2C%2037.61283660342313%5D%2C%20%5B127.05209373568619%2C%2037.62164065487782%5D%2C%20%5B127.04358800895609%2C%2037.62848931298715%5D%2C%20%5B127.05800075220091%2C%2037.64318263878276%5D%2C%20%5B127.05288479710485%2C%2037.68423857084347%5D%2C%20%5B127.0838752703195%2C%2037.69359534202034%5D%5D%5D%2C%20%22type%22%3A%20%22Polygon%22%7D%2C%20%22id%22%3A%20%22%5Cub178%5Cuc6d0%5Cuad6c%22%2C%20%22properties%22%3A%20%7B%22base_year%22%3A%20%222013%22%2C%20%22code%22%3A%20%2211110%22%2C%20%22name%22%3A%20%22%5Cub178%5Cuc6d0%5Cuad6c%22%2C%20%22name_eng%22%3A%20%22Nowon-gu%22%7D%2C%20%22type%22%3A%20%22Feature%22%7D%2C%20%7B%22geometry%22%3A%20%7B%22coordinates%22%3A%20%5B%5B%5B127.05288479710485%2C%2037.68423857084347%5D%2C%20%5B127.05800075220091%2C%2037.64318263878276%5D%2C%20%5B127.04358800895609%2C%2037.62848931298715%5D%2C%20%5B127.01465935892466%2C%2037.64943687496812%5D%2C%20%5B127.02062116141389%2C%2037.667173575971205%5D%2C%20%5B127.01039666042071%2C%2037.681894589603594%5D%2C%20%5B127.01795099203432%2C%2037.69824412775662%5D%2C%20%5B127.05288479710485%2C%2037.68423857084347%5D%5D%5D%2C%20%22type%22%3A%20%22Polygon%22%7D%2C%20%22id%22%3A%20%22%5Cub3c4%5Cubd09%5Cuad6c%22%2C%20%22properties%22%3A%20%7B%22base_year%22%3A%20%222013%22%2C%20%22code%22%3A%20%2211100%22%2C%20%22name%22%3A%20%22%5Cub3c4%5Cubd09%5Cuad6c%22%2C%20%22name_eng%22%3A%20%22Dobong-gu%22%7D%2C%20%22type%22%3A%20%22Feature%22%7D%2C%20%7B%22geometry%22%3A%20%7B%22coordinates%22%3A%20%5B%5B%5B126.99383903424%2C%2037.676681761199085%5D%2C%20%5B127.01039666042071%2C%2037.681894589603594%5D%2C%20%5B127.02062116141389%2C%2037.667173575971205%5D%2C%20%5B127.01465935892466%2C%2037.64943687496812%5D%2C%20%5B127.04358800895609%2C%2037.62848931298715%5D%2C%20%5B127.05209373568619%2C%2037.62164065487782%5D%2C%20%5B127.03892400992301%2C%2037.609715611023816%5D%2C%20%5B127.0128154749523%2C%2037.613652243470256%5D%2C%20%5B126.98672705513869%2C%2037.63377641288196%5D%2C%20%5B126.9817452676551%2C%2037.65209769387776%5D%2C%20%5B126.99383903424%2C%2037.676681761199085%5D%5D%5D%2C%20%22type%22%3A%20%22Polygon%22%7D%2C%20%22id%22%3A%20%22%5Cuac15%5Cubd81%5Cuad6c%22%2C%20%22properties%22%3A%20%7B%22base_year%22%3A%20%222013%22%2C%20%22code%22%3A%20%2211090%22%2C%20%22name%22%3A%20%22%5Cuac15%5Cubd81%5Cuad6c%22%2C%20%22name_eng%22%3A%20%22Gangbuk-gu%22%7D%2C%20%22type%22%3A%20%22Feature%22%7D%2C%20%7B%22geometry%22%3A%20%7B%22coordinates%22%3A%20%5B%5B%5B126.977175406416%2C%2037.62859715400388%5D%2C%20%5B126.98672705513869%2C%2037.63377641288196%5D%2C%20%5B127.0128154749523%2C%2037.613652243470256%5D%2C%20%5B127.03892400992301%2C%2037.609715611023816%5D%2C%20%5B127.05209373568619%2C%2037.62164065487782%5D%2C%20%5B127.07351243825278%2C%2037.61283660342313%5D%2C%20%5B127.07382707099227%2C%2037.60401928986419%5D%2C%20%5B127.042705222094%2C%2037.59239437593391%5D%2C%20%5B127.02527254528003%2C%2037.57524616245249%5D%2C%20%5B126.99348293358314%2C%2037.588565457216156%5D%2C%20%5B126.98879865992384%2C%2037.6118927319756%5D%2C%20%5B126.977175406416%2C%2037.62859715400388%5D%5D%5D%2C%20%22type%22%3A%20%22Polygon%22%7D%2C%20%22id%22%3A%20%22%5Cuc131%5Cubd81%5Cuad6c%22%2C%20%22properties%22%3A%20%7B%22base_year%22%3A%20%222013%22%2C%20%22code%22%3A%20%2211080%22%2C%20%22name%22%3A%20%22%5Cuc131%5Cubd81%5Cuad6c%22%2C%20%22name_eng%22%3A%20%22Seongbuk-gu%22%7D%2C%20%22type%22%3A%20%22Feature%22%7D%2C%20%7B%22geometry%22%3A%20%7B%22coordinates%22%3A%20%5B%5B%5B127.07351243825278%2C%2037.61283660342313%5D%2C%20%5B127.10782277688129%2C%2037.61804244241069%5D%2C%20%5B127.1201246020114%2C%2037.60178457598188%5D%2C%20%5B127.10304174249214%2C%2037.57076342290955%5D%2C%20%5B127.08068541280403%2C%2037.56906425519017%5D%2C%20%5B127.07382707099227%2C%2037.60401928986419%5D%2C%20%5B127.07351243825278%2C%2037.61283660342313%5D%5D%5D%2C%20%22type%22%3A%20%22Polygon%22%7D%2C%20%22id%22%3A%20%22%5Cuc911%5Cub791%5Cuad6c%22%2C%20%22properties%22%3A%20%7B%22base_year%22%3A%20%222013%22%2C%20%22code%22%3A%20%2211070%22%2C%20%22name%22%3A%20%22%5Cuc911%5Cub791%5Cuad6c%22%2C%20%22name_eng%22%3A%20%22Jungnang-gu%22%7D%2C%20%22type%22%3A%20%22Feature%22%7D%2C%20%7B%22geometry%22%3A%20%7B%22coordinates%22%3A%20%5B%5B%5B127.02527254528003%2C%2037.57524616245249%5D%2C%20%5B127.042705222094%2C%2037.59239437593391%5D%2C%20%5B127.07382707099227%2C%2037.60401928986419%5D%2C%20%5B127.08068541280403%2C%2037.56906425519017%5D%2C%20%5B127.07421053024362%2C%2037.55724769712085%5D%2C%20%5B127.05005601081567%2C%2037.567577612590846%5D%2C%20%5B127.02547266349976%2C%2037.568943552237734%5D%2C%20%5B127.02527254528003%2C%2037.57524616245249%5D%5D%5D%2C%20%22type%22%3A%20%22Polygon%22%7D%2C%20%22id%22%3A%20%22%5Cub3d9%5Cub300%5Cubb38%5Cuad6c%22%2C%20%22properties%22%3A%20%7B%22base_year%22%3A%20%222013%22%2C%20%22code%22%3A%20%2211060%22%2C%20%22name%22%3A%20%22%5Cub3d9%5Cub300%5Cubb38%5Cuad6c%22%2C%20%22name_eng%22%3A%20%22Dongdaemun-gu%22%7D%2C%20%22type%22%3A%20%22Feature%22%7D%2C%20%7B%22geometry%22%3A%20%7B%22coordinates%22%3A%20%5B%5B%5B127.08068541280403%2C%2037.56906425519017%5D%2C%20%5B127.10304174249214%2C%2037.57076342290955%5D%2C%20%5B127.11519584981606%2C%2037.557533180704915%5D%2C%20%5B127.1116764203608%2C%2037.540669955324965%5D%2C%20%5B127.10087519791962%2C%2037.524841220167055%5D%2C%20%5B127.0690698130372%2C%2037.522279423505026%5D%2C%20%5B127.05867359288398%2C%2037.52629974922568%5D%2C%20%5B127.07421053024362%2C%2037.55724769712085%5D%2C%20%5B127.08068541280403%2C%2037.56906425519017%5D%5D%5D%2C%20%22type%22%3A%20%22Polygon%22%7D%2C%20%22id%22%3A%20%22%5Cuad11%5Cuc9c4%5Cuad6c%22%2C%20%22properties%22%3A%20%7B%22base_year%22%3A%20%222013%22%2C%20%22code%22%3A%20%2211050%22%2C%20%22name%22%3A%20%22%5Cuad11%5Cuc9c4%5Cuad6c%22%2C%20%22name_eng%22%3A%20%22Gwangjin-gu%22%7D%2C%20%22type%22%3A%20%22Feature%22%7D%2C%20%7B%22geometry%22%3A%20%7B%22coordinates%22%3A%20%5B%5B%5B127.02547266349976%2C%2037.568943552237734%5D%2C%20%5B127.05005601081567%2C%2037.567577612590846%5D%2C%20%5B127.07421053024362%2C%2037.55724769712085%5D%2C%20%5B127.05867359288398%2C%2037.52629974922568%5D%2C%20%5B127.02302831890559%2C%2037.53231899582663%5D%2C%20%5B127.01070894177482%2C%2037.54118048964762%5D%2C%20%5B127.02547266349976%2C%2037.568943552237734%5D%5D%5D%2C%20%22type%22%3A%20%22Polygon%22%7D%2C%20%22id%22%3A%20%22%5Cuc131%5Cub3d9%5Cuad6c%22%2C%20%22properties%22%3A%20%7B%22base_year%22%3A%20%222013%22%2C%20%22code%22%3A%20%2211040%22%2C%20%22name%22%3A%20%22%5Cuc131%5Cub3d9%5Cuad6c%22%2C%20%22name_eng%22%3A%20%22Seongdong-gu%22%7D%2C%20%22type%22%3A%20%22Feature%22%7D%2C%20%7B%22geometry%22%3A%20%7B%22coordinates%22%3A%20%5B%5B%5B127.01070894177482%2C%2037.54118048964762%5D%2C%20%5B127.02302831890559%2C%2037.53231899582663%5D%2C%20%5B127.01397119667513%2C%2037.52503988289669%5D%2C%20%5B126.98223807916081%2C%2037.509314966770326%5D%2C%20%5B126.95249990298159%2C%2037.51722500741813%5D%2C%20%5B126.94566733083212%2C%2037.526617542453366%5D%2C%20%5B126.96448570553055%2C%2037.548705692021635%5D%2C%20%5B126.98752996903328%2C%2037.55094818807139%5D%2C%20%5B127.01070894177482%2C%2037.54118048964762%5D%5D%5D%2C%20%22type%22%3A%20%22Polygon%22%7D%2C%20%22id%22%3A%20%22%5Cuc6a9%5Cuc0b0%5Cuad6c%22%2C%20%22properties%22%3A%20%7B%22base_year%22%3A%20%222013%22%2C%20%22code%22%3A%20%2211030%22%2C%20%22name%22%3A%20%22%5Cuc6a9%5Cuc0b0%5Cuad6c%22%2C%20%22name_eng%22%3A%20%22Yongsan-gu%22%7D%2C%20%22type%22%3A%20%22Feature%22%7D%2C%20%7B%22geometry%22%3A%20%7B%22coordinates%22%3A%20%5B%5B%5B127.02547266349976%2C%2037.568943552237734%5D%2C%20%5B127.01070894177482%2C%2037.54118048964762%5D%2C%20%5B126.98752996903328%2C%2037.55094818807139%5D%2C%20%5B126.96448570553055%2C%2037.548705692021635%5D%2C%20%5B126.96358226710812%2C%2037.55605635475154%5D%2C%20%5B126.96873633279075%2C%2037.56313604690827%5D%2C%20%5B127.02547266349976%2C%2037.568943552237734%5D%5D%5D%2C%20%22type%22%3A%20%22Polygon%22%7D%2C%20%22id%22%3A%20%22%5Cuc911%5Cuad6c%22%2C%20%22properties%22%3A%20%7B%22base_year%22%3A%20%222013%22%2C%20%22code%22%3A%20%2211020%22%2C%20%22name%22%3A%20%22%5Cuc911%5Cuad6c%22%2C%20%22name_eng%22%3A%20%22Jung-gu%22%7D%2C%20%22type%22%3A%20%22Feature%22%7D%2C%20%7B%22geometry%22%3A%20%7B%22coordinates%22%3A%20%5B%5B%5B126.9738864128702%2C%2037.62949634786888%5D%2C%20%5B126.977175406416%2C%2037.62859715400388%5D%2C%20%5B126.98879865992384%2C%2037.6118927319756%5D%2C%20%5B126.99348293358314%2C%2037.588565457216156%5D%2C%20%5B127.02527254528003%2C%2037.57524616245249%5D%2C%20%5B127.02547266349976%2C%2037.568943552237734%5D%2C%20%5B126.96873633279075%2C%2037.56313604690827%5D%2C%20%5B126.95565425846463%2C%2037.576080790881456%5D%2C%20%5B126.9524752030572%2C%2037.60508692737045%5D%2C%20%5B126.95427017006129%2C%2037.622033431339425%5D%2C%20%5B126.9738864128702%2C%2037.62949634786888%5D%5D%5D%2C%20%22type%22%3A%20%22Polygon%22%7D%2C%20%22id%22%3A%20%22%5Cuc885%5Cub85c%5Cuad6c%22%2C%20%22properties%22%3A%20%7B%22base_year%22%3A%20%222013%22%2C%20%22code%22%3A%20%2211010%22%2C%20%22name%22%3A%20%22%5Cuc885%5Cub85c%5Cuad6c%22%2C%20%22name_eng%22%3A%20%22Jongno-gu%22%7D%2C%20%22type%22%3A%20%22Feature%22%7D%5D%2C%20%22type%22%3A%20%22FeatureCollection%22%7D%29%3B%0A%0A%20%20%20%20%20%20%20%20%0A%20%20%20%20%0A%20%20%20%20var%20color_map_81d925dbdb874097b1181316074e970c%20%3D%20%7B%7D%3B%0A%0A%20%20%20%20%0A%20%20%20%20color_map_81d925dbdb874097b1181316074e970c.color%20%3D%20d3.scale.threshold%28%29%0A%20%20%20%20%20%20%20%20%20%20%20%20%20%20.domain%28%5B1888.4545454545455%2C%201889.2786692265652%2C%201890.1027929985846%2C%201890.9269167706043%2C%201891.7510405426237%2C%201892.5751643146434%2C%201893.3992880866629%2C%201894.2234118586825%2C%201895.047535630702%2C%201895.8716594027217%2C%201896.695783174741%2C%201897.5199069467608%2C%201898.3440307187802%2C%201899.1681544908%2C%201899.9922782628194%2C%201900.816402034839%2C%201901.6405258068585%2C%201902.4646495788782%2C%201903.2887733508976%2C%201904.1128971229173%2C%201904.9370208949367%2C%201905.7611446669564%2C%201906.5852684389758%2C%201907.4093922109955%2C%201908.233515983015%2C%201909.0576397550346%2C%201909.881763527054%2C%201910.7058872990738%2C%201911.5300110710932%2C%201912.354134843113%2C%201913.1782586151323%2C%201914.002382387152%2C%201914.8265061591715%2C%201915.6506299311911%2C%201916.4747537032106%2C%201917.2988774752303%2C%201918.1230012472497%2C%201918.9471250192694%2C%201919.7712487912888%2C%201920.5953725633085%2C%201921.419496335328%2C%201922.2436201073476%2C%201923.067743879367%2C%201923.8918676513867%2C%201924.7159914234062%2C%201925.5401151954259%2C%201926.3642389674453%2C%201927.188362739465%2C%201928.0124865114844%2C%201928.8366102835041%2C%201929.6607340555236%2C%201930.4848578275432%2C%201931.3089815995627%2C%201932.1331053715824%2C%201932.9572291436018%2C%201933.7813529156215%2C%201934.605476687641%2C%201935.4296004596606%2C%201936.2537242316803%2C%201937.0778480036997%2C%201937.9019717757194%2C%201938.7260955477389%2C%201939.5502193197585%2C%201940.374343091778%2C%201941.1984668637976%2C%201942.022590635817%2C%201942.8467144078368%2C%201943.6708381798562%2C%201944.494961951876%2C%201945.3190857238953%2C%201946.143209495915%2C%201946.9673332679345%2C%201947.7914570399541%2C%201948.6155808119736%2C%201949.4397045839933%2C%201950.2638283560127%2C%201951.0879521280324%2C%201951.9120759000518%2C%201952.7361996720715%2C%201953.560323444091%2C%201954.3844472161106%2C%201955.20857098813%2C%201956.0326947601498%2C%201956.8568185321692%2C%201957.6809423041889%2C%201958.5050660762083%2C%201959.329189848228%2C%201960.1533136202474%2C%201960.9774373922671%2C%201961.8015611642866%2C%201962.6256849363062%2C%201963.4498087083257%2C%201964.2739324803454%2C%201965.0980562523648%2C%201965.9221800243845%2C%201966.746303796404%2C%201967.5704275684236%2C%201968.394551340443%2C%201969.2186751124627%2C%201970.0427988844822%2C%201970.8669226565019%2C%201971.6910464285213%2C%201972.515170200541%2C%201973.3392939725604%2C%201974.16341774458%2C%201974.9875415165995%2C%201975.8116652886192%2C%201976.6357890606387%2C%201977.4599128326583%2C%201978.2840366046778%2C%201979.1081603766975%2C%201979.932284148717%2C%201980.7564079207366%2C%201981.5805316927563%2C%201982.4046554647757%2C%201983.2287792367954%2C%201984.0529030088148%2C%201984.8770267808345%2C%201985.701150552854%2C%201986.5252743248736%2C%201987.349398096893%2C%201988.1735218689128%2C%201988.9976456409322%2C%201989.8217694129519%2C%201990.6458931849713%2C%201991.470016956991%2C%201992.2941407290105%2C%201993.1182645010301%2C%201993.9423882730496%2C%201994.7665120450692%2C%201995.5906358170887%2C%201996.4147595891084%2C%201997.2388833611278%2C%201998.0630071331475%2C%201998.887130905167%2C%201999.7112546771866%2C%202000.535378449206%2C%202001.3595022212257%2C%202002.1836259932452%2C%202003.0077497652649%2C%202003.8318735372843%2C%202004.655997309304%2C%202005.4801210813234%2C%202006.304244853343%2C%202007.1283686253626%2C%202007.9524923973822%2C%202008.7766161694017%2C%202009.6007399414214%2C%202010.4248637134408%2C%202011.2489874854605%2C%202012.07311125748%2C%202012.8972350294996%2C%202013.721358801519%2C%202014.5454825735387%2C%202015.3696063455582%2C%202016.1937301175778%2C%202017.0178538895973%2C%202017.841977661617%2C%202018.6661014336364%2C%202019.490225205656%2C%202020.3143489776758%2C%202021.1384727496952%2C%202021.9625965217147%2C%202022.7867202937343%2C%202023.6108440657538%2C%202024.4349678377735%2C%202025.259091609793%2C%202026.0832153818126%2C%202026.9073391538323%2C%202027.7314629258517%2C%202028.5555866978711%2C%202029.3797104698908%2C%202030.2038342419105%2C%202031.02795801393%2C%202031.8520817859494%2C%202032.676205557969%2C%202033.5003293299887%2C%202034.3244531020082%2C%202035.1485768740279%2C%202035.9727006460473%2C%202036.796824418067%2C%202037.6209481900864%2C%202038.445071962106%2C%202039.2691957341256%2C%202040.0933195061452%2C%202040.9174432781647%2C%202041.7415670501844%2C%202042.5656908222038%2C%202043.3898145942235%2C%202044.213938366243%2C%202045.0380621382626%2C%202045.862185910282%2C%202046.6863096823017%2C%202047.5104334543212%2C%202048.3345572263406%2C%202049.1586809983605%2C%202049.98280477038%2C%202050.8069285423994%2C%202051.631052314419%2C%202052.4551760864388%2C%202053.279299858458%2C%202054.1034236304777%2C%202054.927547402497%2C%202055.751671174517%2C%202056.5757949465365%2C%202057.399918718556%2C%202058.2240424905754%2C%202059.0481662625953%2C%202059.8722900346147%2C%202060.696413806634%2C%202061.5205375786536%2C%202062.3446613506735%2C%202063.168785122693%2C%202063.9929088947124%2C%202064.817032666732%2C%202065.6411564387518%2C%202066.465280210771%2C%202067.2894039827906%2C%202068.11352775481%2C%202068.93765152683%2C%202069.7617752988494%2C%202070.585899070869%2C%202071.410022842889%2C%202072.2341466149082%2C%202073.0582703869277%2C%202073.882394158947%2C%202074.7065179309666%2C%202075.5306417029865%2C%202076.354765475006%2C%202077.1788892470254%2C%202078.0030130190453%2C%202078.8271367910647%2C%202079.651260563084%2C%202080.4753843351036%2C%202081.2995081071235%2C%202082.123631879143%2C%202082.9477556511624%2C%202083.771879423182%2C%202084.596003195202%2C%202085.420126967221%2C%202086.2442507392407%2C%202087.06837451126%2C%202087.89249828328%2C%202088.7166220552995%2C%202089.540745827319%2C%202090.3648695993384%2C%202091.1889933713583%2C%202092.0131171433777%2C%202092.837240915397%2C%202093.6613646874166%2C%202094.4854884594365%2C%202095.309612231456%2C%202096.1337360034754%2C%202096.957859775495%2C%202097.7819835475148%2C%202098.606107319534%2C%202099.4302310915537%2C%202100.254354863573%2C%202101.078478635593%2C%202101.9026024076124%2C%202102.726726179632%2C%202103.5508499516513%2C%202104.3749737236712%2C%202105.1990974956907%2C%202106.02322126771%2C%202106.8473450397296%2C%202107.6714688117495%2C%202108.495592583769%2C%202109.3197163557884%2C%202110.1438401278083%2C%202110.9679638998277%2C%202111.792087671847%2C%202112.6162114438666%2C%202113.440335215886%2C%202114.264458987906%2C%202115.0885827599254%2C%202115.912706531945%2C%202116.736830303965%2C%202117.5609540759842%2C%202118.3850778480037%2C%202119.209201620023%2C%202120.0333253920426%2C%202120.8574491640625%2C%202121.681572936082%2C%202122.5056967081014%2C%202123.3298204801213%2C%202124.1539442521407%2C%202124.97806802416%2C%202125.8021917961796%2C%202126.6263155681995%2C%202127.450439340219%2C%202128.2745631122384%2C%202129.098686884258%2C%202129.9228106562778%2C%202130.746934428297%2C%202131.5710582003167%2C%202132.395181972336%2C%202133.219305744356%2C%202134.0434295163755%2C%202134.867553288395%2C%202135.6916770604143%2C%202136.5158008324343%2C%202137.3399246044537%2C%202138.164048376473%2C%202138.9881721484926%2C%202139.8122959205125%2C%202140.636419692532%2C%202141.4605434645514%2C%202142.284667236571%2C%202143.1087910085907%2C%202143.93291478061%2C%202144.7570385526296%2C%202145.581162324649%2C%202146.405286096669%2C%202147.2294098686884%2C%202148.053533640708%2C%202148.877657412728%2C%202149.7017811847472%2C%202150.5259049567667%2C%202151.350028728786%2C%202152.1741525008056%2C%202152.9982762728255%2C%202153.822400044845%2C%202154.6465238168644%2C%202155.470647588884%2C%202156.2947713609037%2C%202157.118895132923%2C%202157.9430189049426%2C%202158.767142676962%2C%202159.591266448982%2C%202160.4153902210014%2C%202161.239513993021%2C%202162.0636377650408%2C%202162.88776153706%2C%202163.7118853090797%2C%202164.536009081099%2C%202165.3601328531186%2C%202166.1842566251385%2C%202167.008380397158%2C%202167.8325041691774%2C%202168.6566279411973%2C%202169.4807517132167%2C%202170.304875485236%2C%202171.1289992572556%2C%202171.953123029275%2C%202172.777246801295%2C%202173.6013705733144%2C%202174.425494345334%2C%202175.2496181173537%2C%202176.073741889373%2C%202176.8978656613926%2C%202177.721989433412%2C%202178.5461132054315%2C%202179.3702369774514%2C%202180.194360749471%2C%202181.0184845214903%2C%202181.8426082935102%2C%202182.6667320655297%2C%202183.490855837549%2C%202184.3149796095686%2C%202185.1391033815885%2C%202185.963227153608%2C%202186.7873509256274%2C%202187.611474697647%2C%202188.4355984696667%2C%202189.259722241686%2C%202190.0838460137056%2C%202190.907969785725%2C%202191.732093557745%2C%202192.5562173297644%2C%202193.380341101784%2C%202194.2044648738033%2C%202195.028588645823%2C%202195.8527124178427%2C%202196.676836189862%2C%202197.5009599618816%2C%202198.3250837339015%2C%202199.149207505921%2C%202199.9733312779404%2C%202200.7974550499603%2C%202201.6215788219797%2C%202202.445702593999%2C%202203.2698263660186%2C%202204.093950138038%2C%202204.918073910058%2C%202205.7421976820774%2C%202206.566321454097%2C%202207.3904452261168%2C%202208.214568998136%2C%202209.0386927701556%2C%202209.862816542175%2C%202210.6869403141945%2C%202211.5110640862144%2C%202212.335187858234%2C%202213.1593116302533%2C%202213.9834354022732%2C%202214.8075591742927%2C%202215.631682946312%2C%202216.4558067183316%2C%202217.279930490351%2C%202218.104054262371%2C%202218.9281780343904%2C%202219.75230180641%2C%202220.5764255784297%2C%202221.400549350449%2C%202222.2246731224686%2C%202223.048796894488%2C%202223.872920666508%2C%202224.6970444385274%2C%202225.521168210547%2C%202226.3452919825663%2C%202227.169415754586%2C%202227.9935395266057%2C%202228.817663298625%2C%202229.6417870706446%2C%202230.4659108426645%2C%202231.290034614684%2C%202232.1141583867034%2C%202232.938282158723%2C%202233.7624059307427%2C%202234.586529702762%2C%202235.4106534747816%2C%202236.234777246801%2C%202237.058901018821%2C%202237.8830247908404%2C%202238.70714856286%2C%202239.5312723348793%2C%202240.355396106899%2C%202241.1795198789187%2C%202242.003643650938%2C%202242.8277674229575%2C%202243.6518911949775%2C%202244.476014966997%2C%202245.3001387390163%2C%202246.1242625110362%2C%202246.9483862830557%2C%202247.772510055075%2C%202248.5966338270946%2C%202249.420757599114%2C%202250.244881371134%2C%202251.0690051431534%2C%202251.893128915173%2C%202252.7172526871927%2C%202253.541376459212%2C%202254.3655002312316%2C%202255.189624003251%2C%202256.0137477752705%2C%202256.8378715472904%2C%202257.66199531931%2C%202258.4861190913293%2C%202259.3102428633492%2C%202260.1343666353687%2C%202260.958490407388%2C%202261.7826141794076%2C%202262.6067379514275%2C%202263.430861723447%2C%202264.2549854954664%2C%202265.079109267486%2C%202265.9032330395057%2C%202266.727356811525%2C%202267.5514805835446%2C%202268.375604355564%2C%202269.199728127584%2C%202270.0238518996034%2C%202270.847975671623%2C%202271.6720994436423%2C%202272.496223215662%2C%202273.3203469876817%2C%202274.144470759701%2C%202274.9685945317206%2C%202275.7927183037405%2C%202276.61684207576%2C%202277.4409658477794%2C%202278.265089619799%2C%202279.0892133918187%2C%202279.913337163838%2C%202280.7374609358576%2C%202281.561584707877%2C%202282.385708479897%2C%202283.2098322519164%2C%202284.033956023936%2C%202284.8580797959557%2C%202285.682203567975%2C%202286.5063273399946%2C%202287.330451112014%2C%202288.1545748840335%2C%202288.9786986560534%2C%202289.802822428073%2C%202290.6269462000923%2C%202291.451069972112%2C%202292.2751937441317%2C%202293.099317516151%2C%202293.9234412881706%2C%202294.74756506019%2C%202295.57168883221%2C%202296.3958126042294%2C%202297.219936376249%2C%202298.0440601482687%2C%202298.868183920288%2C%202299.6923076923076%5D%29%0A%20%20%20%20%20%20%20%20%20%20%20%20%20%20.range%28%5B%27%23f1eef6ff%27%2C%20%27%23f1eef6ff%27%2C%20%27%23f1eef6ff%27%2C%20%27%23f1eef6ff%27%2C%20%27%23f1eef6ff%27%2C%20%27%23f1eef6ff%27%2C%20%27%23f1eef6ff%27%2C%20%27%23f1eef6ff%27%2C%20%27%23f1eef6ff%27%2C%20%27%23f1eef6ff%27%2C%20%27%23f1eef6ff%27%2C%20%27%23f1eef6ff%27%2C%20%27%23f1eef6ff%27%2C%20%27%23f1eef6ff%27%2C%20%27%23f1eef6ff%27%2C%20%27%23f1eef6ff%27%2C%20%27%23f1eef6ff%27%2C%20%27%23f1eef6ff%27%2C%20%27%23f1eef6ff%27%2C%20%27%23f1eef6ff%27%2C%20%27%23f1eef6ff%27%2C%20%27%23f1eef6ff%27%2C%20%27%23f1eef6ff%27%2C%20%27%23f1eef6ff%27%2C%20%27%23f1eef6ff%27%2C%20%27%23f1eef6ff%27%2C%20%27%23f1eef6ff%27%2C%20%27%23f1eef6ff%27%2C%20%27%23f1eef6ff%27%2C%20%27%23f1eef6ff%27%2C%20%27%23f1eef6ff%27%2C%20%27%23f1eef6ff%27%2C%20%27%23f1eef6ff%27%2C%20%27%23f1eef6ff%27%2C%20%27%23f1eef6ff%27%2C%20%27%23f1eef6ff%27%2C%20%27%23f1eef6ff%27%2C%20%27%23f1eef6ff%27%2C%20%27%23f1eef6ff%27%2C%20%27%23f1eef6ff%27%2C%20%27%23f1eef6ff%27%2C%20%27%23f1eef6ff%27%2C%20%27%23f1eef6ff%27%2C%20%27%23f1eef6ff%27%2C%20%27%23f1eef6ff%27%2C%20%27%23f1eef6ff%27%2C%20%27%23f1eef6ff%27%2C%20%27%23f1eef6ff%27%2C%20%27%23f1eef6ff%27%2C%20%27%23f1eef6ff%27%2C%20%27%23f1eef6ff%27%2C%20%27%23f1eef6ff%27%2C%20%27%23f1eef6ff%27%2C%20%27%23f1eef6ff%27%2C%20%27%23f1eef6ff%27%2C%20%27%23f1eef6ff%27%2C%20%27%23f1eef6ff%27%2C%20%27%23f1eef6ff%27%2C%20%27%23f1eef6ff%27%2C%20%27%23f1eef6ff%27%2C%20%27%23f1eef6ff%27%2C%20%27%23f1eef6ff%27%2C%20%27%23f1eef6ff%27%2C%20%27%23f1eef6ff%27%2C%20%27%23f1eef6ff%27%2C%20%27%23f1eef6ff%27%2C%20%27%23f1eef6ff%27%2C%20%27%23f1eef6ff%27%2C%20%27%23f1eef6ff%27%2C%20%27%23f1eef6ff%27%2C%20%27%23f1eef6ff%27%2C%20%27%23f1eef6ff%27%2C%20%27%23f1eef6ff%27%2C%20%27%23f1eef6ff%27%2C%20%27%23f1eef6ff%27%2C%20%27%23f1eef6ff%27%2C%20%27%23f1eef6ff%27%2C%20%27%23f1eef6ff%27%2C%20%27%23f1eef6ff%27%2C%20%27%23f1eef6ff%27%2C%20%27%23f1eef6ff%27%2C%20%27%23f1eef6ff%27%2C%20%27%23f1eef6ff%27%2C%20%27%23f1eef6ff%27%2C%20%27%23d4b9daff%27%2C%20%27%23d4b9daff%27%2C%20%27%23d4b9daff%27%2C%20%27%23d4b9daff%27%2C%20%27%23d4b9daff%27%2C%20%27%23d4b9daff%27%2C%20%27%23d4b9daff%27%2C%20%27%23d4b9daff%27%2C%20%27%23d4b9daff%27%2C%20%27%23d4b9daff%27%2C%20%27%23d4b9daff%27%2C%20%27%23d4b9daff%27%2C%20%27%23d4b9daff%27%2C%20%27%23d4b9daff%27%2C%20%27%23d4b9daff%27%2C%20%27%23d4b9daff%27%2C%20%27%23d4b9daff%27%2C%20%27%23d4b9daff%27%2C%20%27%23d4b9daff%27%2C%20%27%23d4b9daff%27%2C%20%27%23d4b9daff%27%2C%20%27%23d4b9daff%27%2C%20%27%23d4b9daff%27%2C%20%27%23d4b9daff%27%2C%20%27%23d4b9daff%27%2C%20%27%23d4b9daff%27%2C%20%27%23d4b9daff%27%2C%20%27%23d4b9daff%27%2C%20%27%23d4b9daff%27%2C%20%27%23d4b9daff%27%2C%20%27%23d4b9daff%27%2C%20%27%23d4b9daff%27%2C%20%27%23d4b9daff%27%2C%20%27%23d4b9daff%27%2C%20%27%23d4b9daff%27%2C%20%27%23d4b9daff%27%2C%20%27%23d4b9daff%27%2C%20%27%23d4b9daff%27%2C%20%27%23d4b9daff%27%2C%20%27%23d4b9daff%27%2C%20%27%23d4b9daff%27%2C%20%27%23d4b9daff%27%2C%20%27%23d4b9daff%27%2C%20%27%23d4b9daff%27%2C%20%27%23d4b9daff%27%2C%20%27%23d4b9daff%27%2C%20%27%23d4b9daff%27%2C%20%27%23d4b9daff%27%2C%20%27%23d4b9daff%27%2C%20%27%23d4b9daff%27%2C%20%27%23d4b9daff%27%2C%20%27%23d4b9daff%27%2C%20%27%23d4b9daff%27%2C%20%27%23d4b9daff%27%2C%20%27%23d4b9daff%27%2C%20%27%23d4b9daff%27%2C%20%27%23d4b9daff%27%2C%20%27%23d4b9daff%27%2C%20%27%23d4b9daff%27%2C%20%27%23d4b9daff%27%2C%20%27%23d4b9daff%27%2C%20%27%23d4b9daff%27%2C%20%27%23d4b9daff%27%2C%20%27%23d4b9daff%27%2C%20%27%23d4b9daff%27%2C%20%27%23d4b9daff%27%2C%20%27%23d4b9daff%27%2C%20%27%23d4b9daff%27%2C%20%27%23d4b9daff%27%2C%20%27%23d4b9daff%27%2C%20%27%23d4b9daff%27%2C%20%27%23d4b9daff%27%2C%20%27%23d4b9daff%27%2C%20%27%23d4b9daff%27%2C%20%27%23d4b9daff%27%2C%20%27%23d4b9daff%27%2C%20%27%23d4b9daff%27%2C%20%27%23d4b9daff%27%2C%20%27%23d4b9daff%27%2C%20%27%23d4b9daff%27%2C%20%27%23d4b9daff%27%2C%20%27%23d4b9daff%27%2C%20%27%23d4b9daff%27%2C%20%27%23c994c7ff%27%2C%20%27%23c994c7ff%27%2C%20%27%23c994c7ff%27%2C%20%27%23c994c7ff%27%2C%20%27%23c994c7ff%27%2C%20%27%23c994c7ff%27%2C%20%27%23c994c7ff%27%2C%20%27%23c994c7ff%27%2C%20%27%23c994c7ff%27%2C%20%27%23c994c7ff%27%2C%20%27%23c994c7ff%27%2C%20%27%23c994c7ff%27%2C%20%27%23c994c7ff%27%2C%20%27%23c994c7ff%27%2C%20%27%23c994c7ff%27%2C%20%27%23c994c7ff%27%2C%20%27%23c994c7ff%27%2C%20%27%23c994c7ff%27%2C%20%27%23c994c7ff%27%2C%20%27%23c994c7ff%27%2C%20%27%23c994c7ff%27%2C%20%27%23c994c7ff%27%2C%20%27%23c994c7ff%27%2C%20%27%23c994c7ff%27%2C%20%27%23c994c7ff%27%2C%20%27%23c994c7ff%27%2C%20%27%23c994c7ff%27%2C%20%27%23c994c7ff%27%2C%20%27%23c994c7ff%27%2C%20%27%23c994c7ff%27%2C%20%27%23c994c7ff%27%2C%20%27%23c994c7ff%27%2C%20%27%23c994c7ff%27%2C%20%27%23c994c7ff%27%2C%20%27%23c994c7ff%27%2C%20%27%23c994c7ff%27%2C%20%27%23c994c7ff%27%2C%20%27%23c994c7ff%27%2C%20%27%23c994c7ff%27%2C%20%27%23c994c7ff%27%2C%20%27%23c994c7ff%27%2C%20%27%23c994c7ff%27%2C%20%27%23c994c7ff%27%2C%20%27%23c994c7ff%27%2C%20%27%23c994c7ff%27%2C%20%27%23c994c7ff%27%2C%20%27%23c994c7ff%27%2C%20%27%23c994c7ff%27%2C%20%27%23c994c7ff%27%2C%20%27%23c994c7ff%27%2C%20%27%23c994c7ff%27%2C%20%27%23c994c7ff%27%2C%20%27%23c994c7ff%27%2C%20%27%23c994c7ff%27%2C%20%27%23c994c7ff%27%2C%20%27%23c994c7ff%27%2C%20%27%23c994c7ff%27%2C%20%27%23c994c7ff%27%2C%20%27%23c994c7ff%27%2C%20%27%23c994c7ff%27%2C%20%27%23c994c7ff%27%2C%20%27%23c994c7ff%27%2C%20%27%23c994c7ff%27%2C%20%27%23c994c7ff%27%2C%20%27%23c994c7ff%27%2C%20%27%23c994c7ff%27%2C%20%27%23c994c7ff%27%2C%20%27%23c994c7ff%27%2C%20%27%23c994c7ff%27%2C%20%27%23c994c7ff%27%2C%20%27%23c994c7ff%27%2C%20%27%23c994c7ff%27%2C%20%27%23c994c7ff%27%2C%20%27%23c994c7ff%27%2C%20%27%23c994c7ff%27%2C%20%27%23c994c7ff%27%2C%20%27%23c994c7ff%27%2C%20%27%23c994c7ff%27%2C%20%27%23c994c7ff%27%2C%20%27%23c994c7ff%27%2C%20%27%23c994c7ff%27%2C%20%27%23c994c7ff%27%2C%20%27%23c994c7ff%27%2C%20%27%23df65b0ff%27%2C%20%27%23df65b0ff%27%2C%20%27%23df65b0ff%27%2C%20%27%23df65b0ff%27%2C%20%27%23df65b0ff%27%2C%20%27%23df65b0ff%27%2C%20%27%23df65b0ff%27%2C%20%27%23df65b0ff%27%2C%20%27%23df65b0ff%27%2C%20%27%23df65b0ff%27%2C%20%27%23df65b0ff%27%2C%20%27%23df65b0ff%27%2C%20%27%23df65b0ff%27%2C%20%27%23df65b0ff%27%2C%20%27%23df65b0ff%27%2C%20%27%23df65b0ff%27%2C%20%27%23df65b0ff%27%2C%20%27%23df65b0ff%27%2C%20%27%23df65b0ff%27%2C%20%27%23df65b0ff%27%2C%20%27%23df65b0ff%27%2C%20%27%23df65b0ff%27%2C%20%27%23df65b0ff%27%2C%20%27%23df65b0ff%27%2C%20%27%23df65b0ff%27%2C%20%27%23df65b0ff%27%2C%20%27%23df65b0ff%27%2C%20%27%23df65b0ff%27%2C%20%27%23df65b0ff%27%2C%20%27%23df65b0ff%27%2C%20%27%23df65b0ff%27%2C%20%27%23df65b0ff%27%2C%20%27%23df65b0ff%27%2C%20%27%23df65b0ff%27%2C%20%27%23df65b0ff%27%2C%20%27%23df65b0ff%27%2C%20%27%23df65b0ff%27%2C%20%27%23df65b0ff%27%2C%20%27%23df65b0ff%27%2C%20%27%23df65b0ff%27%2C%20%27%23df65b0ff%27%2C%20%27%23df65b0ff%27%2C%20%27%23df65b0ff%27%2C%20%27%23df65b0ff%27%2C%20%27%23df65b0ff%27%2C%20%27%23df65b0ff%27%2C%20%27%23df65b0ff%27%2C%20%27%23df65b0ff%27%2C%20%27%23df65b0ff%27%2C%20%27%23df65b0ff%27%2C%20%27%23df65b0ff%27%2C%20%27%23df65b0ff%27%2C%20%27%23df65b0ff%27%2C%20%27%23df65b0ff%27%2C%20%27%23df65b0ff%27%2C%20%27%23df65b0ff%27%2C%20%27%23df65b0ff%27%2C%20%27%23df65b0ff%27%2C%20%27%23df65b0ff%27%2C%20%27%23df65b0ff%27%2C%20%27%23df65b0ff%27%2C%20%27%23df65b0ff%27%2C%20%27%23df65b0ff%27%2C%20%27%23df65b0ff%27%2C%20%27%23df65b0ff%27%2C%20%27%23df65b0ff%27%2C%20%27%23df65b0ff%27%2C%20%27%23df65b0ff%27%2C%20%27%23df65b0ff%27%2C%20%27%23df65b0ff%27%2C%20%27%23df65b0ff%27%2C%20%27%23df65b0ff%27%2C%20%27%23df65b0ff%27%2C%20%27%23df65b0ff%27%2C%20%27%23df65b0ff%27%2C%20%27%23df65b0ff%27%2C%20%27%23df65b0ff%27%2C%20%27%23df65b0ff%27%2C%20%27%23df65b0ff%27%2C%20%27%23df65b0ff%27%2C%20%27%23df65b0ff%27%2C%20%27%23df65b0ff%27%2C%20%27%23df65b0ff%27%2C%20%27%23dd1c77ff%27%2C%20%27%23dd1c77ff%27%2C%20%27%23dd1c77ff%27%2C%20%27%23dd1c77ff%27%2C%20%27%23dd1c77ff%27%2C%20%27%23dd1c77ff%27%2C%20%27%23dd1c77ff%27%2C%20%27%23dd1c77ff%27%2C%20%27%23dd1c77ff%27%2C%20%27%23dd1c77ff%27%2C%20%27%23dd1c77ff%27%2C%20%27%23dd1c77ff%27%2C%20%27%23dd1c77ff%27%2C%20%27%23dd1c77ff%27%2C%20%27%23dd1c77ff%27%2C%20%27%23dd1c77ff%27%2C%20%27%23dd1c77ff%27%2C%20%27%23dd1c77ff%27%2C%20%27%23dd1c77ff%27%2C%20%27%23dd1c77ff%27%2C%20%27%23dd1c77ff%27%2C%20%27%23dd1c77ff%27%2C%20%27%23dd1c77ff%27%2C%20%27%23dd1c77ff%27%2C%20%27%23dd1c77ff%27%2C%20%27%23dd1c77ff%27%2C%20%27%23dd1c77ff%27%2C%20%27%23dd1c77ff%27%2C%20%27%23dd1c77ff%27%2C%20%27%23dd1c77ff%27%2C%20%27%23dd1c77ff%27%2C%20%27%23dd1c77ff%27%2C%20%27%23dd1c77ff%27%2C%20%27%23dd1c77ff%27%2C%20%27%23dd1c77ff%27%2C%20%27%23dd1c77ff%27%2C%20%27%23dd1c77ff%27%2C%20%27%23dd1c77ff%27%2C%20%27%23dd1c77ff%27%2C%20%27%23dd1c77ff%27%2C%20%27%23dd1c77ff%27%2C%20%27%23dd1c77ff%27%2C%20%27%23dd1c77ff%27%2C%20%27%23dd1c77ff%27%2C%20%27%23dd1c77ff%27%2C%20%27%23dd1c77ff%27%2C%20%27%23dd1c77ff%27%2C%20%27%23dd1c77ff%27%2C%20%27%23dd1c77ff%27%2C%20%27%23dd1c77ff%27%2C%20%27%23dd1c77ff%27%2C%20%27%23dd1c77ff%27%2C%20%27%23dd1c77ff%27%2C%20%27%23dd1c77ff%27%2C%20%27%23dd1c77ff%27%2C%20%27%23dd1c77ff%27%2C%20%27%23dd1c77ff%27%2C%20%27%23dd1c77ff%27%2C%20%27%23dd1c77ff%27%2C%20%27%23dd1c77ff%27%2C%20%27%23dd1c77ff%27%2C%20%27%23dd1c77ff%27%2C%20%27%23dd1c77ff%27%2C%20%27%23dd1c77ff%27%2C%20%27%23dd1c77ff%27%2C%20%27%23dd1c77ff%27%2C%20%27%23dd1c77ff%27%2C%20%27%23dd1c77ff%27%2C%20%27%23dd1c77ff%27%2C%20%27%23dd1c77ff%27%2C%20%27%23dd1c77ff%27%2C%20%27%23dd1c77ff%27%2C%20%27%23dd1c77ff%27%2C%20%27%23dd1c77ff%27%2C%20%27%23dd1c77ff%27%2C%20%27%23dd1c77ff%27%2C%20%27%23dd1c77ff%27%2C%20%27%23dd1c77ff%27%2C%20%27%23dd1c77ff%27%2C%20%27%23dd1c77ff%27%2C%20%27%23dd1c77ff%27%2C%20%27%23dd1c77ff%27%2C%20%27%23dd1c77ff%27%2C%20%27%23980043ff%27%2C%20%27%23980043ff%27%2C%20%27%23980043ff%27%2C%20%27%23980043ff%27%2C%20%27%23980043ff%27%2C%20%27%23980043ff%27%2C%20%27%23980043ff%27%2C%20%27%23980043ff%27%2C%20%27%23980043ff%27%2C%20%27%23980043ff%27%2C%20%27%23980043ff%27%2C%20%27%23980043ff%27%2C%20%27%23980043ff%27%2C%20%27%23980043ff%27%2C%20%27%23980043ff%27%2C%20%27%23980043ff%27%2C%20%27%23980043ff%27%2C%20%27%23980043ff%27%2C%20%27%23980043ff%27%2C%20%27%23980043ff%27%2C%20%27%23980043ff%27%2C%20%27%23980043ff%27%2C%20%27%23980043ff%27%2C%20%27%23980043ff%27%2C%20%27%23980043ff%27%2C%20%27%23980043ff%27%2C%20%27%23980043ff%27%2C%20%27%23980043ff%27%2C%20%27%23980043ff%27%2C%20%27%23980043ff%27%2C%20%27%23980043ff%27%2C%20%27%23980043ff%27%2C%20%27%23980043ff%27%2C%20%27%23980043ff%27%2C%20%27%23980043ff%27%2C%20%27%23980043ff%27%2C%20%27%23980043ff%27%2C%20%27%23980043ff%27%2C%20%27%23980043ff%27%2C%20%27%23980043ff%27%2C%20%27%23980043ff%27%2C%20%27%23980043ff%27%2C%20%27%23980043ff%27%2C%20%27%23980043ff%27%2C%20%27%23980043ff%27%2C%20%27%23980043ff%27%2C%20%27%23980043ff%27%2C%20%27%23980043ff%27%2C%20%27%23980043ff%27%2C%20%27%23980043ff%27%2C%20%27%23980043ff%27%2C%20%27%23980043ff%27%2C%20%27%23980043ff%27%2C%20%27%23980043ff%27%2C%20%27%23980043ff%27%2C%20%27%23980043ff%27%2C%20%27%23980043ff%27%2C%20%27%23980043ff%27%2C%20%27%23980043ff%27%2C%20%27%23980043ff%27%2C%20%27%23980043ff%27%2C%20%27%23980043ff%27%2C%20%27%23980043ff%27%2C%20%27%23980043ff%27%2C%20%27%23980043ff%27%2C%20%27%23980043ff%27%2C%20%27%23980043ff%27%2C%20%27%23980043ff%27%2C%20%27%23980043ff%27%2C%20%27%23980043ff%27%2C%20%27%23980043ff%27%2C%20%27%23980043ff%27%2C%20%27%23980043ff%27%2C%20%27%23980043ff%27%2C%20%27%23980043ff%27%2C%20%27%23980043ff%27%2C%20%27%23980043ff%27%2C%20%27%23980043ff%27%2C%20%27%23980043ff%27%2C%20%27%23980043ff%27%2C%20%27%23980043ff%27%2C%20%27%23980043ff%27%2C%20%27%23980043ff%27%2C%20%27%23980043ff%27%5D%29%3B%0A%20%20%20%20%0A%0A%20%20%20%20color_map_81d925dbdb874097b1181316074e970c.x%20%3D%20d3.scale.linear%28%29%0A%20%20%20%20%20%20%20%20%20%20%20%20%20%20.domain%28%5B1888.4545454545455%2C%202299.6923076923076%5D%29%0A%20%20%20%20%20%20%20%20%20%20%20%20%20%20.range%28%5B0%2C%20400%5D%29%3B%0A%0A%20%20%20%20color_map_81d925dbdb874097b1181316074e970c.legend%20%3D%20L.control%28%7Bposition%3A%20%27topright%27%7D%29%3B%0A%20%20%20%20color_map_81d925dbdb874097b1181316074e970c.legend.onAdd%20%3D%20function%20%28map%29%20%7Bvar%20div%20%3D%20L.DomUtil.create%28%27div%27%2C%20%27legend%27%29%3B%20return%20div%7D%3B%0A%20%20%20%20color_map_81d925dbdb874097b1181316074e970c.legend.addTo%28map_fdf0a1a9d66a449d92e5b7f9994ec1f7%29%3B%0A%0A%20%20%20%20color_map_81d925dbdb874097b1181316074e970c.xAxis%20%3D%20d3.svg.axis%28%29%0A%20%20%20%20%20%20%20%20.scale%28color_map_81d925dbdb874097b1181316074e970c.x%29%0A%20%20%20%20%20%20%20%20.orient%28%22top%22%29%0A%20%20%20%20%20%20%20%20.tickSize%281%29%0A%20%20%20%20%20%20%20%20.tickValues%28%5B1888.4545454545455%2C%201956.9941724941725%2C%202025.5337995337995%2C%202094.0734265734263%2C%202162.6130536130536%2C%202231.152680652681%2C%202299.6923076923076%5D%29%3B%0A%0A%20%20%20%20color_map_81d925dbdb874097b1181316074e970c.svg%20%3D%20d3.select%28%22.legend.leaflet-control%22%29.append%28%22svg%22%29%0A%20%20%20%20%20%20%20%20.attr%28%22id%22%2C%20%27legend%27%29%0A%20%20%20%20%20%20%20%20.attr%28%22width%22%2C%20450%29%0A%20%20%20%20%20%20%20%20.attr%28%22height%22%2C%2040%29%3B%0A%0A%20%20%20%20color_map_81d925dbdb874097b1181316074e970c.g%20%3D%20color_map_81d925dbdb874097b1181316074e970c.svg.append%28%22g%22%29%0A%20%20%20%20%20%20%20%20.attr%28%22class%22%2C%20%22key%22%29%0A%20%20%20%20%20%20%20%20.attr%28%22transform%22%2C%20%22translate%2825%2C16%29%22%29%3B%0A%0A%20%20%20%20color_map_81d925dbdb874097b1181316074e970c.g.selectAll%28%22rect%22%29%0A%20%20%20%20%20%20%20%20.data%28color_map_81d925dbdb874097b1181316074e970c.color.range%28%29.map%28function%28d%2C%20i%29%20%7B%0A%20%20%20%20%20%20%20%20%20%20return%20%7B%0A%20%20%20%20%20%20%20%20%20%20%20%20x0%3A%20i%20%3F%20color_map_81d925dbdb874097b1181316074e970c.x%28color_map_81d925dbdb874097b1181316074e970c.color.domain%28%29%5Bi%20-%201%5D%29%20%3A%20color_map_81d925dbdb874097b1181316074e970c.x.range%28%29%5B0%5D%2C%0A%20%20%20%20%20%20%20%20%20%20%20%20x1%3A%20i%20%3C%20color_map_81d925dbdb874097b1181316074e970c.color.domain%28%29.length%20%3F%20color_map_81d925dbdb874097b1181316074e970c.x%28color_map_81d925dbdb874097b1181316074e970c.color.domain%28%29%5Bi%5D%29%20%3A%20color_map_81d925dbdb874097b1181316074e970c.x.range%28%29%5B1%5D%2C%0A%20%20%20%20%20%20%20%20%20%20%20%20z%3A%20d%0A%20%20%20%20%20%20%20%20%20%20%7D%3B%0A%20%20%20%20%20%20%20%20%7D%29%29%0A%20%20%20%20%20%20.enter%28%29.append%28%22rect%22%29%0A%20%20%20%20%20%20%20%20.attr%28%22height%22%2C%2010%29%0A%20%20%20%20%20%20%20%20.attr%28%22x%22%2C%20function%28d%29%20%7B%20return%20d.x0%3B%20%7D%29%0A%20%20%20%20%20%20%20%20.attr%28%22width%22%2C%20function%28d%29%20%7B%20return%20d.x1%20-%20d.x0%3B%20%7D%29%0A%20%20%20%20%20%20%20%20.style%28%22fill%22%2C%20function%28d%29%20%7B%20return%20d.z%3B%20%7D%29%3B%0A%0A%20%20%20%20color_map_81d925dbdb874097b1181316074e970c.g.call%28color_map_81d925dbdb874097b1181316074e970c.xAxis%29.append%28%22text%22%29%0A%20%20%20%20%20%20%20%20.attr%28%22class%22%2C%20%22caption%22%29%0A%20%20%20%20%20%20%20%20.attr%28%22y%22%2C%2021%29%0A%20%20%20%20%20%20%20%20.text%28%27%27%29%3B%0A%3C/script%3E onload=\"this.contentDocument.open();this.contentDocument.write(    decodeURIComponent(this.getAttribute('data-html')));this.contentDocument.close();\" allowfullscreen webkitallowfullscreen mozallowfullscreen></iframe></div></div>"
      ],
      "text/plain": [
       "<folium.folium.Map at 0x220dde7a9b0>"
      ]
     },
     "execution_count": 33,
     "metadata": {},
     "output_type": "execute_result"
    }
   ],
   "source": [
    "geo_path = '../data/02. skorea_municipalities_geo_simple.json'\n",
    "geo_str = json.load(open(geo_path, encoding='utf-8'))\n",
    "\n",
    "map = folium.Map(location=[37.5502, 126.982], zoom_start=10.5, \n",
    "                 tiles='Stamen Toner')\n",
    "\n",
    "map.choropleth(geo_data = geo_str,\n",
    "               data = gu_data,\n",
    "               columns=[gu_data.index, '가격'],\n",
    "               fill_color='PuRd', #PuRd, YlGnBu\n",
    "               key_on='feature.id')\n",
    "map"
   ]
  },
  {
   "cell_type": "code",
   "execution_count": 34,
   "id": "20d17fb9",
   "metadata": {},
   "outputs": [
    {
     "data": {
      "text/html": [
       "<div>\n",
       "<style scoped>\n",
       "    .dataframe tbody tr th:only-of-type {\n",
       "        vertical-align: middle;\n",
       "    }\n",
       "\n",
       "    .dataframe tbody tr th {\n",
       "        vertical-align: top;\n",
       "    }\n",
       "\n",
       "    .dataframe thead th {\n",
       "        text-align: right;\n",
       "    }\n",
       "</style>\n",
       "<table border=\"1\" class=\"dataframe\">\n",
       "  <thead>\n",
       "    <tr style=\"text-align: right;\">\n",
       "      <th></th>\n",
       "      <th>Oil_store</th>\n",
       "      <th>주소</th>\n",
       "      <th>가격</th>\n",
       "      <th>셀프</th>\n",
       "      <th>상표</th>\n",
       "      <th>구</th>\n",
       "    </tr>\n",
       "  </thead>\n",
       "  <tbody>\n",
       "    <tr>\n",
       "      <th>285</th>\n",
       "      <td>서남주유소</td>\n",
       "      <td>서울 중구 통일로 30</td>\n",
       "      <td>2829.0</td>\n",
       "      <td>N</td>\n",
       "      <td>SK에너지</td>\n",
       "      <td>중구</td>\n",
       "    </tr>\n",
       "    <tr>\n",
       "      <th>252</th>\n",
       "      <td>서계주유소</td>\n",
       "      <td>서울특별시 용산구  청파로 367 (청파동)</td>\n",
       "      <td>2820.0</td>\n",
       "      <td>N</td>\n",
       "      <td>GS칼텍스</td>\n",
       "      <td>용산구</td>\n",
       "    </tr>\n",
       "    <tr>\n",
       "      <th>284</th>\n",
       "      <td>SK에너지(주) 퇴계로주유소</td>\n",
       "      <td>서울 중구 퇴계로 228 (필동2가)</td>\n",
       "      <td>2504.0</td>\n",
       "      <td>N</td>\n",
       "      <td>SK에너지</td>\n",
       "      <td>중구</td>\n",
       "    </tr>\n",
       "    <tr>\n",
       "      <th>458</th>\n",
       "      <td>제이제이주유소</td>\n",
       "      <td>서울 강남구 언주로 716</td>\n",
       "      <td>2445.0</td>\n",
       "      <td>N</td>\n",
       "      <td>현대오일뱅크</td>\n",
       "      <td>강남구</td>\n",
       "    </tr>\n",
       "    <tr>\n",
       "      <th>283</th>\n",
       "      <td>약수주유소</td>\n",
       "      <td>서울 중구 다산로 173</td>\n",
       "      <td>2398.0</td>\n",
       "      <td>N</td>\n",
       "      <td>GS칼텍스</td>\n",
       "      <td>중구</td>\n",
       "    </tr>\n",
       "    <tr>\n",
       "      <th>457</th>\n",
       "      <td>(주)만정에너지</td>\n",
       "      <td>서울 강남구 봉은사로 433 (삼성동)</td>\n",
       "      <td>2398.0</td>\n",
       "      <td>N</td>\n",
       "      <td>GS칼텍스</td>\n",
       "      <td>강남구</td>\n",
       "    </tr>\n",
       "    <tr>\n",
       "      <th>101</th>\n",
       "      <td>선우상사Q엔느</td>\n",
       "      <td>서울 서초구 방배로 66 (방배동)</td>\n",
       "      <td>2397.0</td>\n",
       "      <td>N</td>\n",
       "      <td>SK에너지</td>\n",
       "      <td>서초구</td>\n",
       "    </tr>\n",
       "    <tr>\n",
       "      <th>251</th>\n",
       "      <td>동자동주유소</td>\n",
       "      <td>서울 용산구 한강대로104길 6 (동자동)</td>\n",
       "      <td>2390.0</td>\n",
       "      <td>N</td>\n",
       "      <td>SK에너지</td>\n",
       "      <td>용산구</td>\n",
       "    </tr>\n",
       "    <tr>\n",
       "      <th>381</th>\n",
       "      <td>구로주유소</td>\n",
       "      <td>서울 구로구 구로동로 137 (구로동)</td>\n",
       "      <td>2378.0</td>\n",
       "      <td>N</td>\n",
       "      <td>GS칼텍스</td>\n",
       "      <td>구로구</td>\n",
       "    </tr>\n",
       "    <tr>\n",
       "      <th>276</th>\n",
       "      <td>경복궁주유소</td>\n",
       "      <td>서울 종로구 율곡로 6 (중학동)</td>\n",
       "      <td>2345.0</td>\n",
       "      <td>N</td>\n",
       "      <td>GS칼텍스</td>\n",
       "      <td>종로구</td>\n",
       "    </tr>\n",
       "  </tbody>\n",
       "</table>\n",
       "</div>"
      ],
      "text/plain": [
       "           Oil_store                        주소      가격 셀프      상표    구\n",
       "285            서남주유소              서울 중구 통일로 30  2829.0  N   SK에너지   중구\n",
       "252            서계주유소  서울특별시 용산구  청파로 367 (청파동)  2820.0  N   GS칼텍스  용산구\n",
       "284  SK에너지(주) 퇴계로주유소      서울 중구 퇴계로 228 (필동2가)  2504.0  N   SK에너지   중구\n",
       "458          제이제이주유소            서울 강남구 언주로 716  2445.0  N  현대오일뱅크  강남구\n",
       "283            약수주유소             서울 중구 다산로 173  2398.0  N   GS칼텍스   중구\n",
       "457         (주)만정에너지     서울 강남구 봉은사로 433 (삼성동)  2398.0  N   GS칼텍스  강남구\n",
       "101          선우상사Q엔느       서울 서초구 방배로 66 (방배동)  2397.0  N   SK에너지  서초구\n",
       "251           동자동주유소   서울 용산구 한강대로104길 6 (동자동)  2390.0  N   SK에너지  용산구\n",
       "381            구로주유소     서울 구로구 구로동로 137 (구로동)  2378.0  N   GS칼텍스  구로구\n",
       "276           경복궁주유소        서울 종로구 율곡로 6 (중학동)  2345.0  N   GS칼텍스  종로구"
      ]
     },
     "execution_count": 34,
     "metadata": {},
     "output_type": "execute_result"
    }
   ],
   "source": [
    "oil_price_top10 = stations.sort_values(by='가격', ascending=False).head(10)\n",
    "oil_price_top10"
   ]
  },
  {
   "cell_type": "code",
   "execution_count": 35,
   "id": "6f7661e8",
   "metadata": {},
   "outputs": [
    {
     "data": {
      "text/html": [
       "<div>\n",
       "<style scoped>\n",
       "    .dataframe tbody tr th:only-of-type {\n",
       "        vertical-align: middle;\n",
       "    }\n",
       "\n",
       "    .dataframe tbody tr th {\n",
       "        vertical-align: top;\n",
       "    }\n",
       "\n",
       "    .dataframe thead th {\n",
       "        text-align: right;\n",
       "    }\n",
       "</style>\n",
       "<table border=\"1\" class=\"dataframe\">\n",
       "  <thead>\n",
       "    <tr style=\"text-align: right;\">\n",
       "      <th></th>\n",
       "      <th>Oil_store</th>\n",
       "      <th>주소</th>\n",
       "      <th>가격</th>\n",
       "      <th>셀프</th>\n",
       "      <th>상표</th>\n",
       "      <th>구</th>\n",
       "    </tr>\n",
       "  </thead>\n",
       "  <tbody>\n",
       "    <tr>\n",
       "      <th>175</th>\n",
       "      <td>현대오일뱅크(주)직영 양천셀프주유소</td>\n",
       "      <td>서울 양천구 목동로 17</td>\n",
       "      <td>1834.0</td>\n",
       "      <td>Y</td>\n",
       "      <td>현대오일뱅크</td>\n",
       "      <td>양천구</td>\n",
       "    </tr>\n",
       "    <tr>\n",
       "      <th>300</th>\n",
       "      <td>개화주유소</td>\n",
       "      <td>서울 강서구 양천로 57</td>\n",
       "      <td>1837.0</td>\n",
       "      <td>Y</td>\n",
       "      <td>SK에너지</td>\n",
       "      <td>강서구</td>\n",
       "    </tr>\n",
       "    <tr>\n",
       "      <th>425</th>\n",
       "      <td>현대오일뱅크(주)직영 산성셀프주유소</td>\n",
       "      <td>서울 강남구 헌릉로 730</td>\n",
       "      <td>1839.0</td>\n",
       "      <td>Y</td>\n",
       "      <td>현대오일뱅크</td>\n",
       "      <td>강남구</td>\n",
       "    </tr>\n",
       "    <tr>\n",
       "      <th>346</th>\n",
       "      <td>(주)창원CW</td>\n",
       "      <td>서울 광진구 광나루로 460 (화양동)</td>\n",
       "      <td>1839.0</td>\n",
       "      <td>Y</td>\n",
       "      <td>현대오일뱅크</td>\n",
       "      <td>광진구</td>\n",
       "    </tr>\n",
       "    <tr>\n",
       "      <th>347</th>\n",
       "      <td>대원주유소</td>\n",
       "      <td>서울 광진구 용마산로 122 (중곡동)</td>\n",
       "      <td>1839.0</td>\n",
       "      <td>N</td>\n",
       "      <td>S-OIL</td>\n",
       "      <td>광진구</td>\n",
       "    </tr>\n",
       "    <tr>\n",
       "      <th>301</th>\n",
       "      <td>지에스칼텍스㈜ 경인고속주유소</td>\n",
       "      <td>서울 강서구 국회대로 225 (화곡동)</td>\n",
       "      <td>1845.0</td>\n",
       "      <td>Y</td>\n",
       "      <td>GS칼텍스</td>\n",
       "      <td>강서구</td>\n",
       "    </tr>\n",
       "    <tr>\n",
       "      <th>176</th>\n",
       "      <td>지에스칼텍스㈜ 서호주유소</td>\n",
       "      <td>서울 양천구 남부순환로 317</td>\n",
       "      <td>1845.0</td>\n",
       "      <td>Y</td>\n",
       "      <td>GS칼텍스</td>\n",
       "      <td>양천구</td>\n",
       "    </tr>\n",
       "    <tr>\n",
       "      <th>227</th>\n",
       "      <td>세원주유소</td>\n",
       "      <td>서울 강북구 한천로 918 (번동)</td>\n",
       "      <td>1848.0</td>\n",
       "      <td>Y</td>\n",
       "      <td>SK에너지</td>\n",
       "      <td>강북구</td>\n",
       "    </tr>\n",
       "    <tr>\n",
       "      <th>143</th>\n",
       "      <td>(주)삼표에너지 훼미리주유소</td>\n",
       "      <td>서울 송파구 중대로 58 (문정동)</td>\n",
       "      <td>1848.0</td>\n",
       "      <td>N</td>\n",
       "      <td>GS칼텍스</td>\n",
       "      <td>송파구</td>\n",
       "    </tr>\n",
       "    <tr>\n",
       "      <th>177</th>\n",
       "      <td>(주)타이거오일 신정주유소</td>\n",
       "      <td>서울 양천구 중앙로 226 (신정동)</td>\n",
       "      <td>1849.0</td>\n",
       "      <td>Y</td>\n",
       "      <td>SK에너지</td>\n",
       "      <td>양천구</td>\n",
       "    </tr>\n",
       "  </tbody>\n",
       "</table>\n",
       "</div>"
      ],
      "text/plain": [
       "               Oil_store                     주소      가격 셀프      상표    구\n",
       "175  현대오일뱅크(주)직영 양천셀프주유소          서울 양천구 목동로 17  1834.0  Y  현대오일뱅크  양천구\n",
       "300                개화주유소          서울 강서구 양천로 57  1837.0  Y   SK에너지  강서구\n",
       "425  현대오일뱅크(주)직영 산성셀프주유소         서울 강남구 헌릉로 730  1839.0  Y  현대오일뱅크  강남구\n",
       "346              (주)창원CW  서울 광진구 광나루로 460 (화양동)  1839.0  Y  현대오일뱅크  광진구\n",
       "347                대원주유소  서울 광진구 용마산로 122 (중곡동)  1839.0  N   S-OIL  광진구\n",
       "301      지에스칼텍스㈜ 경인고속주유소  서울 강서구 국회대로 225 (화곡동)  1845.0  Y   GS칼텍스  강서구\n",
       "176        지에스칼텍스㈜ 서호주유소       서울 양천구 남부순환로 317  1845.0  Y   GS칼텍스  양천구\n",
       "227                세원주유소    서울 강북구 한천로 918 (번동)  1848.0  Y   SK에너지  강북구\n",
       "143      (주)삼표에너지 훼미리주유소    서울 송파구 중대로 58 (문정동)  1848.0  N   GS칼텍스  송파구\n",
       "177       (주)타이거오일 신정주유소   서울 양천구 중앙로 226 (신정동)  1849.0  Y   SK에너지  양천구"
      ]
     },
     "execution_count": 35,
     "metadata": {},
     "output_type": "execute_result"
    }
   ],
   "source": [
    "oil_price_bottom10 = stations.sort_values(by='가격', ascending=True).head(10)\n",
    "oil_price_bottom10"
   ]
  },
  {
   "cell_type": "code",
   "execution_count": 36,
   "id": "feb3d884",
   "metadata": {},
   "outputs": [],
   "source": [
    "gmap_key = \"*****\" # 2장에서 구한 자신의 key를 입력\n",
    "gmaps = googlemaps.Client(key=gmap_key)"
   ]
  },
  {
   "cell_type": "code",
   "execution_count": 39,
   "id": "47b48d7e",
   "metadata": {},
   "outputs": [
    {
     "data": {
      "application/vnd.jupyter.widget-view+json": {
       "model_id": "cefadc721a04467187fa637e910ab353",
       "version_major": 2,
       "version_minor": 0
      },
      "text/plain": [
       "  0%|          | 0/10 [00:00<?, ?it/s]"
      ]
     },
     "metadata": {},
     "output_type": "display_data"
    },
    {
     "data": {
      "text/html": [
       "<div>\n",
       "<style scoped>\n",
       "    .dataframe tbody tr th:only-of-type {\n",
       "        vertical-align: middle;\n",
       "    }\n",
       "\n",
       "    .dataframe tbody tr th {\n",
       "        vertical-align: top;\n",
       "    }\n",
       "\n",
       "    .dataframe thead th {\n",
       "        text-align: right;\n",
       "    }\n",
       "</style>\n",
       "<table border=\"1\" class=\"dataframe\">\n",
       "  <thead>\n",
       "    <tr style=\"text-align: right;\">\n",
       "      <th></th>\n",
       "      <th>Oil_store</th>\n",
       "      <th>주소</th>\n",
       "      <th>가격</th>\n",
       "      <th>셀프</th>\n",
       "      <th>상표</th>\n",
       "      <th>구</th>\n",
       "      <th>lat</th>\n",
       "      <th>lng</th>\n",
       "    </tr>\n",
       "  </thead>\n",
       "  <tbody>\n",
       "    <tr>\n",
       "      <th>285</th>\n",
       "      <td>서남주유소</td>\n",
       "      <td>서울 중구 통일로 30</td>\n",
       "      <td>2829.0</td>\n",
       "      <td>N</td>\n",
       "      <td>SK에너지</td>\n",
       "      <td>중구</td>\n",
       "      <td>37.558348</td>\n",
       "      <td>126.972090</td>\n",
       "    </tr>\n",
       "    <tr>\n",
       "      <th>252</th>\n",
       "      <td>서계주유소</td>\n",
       "      <td>서울특별시 용산구  청파로 367 (청파동)</td>\n",
       "      <td>2820.0</td>\n",
       "      <td>N</td>\n",
       "      <td>GS칼텍스</td>\n",
       "      <td>용산구</td>\n",
       "      <td>37.552290</td>\n",
       "      <td>126.968935</td>\n",
       "    </tr>\n",
       "    <tr>\n",
       "      <th>284</th>\n",
       "      <td>SK에너지(주) 퇴계로주유소</td>\n",
       "      <td>서울 중구 퇴계로 228 (필동2가)</td>\n",
       "      <td>2504.0</td>\n",
       "      <td>N</td>\n",
       "      <td>SK에너지</td>\n",
       "      <td>중구</td>\n",
       "      <td>37.561648</td>\n",
       "      <td>126.997142</td>\n",
       "    </tr>\n",
       "    <tr>\n",
       "      <th>458</th>\n",
       "      <td>제이제이주유소</td>\n",
       "      <td>서울 강남구 언주로 716</td>\n",
       "      <td>2445.0</td>\n",
       "      <td>N</td>\n",
       "      <td>현대오일뱅크</td>\n",
       "      <td>강남구</td>\n",
       "      <td>37.517636</td>\n",
       "      <td>127.035756</td>\n",
       "    </tr>\n",
       "    <tr>\n",
       "      <th>283</th>\n",
       "      <td>약수주유소</td>\n",
       "      <td>서울 중구 다산로 173</td>\n",
       "      <td>2398.0</td>\n",
       "      <td>N</td>\n",
       "      <td>GS칼텍스</td>\n",
       "      <td>중구</td>\n",
       "      <td>37.559009</td>\n",
       "      <td>127.012663</td>\n",
       "    </tr>\n",
       "    <tr>\n",
       "      <th>457</th>\n",
       "      <td>(주)만정에너지</td>\n",
       "      <td>서울 강남구 봉은사로 433 (삼성동)</td>\n",
       "      <td>2398.0</td>\n",
       "      <td>N</td>\n",
       "      <td>GS칼텍스</td>\n",
       "      <td>강남구</td>\n",
       "      <td>37.511513</td>\n",
       "      <td>127.047093</td>\n",
       "    </tr>\n",
       "    <tr>\n",
       "      <th>101</th>\n",
       "      <td>선우상사Q엔느</td>\n",
       "      <td>서울 서초구 방배로 66 (방배동)</td>\n",
       "      <td>2397.0</td>\n",
       "      <td>N</td>\n",
       "      <td>SK에너지</td>\n",
       "      <td>서초구</td>\n",
       "      <td>37.480653</td>\n",
       "      <td>126.998505</td>\n",
       "    </tr>\n",
       "    <tr>\n",
       "      <th>251</th>\n",
       "      <td>동자동주유소</td>\n",
       "      <td>서울 용산구 한강대로104길 6 (동자동)</td>\n",
       "      <td>2390.0</td>\n",
       "      <td>N</td>\n",
       "      <td>SK에너지</td>\n",
       "      <td>용산구</td>\n",
       "      <td>37.550179</td>\n",
       "      <td>126.972463</td>\n",
       "    </tr>\n",
       "    <tr>\n",
       "      <th>381</th>\n",
       "      <td>구로주유소</td>\n",
       "      <td>서울 구로구 구로동로 137 (구로동)</td>\n",
       "      <td>2378.0</td>\n",
       "      <td>N</td>\n",
       "      <td>GS칼텍스</td>\n",
       "      <td>구로구</td>\n",
       "      <td>37.490737</td>\n",
       "      <td>126.883519</td>\n",
       "    </tr>\n",
       "    <tr>\n",
       "      <th>276</th>\n",
       "      <td>경복궁주유소</td>\n",
       "      <td>서울 종로구 율곡로 6 (중학동)</td>\n",
       "      <td>2345.0</td>\n",
       "      <td>N</td>\n",
       "      <td>GS칼텍스</td>\n",
       "      <td>종로구</td>\n",
       "      <td>37.575416</td>\n",
       "      <td>126.980132</td>\n",
       "    </tr>\n",
       "  </tbody>\n",
       "</table>\n",
       "</div>"
      ],
      "text/plain": [
       "           Oil_store                        주소      가격 셀프      상표    구  \\\n",
       "285            서남주유소              서울 중구 통일로 30  2829.0  N   SK에너지   중구   \n",
       "252            서계주유소  서울특별시 용산구  청파로 367 (청파동)  2820.0  N   GS칼텍스  용산구   \n",
       "284  SK에너지(주) 퇴계로주유소      서울 중구 퇴계로 228 (필동2가)  2504.0  N   SK에너지   중구   \n",
       "458          제이제이주유소            서울 강남구 언주로 716  2445.0  N  현대오일뱅크  강남구   \n",
       "283            약수주유소             서울 중구 다산로 173  2398.0  N   GS칼텍스   중구   \n",
       "457         (주)만정에너지     서울 강남구 봉은사로 433 (삼성동)  2398.0  N   GS칼텍스  강남구   \n",
       "101          선우상사Q엔느       서울 서초구 방배로 66 (방배동)  2397.0  N   SK에너지  서초구   \n",
       "251           동자동주유소   서울 용산구 한강대로104길 6 (동자동)  2390.0  N   SK에너지  용산구   \n",
       "381            구로주유소     서울 구로구 구로동로 137 (구로동)  2378.0  N   GS칼텍스  구로구   \n",
       "276           경복궁주유소        서울 종로구 율곡로 6 (중학동)  2345.0  N   GS칼텍스  종로구   \n",
       "\n",
       "           lat         lng  \n",
       "285  37.558348  126.972090  \n",
       "252  37.552290  126.968935  \n",
       "284  37.561648  126.997142  \n",
       "458  37.517636  127.035756  \n",
       "283  37.559009  127.012663  \n",
       "457  37.511513  127.047093  \n",
       "101  37.480653  126.998505  \n",
       "251  37.550179  126.972463  \n",
       "381  37.490737  126.883519  \n",
       "276  37.575416  126.980132  "
      ]
     },
     "execution_count": 39,
     "metadata": {},
     "output_type": "execute_result"
    }
   ],
   "source": [
    "from tqdm import notebook\n",
    "\n",
    "lat = []\n",
    "lng = []\n",
    "\n",
    "for n in notebook.tqdm(oil_price_top10.index):\n",
    "    try:\n",
    "        tmp_add = str(oil_price_top10['주소'][n]).split('(')[0]\n",
    "        tmp_map = gmaps.geocode(tmp_add)\n",
    "\n",
    "        tmp_loc = tmp_map[0].get('geometry')\n",
    "        lat.append(tmp_loc['location']['lat'])\n",
    "        lng.append(tmp_loc['location']['lng'])\n",
    "        \n",
    "    except:\n",
    "        lat.append(np.nan)\n",
    "        lng.append(np.nan)\n",
    "        print(\"Here is nan !\")\n",
    "        \n",
    "oil_price_top10['lat'] = lat\n",
    "oil_price_top10['lng'] = lng\n",
    "oil_price_top10"
   ]
  },
  {
   "cell_type": "code",
   "execution_count": 40,
   "id": "73e5a8e3",
   "metadata": {},
   "outputs": [
    {
     "data": {
      "application/vnd.jupyter.widget-view+json": {
       "model_id": "b5a39b22d8594c22a756e0c377b20030",
       "version_major": 2,
       "version_minor": 0
      },
      "text/plain": [
       "  0%|          | 0/10 [00:00<?, ?it/s]"
      ]
     },
     "metadata": {},
     "output_type": "display_data"
    },
    {
     "data": {
      "text/html": [
       "<div>\n",
       "<style scoped>\n",
       "    .dataframe tbody tr th:only-of-type {\n",
       "        vertical-align: middle;\n",
       "    }\n",
       "\n",
       "    .dataframe tbody tr th {\n",
       "        vertical-align: top;\n",
       "    }\n",
       "\n",
       "    .dataframe thead th {\n",
       "        text-align: right;\n",
       "    }\n",
       "</style>\n",
       "<table border=\"1\" class=\"dataframe\">\n",
       "  <thead>\n",
       "    <tr style=\"text-align: right;\">\n",
       "      <th></th>\n",
       "      <th>Oil_store</th>\n",
       "      <th>주소</th>\n",
       "      <th>가격</th>\n",
       "      <th>셀프</th>\n",
       "      <th>상표</th>\n",
       "      <th>구</th>\n",
       "      <th>lat</th>\n",
       "      <th>lng</th>\n",
       "    </tr>\n",
       "  </thead>\n",
       "  <tbody>\n",
       "    <tr>\n",
       "      <th>175</th>\n",
       "      <td>현대오일뱅크(주)직영 양천셀프주유소</td>\n",
       "      <td>서울 양천구 목동로 17</td>\n",
       "      <td>1834.0</td>\n",
       "      <td>Y</td>\n",
       "      <td>현대오일뱅크</td>\n",
       "      <td>양천구</td>\n",
       "      <td>37.510608</td>\n",
       "      <td>126.871110</td>\n",
       "    </tr>\n",
       "    <tr>\n",
       "      <th>300</th>\n",
       "      <td>개화주유소</td>\n",
       "      <td>서울 강서구 양천로 57</td>\n",
       "      <td>1837.0</td>\n",
       "      <td>Y</td>\n",
       "      <td>SK에너지</td>\n",
       "      <td>강서구</td>\n",
       "      <td>37.573448</td>\n",
       "      <td>126.810079</td>\n",
       "    </tr>\n",
       "    <tr>\n",
       "      <th>425</th>\n",
       "      <td>현대오일뱅크(주)직영 산성셀프주유소</td>\n",
       "      <td>서울 강남구 헌릉로 730</td>\n",
       "      <td>1839.0</td>\n",
       "      <td>Y</td>\n",
       "      <td>현대오일뱅크</td>\n",
       "      <td>강남구</td>\n",
       "      <td>37.466478</td>\n",
       "      <td>127.119039</td>\n",
       "    </tr>\n",
       "    <tr>\n",
       "      <th>346</th>\n",
       "      <td>(주)창원CW</td>\n",
       "      <td>서울 광진구 광나루로 460 (화양동)</td>\n",
       "      <td>1839.0</td>\n",
       "      <td>Y</td>\n",
       "      <td>현대오일뱅크</td>\n",
       "      <td>광진구</td>\n",
       "      <td>37.545055</td>\n",
       "      <td>127.080361</td>\n",
       "    </tr>\n",
       "    <tr>\n",
       "      <th>347</th>\n",
       "      <td>대원주유소</td>\n",
       "      <td>서울 광진구 용마산로 122 (중곡동)</td>\n",
       "      <td>1839.0</td>\n",
       "      <td>N</td>\n",
       "      <td>S-OIL</td>\n",
       "      <td>광진구</td>\n",
       "      <td>37.564520</td>\n",
       "      <td>127.087043</td>\n",
       "    </tr>\n",
       "    <tr>\n",
       "      <th>301</th>\n",
       "      <td>지에스칼텍스㈜ 경인고속주유소</td>\n",
       "      <td>서울 강서구 국회대로 225 (화곡동)</td>\n",
       "      <td>1845.0</td>\n",
       "      <td>Y</td>\n",
       "      <td>GS칼텍스</td>\n",
       "      <td>강서구</td>\n",
       "      <td>37.529605</td>\n",
       "      <td>126.859823</td>\n",
       "    </tr>\n",
       "    <tr>\n",
       "      <th>176</th>\n",
       "      <td>지에스칼텍스㈜ 서호주유소</td>\n",
       "      <td>서울 양천구 남부순환로 317</td>\n",
       "      <td>1845.0</td>\n",
       "      <td>Y</td>\n",
       "      <td>GS칼텍스</td>\n",
       "      <td>양천구</td>\n",
       "      <td>37.538552</td>\n",
       "      <td>126.826928</td>\n",
       "    </tr>\n",
       "    <tr>\n",
       "      <th>227</th>\n",
       "      <td>세원주유소</td>\n",
       "      <td>서울 강북구 한천로 918 (번동)</td>\n",
       "      <td>1848.0</td>\n",
       "      <td>Y</td>\n",
       "      <td>SK에너지</td>\n",
       "      <td>강북구</td>\n",
       "      <td>37.634262</td>\n",
       "      <td>127.037695</td>\n",
       "    </tr>\n",
       "    <tr>\n",
       "      <th>143</th>\n",
       "      <td>(주)삼표에너지 훼미리주유소</td>\n",
       "      <td>서울 송파구 중대로 58 (문정동)</td>\n",
       "      <td>1848.0</td>\n",
       "      <td>N</td>\n",
       "      <td>GS칼텍스</td>\n",
       "      <td>송파구</td>\n",
       "      <td>37.491196</td>\n",
       "      <td>127.115337</td>\n",
       "    </tr>\n",
       "    <tr>\n",
       "      <th>177</th>\n",
       "      <td>(주)타이거오일 신정주유소</td>\n",
       "      <td>서울 양천구 중앙로 226 (신정동)</td>\n",
       "      <td>1849.0</td>\n",
       "      <td>Y</td>\n",
       "      <td>SK에너지</td>\n",
       "      <td>양천구</td>\n",
       "      <td>37.516768</td>\n",
       "      <td>126.854657</td>\n",
       "    </tr>\n",
       "  </tbody>\n",
       "</table>\n",
       "</div>"
      ],
      "text/plain": [
       "               Oil_store                     주소      가격 셀프      상표    구  \\\n",
       "175  현대오일뱅크(주)직영 양천셀프주유소          서울 양천구 목동로 17  1834.0  Y  현대오일뱅크  양천구   \n",
       "300                개화주유소          서울 강서구 양천로 57  1837.0  Y   SK에너지  강서구   \n",
       "425  현대오일뱅크(주)직영 산성셀프주유소         서울 강남구 헌릉로 730  1839.0  Y  현대오일뱅크  강남구   \n",
       "346              (주)창원CW  서울 광진구 광나루로 460 (화양동)  1839.0  Y  현대오일뱅크  광진구   \n",
       "347                대원주유소  서울 광진구 용마산로 122 (중곡동)  1839.0  N   S-OIL  광진구   \n",
       "301      지에스칼텍스㈜ 경인고속주유소  서울 강서구 국회대로 225 (화곡동)  1845.0  Y   GS칼텍스  강서구   \n",
       "176        지에스칼텍스㈜ 서호주유소       서울 양천구 남부순환로 317  1845.0  Y   GS칼텍스  양천구   \n",
       "227                세원주유소    서울 강북구 한천로 918 (번동)  1848.0  Y   SK에너지  강북구   \n",
       "143      (주)삼표에너지 훼미리주유소    서울 송파구 중대로 58 (문정동)  1848.0  N   GS칼텍스  송파구   \n",
       "177       (주)타이거오일 신정주유소   서울 양천구 중앙로 226 (신정동)  1849.0  Y   SK에너지  양천구   \n",
       "\n",
       "           lat         lng  \n",
       "175  37.510608  126.871110  \n",
       "300  37.573448  126.810079  \n",
       "425  37.466478  127.119039  \n",
       "346  37.545055  127.080361  \n",
       "347  37.564520  127.087043  \n",
       "301  37.529605  126.859823  \n",
       "176  37.538552  126.826928  \n",
       "227  37.634262  127.037695  \n",
       "143  37.491196  127.115337  \n",
       "177  37.516768  126.854657  "
      ]
     },
     "execution_count": 40,
     "metadata": {},
     "output_type": "execute_result"
    }
   ],
   "source": [
    "lat = []\n",
    "lng = []\n",
    "\n",
    "for n in notebook.tqdm(oil_price_bottom10.index):\n",
    "    try:\n",
    "        tmp_add = oil_price_bottom10['주소'][n].split('(')[0]\n",
    "        tmp_map = gmaps.geocode(tmp_add)\n",
    "\n",
    "        tmp_loc = tmp_map[0]['geometry']\n",
    "        lat.append(tmp_loc['location']['lat'])\n",
    "        lng.append(tmp_loc['location']['lng'])\n",
    "        \n",
    "    except:\n",
    "        lat.append(np.nan)\n",
    "        lng.append(np.nan)\n",
    "        print(\"Here is nan !\")\n",
    "    \n",
    "oil_price_bottom10['lat'] = lat\n",
    "oil_price_bottom10['lng'] = lng\n",
    "oil_price_bottom10"
   ]
  },
  {
   "cell_type": "code",
   "execution_count": 41,
   "id": "1cfad2f1",
   "metadata": {},
   "outputs": [
    {
     "data": {
      "text/html": [
       "<div style=\"width:100%;\"><div style=\"position:relative;width:100%;height:0;padding-bottom:60%;\"><span style=\"color:#565656\">Make this Notebook Trusted to load map: File -> Trust Notebook</span><iframe src=\"about:blank\" style=\"position:absolute;width:100%;height:100%;left:0;top:0;border:none !important;\" data-html=%3C%21DOCTYPE%20html%3E%0A%3Chead%3E%20%20%20%20%0A%20%20%20%20%3Cmeta%20http-equiv%3D%22content-type%22%20content%3D%22text/html%3B%20charset%3DUTF-8%22%20/%3E%0A%20%20%20%20%0A%20%20%20%20%20%20%20%20%3Cscript%3E%0A%20%20%20%20%20%20%20%20%20%20%20%20L_NO_TOUCH%20%3D%20false%3B%0A%20%20%20%20%20%20%20%20%20%20%20%20L_DISABLE_3D%20%3D%20false%3B%0A%20%20%20%20%20%20%20%20%3C/script%3E%0A%20%20%20%20%0A%20%20%20%20%3Cstyle%3Ehtml%2C%20body%20%7Bwidth%3A%20100%25%3Bheight%3A%20100%25%3Bmargin%3A%200%3Bpadding%3A%200%3B%7D%3C/style%3E%0A%20%20%20%20%3Cstyle%3E%23map%20%7Bposition%3Aabsolute%3Btop%3A0%3Bbottom%3A0%3Bright%3A0%3Bleft%3A0%3B%7D%3C/style%3E%0A%20%20%20%20%3Cscript%20src%3D%22https%3A//cdn.jsdelivr.net/npm/leaflet%401.6.0/dist/leaflet.js%22%3E%3C/script%3E%0A%20%20%20%20%3Cscript%20src%3D%22https%3A//code.jquery.com/jquery-1.12.4.min.js%22%3E%3C/script%3E%0A%20%20%20%20%3Cscript%20src%3D%22https%3A//maxcdn.bootstrapcdn.com/bootstrap/3.2.0/js/bootstrap.min.js%22%3E%3C/script%3E%0A%20%20%20%20%3Cscript%20src%3D%22https%3A//cdnjs.cloudflare.com/ajax/libs/Leaflet.awesome-markers/2.0.2/leaflet.awesome-markers.js%22%3E%3C/script%3E%0A%20%20%20%20%3Clink%20rel%3D%22stylesheet%22%20href%3D%22https%3A//cdn.jsdelivr.net/npm/leaflet%401.6.0/dist/leaflet.css%22/%3E%0A%20%20%20%20%3Clink%20rel%3D%22stylesheet%22%20href%3D%22https%3A//maxcdn.bootstrapcdn.com/bootstrap/3.2.0/css/bootstrap.min.css%22/%3E%0A%20%20%20%20%3Clink%20rel%3D%22stylesheet%22%20href%3D%22https%3A//maxcdn.bootstrapcdn.com/bootstrap/3.2.0/css/bootstrap-theme.min.css%22/%3E%0A%20%20%20%20%3Clink%20rel%3D%22stylesheet%22%20href%3D%22https%3A//maxcdn.bootstrapcdn.com/font-awesome/4.6.3/css/font-awesome.min.css%22/%3E%0A%20%20%20%20%3Clink%20rel%3D%22stylesheet%22%20href%3D%22https%3A//cdnjs.cloudflare.com/ajax/libs/Leaflet.awesome-markers/2.0.2/leaflet.awesome-markers.css%22/%3E%0A%20%20%20%20%3Clink%20rel%3D%22stylesheet%22%20href%3D%22https%3A//cdn.jsdelivr.net/gh/python-visualization/folium/folium/templates/leaflet.awesome.rotate.min.css%22/%3E%0A%20%20%20%20%0A%20%20%20%20%20%20%20%20%20%20%20%20%3Cmeta%20name%3D%22viewport%22%20content%3D%22width%3Ddevice-width%2C%0A%20%20%20%20%20%20%20%20%20%20%20%20%20%20%20%20initial-scale%3D1.0%2C%20maximum-scale%3D1.0%2C%20user-scalable%3Dno%22%20/%3E%0A%20%20%20%20%20%20%20%20%20%20%20%20%3Cstyle%3E%0A%20%20%20%20%20%20%20%20%20%20%20%20%20%20%20%20%23map_ce4a04af444b44668d9fbeef7e925f35%20%7B%0A%20%20%20%20%20%20%20%20%20%20%20%20%20%20%20%20%20%20%20%20position%3A%20relative%3B%0A%20%20%20%20%20%20%20%20%20%20%20%20%20%20%20%20%20%20%20%20width%3A%20100.0%25%3B%0A%20%20%20%20%20%20%20%20%20%20%20%20%20%20%20%20%20%20%20%20height%3A%20100.0%25%3B%0A%20%20%20%20%20%20%20%20%20%20%20%20%20%20%20%20%20%20%20%20left%3A%200.0%25%3B%0A%20%20%20%20%20%20%20%20%20%20%20%20%20%20%20%20%20%20%20%20top%3A%200.0%25%3B%0A%20%20%20%20%20%20%20%20%20%20%20%20%20%20%20%20%7D%0A%20%20%20%20%20%20%20%20%20%20%20%20%3C/style%3E%0A%20%20%20%20%20%20%20%20%0A%3C/head%3E%0A%3Cbody%3E%20%20%20%20%0A%20%20%20%20%0A%20%20%20%20%20%20%20%20%20%20%20%20%3Cdiv%20class%3D%22folium-map%22%20id%3D%22map_ce4a04af444b44668d9fbeef7e925f35%22%20%3E%3C/div%3E%0A%20%20%20%20%20%20%20%20%0A%3C/body%3E%0A%3Cscript%3E%20%20%20%20%0A%20%20%20%20%0A%20%20%20%20%20%20%20%20%20%20%20%20var%20map_ce4a04af444b44668d9fbeef7e925f35%20%3D%20L.map%28%0A%20%20%20%20%20%20%20%20%20%20%20%20%20%20%20%20%22map_ce4a04af444b44668d9fbeef7e925f35%22%2C%0A%20%20%20%20%20%20%20%20%20%20%20%20%20%20%20%20%7B%0A%20%20%20%20%20%20%20%20%20%20%20%20%20%20%20%20%20%20%20%20center%3A%20%5B37.5202%2C%20126.975%5D%2C%0A%20%20%20%20%20%20%20%20%20%20%20%20%20%20%20%20%20%20%20%20crs%3A%20L.CRS.EPSG3857%2C%0A%20%20%20%20%20%20%20%20%20%20%20%20%20%20%20%20%20%20%20%20zoom%3A%2010.5%2C%0A%20%20%20%20%20%20%20%20%20%20%20%20%20%20%20%20%20%20%20%20zoomControl%3A%20true%2C%0A%20%20%20%20%20%20%20%20%20%20%20%20%20%20%20%20%20%20%20%20preferCanvas%3A%20false%2C%0A%20%20%20%20%20%20%20%20%20%20%20%20%20%20%20%20%7D%0A%20%20%20%20%20%20%20%20%20%20%20%20%29%3B%0A%0A%20%20%20%20%20%20%20%20%20%20%20%20%0A%0A%20%20%20%20%20%20%20%20%0A%20%20%20%20%0A%20%20%20%20%20%20%20%20%20%20%20%20var%20tile_layer_8fda58afd3634bfaaa2498a0915c273a%20%3D%20L.tileLayer%28%0A%20%20%20%20%20%20%20%20%20%20%20%20%20%20%20%20%22https%3A//%7Bs%7D.tile.openstreetmap.org/%7Bz%7D/%7Bx%7D/%7By%7D.png%22%2C%0A%20%20%20%20%20%20%20%20%20%20%20%20%20%20%20%20%7B%22attribution%22%3A%20%22Data%20by%20%5Cu0026copy%3B%20%5Cu003ca%20href%3D%5C%22http%3A//openstreetmap.org%5C%22%5Cu003eOpenStreetMap%5Cu003c/a%5Cu003e%2C%20under%20%5Cu003ca%20href%3D%5C%22http%3A//www.openstreetmap.org/copyright%5C%22%5Cu003eODbL%5Cu003c/a%5Cu003e.%22%2C%20%22detectRetina%22%3A%20false%2C%20%22maxNativeZoom%22%3A%2018%2C%20%22maxZoom%22%3A%2018%2C%20%22minZoom%22%3A%200%2C%20%22noWrap%22%3A%20false%2C%20%22opacity%22%3A%201%2C%20%22subdomains%22%3A%20%22abc%22%2C%20%22tms%22%3A%20false%7D%0A%20%20%20%20%20%20%20%20%20%20%20%20%29.addTo%28map_ce4a04af444b44668d9fbeef7e925f35%29%3B%0A%20%20%20%20%20%20%20%20%0A%20%20%20%20%0A%20%20%20%20%20%20%20%20%20%20%20%20var%20circle_marker_2ad2f4cf7833414daed33edaace7ca4f%20%3D%20L.circleMarker%28%0A%20%20%20%20%20%20%20%20%20%20%20%20%20%20%20%20%5B37.5583477%2C%20126.9720901%5D%2C%0A%20%20%20%20%20%20%20%20%20%20%20%20%20%20%20%20%7B%22bubblingMouseEvents%22%3A%20true%2C%20%22color%22%3A%20%22%23CD3181%22%2C%20%22dashArray%22%3A%20null%2C%20%22dashOffset%22%3A%20null%2C%20%22fill%22%3A%20true%2C%20%22fillColor%22%3A%20%22%23CD3181%22%2C%20%22fillOpacity%22%3A%200.2%2C%20%22fillRule%22%3A%20%22evenodd%22%2C%20%22lineCap%22%3A%20%22round%22%2C%20%22lineJoin%22%3A%20%22round%22%2C%20%22opacity%22%3A%201.0%2C%20%22radius%22%3A%2015%2C%20%22stroke%22%3A%20true%2C%20%22weight%22%3A%203%7D%0A%20%20%20%20%20%20%20%20%20%20%20%20%29.addTo%28map_ce4a04af444b44668d9fbeef7e925f35%29%3B%0A%20%20%20%20%20%20%20%20%0A%20%20%20%20%0A%20%20%20%20%20%20%20%20%20%20%20%20var%20circle_marker_a810d3c5719d4deeb2a21c59241f9a70%20%3D%20L.circleMarker%28%0A%20%20%20%20%20%20%20%20%20%20%20%20%20%20%20%20%5B37.5522895%2C%20126.9689354%5D%2C%0A%20%20%20%20%20%20%20%20%20%20%20%20%20%20%20%20%7B%22bubblingMouseEvents%22%3A%20true%2C%20%22color%22%3A%20%22%23CD3181%22%2C%20%22dashArray%22%3A%20null%2C%20%22dashOffset%22%3A%20null%2C%20%22fill%22%3A%20true%2C%20%22fillColor%22%3A%20%22%23CD3181%22%2C%20%22fillOpacity%22%3A%200.2%2C%20%22fillRule%22%3A%20%22evenodd%22%2C%20%22lineCap%22%3A%20%22round%22%2C%20%22lineJoin%22%3A%20%22round%22%2C%20%22opacity%22%3A%201.0%2C%20%22radius%22%3A%2015%2C%20%22stroke%22%3A%20true%2C%20%22weight%22%3A%203%7D%0A%20%20%20%20%20%20%20%20%20%20%20%20%29.addTo%28map_ce4a04af444b44668d9fbeef7e925f35%29%3B%0A%20%20%20%20%20%20%20%20%0A%20%20%20%20%0A%20%20%20%20%20%20%20%20%20%20%20%20var%20circle_marker_376ad72a683d4cdca2412a0d7fd081c5%20%3D%20L.circleMarker%28%0A%20%20%20%20%20%20%20%20%20%20%20%20%20%20%20%20%5B37.5616483%2C%20126.9971419%5D%2C%0A%20%20%20%20%20%20%20%20%20%20%20%20%20%20%20%20%7B%22bubblingMouseEvents%22%3A%20true%2C%20%22color%22%3A%20%22%23CD3181%22%2C%20%22dashArray%22%3A%20null%2C%20%22dashOffset%22%3A%20null%2C%20%22fill%22%3A%20true%2C%20%22fillColor%22%3A%20%22%23CD3181%22%2C%20%22fillOpacity%22%3A%200.2%2C%20%22fillRule%22%3A%20%22evenodd%22%2C%20%22lineCap%22%3A%20%22round%22%2C%20%22lineJoin%22%3A%20%22round%22%2C%20%22opacity%22%3A%201.0%2C%20%22radius%22%3A%2015%2C%20%22stroke%22%3A%20true%2C%20%22weight%22%3A%203%7D%0A%20%20%20%20%20%20%20%20%20%20%20%20%29.addTo%28map_ce4a04af444b44668d9fbeef7e925f35%29%3B%0A%20%20%20%20%20%20%20%20%0A%20%20%20%20%0A%20%20%20%20%20%20%20%20%20%20%20%20var%20circle_marker_80ff158b7b33469fb96c09c568708f55%20%3D%20L.circleMarker%28%0A%20%20%20%20%20%20%20%20%20%20%20%20%20%20%20%20%5B37.51763589999999%2C%20127.0357559%5D%2C%0A%20%20%20%20%20%20%20%20%20%20%20%20%20%20%20%20%7B%22bubblingMouseEvents%22%3A%20true%2C%20%22color%22%3A%20%22%23CD3181%22%2C%20%22dashArray%22%3A%20null%2C%20%22dashOffset%22%3A%20null%2C%20%22fill%22%3A%20true%2C%20%22fillColor%22%3A%20%22%23CD3181%22%2C%20%22fillOpacity%22%3A%200.2%2C%20%22fillRule%22%3A%20%22evenodd%22%2C%20%22lineCap%22%3A%20%22round%22%2C%20%22lineJoin%22%3A%20%22round%22%2C%20%22opacity%22%3A%201.0%2C%20%22radius%22%3A%2015%2C%20%22stroke%22%3A%20true%2C%20%22weight%22%3A%203%7D%0A%20%20%20%20%20%20%20%20%20%20%20%20%29.addTo%28map_ce4a04af444b44668d9fbeef7e925f35%29%3B%0A%20%20%20%20%20%20%20%20%0A%20%20%20%20%0A%20%20%20%20%20%20%20%20%20%20%20%20var%20circle_marker_e857bac0298146e290a4b9c2e6ada2fe%20%3D%20L.circleMarker%28%0A%20%20%20%20%20%20%20%20%20%20%20%20%20%20%20%20%5B37.5590093%2C%20127.0126631%5D%2C%0A%20%20%20%20%20%20%20%20%20%20%20%20%20%20%20%20%7B%22bubblingMouseEvents%22%3A%20true%2C%20%22color%22%3A%20%22%23CD3181%22%2C%20%22dashArray%22%3A%20null%2C%20%22dashOffset%22%3A%20null%2C%20%22fill%22%3A%20true%2C%20%22fillColor%22%3A%20%22%23CD3181%22%2C%20%22fillOpacity%22%3A%200.2%2C%20%22fillRule%22%3A%20%22evenodd%22%2C%20%22lineCap%22%3A%20%22round%22%2C%20%22lineJoin%22%3A%20%22round%22%2C%20%22opacity%22%3A%201.0%2C%20%22radius%22%3A%2015%2C%20%22stroke%22%3A%20true%2C%20%22weight%22%3A%203%7D%0A%20%20%20%20%20%20%20%20%20%20%20%20%29.addTo%28map_ce4a04af444b44668d9fbeef7e925f35%29%3B%0A%20%20%20%20%20%20%20%20%0A%20%20%20%20%0A%20%20%20%20%20%20%20%20%20%20%20%20var%20circle_marker_35aa4958198c4bd49f4b5bca46656724%20%3D%20L.circleMarker%28%0A%20%20%20%20%20%20%20%20%20%20%20%20%20%20%20%20%5B37.51151340000001%2C%20127.0470928%5D%2C%0A%20%20%20%20%20%20%20%20%20%20%20%20%20%20%20%20%7B%22bubblingMouseEvents%22%3A%20true%2C%20%22color%22%3A%20%22%23CD3181%22%2C%20%22dashArray%22%3A%20null%2C%20%22dashOffset%22%3A%20null%2C%20%22fill%22%3A%20true%2C%20%22fillColor%22%3A%20%22%23CD3181%22%2C%20%22fillOpacity%22%3A%200.2%2C%20%22fillRule%22%3A%20%22evenodd%22%2C%20%22lineCap%22%3A%20%22round%22%2C%20%22lineJoin%22%3A%20%22round%22%2C%20%22opacity%22%3A%201.0%2C%20%22radius%22%3A%2015%2C%20%22stroke%22%3A%20true%2C%20%22weight%22%3A%203%7D%0A%20%20%20%20%20%20%20%20%20%20%20%20%29.addTo%28map_ce4a04af444b44668d9fbeef7e925f35%29%3B%0A%20%20%20%20%20%20%20%20%0A%20%20%20%20%0A%20%20%20%20%20%20%20%20%20%20%20%20var%20circle_marker_01ad45d73f744408b1b5a38b41d0c18a%20%3D%20L.circleMarker%28%0A%20%20%20%20%20%20%20%20%20%20%20%20%20%20%20%20%5B37.4806533%2C%20126.9985047%5D%2C%0A%20%20%20%20%20%20%20%20%20%20%20%20%20%20%20%20%7B%22bubblingMouseEvents%22%3A%20true%2C%20%22color%22%3A%20%22%23CD3181%22%2C%20%22dashArray%22%3A%20null%2C%20%22dashOffset%22%3A%20null%2C%20%22fill%22%3A%20true%2C%20%22fillColor%22%3A%20%22%23CD3181%22%2C%20%22fillOpacity%22%3A%200.2%2C%20%22fillRule%22%3A%20%22evenodd%22%2C%20%22lineCap%22%3A%20%22round%22%2C%20%22lineJoin%22%3A%20%22round%22%2C%20%22opacity%22%3A%201.0%2C%20%22radius%22%3A%2015%2C%20%22stroke%22%3A%20true%2C%20%22weight%22%3A%203%7D%0A%20%20%20%20%20%20%20%20%20%20%20%20%29.addTo%28map_ce4a04af444b44668d9fbeef7e925f35%29%3B%0A%20%20%20%20%20%20%20%20%0A%20%20%20%20%0A%20%20%20%20%20%20%20%20%20%20%20%20var%20circle_marker_72dc879d9d16474d8c1d9bf2f9b6f688%20%3D%20L.circleMarker%28%0A%20%20%20%20%20%20%20%20%20%20%20%20%20%20%20%20%5B37.55017850000001%2C%20126.9724626%5D%2C%0A%20%20%20%20%20%20%20%20%20%20%20%20%20%20%20%20%7B%22bubblingMouseEvents%22%3A%20true%2C%20%22color%22%3A%20%22%23CD3181%22%2C%20%22dashArray%22%3A%20null%2C%20%22dashOffset%22%3A%20null%2C%20%22fill%22%3A%20true%2C%20%22fillColor%22%3A%20%22%23CD3181%22%2C%20%22fillOpacity%22%3A%200.2%2C%20%22fillRule%22%3A%20%22evenodd%22%2C%20%22lineCap%22%3A%20%22round%22%2C%20%22lineJoin%22%3A%20%22round%22%2C%20%22opacity%22%3A%201.0%2C%20%22radius%22%3A%2015%2C%20%22stroke%22%3A%20true%2C%20%22weight%22%3A%203%7D%0A%20%20%20%20%20%20%20%20%20%20%20%20%29.addTo%28map_ce4a04af444b44668d9fbeef7e925f35%29%3B%0A%20%20%20%20%20%20%20%20%0A%20%20%20%20%0A%20%20%20%20%20%20%20%20%20%20%20%20var%20circle_marker_bd780edb63ae473896a2cca6734d6c65%20%3D%20L.circleMarker%28%0A%20%20%20%20%20%20%20%20%20%20%20%20%20%20%20%20%5B37.490737%2C%20126.883519%5D%2C%0A%20%20%20%20%20%20%20%20%20%20%20%20%20%20%20%20%7B%22bubblingMouseEvents%22%3A%20true%2C%20%22color%22%3A%20%22%23CD3181%22%2C%20%22dashArray%22%3A%20null%2C%20%22dashOffset%22%3A%20null%2C%20%22fill%22%3A%20true%2C%20%22fillColor%22%3A%20%22%23CD3181%22%2C%20%22fillOpacity%22%3A%200.2%2C%20%22fillRule%22%3A%20%22evenodd%22%2C%20%22lineCap%22%3A%20%22round%22%2C%20%22lineJoin%22%3A%20%22round%22%2C%20%22opacity%22%3A%201.0%2C%20%22radius%22%3A%2015%2C%20%22stroke%22%3A%20true%2C%20%22weight%22%3A%203%7D%0A%20%20%20%20%20%20%20%20%20%20%20%20%29.addTo%28map_ce4a04af444b44668d9fbeef7e925f35%29%3B%0A%20%20%20%20%20%20%20%20%0A%20%20%20%20%0A%20%20%20%20%20%20%20%20%20%20%20%20var%20circle_marker_7684b983bd944299a695898f06dc031d%20%3D%20L.circleMarker%28%0A%20%20%20%20%20%20%20%20%20%20%20%20%20%20%20%20%5B37.5754163%2C%20126.9801322%5D%2C%0A%20%20%20%20%20%20%20%20%20%20%20%20%20%20%20%20%7B%22bubblingMouseEvents%22%3A%20true%2C%20%22color%22%3A%20%22%23CD3181%22%2C%20%22dashArray%22%3A%20null%2C%20%22dashOffset%22%3A%20null%2C%20%22fill%22%3A%20true%2C%20%22fillColor%22%3A%20%22%23CD3181%22%2C%20%22fillOpacity%22%3A%200.2%2C%20%22fillRule%22%3A%20%22evenodd%22%2C%20%22lineCap%22%3A%20%22round%22%2C%20%22lineJoin%22%3A%20%22round%22%2C%20%22opacity%22%3A%201.0%2C%20%22radius%22%3A%2015%2C%20%22stroke%22%3A%20true%2C%20%22weight%22%3A%203%7D%0A%20%20%20%20%20%20%20%20%20%20%20%20%29.addTo%28map_ce4a04af444b44668d9fbeef7e925f35%29%3B%0A%20%20%20%20%20%20%20%20%0A%20%20%20%20%0A%20%20%20%20%20%20%20%20%20%20%20%20var%20circle_marker_768ca145f91d4c8a9f66b256776be1d8%20%3D%20L.circleMarker%28%0A%20%20%20%20%20%20%20%20%20%20%20%20%20%20%20%20%5B37.5106085%2C%20126.8711101%5D%2C%0A%20%20%20%20%20%20%20%20%20%20%20%20%20%20%20%20%7B%22bubblingMouseEvents%22%3A%20true%2C%20%22color%22%3A%20%22%233186cc%22%2C%20%22dashArray%22%3A%20null%2C%20%22dashOffset%22%3A%20null%2C%20%22fill%22%3A%20true%2C%20%22fillColor%22%3A%20%22%233186cc%22%2C%20%22fillOpacity%22%3A%200.2%2C%20%22fillRule%22%3A%20%22evenodd%22%2C%20%22lineCap%22%3A%20%22round%22%2C%20%22lineJoin%22%3A%20%22round%22%2C%20%22opacity%22%3A%201.0%2C%20%22radius%22%3A%2015%2C%20%22stroke%22%3A%20true%2C%20%22weight%22%3A%203%7D%0A%20%20%20%20%20%20%20%20%20%20%20%20%29.addTo%28map_ce4a04af444b44668d9fbeef7e925f35%29%3B%0A%20%20%20%20%20%20%20%20%0A%20%20%20%20%0A%20%20%20%20%20%20%20%20%20%20%20%20var%20circle_marker_3602d57b05834746940934da6b5b7f8d%20%3D%20L.circleMarker%28%0A%20%20%20%20%20%20%20%20%20%20%20%20%20%20%20%20%5B37.573448%2C%20126.810079%5D%2C%0A%20%20%20%20%20%20%20%20%20%20%20%20%20%20%20%20%7B%22bubblingMouseEvents%22%3A%20true%2C%20%22color%22%3A%20%22%233186cc%22%2C%20%22dashArray%22%3A%20null%2C%20%22dashOffset%22%3A%20null%2C%20%22fill%22%3A%20true%2C%20%22fillColor%22%3A%20%22%233186cc%22%2C%20%22fillOpacity%22%3A%200.2%2C%20%22fillRule%22%3A%20%22evenodd%22%2C%20%22lineCap%22%3A%20%22round%22%2C%20%22lineJoin%22%3A%20%22round%22%2C%20%22opacity%22%3A%201.0%2C%20%22radius%22%3A%2015%2C%20%22stroke%22%3A%20true%2C%20%22weight%22%3A%203%7D%0A%20%20%20%20%20%20%20%20%20%20%20%20%29.addTo%28map_ce4a04af444b44668d9fbeef7e925f35%29%3B%0A%20%20%20%20%20%20%20%20%0A%20%20%20%20%0A%20%20%20%20%20%20%20%20%20%20%20%20var%20circle_marker_b5ccca48cce54985a59f0c498b145caf%20%3D%20L.circleMarker%28%0A%20%20%20%20%20%20%20%20%20%20%20%20%20%20%20%20%5B37.4664775%2C%20127.1190391%5D%2C%0A%20%20%20%20%20%20%20%20%20%20%20%20%20%20%20%20%7B%22bubblingMouseEvents%22%3A%20true%2C%20%22color%22%3A%20%22%233186cc%22%2C%20%22dashArray%22%3A%20null%2C%20%22dashOffset%22%3A%20null%2C%20%22fill%22%3A%20true%2C%20%22fillColor%22%3A%20%22%233186cc%22%2C%20%22fillOpacity%22%3A%200.2%2C%20%22fillRule%22%3A%20%22evenodd%22%2C%20%22lineCap%22%3A%20%22round%22%2C%20%22lineJoin%22%3A%20%22round%22%2C%20%22opacity%22%3A%201.0%2C%20%22radius%22%3A%2015%2C%20%22stroke%22%3A%20true%2C%20%22weight%22%3A%203%7D%0A%20%20%20%20%20%20%20%20%20%20%20%20%29.addTo%28map_ce4a04af444b44668d9fbeef7e925f35%29%3B%0A%20%20%20%20%20%20%20%20%0A%20%20%20%20%0A%20%20%20%20%20%20%20%20%20%20%20%20var%20circle_marker_36e3c461e326414694279f29fc445783%20%3D%20L.circleMarker%28%0A%20%20%20%20%20%20%20%20%20%20%20%20%20%20%20%20%5B37.5450546%2C%20127.0803615%5D%2C%0A%20%20%20%20%20%20%20%20%20%20%20%20%20%20%20%20%7B%22bubblingMouseEvents%22%3A%20true%2C%20%22color%22%3A%20%22%233186cc%22%2C%20%22dashArray%22%3A%20null%2C%20%22dashOffset%22%3A%20null%2C%20%22fill%22%3A%20true%2C%20%22fillColor%22%3A%20%22%233186cc%22%2C%20%22fillOpacity%22%3A%200.2%2C%20%22fillRule%22%3A%20%22evenodd%22%2C%20%22lineCap%22%3A%20%22round%22%2C%20%22lineJoin%22%3A%20%22round%22%2C%20%22opacity%22%3A%201.0%2C%20%22radius%22%3A%2015%2C%20%22stroke%22%3A%20true%2C%20%22weight%22%3A%203%7D%0A%20%20%20%20%20%20%20%20%20%20%20%20%29.addTo%28map_ce4a04af444b44668d9fbeef7e925f35%29%3B%0A%20%20%20%20%20%20%20%20%0A%20%20%20%20%0A%20%20%20%20%20%20%20%20%20%20%20%20var%20circle_marker_35d4c07c4dc2407fb529009f43601f74%20%3D%20L.circleMarker%28%0A%20%20%20%20%20%20%20%20%20%20%20%20%20%20%20%20%5B37.5645204%2C%20127.0870429%5D%2C%0A%20%20%20%20%20%20%20%20%20%20%20%20%20%20%20%20%7B%22bubblingMouseEvents%22%3A%20true%2C%20%22color%22%3A%20%22%233186cc%22%2C%20%22dashArray%22%3A%20null%2C%20%22dashOffset%22%3A%20null%2C%20%22fill%22%3A%20true%2C%20%22fillColor%22%3A%20%22%233186cc%22%2C%20%22fillOpacity%22%3A%200.2%2C%20%22fillRule%22%3A%20%22evenodd%22%2C%20%22lineCap%22%3A%20%22round%22%2C%20%22lineJoin%22%3A%20%22round%22%2C%20%22opacity%22%3A%201.0%2C%20%22radius%22%3A%2015%2C%20%22stroke%22%3A%20true%2C%20%22weight%22%3A%203%7D%0A%20%20%20%20%20%20%20%20%20%20%20%20%29.addTo%28map_ce4a04af444b44668d9fbeef7e925f35%29%3B%0A%20%20%20%20%20%20%20%20%0A%20%20%20%20%0A%20%20%20%20%20%20%20%20%20%20%20%20var%20circle_marker_9fcc9fbf16f34c7aa2add8e153d9002a%20%3D%20L.circleMarker%28%0A%20%20%20%20%20%20%20%20%20%20%20%20%20%20%20%20%5B37.5296048%2C%20126.8598234%5D%2C%0A%20%20%20%20%20%20%20%20%20%20%20%20%20%20%20%20%7B%22bubblingMouseEvents%22%3A%20true%2C%20%22color%22%3A%20%22%233186cc%22%2C%20%22dashArray%22%3A%20null%2C%20%22dashOffset%22%3A%20null%2C%20%22fill%22%3A%20true%2C%20%22fillColor%22%3A%20%22%233186cc%22%2C%20%22fillOpacity%22%3A%200.2%2C%20%22fillRule%22%3A%20%22evenodd%22%2C%20%22lineCap%22%3A%20%22round%22%2C%20%22lineJoin%22%3A%20%22round%22%2C%20%22opacity%22%3A%201.0%2C%20%22radius%22%3A%2015%2C%20%22stroke%22%3A%20true%2C%20%22weight%22%3A%203%7D%0A%20%20%20%20%20%20%20%20%20%20%20%20%29.addTo%28map_ce4a04af444b44668d9fbeef7e925f35%29%3B%0A%20%20%20%20%20%20%20%20%0A%20%20%20%20%0A%20%20%20%20%20%20%20%20%20%20%20%20var%20circle_marker_d06708ac9adf409eac75def1efea8ee8%20%3D%20L.circleMarker%28%0A%20%20%20%20%20%20%20%20%20%20%20%20%20%20%20%20%5B37.5385523%2C%20126.8269276%5D%2C%0A%20%20%20%20%20%20%20%20%20%20%20%20%20%20%20%20%7B%22bubblingMouseEvents%22%3A%20true%2C%20%22color%22%3A%20%22%233186cc%22%2C%20%22dashArray%22%3A%20null%2C%20%22dashOffset%22%3A%20null%2C%20%22fill%22%3A%20true%2C%20%22fillColor%22%3A%20%22%233186cc%22%2C%20%22fillOpacity%22%3A%200.2%2C%20%22fillRule%22%3A%20%22evenodd%22%2C%20%22lineCap%22%3A%20%22round%22%2C%20%22lineJoin%22%3A%20%22round%22%2C%20%22opacity%22%3A%201.0%2C%20%22radius%22%3A%2015%2C%20%22stroke%22%3A%20true%2C%20%22weight%22%3A%203%7D%0A%20%20%20%20%20%20%20%20%20%20%20%20%29.addTo%28map_ce4a04af444b44668d9fbeef7e925f35%29%3B%0A%20%20%20%20%20%20%20%20%0A%20%20%20%20%0A%20%20%20%20%20%20%20%20%20%20%20%20var%20circle_marker_12fe21109f3540e8b9151a1fa6a831c0%20%3D%20L.circleMarker%28%0A%20%20%20%20%20%20%20%20%20%20%20%20%20%20%20%20%5B37.6342623%2C%20127.0376951%5D%2C%0A%20%20%20%20%20%20%20%20%20%20%20%20%20%20%20%20%7B%22bubblingMouseEvents%22%3A%20true%2C%20%22color%22%3A%20%22%233186cc%22%2C%20%22dashArray%22%3A%20null%2C%20%22dashOffset%22%3A%20null%2C%20%22fill%22%3A%20true%2C%20%22fillColor%22%3A%20%22%233186cc%22%2C%20%22fillOpacity%22%3A%200.2%2C%20%22fillRule%22%3A%20%22evenodd%22%2C%20%22lineCap%22%3A%20%22round%22%2C%20%22lineJoin%22%3A%20%22round%22%2C%20%22opacity%22%3A%201.0%2C%20%22radius%22%3A%2015%2C%20%22stroke%22%3A%20true%2C%20%22weight%22%3A%203%7D%0A%20%20%20%20%20%20%20%20%20%20%20%20%29.addTo%28map_ce4a04af444b44668d9fbeef7e925f35%29%3B%0A%20%20%20%20%20%20%20%20%0A%20%20%20%20%0A%20%20%20%20%20%20%20%20%20%20%20%20var%20circle_marker_0058d9ca7f9541e1bb9d1c3133624a4b%20%3D%20L.circleMarker%28%0A%20%20%20%20%20%20%20%20%20%20%20%20%20%20%20%20%5B37.4911956%2C%20127.1153371%5D%2C%0A%20%20%20%20%20%20%20%20%20%20%20%20%20%20%20%20%7B%22bubblingMouseEvents%22%3A%20true%2C%20%22color%22%3A%20%22%233186cc%22%2C%20%22dashArray%22%3A%20null%2C%20%22dashOffset%22%3A%20null%2C%20%22fill%22%3A%20true%2C%20%22fillColor%22%3A%20%22%233186cc%22%2C%20%22fillOpacity%22%3A%200.2%2C%20%22fillRule%22%3A%20%22evenodd%22%2C%20%22lineCap%22%3A%20%22round%22%2C%20%22lineJoin%22%3A%20%22round%22%2C%20%22opacity%22%3A%201.0%2C%20%22radius%22%3A%2015%2C%20%22stroke%22%3A%20true%2C%20%22weight%22%3A%203%7D%0A%20%20%20%20%20%20%20%20%20%20%20%20%29.addTo%28map_ce4a04af444b44668d9fbeef7e925f35%29%3B%0A%20%20%20%20%20%20%20%20%0A%20%20%20%20%0A%20%20%20%20%20%20%20%20%20%20%20%20var%20circle_marker_e5860e75f6a4464b8c90242dd09cefdd%20%3D%20L.circleMarker%28%0A%20%20%20%20%20%20%20%20%20%20%20%20%20%20%20%20%5B37.5167682%2C%20126.8546569%5D%2C%0A%20%20%20%20%20%20%20%20%20%20%20%20%20%20%20%20%7B%22bubblingMouseEvents%22%3A%20true%2C%20%22color%22%3A%20%22%233186cc%22%2C%20%22dashArray%22%3A%20null%2C%20%22dashOffset%22%3A%20null%2C%20%22fill%22%3A%20true%2C%20%22fillColor%22%3A%20%22%233186cc%22%2C%20%22fillOpacity%22%3A%200.2%2C%20%22fillRule%22%3A%20%22evenodd%22%2C%20%22lineCap%22%3A%20%22round%22%2C%20%22lineJoin%22%3A%20%22round%22%2C%20%22opacity%22%3A%201.0%2C%20%22radius%22%3A%2015%2C%20%22stroke%22%3A%20true%2C%20%22weight%22%3A%203%7D%0A%20%20%20%20%20%20%20%20%20%20%20%20%29.addTo%28map_ce4a04af444b44668d9fbeef7e925f35%29%3B%0A%20%20%20%20%20%20%20%20%0A%3C/script%3E onload=\"this.contentDocument.open();this.contentDocument.write(    decodeURIComponent(this.getAttribute('data-html')));this.contentDocument.close();\" allowfullscreen webkitallowfullscreen mozallowfullscreen></iframe></div></div>"
      ],
      "text/plain": [
       "<folium.folium.Map at 0x220e0b29240>"
      ]
     },
     "execution_count": 41,
     "metadata": {},
     "output_type": "execute_result"
    }
   ],
   "source": [
    "map = folium.Map(location=[37.5202, 126.975], zoom_start=10.5)\n",
    "\n",
    "for n in oil_price_top10.index:\n",
    "    if pd.notnull(oil_price_top10['lat'][n]):\n",
    "        folium.CircleMarker([oil_price_top10['lat'][n], oil_price_top10['lng'][n]], \n",
    "                                  radius=15, color='#CD3181', \n",
    "                                  fill_color='#CD3181', \n",
    "                                  fill=True).add_to(map)\n",
    "    \n",
    "for n in oil_price_bottom10.index:\n",
    "    if pd.notnull(oil_price_bottom10['lat'][n]): \n",
    "        folium.CircleMarker([oil_price_bottom10['lat'][n], \n",
    "                                  oil_price_bottom10['lng'][n]], \n",
    "                                  radius=15, color='#3186cc', \n",
    "                                  fill_color='#3186cc',\n",
    "                                  fill=True).add_to(map)\n",
    "        \n",
    "map"
   ]
  },
  {
   "cell_type": "code",
   "execution_count": null,
   "id": "155683d2",
=======
   "execution_count": null,
   "id": "a272cdc7",
>>>>>>> c937b9b355e73cec85650f583ac4c9651fb2dee4
   "metadata": {},
   "outputs": [],
   "source": []
  }
 ],
 "metadata": {
  "kernelspec": {
   "display_name": "Python 3 (ipykernel)",
   "language": "python",
   "name": "python3"
  },
  "language_info": {
   "codemirror_mode": {
    "name": "ipython",
    "version": 3
   },
   "file_extension": ".py",
   "mimetype": "text/x-python",
   "name": "python",
   "nbconvert_exporter": "python",
   "pygments_lexer": "ipython3",
<<<<<<< HEAD
   "version": "3.10.2"
=======
   "version": "3.9.9"
>>>>>>> c937b9b355e73cec85650f583ac4c9651fb2dee4
  }
 },
 "nbformat": 4,
 "nbformat_minor": 5
}
