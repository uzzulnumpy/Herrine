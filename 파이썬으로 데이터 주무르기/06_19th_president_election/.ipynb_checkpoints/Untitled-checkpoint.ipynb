{
 "cells": [
  {
   "cell_type": "markdown",
   "id": "7b99fe6a",
   "metadata": {},
   "source": [
    "# 6장 19대 대선 자료 분석하기"
   ]
  },
  {
   "cell_type": "markdown",
   "id": "412d8222",
   "metadata": {},
   "source": [
    "## 6-1. Selenium과 Beautiful Soup을 이용한 데이터 획득 준비 작업"
   ]
  },
  {
   "cell_type": "code",
   "execution_count": 20,
   "id": "b45cecd2",
   "metadata": {},
   "outputs": [],
   "source": [
    "import pandas as pd\n",
    "import numpy as np\n",
    "\n",
    "import platform\n",
    "import matplotlib.pyplot as plt\n",
    "\n",
    "%matplotlib inline\n",
    "\n",
    "plt.rcParams['font.family'] = 'Malgun Gothic'"
   ]
  },
  {
   "cell_type": "code",
   "execution_count": 21,
   "id": "c95abc83",
   "metadata": {},
   "outputs": [],
   "source": [
    "from selenium import webdriver\n",
    "import time"
   ]
  },
  {
   "cell_type": "code",
   "execution_count": 22,
   "id": "6720b544",
   "metadata": {},
   "outputs": [],
   "source": [
    "driver = webdriver.Chrome('./chromedriver')\n",
    "driver.get(\"http://info.nec.go.kr/main/showDocument.xhtml?electionId=0000000000&topMenuId=VC&secondMenuId=VCCP09\")"
   ]
  },
  {
   "cell_type": "code",
   "execution_count": 23,
   "id": "f48691e9",
   "metadata": {},
   "outputs": [],
   "source": [
    "driver.find_element_by_id(\"electionType1\").click()"
   ]
  },
  {
   "cell_type": "code",
   "execution_count": 24,
   "id": "3a731c78",
   "metadata": {},
   "outputs": [],
   "source": [
    "driver.find_element_by_id(\"electionName\").send_keys(\"제19대\")"
   ]
  },
  {
   "cell_type": "code",
   "execution_count": 25,
   "id": "db0591d8",
   "metadata": {},
   "outputs": [],
   "source": [
    "driver.find_element_by_id(\"electionCode\").send_keys(\"대통령선거\")"
   ]
  },
  {
   "cell_type": "code",
   "execution_count": 26,
   "id": "bf84fa07",
   "metadata": {},
   "outputs": [
    {
     "data": {
      "text/plain": [
       "[]"
      ]
     },
     "execution_count": 26,
     "metadata": {},
     "output_type": "execute_result"
    }
   ],
   "source": [
    "sido_list_raw = driver.find_element_by_xpath(\"\"\"//*[@id=\"cityCode\"]\"\"\")\n",
    "sido_list = sido_list_raw.find_elements_by_tag_name(\"option\")\n",
    "sido_names_values = [option.text for option in sido_list]\n",
    "sido_names_values = sido_names_values[2:]\n",
    "sido_names_values"
   ]
  },
  {
   "cell_type": "markdown",
   "id": "4225c610",
   "metadata": {},
   "source": [
    "## 6-2. 19대 대선 개표 결과 데이터 획득하기"
   ]
  },
  {
   "cell_type": "code",
   "execution_count": 27,
   "id": "72e55bc4",
   "metadata": {},
   "outputs": [],
   "source": [
    "import re\n",
    "\n",
    "def get_num(tmp):\n",
    "    return float(re.split('\\(', tmp)[0].replace(',',''))"
   ]
  },
  {
   "cell_type": "code",
   "execution_count": 28,
   "id": "878e7dd6",
   "metadata": {},
   "outputs": [],
   "source": [
    "from selenium.webdriver.common.by import By\n",
    "from selenium.webdriver.support.ui import WebDriverWait\n",
    "from selenium.webdriver.support import expected_conditions as EC\n",
    "\n",
    "\n",
    "def move_sido(name):\n",
    "    element = driver.find_element_by_id(\"cityCode\")\n",
    "    element.send_keys(name)\n",
    "    make_xpath = \"\"\"//*[@id=\"searchBtn\"]\"\"\"\n",
    "    driver.find_element_by_xpath(make_xpath).click() "
   ]
  },
  {
   "cell_type": "code",
   "execution_count": 29,
   "id": "b92b1bad",
   "metadata": {},
   "outputs": [],
   "source": [
    "def append_data(df, sido_name, data):\n",
    "    for each in df[0].values[1:]:\n",
    "        data['광역시도'].append(sido_name)\n",
    "        data['시군'].append(each[0])\n",
    "        data['pop'].append(get_num(each[2]))\n",
    "        data['moon'].append(get_num(each[3]))\n",
    "        data['hong'].append(get_num(each[4]))\n",
    "        data['ahn'].append(get_num(each[5]))"
   ]
  },
  {
   "cell_type": "code",
   "execution_count": 30,
   "id": "9a8fde1f",
   "metadata": {},
   "outputs": [],
   "source": [
    "election_result_raw = {'광역시도' : [],\n",
    "                       '시군' : [],\n",
    "                       'pop' : [],\n",
    "                       'moon' : [],\n",
    "                       'hong' : [],    \n",
    "                       'ahn' : [] }"
   ]
  },
  {
   "cell_type": "code",
   "execution_count": 31,
   "id": "b7bd260c",
   "metadata": {},
   "outputs": [],
   "source": [
    "from bs4 import BeautifulSoup\n",
    "\n",
    "for each_sido in sido_names_values:\n",
    "    move_sido(each_sido)\n",
    "    \n",
    "    html = driver.page_source\n",
    "    soup = BeautifulSoup(html, 'html.parser')\n",
    "    table = soup.find('table')\n",
    "    \n",
    "    df = pd.read_html(str(table))\n",
    "    \n",
    "    append_data(df, each_sido, election_result_raw)"
   ]
  },
  {
   "cell_type": "code",
   "execution_count": 32,
   "id": "f60ac159",
   "metadata": {},
   "outputs": [
    {
     "data": {
      "text/html": [
       "<div>\n",
       "<style scoped>\n",
       "    .dataframe tbody tr th:only-of-type {\n",
       "        vertical-align: middle;\n",
       "    }\n",
       "\n",
       "    .dataframe tbody tr th {\n",
       "        vertical-align: top;\n",
       "    }\n",
       "\n",
       "    .dataframe thead th {\n",
       "        text-align: right;\n",
       "    }\n",
       "</style>\n",
       "<table border=\"1\" class=\"dataframe\">\n",
       "  <thead>\n",
       "    <tr style=\"text-align: right;\">\n",
       "      <th></th>\n",
       "      <th>광역시도</th>\n",
       "      <th>시군</th>\n",
       "      <th>pop</th>\n",
       "      <th>moon</th>\n",
       "      <th>hong</th>\n",
       "      <th>ahn</th>\n",
       "    </tr>\n",
       "  </thead>\n",
       "  <tbody>\n",
       "  </tbody>\n",
       "</table>\n",
       "</div>"
      ],
      "text/plain": [
       "Empty DataFrame\n",
       "Columns: [광역시도, 시군, pop, moon, hong, ahn]\n",
       "Index: []"
      ]
     },
     "execution_count": 32,
     "metadata": {},
     "output_type": "execute_result"
    }
   ],
   "source": [
    "election_result = pd.DataFrame(election_result_raw, \n",
    "                               columns=['광역시도', '시군', 'pop', 'moon','hong','ahn'])\n",
    "election_result"
   ]
  },
  {
   "cell_type": "code",
   "execution_count": 33,
   "id": "3d11675f",
   "metadata": {},
   "outputs": [],
   "source": [
    "election_result.to_csv('../data/05. election_result.csv', encoding='utf-8', sep=',')"
   ]
  },
  {
   "cell_type": "code",
   "execution_count": null,
   "id": "cb1ddbe3",
   "metadata": {},
   "outputs": [],
   "source": []
  }
 ],
 "metadata": {
  "kernelspec": {
   "display_name": "Python 3 (ipykernel)",
   "language": "python",
   "name": "python3"
  },
  "language_info": {
   "codemirror_mode": {
    "name": "ipython",
    "version": 3
   },
   "file_extension": ".py",
   "mimetype": "text/x-python",
   "name": "python",
   "nbconvert_exporter": "python",
   "pygments_lexer": "ipython3",
   "version": "3.9.9"
  }
 },
 "nbformat": 4,
 "nbformat_minor": 5
}
