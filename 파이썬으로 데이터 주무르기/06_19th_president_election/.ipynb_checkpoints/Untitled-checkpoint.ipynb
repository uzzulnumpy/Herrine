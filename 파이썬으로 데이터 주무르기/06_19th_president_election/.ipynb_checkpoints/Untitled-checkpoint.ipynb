{
 "cells": [
  {
   "cell_type": "markdown",
   "id": "7b99fe6a",
   "metadata": {},
   "source": [
    "# 6장 19대 대선 자료 분석하기"
   ]
  },
  {
   "cell_type": "markdown",
   "id": "412d8222",
   "metadata": {},
   "source": [
    "## 6-1. Selenium과 Beautiful Soup을 이용한 데이터 획득 준비 작업"
   ]
  },
  {
   "cell_type": "code",
   "execution_count": 219,
   "id": "b45cecd2",
   "metadata": {},
   "outputs": [],
   "source": [
    "import pandas as pd\n",
    "import numpy as np\n",
    "\n",
    "import platform\n",
    "import matplotlib.pyplot as plt\n",
    "\n",
    "%matplotlib inline\n",
    "\n",
    "plt.rcParams['font.family'] = 'Malgun Gothic'"
   ]
  },
  {
   "cell_type": "code",
   "execution_count": 220,
   "id": "c95abc83",
   "metadata": {},
   "outputs": [],
   "source": [
    "from selenium import webdriver\n",
    "import time"
   ]
  },
  {
   "cell_type": "code",
   "execution_count": 214,
   "id": "6720b544",
   "metadata": {
    "scrolled": true
   },
   "outputs": [
    {
     "name": "stderr",
     "output_type": "stream",
     "text": [
      "C:\\Users\\april\\AppData\\Local\\Temp\\ipykernel_39040\\1020690626.py:1: DeprecationWarning: executable_path has been deprecated, please pass in a Service object\n",
      "  driver = webdriver.Chrome('./chromedriver')\n"
     ]
    }
   ],
   "source": [
    "driver = webdriver.Chrome('./chromedriver')\n",
    "driver.get(\"http://info.nec.go.kr/main/showDocument.xhtml?electionId=0000000000&topMenuId=VC&secondMenuId=VCCP09\")"
   ]
  },
  {
   "cell_type": "code",
   "execution_count": 215,
   "id": "1c69ca75",
   "metadata": {},
   "outputs": [
    {
     "name": "stderr",
     "output_type": "stream",
     "text": [
      "C:\\Users\\april\\AppData\\Local\\Temp\\ipykernel_39040\\68580914.py:1: DeprecationWarning: find_element_by_* commands are deprecated. Please use find_element() instead\n",
      "  driver.find_element_by_id(\"electionType1\").click()\n"
     ]
    }
   ],
   "source": [
    "driver.find_element_by_id(\"electionType1\").click()"
   ]
  },
  {
   "cell_type": "code",
   "execution_count": 216,
   "id": "461f534d",
   "metadata": {},
   "outputs": [
    {
     "name": "stderr",
     "output_type": "stream",
     "text": [
      "C:\\Users\\april\\AppData\\Local\\Temp\\ipykernel_39040\\1885009769.py:1: DeprecationWarning: find_element_by_* commands are deprecated. Please use find_element() instead\n",
      "  driver.find_element_by_id(\"electionName\").send_keys(\"제19대\")\n"
     ]
    }
   ],
   "source": [
    "driver.find_element_by_id(\"electionName\").send_keys(\"제19대\")"
   ]
  },
  {
   "cell_type": "code",
   "execution_count": 217,
   "id": "a260feec",
   "metadata": {
    "scrolled": true
   },
   "outputs": [
    {
     "name": "stderr",
     "output_type": "stream",
     "text": [
      "C:\\Users\\april\\AppData\\Local\\Temp\\ipykernel_39040\\1290631384.py:1: DeprecationWarning: find_element_by_* commands are deprecated. Please use find_element() instead\n",
      "  driver.find_element_by_id(\"electionCode\").send_keys(\"대통령선거\")\n"
     ]
    }
   ],
   "source": [
    "driver.find_element_by_id(\"electionCode\").send_keys(\"대통령선거\")"
   ]
  },
  {
   "cell_type": "code",
   "execution_count": 218,
   "id": "bf84fa07",
   "metadata": {},
   "outputs": [
    {
     "name": "stderr",
     "output_type": "stream",
     "text": [
      "C:\\Users\\april\\AppData\\Local\\Temp\\ipykernel_39040\\2909572938.py:1: DeprecationWarning: find_element_by_xpath is deprecated. Please use find_element(by=By.XPATH, value=xpath) instead\n",
      "  sido_list_raw = driver.find_element_by_xpath(\"\"\"//*[@id=\"cityCode\"]\"\"\")\n"
     ]
    },
    {
     "data": {
      "text/plain": [
       "['서울특별시',\n",
       " '부산광역시',\n",
       " '대구광역시',\n",
       " '인천광역시',\n",
       " '광주광역시',\n",
       " '대전광역시',\n",
       " '울산광역시',\n",
       " '세종특별자치시',\n",
       " '경기도',\n",
       " '강원도',\n",
       " '충청북도',\n",
       " '충청남도',\n",
       " '전라북도',\n",
       " '전라남도',\n",
       " '경상북도',\n",
       " '경상남도',\n",
       " '제주특별자치도']"
      ]
     },
     "execution_count": 218,
     "metadata": {},
     "output_type": "execute_result"
    }
   ],
   "source": [
    "sido_list_raw = driver.find_element_by_xpath(\"\"\"//*[@id=\"cityCode\"]\"\"\")\n",
    "sido_list = sido_list_raw.find_elements_by_tag_name(\"option\")\n",
    "sido_names_values = [option.text for option in sido_list]\n",
    "sido_names_values = sido_names_values[2:]\n",
    "sido_names_values"
   ]
  },
  {
   "cell_type": "markdown",
   "id": "1dd1d912",
   "metadata": {},
   "source": [
    "## 6-2. 19대 대선 개표 결과 데이터 획득하기"
   ]
  },
  {
   "cell_type": "code",
   "execution_count": 208,
   "id": "666f6346",
   "metadata": {},
   "outputs": [],
   "source": [
    "element = driver.find_element_by_id(\"cityCode\")\n",
    "element.send_keys(sido_names_values[0])"
   ]
  },
  {
   "cell_type": "code",
   "execution_count": 209,
   "id": "93bba653",
   "metadata": {
    "scrolled": false
   },
   "outputs": [],
   "source": [
    "sigun_list_raw = driver.find_element_by_xpath(\"\"\"//*[@id=\"townCode\"]\"\"\")\n",
    "sigun_list = sigun_list_raw.find_elements_by_tag_name(\"option\")\n",
    "sigun_names_values = [option.text for option in sigun_list]\n",
    "sigun_names_values = sigun_names_values[1:]\n",
    "sigun_names_values"
   ]
  },
  {
   "cell_type": "code",
   "execution_count": 210,
   "id": "45c34ced",
   "metadata": {},
   "outputs": [],
   "source": [
    "element = driver.find_element_by_id(\"townCode\")\n",
    "element.send_keys(sigun_names_values[0])"
   ]
  },
  {
   "cell_type": "code",
   "execution_count": 181,
   "id": "f7874b9d",
   "metadata": {},
   "outputs": [],
   "source": [
    "driver.find_element(by=By.XPATH, value=\"\"\"//*[@id=\"spanSubmit\"]/input\"\"\").click()"
   ]
  },
  {
   "cell_type": "code",
   "execution_count": 182,
   "id": "c398bc98",
   "metadata": {},
   "outputs": [],
   "source": [
    "# from bs4 import BeautifulSoup\n",
    "# html = driver.page_source\n",
    "# soup = BeautifulSoup(html, 'html.parser')"
   ]
  },
  {
   "cell_type": "code",
   "execution_count": 183,
   "id": "c47662e1",
   "metadata": {},
   "outputs": [
    {
     "data": {
      "text/plain": [
       "[<td class=\"alignR\">100,629</td>,\n",
       " <td class=\"alignR\">46,130</td>,\n",
       " <td class=\"alignR\">49,172</td>,\n",
       " <td class=\"alignR\">3,115</td>]"
      ]
     },
     "execution_count": 183,
     "metadata": {},
     "output_type": "execute_result"
    }
   ],
   "source": [
    "# # 원하는 값 얻는 연습\n",
    "# tmp = soup.find_all('td', 'alignR')\n",
    "# tmp[1:5]"
   ]
  },
  {
   "cell_type": "markdown",
   "id": "4225c610",
   "metadata": {},
   "source": [
    "## 6-2. 19대 대선 개표 결과 데이터 획득하기"
   ]
  },
  {
   "cell_type": "code",
   "execution_count": 196,
   "id": "781e195b",
   "metadata": {},
   "outputs": [],
   "source": [
    "from selenium.webdriver.common.by import By\n",
    "from selenium.webdriver.support.ui import WebDriverWait\n",
    "from selenium.webdriver.support import expected_conditions as EC\n",
    "\n",
    "wait = WebDriverWait(driver, 10)\n",
    "\n",
    "def move_sido(name):\n",
    "    element = driver.find_element_by_id(\"cityCode\")\n",
    "    element.send_keys(name)\n",
    "    make_xpath = \"\"\"//*[@id=\"searchBtn\"]\"\"\"\n",
    "    wait.until(EC.element_to_be_clickable((By.XPATH,make_xpath)))\n",
    "    driver.find_element_by_xpath(make_xpath).click() "
   ]
  },
  {
   "cell_type": "code",
   "execution_count": 197,
   "id": "4e2d3904",
   "metadata": {},
   "outputs": [],
   "source": [
    "def append_data(df, sido_name, data):\n",
    "    for each in df[0].values[1:]:\n",
    "        data['광역시도'].append(sido_name)\n",
    "        data['시군'].append(each[0])\n",
    "        data['pop'].append(get_num(each[2]))\n",
    "        data['moon'].append(get_num(each[3]))\n",
    "        data['hong'].append(get_num(each[4]))\n",
    "        data['ahn'].append(get_num(each[5]))"
   ]
  },
  {
   "cell_type": "code",
   "execution_count": 198,
   "id": "eea48029",
   "metadata": {},
   "outputs": [],
   "source": [
    "election_result_raw = {'광역시도' : [],\n",
    "                       '시군' : [],\n",
    "                       'pop' : [],\n",
    "                       'moon' : [],\n",
    "                       'hong' : [],    \n",
    "                       'ahn' : [] }"
   ]
  },
  {
   "cell_type": "code",
   "execution_count": 199,
   "id": "a769704f",
   "metadata": {},
   "outputs": [
    {
     "name": "stderr",
     "output_type": "stream",
     "text": [
      "C:\\Users\\april\\AppData\\Local\\Temp\\ipykernel_39040\\3943248875.py:8: DeprecationWarning: find_element_by_* commands are deprecated. Please use find_element() instead\n",
      "  element = driver.find_element_by_id(\"cityCode\")\n"
     ]
    },
    {
     "ename": "TimeoutException",
     "evalue": "Message: \nStacktrace:\nBacktrace:\n\tOrdinal0 [0x00B29943+2595139]\n\tOrdinal0 [0x00ABC9F1+2148849]\n\tOrdinal0 [0x009B4528+1066280]\n\tOrdinal0 [0x009E0FD4+1249236]\n\tOrdinal0 [0x009E11CB+1249739]\n\tOrdinal0 [0x00A0D812+1431570]\n\tOrdinal0 [0x009FBA34+1358388]\n\tOrdinal0 [0x00A0BAF2+1424114]\n\tOrdinal0 [0x009FB806+1357830]\n\tOrdinal0 [0x009D6086+1204358]\n\tOrdinal0 [0x009D6F96+1208214]\n\tGetHandleVerifier [0x00CCB232+1658114]\n\tGetHandleVerifier [0x00D8312C+2411516]\n\tGetHandleVerifier [0x00BBF261+560433]\n\tGetHandleVerifier [0x00BBE366+556598]\n\tOrdinal0 [0x00AC286B+2173035]\n\tOrdinal0 [0x00AC75F8+2192888]\n\tOrdinal0 [0x00AC76E5+2193125]\n\tOrdinal0 [0x00AD11FC+2232828]\n\tBaseThreadInitThunk [0x74F96739+25]\n\tRtlGetFullPathName_UEx [0x76F18E7F+1215]\n\tRtlGetFullPathName_UEx [0x76F18E4D+1165]\n",
     "output_type": "error",
     "traceback": [
      "\u001b[1;31m---------------------------------------------------------------------------\u001b[0m",
      "\u001b[1;31mTimeoutException\u001b[0m                          Traceback (most recent call last)",
      "Input \u001b[1;32mIn [199]\u001b[0m, in \u001b[0;36m<cell line: 3>\u001b[1;34m()\u001b[0m\n\u001b[0;32m      1\u001b[0m \u001b[38;5;28;01mfrom\u001b[39;00m \u001b[38;5;21;01mbs4\u001b[39;00m \u001b[38;5;28;01mimport\u001b[39;00m BeautifulSoup\n\u001b[0;32m      3\u001b[0m \u001b[38;5;28;01mfor\u001b[39;00m each_sido \u001b[38;5;129;01min\u001b[39;00m sido_names_values:\n\u001b[1;32m----> 4\u001b[0m     \u001b[43mmove_sido\u001b[49m\u001b[43m(\u001b[49m\u001b[43meach_sido\u001b[49m\u001b[43m)\u001b[49m\n\u001b[0;32m      6\u001b[0m     html \u001b[38;5;241m=\u001b[39m driver\u001b[38;5;241m.\u001b[39mpage_source\n\u001b[0;32m      7\u001b[0m     soup \u001b[38;5;241m=\u001b[39m BeautifulSoup(html, \u001b[38;5;124m'\u001b[39m\u001b[38;5;124mhtml.parser\u001b[39m\u001b[38;5;124m'\u001b[39m)\n",
      "Input \u001b[1;32mIn [196]\u001b[0m, in \u001b[0;36mmove_sido\u001b[1;34m(name)\u001b[0m\n\u001b[0;32m      9\u001b[0m element\u001b[38;5;241m.\u001b[39msend_keys(name)\n\u001b[0;32m     10\u001b[0m make_xpath \u001b[38;5;241m=\u001b[39m \u001b[38;5;124m\"\"\"\u001b[39m\u001b[38;5;124m//*[@id=\u001b[39m\u001b[38;5;124m\"\u001b[39m\u001b[38;5;124msearchBtn\u001b[39m\u001b[38;5;124m\"\u001b[39m\u001b[38;5;124m]\u001b[39m\u001b[38;5;124m\"\"\"\u001b[39m\n\u001b[1;32m---> 11\u001b[0m \u001b[43mwait\u001b[49m\u001b[38;5;241;43m.\u001b[39;49m\u001b[43muntil\u001b[49m\u001b[43m(\u001b[49m\u001b[43mEC\u001b[49m\u001b[38;5;241;43m.\u001b[39;49m\u001b[43melement_to_be_clickable\u001b[49m\u001b[43m(\u001b[49m\u001b[43m(\u001b[49m\u001b[43mBy\u001b[49m\u001b[38;5;241;43m.\u001b[39;49m\u001b[43mXPATH\u001b[49m\u001b[43m,\u001b[49m\u001b[43mmake_xpath\u001b[49m\u001b[43m)\u001b[49m\u001b[43m)\u001b[49m\u001b[43m)\u001b[49m\n\u001b[0;32m     12\u001b[0m driver\u001b[38;5;241m.\u001b[39mfind_element_by_xpath(make_xpath)\u001b[38;5;241m.\u001b[39mclick()\n",
      "File \u001b[1;32m~\\AppData\\Local\\Programs\\Python\\Python310\\lib\\site-packages\\selenium\\webdriver\\support\\wait.py:89\u001b[0m, in \u001b[0;36mWebDriverWait.until\u001b[1;34m(self, method, message)\u001b[0m\n\u001b[0;32m     87\u001b[0m     \u001b[38;5;28;01mif\u001b[39;00m time\u001b[38;5;241m.\u001b[39mtime() \u001b[38;5;241m>\u001b[39m end_time:\n\u001b[0;32m     88\u001b[0m         \u001b[38;5;28;01mbreak\u001b[39;00m\n\u001b[1;32m---> 89\u001b[0m \u001b[38;5;28;01mraise\u001b[39;00m TimeoutException(message, screen, stacktrace)\n",
      "\u001b[1;31mTimeoutException\u001b[0m: Message: \nStacktrace:\nBacktrace:\n\tOrdinal0 [0x00B29943+2595139]\n\tOrdinal0 [0x00ABC9F1+2148849]\n\tOrdinal0 [0x009B4528+1066280]\n\tOrdinal0 [0x009E0FD4+1249236]\n\tOrdinal0 [0x009E11CB+1249739]\n\tOrdinal0 [0x00A0D812+1431570]\n\tOrdinal0 [0x009FBA34+1358388]\n\tOrdinal0 [0x00A0BAF2+1424114]\n\tOrdinal0 [0x009FB806+1357830]\n\tOrdinal0 [0x009D6086+1204358]\n\tOrdinal0 [0x009D6F96+1208214]\n\tGetHandleVerifier [0x00CCB232+1658114]\n\tGetHandleVerifier [0x00D8312C+2411516]\n\tGetHandleVerifier [0x00BBF261+560433]\n\tGetHandleVerifier [0x00BBE366+556598]\n\tOrdinal0 [0x00AC286B+2173035]\n\tOrdinal0 [0x00AC75F8+2192888]\n\tOrdinal0 [0x00AC76E5+2193125]\n\tOrdinal0 [0x00AD11FC+2232828]\n\tBaseThreadInitThunk [0x74F96739+25]\n\tRtlGetFullPathName_UEx [0x76F18E7F+1215]\n\tRtlGetFullPathName_UEx [0x76F18E4D+1165]\n"
     ]
    }
   ],
   "source": [
    "from bs4 import BeautifulSoup\n",
    "\n",
    "for each_sido in sido_names_values:\n",
    "    move_sido(each_sido)\n",
    "    \n",
    "    html = driver.page_source\n",
    "    soup = BeautifulSoup(html, 'html.parser')\n",
    "    table = soup.find('table')\n",
    "    \n",
    "    df = pd.read_html(str(table))\n",
    "    \n",
    "    append_data(df, each_sido, election_result_raw)"
   ]
  },
  {
   "cell_type": "code",
   "execution_count": 155,
   "id": "72e55bc4",
   "metadata": {},
   "outputs": [
    {
     "data": {
      "application/vnd.jupyter.widget-view+json": {
       "model_id": "4803e518a2434e1f9d94d8f6a05bd052",
       "version_major": 2,
       "version_minor": 0
      },
      "text/plain": [
       "  0%|          | 0/17 [00:00<?, ?it/s]"
      ]
     },
     "metadata": {},
     "output_type": "display_data"
    },
    {
     "name": "stderr",
     "output_type": "stream",
     "text": [
      "C:\\Users\\april\\AppData\\Local\\Temp\\ipykernel_39040\\2273891970.py:7: DeprecationWarning: find_element_by_* commands are deprecated. Please use find_element() instead\n",
      "  element = driver.find_element_by_id(\"cityCode\")\n",
      "C:\\Users\\april\\AppData\\Local\\Temp\\ipykernel_39040\\2273891970.py:12: DeprecationWarning: find_element_by_xpath is deprecated. Please use find_element(by=By.XPATH, value=xpath) instead\n",
      "  sigun_list_raw = driver.find_element_by_xpath(\"\"\"//*[@id=\"townCode\"]\"\"\")\n",
      "C:\\Users\\april\\AppData\\Local\\Programs\\Python\\Python310\\lib\\site-packages\\selenium\\webdriver\\remote\\webelement.py:359: UserWarning: find_elements_by_tag_name is deprecated. Please use find_elements(by=By.TAG_NAME, value=name) instead\n",
      "  warnings.warn(\"find_elements_by_tag_name is deprecated. Please use find_elements(by=By.TAG_NAME, value=name) instead\")\n"
     ]
    }
   ],
   "source": [
    "from tqdm import notebook\n",
    "\n",
    "sido_name_list = []\n",
    "sigun_name_list = []\n",
    "\n",
    "for sido_value in notebook.tqdm(sido_names_values):\n",
    "    element = driver.find_element_by_id(\"cityCode\")\n",
    "    element.send_keys(sido_value)\n",
    "\n",
    "    time.sleep(1)\n",
    "\n",
    "    sigun_list_raw = driver.find_element_by_xpath(\"\"\"//*[@id=\"townCode\"]\"\"\")\n",
    "    sigun_list = sigun_list_raw.find_elements_by_tag_name(\"option\")\n",
    "\n",
    "    sigun_names_values = [option.text for option in sigun_list]\n",
    "    sigun_names_values = sigun_names_values[1:]\n",
    "\n",
    "    for sigun_value in sigun_names_values:\n",
    "        sido_name_list.append(sido_value)\n",
    "        sigun_name_list.append(sigun_value)"
   ]
  },
  {
   "cell_type": "code",
   "execution_count": 156,
   "id": "cb1ddbe3",
   "metadata": {},
   "outputs": [
    {
     "data": {
      "text/html": [
       "<div>\n",
       "<style scoped>\n",
       "    .dataframe tbody tr th:only-of-type {\n",
       "        vertical-align: middle;\n",
       "    }\n",
       "\n",
       "    .dataframe tbody tr th {\n",
       "        vertical-align: top;\n",
       "    }\n",
       "\n",
       "    .dataframe thead th {\n",
       "        text-align: right;\n",
       "    }\n",
       "</style>\n",
       "<table border=\"1\" class=\"dataframe\">\n",
       "  <thead>\n",
       "    <tr style=\"text-align: right;\">\n",
       "      <th></th>\n",
       "      <th>광역시도</th>\n",
       "      <th>시군</th>\n",
       "    </tr>\n",
       "  </thead>\n",
       "  <tbody>\n",
       "    <tr>\n",
       "      <th>0</th>\n",
       "      <td>서울특별시</td>\n",
       "      <td>종로구</td>\n",
       "    </tr>\n",
       "    <tr>\n",
       "      <th>1</th>\n",
       "      <td>서울특별시</td>\n",
       "      <td>중구</td>\n",
       "    </tr>\n",
       "    <tr>\n",
       "      <th>2</th>\n",
       "      <td>서울특별시</td>\n",
       "      <td>용산구</td>\n",
       "    </tr>\n",
       "    <tr>\n",
       "      <th>3</th>\n",
       "      <td>서울특별시</td>\n",
       "      <td>성동구</td>\n",
       "    </tr>\n",
       "    <tr>\n",
       "      <th>4</th>\n",
       "      <td>서울특별시</td>\n",
       "      <td>광진구</td>\n",
       "    </tr>\n",
       "  </tbody>\n",
       "</table>\n",
       "</div>"
      ],
      "text/plain": [
       "    광역시도   시군\n",
       "0  서울특별시  종로구\n",
       "1  서울특별시   중구\n",
       "2  서울특별시  용산구\n",
       "3  서울특별시  성동구\n",
       "4  서울특별시  광진구"
      ]
     },
     "execution_count": 156,
     "metadata": {},
     "output_type": "execute_result"
    }
   ],
   "source": [
    "election_result = pd.DataFrame({'광역시도':sido_name_list, '시군':sigun_name_list})\n",
    "election_result.head()"
   ]
  },
  {
   "cell_type": "code",
   "execution_count": 157,
   "id": "6f385f43",
   "metadata": {},
   "outputs": [],
   "source": [
    "def get_vote_info(n):\n",
    "    html = driver.page_source\n",
    "    soup = BeautifulSoup(html, 'lxml')\n",
    "    \n",
    "    tmp = soup.find_all('td', 'alignR')\n",
    "    tmp_values = [float(tmp_val.get_text().replace(',', '')) for tmp_val in tmp[1:5]]\n",
    "    \n",
    "    pop[n] = tmp_values[0]\n",
    "    moon[n] = tmp_values[1]\n",
    "    hong[n] = tmp_values[2]\n",
    "    ahn[n] = tmp_values[3]"
   ]
  },
  {
   "cell_type": "code",
   "execution_count": 158,
   "id": "856aead3",
   "metadata": {},
   "outputs": [],
   "source": [
    "import numpy as np\n",
    "\n",
    "def fail_procedure(n):\n",
    "    pop[n] = np.nan\n",
    "    moon[n] = np.nan\n",
    "    hong[n] = np.nan\n",
    "    ahn[n] = np.nan"
   ]
  },
  {
   "cell_type": "code",
   "execution_count": 159,
   "id": "24db5bc5",
   "metadata": {},
   "outputs": [
    {
     "data": {
      "text/plain": [
       "(250, 250, 250, 250)"
      ]
     },
     "execution_count": 159,
     "metadata": {},
     "output_type": "execute_result"
    }
   ],
   "source": [
    "# 에러 대응\n",
    "\n",
    "pop = [np.nan]*len(election_result)\n",
    "moon = [np.nan]*len(election_result)\n",
    "hong = [np.nan]*len(election_result)\n",
    "ahn = [np.nan]*len(election_result)\n",
    "\n",
    "len(pop), len(moon), len(hong), len(ahn)"
   ]
  },
  {
   "cell_type": "code",
   "execution_count": 160,
   "id": "c6cf759a",
   "metadata": {},
   "outputs": [
    {
     "data": {
      "application/vnd.jupyter.widget-view+json": {
       "model_id": "e6104f838e0f45d280e036012717e365",
       "version_major": 2,
       "version_minor": 0
      },
      "text/plain": [
       "  0%|          | 0/250 [00:00<?, ?it/s]"
      ]
     },
     "metadata": {},
     "output_type": "display_data"
    },
    {
     "name": "stderr",
     "output_type": "stream",
     "text": [
      "C:\\Users\\april\\AppData\\Local\\Temp\\ipykernel_39040\\1452947728.py:3: DeprecationWarning: find_element_by_* commands are deprecated. Please use find_element() instead\n",
      "  element = driver.find_element_by_id(\"cityCode\")\n",
      "C:\\Users\\april\\AppData\\Local\\Temp\\ipykernel_39040\\1452947728.py:8: DeprecationWarning: find_element_by_* commands are deprecated. Please use find_element() instead\n",
      "  element = driver.find_element_by_id(\"townCode\")\n",
      "C:\\Users\\april\\AppData\\Local\\Temp\\ipykernel_39040\\1452947728.py:11: DeprecationWarning: find_element_by_xpath is deprecated. Please use find_element(by=By.XPATH, value=xpath) instead\n",
      "  driver.find_element_by_xpath(\"\"\"//*[@id=\"spanSubmit\"]/input\"\"\").click()\n"
     ]
    },
    {
     "name": "stdout",
     "output_type": "stream",
     "text": [
      "--- Error ---\n",
      "--- Error ---\n",
      "--- Error ---\n",
      "--- Error ---\n",
      "--- Error ---\n",
      "--- Error ---\n",
      "--- Error ---\n",
      "--- Error ---\n",
      "--- Error ---\n",
      "--- Error ---\n",
      "--- Error ---\n",
      "--- Error ---\n",
      "--- Error ---\n",
      "--- Error ---\n",
      "--- Error ---\n",
      "--- Error ---\n",
      "--- Error ---\n",
      "--- Error ---\n",
      "--- Error ---\n",
      "--- Error ---\n",
      "--- Error ---\n",
      "--- Error ---\n",
      "--- Error ---\n",
      "--- Error ---\n",
      "--- Error ---\n",
      "--- Error ---\n",
      "--- Error ---\n",
      "--- Error ---\n",
      "--- Error ---\n",
      "--- Error ---\n",
      "--- Error ---\n",
      "--- Error ---\n",
      "--- Error ---\n",
      "--- Error ---\n",
      "--- Error ---\n",
      "--- Error ---\n",
      "--- Error ---\n",
      "--- Error ---\n",
      "--- Error ---\n",
      "--- Error ---\n",
      "--- Error ---\n",
      "--- Error ---\n",
      "--- Error ---\n",
      "--- Error ---\n",
      "--- Error ---\n",
      "--- Error ---\n",
      "--- Error ---\n",
      "--- Error ---\n",
      "--- Error ---\n",
      "--- Error ---\n",
      "--- Error ---\n",
      "--- Error ---\n",
      "--- Error ---\n",
      "--- Error ---\n",
      "--- Error ---\n",
      "--- Error ---\n",
      "--- Error ---\n",
      "--- Error ---\n",
      "--- Error ---\n",
      "--- Error ---\n",
      "--- Error ---\n",
      "--- Error ---\n",
      "--- Error ---\n",
      "--- Error ---\n",
      "--- Error ---\n",
      "--- Error ---\n",
      "--- Error ---\n",
      "--- Error ---\n",
      "--- Error ---\n",
      "--- Error ---\n",
      "--- Error ---\n",
      "--- Error ---\n",
      "--- Error ---\n",
      "--- Error ---\n",
      "--- Error ---\n",
      "--- Error ---\n",
      "--- Error ---\n",
      "--- Error ---\n",
      "--- Error ---\n",
      "--- Error ---\n",
      "--- Error ---\n",
      "--- Error ---\n",
      "--- Error ---\n",
      "--- Error ---\n",
      "--- Error ---\n",
      "--- Error ---\n",
      "--- Error ---\n",
      "--- Error ---\n",
      "--- Error ---\n",
      "--- Error ---\n",
      "--- Error ---\n",
      "--- Error ---\n",
      "--- Error ---\n",
      "--- Error ---\n",
      "--- Error ---\n",
      "--- Error ---\n",
      "--- Error ---\n",
      "--- Error ---\n",
      "--- Error ---\n",
      "--- Error ---\n",
      "--- Error ---\n",
      "--- Error ---\n",
      "--- Error ---\n",
      "--- Error ---\n",
      "--- Error ---\n",
      "--- Error ---\n",
      "--- Error ---\n",
      "--- Error ---\n",
      "--- Error ---\n",
      "--- Error ---\n",
      "--- Error ---\n",
      "--- Error ---\n",
      "--- Error ---\n",
      "--- Error ---\n",
      "--- Error ---\n",
      "--- Error ---\n",
      "--- Error ---\n",
      "--- Error ---\n",
      "--- Error ---\n",
      "--- Error ---\n",
      "--- Error ---\n",
      "--- Error ---\n",
      "--- Error ---\n",
      "--- Error ---\n",
      "--- Error ---\n",
      "--- Error ---\n",
      "--- Error ---\n",
      "--- Error ---\n",
      "--- Error ---\n",
      "--- Error ---\n",
      "--- Error ---\n",
      "--- Error ---\n",
      "--- Error ---\n",
      "--- Error ---\n",
      "--- Error ---\n",
      "--- Error ---\n",
      "--- Error ---\n",
      "--- Error ---\n",
      "--- Error ---\n",
      "--- Error ---\n",
      "--- Error ---\n",
      "--- Error ---\n",
      "--- Error ---\n",
      "--- Error ---\n",
      "--- Error ---\n",
      "--- Error ---\n",
      "--- Error ---\n",
      "--- Error ---\n",
      "--- Error ---\n",
      "--- Error ---\n",
      "--- Error ---\n",
      "--- Error ---\n",
      "--- Error ---\n",
      "--- Error ---\n",
      "--- Error ---\n",
      "--- Error ---\n",
      "--- Error ---\n",
      "--- Error ---\n",
      "--- Error ---\n",
      "--- Error ---\n",
      "--- Error ---\n",
      "--- Error ---\n",
      "--- Error ---\n",
      "--- Error ---\n",
      "--- Error ---\n",
      "--- Error ---\n",
      "--- Error ---\n",
      "--- Error ---\n",
      "--- Error ---\n",
      "--- Error ---\n",
      "--- Error ---\n",
      "--- Error ---\n",
      "--- Error ---\n",
      "--- Error ---\n",
      "--- Error ---\n",
      "--- Error ---\n",
      "--- Error ---\n",
      "--- Error ---\n",
      "--- Error ---\n",
      "--- Error ---\n",
      "--- Error ---\n",
      "--- Error ---\n",
      "--- Error ---\n",
      "--- Error ---\n",
      "--- Error ---\n",
      "--- Error ---\n",
      "--- Error ---\n",
      "--- Error ---\n",
      "--- Error ---\n",
      "--- Error ---\n",
      "--- Error ---\n",
      "--- Error ---\n",
      "--- Error ---\n",
      "--- Error ---\n",
      "--- Error ---\n",
      "--- Error ---\n",
      "--- Error ---\n",
      "--- Error ---\n",
      "--- Error ---\n",
      "--- Error ---\n",
      "--- Error ---\n",
      "--- Error ---\n",
      "--- Error ---\n",
      "--- Error ---\n",
      "--- Error ---\n",
      "--- Error ---\n",
      "--- Error ---\n",
      "--- Error ---\n",
      "--- Error ---\n",
      "--- Error ---\n",
      "--- Error ---\n",
      "--- Error ---\n",
      "--- Error ---\n",
      "--- Error ---\n",
      "--- Error ---\n",
      "--- Error ---\n",
      "--- Error ---\n",
      "--- Error ---\n",
      "--- Error ---\n",
      "--- Error ---\n",
      "--- Error ---\n",
      "--- Error ---\n",
      "--- Error ---\n",
      "--- Error ---\n",
      "--- Error ---\n",
      "--- Error ---\n",
      "--- Error ---\n",
      "--- Error ---\n",
      "--- Error ---\n",
      "--- Error ---\n",
      "--- Error ---\n",
      "--- Error ---\n",
      "--- Error ---\n",
      "--- Error ---\n",
      "--- Error ---\n",
      "--- Error ---\n",
      "--- Error ---\n",
      "--- Error ---\n",
      "--- Error ---\n",
      "--- Error ---\n",
      "--- Error ---\n",
      "--- Error ---\n",
      "--- Error ---\n",
      "--- Error ---\n",
      "--- Error ---\n",
      "--- Error ---\n",
      "--- Error ---\n",
      "--- Error ---\n",
      "--- Error ---\n",
      "--- Error ---\n"
     ]
    }
   ],
   "source": [
    "for n in notebook.tqdm(election_result.index):\n",
    "    try:\n",
    "        element = driver.find_element_by_id(\"cityCode\")\n",
    "        element.send_keys(election_result['광역시도'][n])\n",
    "        \n",
    "        time.sleep(0.5)\n",
    "        \n",
    "        element = driver.find_element_by_id(\"townCode\")\n",
    "        element.send_keys(election_result['시군'][n])\n",
    "        \n",
    "        driver.find_element_by_xpath(\"\"\"//*[@id=\"spanSubmit\"]/input\"\"\").click()\n",
    "        \n",
    "        time.sleep(0.5)\n",
    "        \n",
    "        get_vote_info(n)\n",
    "        \n",
    "    except:\n",
    "        print('--- Error ---')\n",
    "        fail_procedure(n)"
   ]
  },
  {
   "cell_type": "code",
   "execution_count": 163,
   "id": "193eca77",
   "metadata": {},
   "outputs": [
    {
     "data": {
      "text/html": [
       "<div>\n",
       "<style scoped>\n",
       "    .dataframe tbody tr th:only-of-type {\n",
       "        vertical-align: middle;\n",
       "    }\n",
       "\n",
       "    .dataframe tbody tr th {\n",
       "        vertical-align: top;\n",
       "    }\n",
       "\n",
       "    .dataframe thead th {\n",
       "        text-align: right;\n",
       "    }\n",
       "</style>\n",
       "<table border=\"1\" class=\"dataframe\">\n",
       "  <thead>\n",
       "    <tr style=\"text-align: right;\">\n",
       "      <th></th>\n",
       "      <th>광역시도</th>\n",
       "      <th>시군</th>\n",
       "      <th>pop</th>\n",
       "      <th>moon</th>\n",
       "      <th>ahn</th>\n",
       "      <th>hong</th>\n",
       "    </tr>\n",
       "  </thead>\n",
       "  <tbody>\n",
       "    <tr>\n",
       "      <th>0</th>\n",
       "      <td>서울특별시</td>\n",
       "      <td>종로구</td>\n",
       "      <td>NaN</td>\n",
       "      <td>NaN</td>\n",
       "      <td>NaN</td>\n",
       "      <td>NaN</td>\n",
       "    </tr>\n",
       "    <tr>\n",
       "      <th>1</th>\n",
       "      <td>서울특별시</td>\n",
       "      <td>중구</td>\n",
       "      <td>NaN</td>\n",
       "      <td>NaN</td>\n",
       "      <td>NaN</td>\n",
       "      <td>NaN</td>\n",
       "    </tr>\n",
       "    <tr>\n",
       "      <th>2</th>\n",
       "      <td>서울특별시</td>\n",
       "      <td>용산구</td>\n",
       "      <td>NaN</td>\n",
       "      <td>NaN</td>\n",
       "      <td>NaN</td>\n",
       "      <td>NaN</td>\n",
       "    </tr>\n",
       "    <tr>\n",
       "      <th>3</th>\n",
       "      <td>서울특별시</td>\n",
       "      <td>성동구</td>\n",
       "      <td>NaN</td>\n",
       "      <td>NaN</td>\n",
       "      <td>NaN</td>\n",
       "      <td>NaN</td>\n",
       "    </tr>\n",
       "    <tr>\n",
       "      <th>4</th>\n",
       "      <td>서울특별시</td>\n",
       "      <td>광진구</td>\n",
       "      <td>NaN</td>\n",
       "      <td>NaN</td>\n",
       "      <td>NaN</td>\n",
       "      <td>NaN</td>\n",
       "    </tr>\n",
       "  </tbody>\n",
       "</table>\n",
       "</div>"
      ],
      "text/plain": [
       "    광역시도   시군  pop  moon  ahn  hong\n",
       "0  서울특별시  종로구  NaN   NaN  NaN   NaN\n",
       "1  서울특별시   중구  NaN   NaN  NaN   NaN\n",
       "2  서울특별시  용산구  NaN   NaN  NaN   NaN\n",
       "3  서울특별시  성동구  NaN   NaN  NaN   NaN\n",
       "4  서울특별시  광진구  NaN   NaN  NaN   NaN"
      ]
     },
     "execution_count": 163,
     "metadata": {},
     "output_type": "execute_result"
    }
   ],
   "source": [
    "election_result['pop'] = pop\n",
    "election_result['moon'] = moon\n",
    "election_result['ahn'] = ahn\n",
    "election_result['hong'] = hong\n",
    "election_result.head()"
   ]
  },
  {
   "cell_type": "code",
   "execution_count": null,
   "id": "56d56129",
   "metadata": {},
   "outputs": [],
   "source": [
    "# 에러 났다! 모으자"
   ]
  }
 ],
 "metadata": {
  "kernelspec": {
   "display_name": "Python 3 (ipykernel)",
   "language": "python",
   "name": "python3"
  },
  "language_info": {
   "codemirror_mode": {
    "name": "ipython",
    "version": 3
   },
   "file_extension": ".py",
   "mimetype": "text/x-python",
   "name": "python",
   "nbconvert_exporter": "python",
   "pygments_lexer": "ipython3",
   "version": "3.10.2"
  }
 },
 "nbformat": 4,
 "nbformat_minor": 5
}
